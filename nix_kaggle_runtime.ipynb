{
 "cells": [
  {
   "cell_type": "code",
   "execution_count": 1,
   "id": "185b7a0a",
   "metadata": {
    "execution": {
     "iopub.execute_input": "2025-03-10T13:41:42.949421Z",
     "iopub.status.busy": "2025-03-10T13:41:42.948990Z",
     "iopub.status.idle": "2025-03-10T13:41:43.123199Z",
     "shell.execute_reply": "2025-03-10T13:41:43.122106Z"
    },
    "papermill": {
     "duration": 0.190233,
     "end_time": "2025-03-10T13:41:43.124999",
     "exception": false,
     "start_time": "2025-03-10T13:41:42.934766",
     "status": "completed"
    },
    "tags": []
   },
   "outputs": [
    {
     "name": "stdout",
     "output_type": "stream",
     "text": [
      "     31 pts/0    Ss+    0:00      \\_ /bin/bash -c ps fax| grep -i -E 'comfy|main'\r\n",
      "     33 pts/0    S+     0:00          \\_ grep -i -E comfy|main\r\n"
     ]
    }
   ],
   "source": [
    "!ps fax| grep -i -E 'comfy|main'"
   ]
  },
  {
   "cell_type": "code",
   "execution_count": 2,
   "id": "881c4715",
   "metadata": {
    "execution": {
     "iopub.execute_input": "2025-03-10T13:41:43.150350Z",
     "iopub.status.busy": "2025-03-10T13:41:43.150015Z",
     "iopub.status.idle": "2025-03-10T13:41:44.283841Z",
     "shell.execute_reply": "2025-03-10T13:41:44.283034Z"
    },
    "papermill": {
     "duration": 1.147666,
     "end_time": "2025-03-10T13:41:44.285101",
     "exception": false,
     "start_time": "2025-03-10T13:41:43.137435",
     "status": "completed"
    },
    "tags": []
   },
   "outputs": [
    {
     "name": "stdout",
     "output_type": "stream",
     "text": [
      "Directory 'nix_comfy_kaggle' does not exist. Cloning repository...\n",
      "Successfully cloned repository.\n",
      "Contents of 'nix_comfy_kaggle':\n",
      "total 44\n",
      "-rw-r--r-- 1 root root 11357 Mar 10 13:41 LICENSE\n",
      "-rw-r--r-- 1 root root 25140 Mar 10 13:41 main.py\n",
      "-rw-r--r-- 1 root root    57 Mar 10 13:41 README.md\n"
     ]
    },
    {
     "name": "stderr",
     "output_type": "stream",
     "text": [
      "Cloning into 'nix_comfy_kaggle'...\n"
     ]
    }
   ],
   "source": [
    "%%bash\n",
    "\n",
    "REPO_URL=\"https://github.com/revirevy/nix_comfy_kaggle.git\"\n",
    "REPO_DIR=\"nix_comfy_kaggle\"\n",
    "\n",
    "# Check if the directory exists\n",
    "if [ -d \"$REPO_DIR\" ]; then\n",
    "  # Directory exists, so pull the latest changes\n",
    "  echo \"Directory '$REPO_DIR' exists. Pulling latest changes...\"\n",
    "  cd \"$REPO_DIR\"\n",
    "  git pull --all\n",
    "  echo \"Successfully pulled latest changes.\"\n",
    "else\n",
    "  # Directory does not exist, so clone the repository\n",
    "  echo \"Directory '$REPO_DIR' does not exist. Cloning repository...\"\n",
    "  git clone \"$REPO_URL\"\n",
    "  cd \"$REPO_DIR\"\n",
    "  echo \"Successfully cloned repository.\"\n",
    "fi\n",
    "\n",
    "# Optional: List contents of the directory after clone/pull\n",
    "echo \"Contents of '$REPO_DIR':\"\n",
    "ls -l\n"
   ]
  },
  {
   "cell_type": "code",
   "execution_count": 3,
   "id": "b0eedf3a",
   "metadata": {
    "execution": {
     "iopub.execute_input": "2025-03-10T13:41:44.309767Z",
     "iopub.status.busy": "2025-03-10T13:41:44.309465Z",
     "iopub.status.idle": "2025-03-10T13:44:42.919039Z",
     "shell.execute_reply": "2025-03-10T13:44:42.917156Z"
    },
    "papermill": {
     "duration": 178.626939,
     "end_time": "2025-03-10T13:44:42.923986",
     "exception": false,
     "start_time": "2025-03-10T13:41:44.297047",
     "status": "completed"
    },
    "tags": []
   },
   "outputs": [
    {
     "name": "stdout",
     "output_type": "stream",
     "text": [
      "============================================================\n",
      "Starting main function...\n",
      "------------------------------------------------------------\n",
      "============================================================\n",
      "Installing uv...\n",
      "------------------------------------------------------------\n",
      "============================================================\n",
      "Starting to set up ComfyUI...\n",
      "------------------------------------------------------------\n",
      "============================================================\n",
      "ComfyUI set up successfully.\n",
      "------------------------------------------------------------\n",
      "============================================================\n",
      "Starting to install package from https://github.com/comfyanonymous/ComfyUI_bitsandbytes_NF4...\n",
      "------------------------------------------------------------\n",
      "============================================================\n",
      "Package from https://github.com/comfyanonymous/ComfyUI_bitsandbytes_NF4 installed successfully.\n",
      "------------------------------------------------------------\n",
      "============================================================\n",
      "Starting to install package from https://github.com/WASasquatch/was-node-suite-comfyui...\n",
      "------------------------------------------------------------\n",
      "============================================================\n",
      "Package from https://github.com/WASasquatch/was-node-suite-comfyui installed successfully.\n",
      "------------------------------------------------------------\n",
      "============================================================\n",
      "Starting to install package from https://github.com/rgthree/rgthree-comfy...\n",
      "------------------------------------------------------------\n",
      "============================================================\n",
      "Package from https://github.com/rgthree/rgthree-comfy installed successfully.\n",
      "------------------------------------------------------------\n",
      "============================================================\n",
      "Starting to install package from https://codeberg.org/Gourieff/comfyui-reactor-node...\n",
      "------------------------------------------------------------\n",
      "============================================================\n",
      "Package from https://codeberg.org/Gourieff/comfyui-reactor-node installed successfully.\n",
      "------------------------------------------------------------\n",
      "============================================================\n",
      "Starting to install package from https://github.com/BlenderNeko/ComfyUI_Noise...\n",
      "------------------------------------------------------------\n",
      "============================================================\n",
      "Package from https://github.com/BlenderNeko/ComfyUI_Noise installed successfully.\n",
      "------------------------------------------------------------\n",
      "============================================================\n",
      "Starting to install package from https://github.com/ltdrdata/ComfyUI-Impact-Pack...\n",
      "------------------------------------------------------------\n",
      "============================================================\n",
      "Package from https://github.com/ltdrdata/ComfyUI-Impact-Pack installed successfully.\n",
      "------------------------------------------------------------\n",
      "============================================================\n",
      "Starting to install package from https://github.com/yolain/ComfyUI-Easy-Use...\n",
      "------------------------------------------------------------\n",
      "============================================================\n",
      "Package from https://github.com/yolain/ComfyUI-Easy-Use installed successfully.\n",
      "------------------------------------------------------------\n",
      "============================================================\n",
      "Starting to install package from https://github.com/kijai/ComfyUI-KJNodes...\n",
      "------------------------------------------------------------\n",
      "============================================================\n",
      "Package from https://github.com/kijai/ComfyUI-KJNodes installed successfully.\n",
      "------------------------------------------------------------\n",
      "============================================================\n",
      "Starting to install package from https://github.com/kijai/ComfyUI-Florence2...\n",
      "------------------------------------------------------------\n",
      "============================================================\n",
      "Package from https://github.com/kijai/ComfyUI-Florence2 installed successfully.\n",
      "------------------------------------------------------------\n",
      "============================================================\n",
      "Starting to install package from https://github.com/XLabs-AI/x-flux-comfyui...\n",
      "------------------------------------------------------------\n",
      "============================================================\n",
      "Package from https://github.com/XLabs-AI/x-flux-comfyui installed successfully.\n",
      "------------------------------------------------------------\n",
      "============================================================\n",
      "Starting to install package from https://github.com/crystian/ComfyUI-Crystools...\n",
      "------------------------------------------------------------\n",
      "============================================================\n",
      "Package from https://github.com/crystian/ComfyUI-Crystools installed successfully.\n",
      "------------------------------------------------------------\n",
      "============================================================\n",
      "Starting to install package from https://github.com/Suzie1/ComfyUI_Comfyroll_CustomNodes...\n",
      "------------------------------------------------------------\n",
      "============================================================\n",
      "Package from https://github.com/Suzie1/ComfyUI_Comfyroll_CustomNodes installed successfully.\n",
      "------------------------------------------------------------\n",
      "============================================================\n",
      "Starting to install package from https://github.com/city96/ComfyUI-GGUF...\n",
      "------------------------------------------------------------\n",
      "============================================================\n",
      "Package from https://github.com/city96/ComfyUI-GGUF installed successfully.\n",
      "------------------------------------------------------------\n",
      "============================================================\n",
      "Starting to install package from https://github.com/cubiq/PuLID_ComfyUI...\n",
      "------------------------------------------------------------\n",
      "============================================================\n",
      "Package from https://github.com/cubiq/PuLID_ComfyUI installed successfully.\n",
      "------------------------------------------------------------\n",
      "============================================================\n",
      "Starting to install package from https://github.com/cubiq/ComfyUI_InstantID...\n",
      "------------------------------------------------------------\n",
      "============================================================\n",
      "Package from https://github.com/cubiq/ComfyUI_InstantID installed successfully.\n",
      "------------------------------------------------------------\n",
      "============================================================\n",
      "Starting to install package from https://github.com/cubiq/ComfyUI_IPAdapter_plus...\n",
      "------------------------------------------------------------\n",
      "============================================================\n",
      "Package from https://github.com/cubiq/ComfyUI_IPAdapter_plus installed successfully.\n",
      "------------------------------------------------------------\n",
      "============================================================\n",
      "Starting to install package from https://github.com/comfyanonymous/ComfyUI_experiments...\n",
      "------------------------------------------------------------\n",
      "============================================================\n",
      "Package from https://github.com/comfyanonymous/ComfyUI_experiments installed successfully.\n",
      "------------------------------------------------------------\n",
      "============================================================\n",
      "Starting to install package from https://github.com/chengzeyi/Comfy-WaveSpeed...\n",
      "------------------------------------------------------------\n",
      "============================================================\n",
      "Package from https://github.com/chengzeyi/Comfy-WaveSpeed installed successfully.\n",
      "------------------------------------------------------------\n",
      "============================================================\n",
      "Starting to install package from https://github.com/Fannovel16/comfyui_controlnet_aux...\n",
      "------------------------------------------------------------\n",
      "============================================================\n",
      "Package from https://github.com/Fannovel16/comfyui_controlnet_aux installed successfully.\n",
      "------------------------------------------------------------\n",
      "============================================================\n",
      "Starting to install package from https://github.com/ShmuelRonen/ComfyUI-FreeMemory...\n",
      "------------------------------------------------------------\n",
      "============================================================\n",
      "Package from https://github.com/ShmuelRonen/ComfyUI-FreeMemory installed successfully.\n",
      "------------------------------------------------------------\n",
      "============================================================\n",
      "Starting to install package from https://github.com/jamesWalker55/comfyui-various...\n",
      "------------------------------------------------------------\n",
      "============================================================\n",
      "Package from https://github.com/jamesWalker55/comfyui-various installed successfully.\n",
      "------------------------------------------------------------\n",
      "============================================================\n",
      "Starting to install package from https://github.com/kijai/ComfyUI-SUPIR...\n",
      "------------------------------------------------------------\n",
      "============================================================\n",
      "Package from https://github.com/kijai/ComfyUI-SUPIR installed successfully.\n",
      "------------------------------------------------------------\n",
      "============================================================\n",
      "Starting to install package from https://github.com/klinter007/klinter_nodes...\n",
      "------------------------------------------------------------\n",
      "============================================================\n",
      "Package from https://github.com/klinter007/klinter_nodes installed successfully.\n",
      "------------------------------------------------------------\n",
      "============================================================\n",
      "Starting to install package from https://github.com/holchan/ComfyUI-ModelDownloader...\n",
      "------------------------------------------------------------\n",
      "============================================================\n",
      "Package from https://github.com/holchan/ComfyUI-ModelDownloader installed successfully.\n",
      "------------------------------------------------------------\n",
      "============================================================\n",
      "Starting to install package from https://github.com/KoreTeknology/ComfyUI-Universal-Styler...\n",
      "------------------------------------------------------------\n",
      "============================================================\n",
      "Package from https://github.com/KoreTeknology/ComfyUI-Universal-Styler installed successfully.\n",
      "------------------------------------------------------------\n",
      "============================================================\n",
      "Starting to install package from https://github.com/marduk191/ComfyUI-Fluxpromptenhancer...\n",
      "------------------------------------------------------------\n",
      "============================================================\n",
      "Package from https://github.com/marduk191/ComfyUI-Fluxpromptenhancer installed successfully.\n",
      "------------------------------------------------------------\n",
      "============================================================\n",
      "Starting to install package from https://github.com/fairy-root/Flux-Prompt-Generator...\n",
      "------------------------------------------------------------\n",
      "============================================================\n",
      "Package from https://github.com/fairy-root/Flux-Prompt-Generator installed successfully.\n",
      "------------------------------------------------------------\n",
      "============================================================\n",
      "Starting to install package from https://github.com/VykosX/ControlFlowUtils...\n",
      "------------------------------------------------------------\n",
      "============================================================\n",
      "Package from https://github.com/VykosX/ControlFlowUtils installed successfully.\n",
      "------------------------------------------------------------\n",
      "============================================================\n",
      "Starting to install package from https://github.com/godmt/ComfyUI-List-Utils...\n",
      "------------------------------------------------------------\n",
      "============================================================\n",
      "Package from https://github.com/godmt/ComfyUI-List-Utils installed successfully.\n",
      "------------------------------------------------------------\n",
      "============================================================\n",
      "Starting to install package from https://github.com/pythongosssss/ComfyUI-WD14-Tagger...\n",
      "------------------------------------------------------------\n",
      "============================================================\n",
      "Package from https://github.com/pythongosssss/ComfyUI-WD14-Tagger installed successfully.\n",
      "------------------------------------------------------------\n",
      "============================================================\n",
      "Starting to install package from https://github.com/miaoshouai/ComfyUI-Miaoshouai-Tagger...\n",
      "------------------------------------------------------------\n",
      "============================================================\n",
      "Package from https://github.com/miaoshouai/ComfyUI-Miaoshouai-Tagger installed successfully.\n",
      "------------------------------------------------------------\n",
      "============================================================\n",
      "Starting to install package from https://github.com/GraftingRayman/ComfyUI_GraftingRayman...\n",
      "------------------------------------------------------------\n",
      "============================================================\n",
      "Package from https://github.com/GraftingRayman/ComfyUI_GraftingRayman installed successfully.\n",
      "------------------------------------------------------------\n",
      "============================================================\n",
      "Starting to install package from https://github.com/pollockjj/ComfyUI-MultiGPU...\n",
      "------------------------------------------------------------\n",
      "============================================================\n",
      "Package from https://github.com/pollockjj/ComfyUI-MultiGPU installed successfully.\n",
      "------------------------------------------------------------\n",
      "============================================================\n",
      "Starting to install package from https://github.com/dchatel/comfyui_facetools...\n",
      "------------------------------------------------------------\n",
      "============================================================\n",
      "Package from https://github.com/dchatel/comfyui_facetools installed successfully.\n",
      "------------------------------------------------------------\n",
      "============================================================\n",
      "Starting to install package from https://github.com/fssorc/ComfyUI_FaceShaper...\n",
      "------------------------------------------------------------\n",
      "============================================================\n",
      "Package from https://github.com/fssorc/ComfyUI_FaceShaper installed successfully.\n",
      "------------------------------------------------------------\n",
      "============================================================\n",
      "Starting to install package from https://github.com/vuongminh1907/ComfyUI_ZenID...\n",
      "------------------------------------------------------------\n",
      "============================================================\n",
      "Package from https://github.com/vuongminh1907/ComfyUI_ZenID installed successfully.\n",
      "------------------------------------------------------------\n",
      "============================================================\n",
      "Starting to install package from https://github.com/nuanarchy/ComfyUI-NuA-FlashFace...\n",
      "------------------------------------------------------------\n",
      "============================================================\n",
      "Package from https://github.com/nuanarchy/ComfyUI-NuA-FlashFace installed successfully.\n",
      "------------------------------------------------------------\n",
      "============================================================\n",
      "Starting to install package from https://github.com/nosiu/comfyui-instantId-faceswap...\n",
      "------------------------------------------------------------\n",
      "============================================================\n",
      "Package from https://github.com/nosiu/comfyui-instantId-faceswap installed successfully.\n",
      "------------------------------------------------------------\n",
      "============================================================\n",
      "Starting to install package from https://github.com/EnragedAntelope/ComfyUI-EACloudNodes...\n",
      "------------------------------------------------------------\n",
      "============================================================\n",
      "Package from https://github.com/EnragedAntelope/ComfyUI-EACloudNodes installed successfully.\n",
      "------------------------------------------------------------\n",
      "============================================================\n",
      "Starting to install package from https://github.com/nicofdga/DZ-FaceDetailer...\n",
      "------------------------------------------------------------\n",
      "============================================================\n",
      "Package from https://github.com/nicofdga/DZ-FaceDetailer installed successfully.\n",
      "------------------------------------------------------------\n",
      "============================================================\n",
      "Starting to install package from https://github.com/mav-rik/facerestore_cf...\n",
      "------------------------------------------------------------\n",
      "============================================================\n",
      "Package from https://github.com/mav-rik/facerestore_cf installed successfully.\n",
      "------------------------------------------------------------\n",
      "============================================================\n",
      "Starting to install package from https://github.com/Kosinkadink/ComfyUI-Advanced-ControlNet...\n",
      "------------------------------------------------------------\n",
      "============================================================\n",
      "Package from https://github.com/Kosinkadink/ComfyUI-Advanced-ControlNet installed successfully.\n",
      "------------------------------------------------------------\n",
      "============================================================\n",
      "Starting to install package from https://github.com/EvilBT/ComfyUI_SLK_joy_caption_two...\n",
      "------------------------------------------------------------\n",
      "============================================================\n",
      "Package from https://github.com/EvilBT/ComfyUI_SLK_joy_caption_two installed successfully.\n",
      "------------------------------------------------------------\n",
      "============================================================\n",
      "Starting to install package from https://github.com/PowerHouseMan/ComfyUI-AdvancedLivePortrait...\n",
      "------------------------------------------------------------\n",
      "============================================================\n",
      "Package from https://github.com/PowerHouseMan/ComfyUI-AdvancedLivePortrait installed successfully.\n",
      "------------------------------------------------------------\n",
      "============================================================\n",
      "Starting to install package from https://github.com/zhangp365/ComfyUI-utils-nodes...\n",
      "------------------------------------------------------------\n",
      "============================================================\n",
      "Package from https://github.com/zhangp365/ComfyUI-utils-nodes installed successfully.\n",
      "------------------------------------------------------------\n",
      "============================================================\n",
      "Starting to install package from https://github.com/pythongosssss/ComfyUI-Custom-Scripts...\n",
      "------------------------------------------------------------\n",
      "============================================================\n",
      "Package from https://github.com/pythongosssss/ComfyUI-Custom-Scripts installed successfully.\n",
      "------------------------------------------------------------\n",
      "============================================================\n",
      "Starting to install package from https://github.com/revirevy/Comfyui_saveimage_imgbb...\n",
      "------------------------------------------------------------\n",
      "============================================================\n",
      "Package from https://github.com/revirevy/Comfyui_saveimage_imgbb installed successfully.\n",
      "------------------------------------------------------------\n",
      "============================================================\n",
      "Starting to install package from https://github.com/ltdrdata/ComfyUI-Manager...\n",
      "------------------------------------------------------------\n",
      "============================================================\n",
      "Package from https://github.com/ltdrdata/ComfyUI-Manager installed successfully.\n",
      "------------------------------------------------------------\n",
      "============================================================\n",
      "Starting to set up ComfyUI...\n",
      "------------------------------------------------------------\n",
      "============================================================\n",
      "ComfyUI set up successfully.\n",
      "------------------------------------------------------------\n",
      "============================================================\n",
      "Starting to link models...\n",
      "------------------------------------------------------------\n",
      "============================================================\n",
      "Models linked successfully.\n",
      "------------------------------------------------------------\n",
      "============================================================\n",
      "Starting to link additional models...\n",
      "============================================================\n",
      "RealESRGAN_x4plus.pth\n",
      "1xDeJPG_OmniSR.pth\n",
      "1xRedImage10000.pth\n",
      "DPED.pth\n",
      "BSRGANx2.pth\n",
      "4xLSDIRplusC.pth\n",
      "4xNomosUniDAT_otf.pth\n",
      "RealESRGAN_x2plus.pth\n",
      "4xNomos8kSC.pth\n",
      "4xLSDIR.pth\n",
      "DF2K.pth\n",
      "4x_NickelbackFS_72000_G.pth\n",
      "4xLSDIRplus.pth\n",
      "4xNomosWebPhoto_esrgan.pth\n",
      "4xLSDIRplusR.pth\n",
      "4x_RealisticRescaler_100000_G.pth\n",
      "4xNomos2_otf_esrgan.pth\n",
      "4xLSDIRplusN.pth\n",
      "t5-v1_1-xxl-encoder-Q8_0.gguf\n",
      "t5-v1_1-xxl-encoder-f16.gguf\n",
      "ip-adapter-plus_sdxl_vit-h.safetensors\n",
      "controlnet-sd-xl-1.0-softedge-dexined.safetensors\n",
      "ip-adapter-faceid-plusv2_sdxl.bin\n",
      "controlnet-v1e-sdxl-depth.safetensors\n",
      "diffusion_pytorch_model_controlnet.safetensors\n",
      "depth-zoe-xl-v1.0-controlnet.safetensors\n",
      "OpenPoseXL2.safetensors\n",
      "ip-adapter_sdxl_vit-h.safetensors\n",
      "ip-adapter.bin\n",
      "ip-adapter-plus-face_sdxl_vit-h.safetensors\n",
      "controlnet-canny-sdxl-1.0_model_V2.safetensors\n",
      "diffusion_pytorch_model_twins.safetensors\n",
      "ip-adapter-faceid_sdxl.bin\n",
      "ip-adapter_sdxl.safetensors\n",
      "controlnet-union-sdxl-1.0_base_model.safetensors\n",
      "controlnet-sd-xl-1.0-depth-16bit-zoe.safetensors\n",
      "contronet-union-sdxl_model_promax.safetensors\n",
      "pulid_v1.bin\n",
      "pulid_flux_v0.9.0.safetensors\n",
      "ip-adapter_pulid_sdxl_fp16.safetensors\n",
      "controlnet_instantid_model.safetensors\n",
      "instantid-ip-adapter.bin\n",
      "FLUX_ Upscaler_Jasperai.safetensors\n",
      "FLUX_Depth_Jasperai.safetensors\n",
      "FLUX_Union_Pro_Shakkerai.safetensors\n",
      "FLUX_Canny_Shakkerai.safetensors\n",
      "FLUX_Depth_Shakkerai.safetensors\n",
      "flux-hed-controlnet-v3.safetensors\n",
      "flux-depth-controlnet-v3.safetensors\n",
      "flux-canny-controlnet-v3.safetensors\n",
      "FLUX_Surface_Normal_Jasperai.safetensors\n",
      "SDXL-Openpose.safetensors\n",
      "dmd2_sdxl_4step_unet_fp16.safetensors\n",
      "dmd2_sdxl_1step_unet_fp16.safetensors\n",
      "dmd2_sdxl_4step_lora_fp16.safetensors\n",
      "Juggernaut-XI-byRunDiffusion-Lightning.safetensors\n",
      "Juggernaut-XI-byRunDiffusion.safetensors\n",
      "JuggernautXRundiffusion_Hyper.safetensors\n",
      "Epicrealismxl_Hades.safetensors\n",
      "SG161222_RealVisXL_V5_0_Lightning.safetensors\n",
      "hephaistosNextgen_v10ExperimentalBF16.safetensors\n",
      "sdxlLightning_2Steps.safetensors\n",
      "crystalClear_v10.safetensors\n",
      "realvisxl-v50.safetensors\n",
      "sdxlLightning_4Steps.safetensors\n",
      "============================================================\n",
      "Additional models linked successfully.\n",
      "============================================================\n",
      "============================================================\n",
      "Starting ComfyUI instances...\n",
      "------------------------------------------------------------\n",
      "============================================================\n",
      "ComfyUI instances started successfully.\n",
      "------------------------------------------------------------\n",
      "============================================================\n",
      "Starting Playit agent...\n",
      "------------------------------------------------------------\n",
      "\u001b8\u001b[0mno command provided, doing auto run\u001b[2J\u001b8\u001b[0mVisit link to setup https://playit.gg/claim/1b7dfef1e9\n",
      "..........\n",
      "\n",
      "============================================================\n",
      "Playit agent started successfully.\n",
      "------------------------------------------------------------\n",
      "Downloading Antelopev2 model...\n"
     ]
    },
    {
     "name": "stderr",
     "output_type": "stream",
     "text": [
      "Downloading: 100%|██████████| 344M/344M [00:04<00:00, 81.8MB/s]\n"
     ]
    },
    {
     "name": "stdout",
     "output_type": "stream",
     "text": [
      "Download completed. Extracting files...\n",
      "Extraction completed. Antelopev2 model is ready.\n",
      "Installing aria2...\n",
      "aria2 installed successfully.\n",
      "Downloading file 1/4: fan2_68_landmark.onnx...\n",
      "Download completed for fan2_68_landmark.onnx.\n",
      "Downloading file 2/4: 79999_iter.pth...\n",
      "Download completed for 79999_iter.pth.\n",
      "Downloading file 3/4: face_yolov8m.pt...\n",
      "Download completed for face_yolov8m.pt.\n",
      "Downloading file 4/4: control_v11p_sd15_inpaint_fp16.safetensors...\n",
      "Download completed for control_v11p_sd15_inpaint_fp16.safetensors.\n",
      "0 - https://huggingface.co/datasets/Gourieff/ReActor/resolve/main/models/reswapper_256.onnx?download=true\n",
      "reswapper_256.onnx\n",
      "Downloading file 1/4: control_v11p_sd15_inpaint_fp16.safetensors...\n",
      "Download completed for reswapper_256.onnx.\n",
      "1 -     https://huggingface.co/datasets/Gourieff/ReActor/resolve/main/models/reswapper_128.onnx?download=true\n",
      "reswapper_128.onnx\n",
      "Downloading file 2/4: control_v11p_sd15_inpaint_fp16.safetensors...\n",
      "Failed to download reswapper_128.onnx: Command 'aria2c --console-log-level=error -c -x 16 -s 16 -k 1M '    https://huggingface.co/datasets/Gourieff/ReActor/resolve/main/models/reswapper_128.onnx?download=true' -d '/kaggle/working/ComfyUI/models/reswapper/' -o 'reswapper_128.onnx'' returned non-zero exit status 1.\n",
      "2 -     https://huggingface.co/datasets/Gourieff/ReActor/resolve/main/models/inswapper_128.onnx?download=true\n",
      "inswapper_128.onnx\n",
      "Downloading file 3/4: control_v11p_sd15_inpaint_fp16.safetensors...\n",
      "Failed to download inswapper_128.onnx: Command 'aria2c --console-log-level=error -c -x 16 -s 16 -k 1M '    https://huggingface.co/datasets/Gourieff/ReActor/resolve/main/models/inswapper_128.onnx?download=true' -d '/kaggle/working/ComfyUI/models/reswapper/' -o 'inswapper_128.onnx'' returned non-zero exit status 1.\n",
      "All downloads completed.\n",
      "============================================================\n",
      "Starting scheduler...\n",
      "------------------------------------------------------------\n",
      "============================================================\n",
      "Executed\n",
      "2025-03-10 13:44:42.904389\n",
      "------------------------------------------------------------\n",
      "============================================================\n",
      "Scheduler started in background. It will execute the first cell every 1 minute.\n",
      "------------------------------------------------------------\n"
     ]
    }
   ],
   "source": [
    "import os, sys\n",
    "os.chdir(\"/kaggle/working/nix_comfy_kaggle\")\n",
    "from main import *\n",
    "main()"
   ]
  },
  {
   "cell_type": "code",
   "execution_count": 4,
   "id": "ef872d92",
   "metadata": {
    "execution": {
     "iopub.execute_input": "2025-03-10T13:44:43.000848Z",
     "iopub.status.busy": "2025-03-10T13:44:43.000305Z",
     "iopub.status.idle": "2025-03-10T13:44:43.130085Z",
     "shell.execute_reply": "2025-03-10T13:44:43.128396Z"
    },
    "papermill": {
     "duration": 0.167778,
     "end_time": "2025-03-10T13:44:43.132015",
     "exception": false,
     "start_time": "2025-03-10T13:44:42.964237",
     "status": "completed"
    },
    "scrolled": true,
    "tags": []
   },
   "outputs": [
    {
     "name": "stdout",
     "output_type": "stream",
     "text": [
      "    PID TTY      STAT   TIME COMMAND\r\n",
      "      8 ?        Ss     0:00 /opt/bin/nvidia-smi -l 1 --query-gpu=index,utilization.gpu,memory.used,\r\n",
      "      1 ?        Ss     0:00 /bin/bash -c EXECUTE_EXIT_CODE=0; CONVERT_EXIT_CODE=0; cp \"/kaggle/src/\r\n",
      "     15 ?        Sl     0:03 python3 -c import sys;import papermill as pm;pm.execute_notebook(\"__not\r\n",
      "     18 ?        Ssl    0:10  \\_ /usr/bin/python3 -m colab_kernel_launcher -f /tmp/tmppasszfsd.json \r\n",
      "   3323 ?        RLl    0:43      \\_ /usr/bin/python3 main.py --cuda-device 0 --port 8188 --highvram\r\n",
      "   3338 ?        RLl    0:39      \\_ /usr/bin/python3 main.py --cuda-device 1 --port 8189 --highvram\r\n",
      "   3571 pts/0    Rs+    0:00      \\_ ps fax\r\n",
      "   3366 ?        Sl     0:00 /kaggle/working/ComfyUI/playit-linux-amd64\r\n",
      "============================================================\n",
      "------------------------------------------------------------\n"
     ]
    }
   ],
   "source": [
    "!ps fax"
   ]
  },
  {
   "cell_type": "code",
   "execution_count": 5,
   "id": "98d7e2d5",
   "metadata": {
    "execution": {
     "iopub.execute_input": "2025-03-10T13:44:43.201136Z",
     "iopub.status.busy": "2025-03-10T13:44:43.200681Z",
     "iopub.status.idle": "2025-03-10T13:44:43.325674Z",
     "shell.execute_reply": "2025-03-10T13:44:43.324187Z"
    },
    "jupyter": {
     "source_hidden": true
    },
    "papermill": {
     "duration": 0.161395,
     "end_time": "2025-03-10T13:44:43.328035",
     "exception": false,
     "start_time": "2025-03-10T13:44:43.166640",
     "status": "completed"
    },
    "tags": []
   },
   "outputs": [
    {
     "name": "stdout",
     "output_type": "stream",
     "text": [
      "removed '/kaggle/working/ComfyUI/output/_output_images_will_be_put_here'\r\n",
      "removed directory '/kaggle/working/ComfyUI/output/exp_data'\r\n",
      "removed directory '/kaggle/working/ComfyUI/output'\r\n"
     ]
    }
   ],
   "source": [
    "%rm -r /kaggle/working/ComfyUI/output* -v"
   ]
  },
  {
   "cell_type": "raw",
   "id": "dc9201aa",
   "metadata": {
    "execution": {
     "iopub.execute_input": "2025-03-09T17:26:28.585111Z",
     "iopub.status.busy": "2025-03-09T17:26:28.584737Z",
     "iopub.status.idle": "2025-03-09T17:26:28.704336Z",
     "shell.execute_reply": "2025-03-09T17:26:28.702825Z",
     "shell.execute_reply.started": "2025-03-09T17:26:28.585083Z"
    },
    "papermill": {
     "duration": 0.034012,
     "end_time": "2025-03-10T13:44:43.396375",
     "exception": false,
     "start_time": "2025-03-10T13:44:43.362363",
     "status": "completed"
    },
    "tags": []
   },
   "source": [
    "!kill 1493 1510 1541"
   ]
  },
  {
   "cell_type": "code",
   "execution_count": null,
   "id": "c906ac8e",
   "metadata": {
    "papermill": {
     "duration": 0.033252,
     "end_time": "2025-03-10T13:44:43.464677",
     "exception": false,
     "start_time": "2025-03-10T13:44:43.431425",
     "status": "completed"
    },
    "tags": []
   },
   "outputs": [],
   "source": []
  },
  {
   "cell_type": "code",
   "execution_count": 6,
   "id": "e8046d4f",
   "metadata": {
    "execution": {
     "iopub.execute_input": "2025-03-10T13:44:43.523904Z",
     "iopub.status.busy": "2025-03-10T13:44:43.523443Z",
     "iopub.status.idle": "2025-03-10T13:44:43.646040Z",
     "shell.execute_reply": "2025-03-10T13:44:43.644785Z"
    },
    "papermill": {
     "duration": 0.154891,
     "end_time": "2025-03-10T13:44:43.648153",
     "exception": false,
     "start_time": "2025-03-10T13:44:43.493262",
     "status": "completed"
    },
    "tags": []
   },
   "outputs": [
    {
     "name": "stdout",
     "output_type": "stream",
     "text": [
      "ls: cannot access '/kaggle/working/ComfyUI/models/reactor/faces': No such file or directory\r\n"
     ]
    }
   ],
   "source": [
    "%ls -ltrha /kaggle/working/ComfyUI/models/reactor/faces"
   ]
  },
  {
   "cell_type": "raw",
   "id": "02715b2d",
   "metadata": {
    "papermill": {
     "duration": 0.034314,
     "end_time": "2025-03-10T13:44:43.717699",
     "exception": false,
     "start_time": "2025-03-10T13:44:43.683385",
     "status": "completed"
    },
    "tags": []
   },
   "source": [
    "xlist = \"\"\"https://huggingface.co/datasets/Gourieff/ReActor/resolve/main/models/reswapper_256.onnx?download=true\n",
    "https://huggingface.co/datasets/Gourieff/ReActor/resolve/main/models/reswapper_128.onnx?download=true\n",
    "https://huggingface.co/datasets/Gourieff/ReActor/resolve/main/models/inswapper_128.onnx?download=true\"\"\".split('\\n')\n",
    "\n",
    "os.makedirs(\"/kaggle/working/ComfyUI/models/reswapper/\")\n",
    "\n",
    "for x in xlist:\n",
    "    print(x)\n",
    "    filnm = x.split('/')[-1].replace('?download=true','')\n",
    "    print(filnm)\n",
    "    !aria2c --console-log-level=error -c -x 16 -s 16 -k 1M $x -d /kaggle/working/ComfyUI/models/reswapper/ -o $filnm"
   ]
  },
  {
   "cell_type": "code",
   "execution_count": 7,
   "id": "b0351086",
   "metadata": {
    "execution": {
     "iopub.execute_input": "2025-03-10T13:44:43.786519Z",
     "iopub.status.busy": "2025-03-10T13:44:43.786076Z",
     "iopub.status.idle": "2025-03-10T13:44:43.795396Z",
     "shell.execute_reply": "2025-03-10T13:44:43.794436Z"
    },
    "papermill": {
     "duration": 0.044951,
     "end_time": "2025-03-10T13:44:43.796862",
     "exception": false,
     "start_time": "2025-03-10T13:44:43.751911",
     "status": "completed"
    },
    "tags": []
   },
   "outputs": [
    {
     "data": {
      "text/plain": [
       "['In',\n",
       " 'Out',\n",
       " '_',\n",
       " '__',\n",
       " '___',\n",
       " '__builtin__',\n",
       " '__builtins__',\n",
       " '__doc__',\n",
       " '__loader__',\n",
       " '__name__',\n",
       " '__package__',\n",
       " '__spec__',\n",
       " '_dh',\n",
       " '_exit_code',\n",
       " '_i',\n",
       " '_i1',\n",
       " '_i2',\n",
       " '_i3',\n",
       " '_i4',\n",
       " '_i5',\n",
       " '_i6',\n",
       " '_i7',\n",
       " '_ih',\n",
       " '_ii',\n",
       " '_iii',\n",
       " '_oh',\n",
       " 'datetime',\n",
       " 'down_antelope',\n",
       " 'down_landmark',\n",
       " 'execute_first_cell',\n",
       " 'exit',\n",
       " 'get_ipython',\n",
       " 'install_package',\n",
       " 'link_additional_models',\n",
       " 'link_models',\n",
       " 'main',\n",
       " 'move_files',\n",
       " 'os',\n",
       " 'quit',\n",
       " 'requests',\n",
       " 'scheduler',\n",
       " 'setup_comfyui',\n",
       " 'shutil',\n",
       " 'start_comfyui_instances',\n",
       " 'start_playit_agent',\n",
       " 'subprocess',\n",
       " 'sys',\n",
       " 'threading',\n",
       " 'time',\n",
       " 'tqdm',\n",
       " 'xlinkthis',\n",
       " 'zip_folder',\n",
       " 'zipfile']"
      ]
     },
     "execution_count": 7,
     "metadata": {},
     "output_type": "execute_result"
    }
   ],
   "source": [
    "dir()"
   ]
  },
  {
   "cell_type": "code",
   "execution_count": null,
   "id": "a4962c61",
   "metadata": {
    "papermill": {
     "duration": 0.032128,
     "end_time": "2025-03-10T13:44:43.862186",
     "exception": false,
     "start_time": "2025-03-10T13:44:43.830058",
     "status": "completed"
    },
    "tags": []
   },
   "outputs": [],
   "source": []
  },
  {
   "cell_type": "code",
   "execution_count": null,
   "id": "f584a23b",
   "metadata": {
    "papermill": {
     "duration": 0.038663,
     "end_time": "2025-03-10T13:44:43.936677",
     "exception": false,
     "start_time": "2025-03-10T13:44:43.898014",
     "status": "completed"
    },
    "tags": []
   },
   "outputs": [],
   "source": []
  },
  {
   "cell_type": "code",
   "execution_count": null,
   "id": "d1c798cf",
   "metadata": {
    "papermill": {
     "duration": 0.024729,
     "end_time": "2025-03-10T13:44:44.001722",
     "exception": false,
     "start_time": "2025-03-10T13:44:43.976993",
     "status": "completed"
    },
    "tags": []
   },
   "outputs": [],
   "source": []
  },
  {
   "cell_type": "code",
   "execution_count": null,
   "id": "2ed97339",
   "metadata": {
    "papermill": {
     "duration": 0.01835,
     "end_time": "2025-03-10T13:44:44.039435",
     "exception": false,
     "start_time": "2025-03-10T13:44:44.021085",
     "status": "completed"
    },
    "tags": []
   },
   "outputs": [],
   "source": []
  },
  {
   "cell_type": "raw",
   "id": "0442c06f",
   "metadata": {
    "collapsed": true,
    "execution": {
     "iopub.execute_input": "2025-03-09T17:34:01.001744Z",
     "iopub.status.busy": "2025-03-09T17:34:01.001411Z",
     "iopub.status.idle": "2025-03-09T17:34:01.125081Z",
     "shell.execute_reply": "2025-03-09T17:34:01.124232Z",
     "shell.execute_reply.started": "2025-03-09T17:34:01.001709Z"
    },
    "jupyter": {
     "outputs_hidden": true
    },
    "papermill": {
     "duration": 0.019735,
     "end_time": "2025-03-10T13:44:44.077660",
     "exception": false,
     "start_time": "2025-03-10T13:44:44.057925",
     "status": "completed"
    },
    "tags": []
   },
   "source": [
    "!tail -n 1000 /kaggle/working/ComfyUI/logs/playit.log"
   ]
  },
  {
   "cell_type": "raw",
   "id": "7f53d3ca",
   "metadata": {
    "papermill": {
     "duration": 0.065767,
     "end_time": "2025-03-10T13:44:44.162048",
     "exception": false,
     "start_time": "2025-03-10T13:44:44.096281",
     "status": "completed"
    },
    "tags": []
   },
   "source": []
  },
  {
   "cell_type": "raw",
   "id": "1bf1af56",
   "metadata": {
    "papermill": {
     "duration": 0.0183,
     "end_time": "2025-03-10T13:44:44.199433",
     "exception": false,
     "start_time": "2025-03-10T13:44:44.181133",
     "status": "completed"
    },
    "tags": []
   },
   "source": []
  },
  {
   "cell_type": "code",
   "execution_count": 8,
   "id": "b9bcb7bb",
   "metadata": {
    "execution": {
     "iopub.execute_input": "2025-03-10T13:44:44.237939Z",
     "iopub.status.busy": "2025-03-10T13:44:44.237625Z",
     "iopub.status.idle": "2025-03-10T13:44:44.253462Z",
     "shell.execute_reply": "2025-03-10T13:44:44.250887Z"
    },
    "papermill": {
     "duration": 0.038074,
     "end_time": "2025-03-10T13:44:44.256198",
     "exception": false,
     "start_time": "2025-03-10T13:44:44.218124",
     "status": "completed"
    },
    "tags": []
   },
   "outputs": [
    {
     "name": "stdout",
     "output_type": "stream",
     "text": [
      "============================================================\n",
      "Starting scheduler...\n",
      "------------------------------------------------------------\n",
      "============================================================\n",
      "Executed\n",
      "2025-03-10 13:44:44.239957\n",
      "------------------------------------------------------------\n"
     ]
    }
   ],
   "source": [
    "    scheduler_thread = threading.Thread(target=scheduler)\n",
    "    scheduler_thread.daemon = True\n",
    "    scheduler_thread.start()"
   ]
  },
  {
   "cell_type": "raw",
   "id": "87d1c302",
   "metadata": {
    "papermill": {
     "duration": 0.023225,
     "end_time": "2025-03-10T13:44:44.304463",
     "exception": false,
     "start_time": "2025-03-10T13:44:44.281238",
     "status": "completed"
    },
    "tags": []
   },
   "source": []
  },
  {
   "cell_type": "raw",
   "id": "d675363e",
   "metadata": {
    "papermill": {
     "duration": 0.021682,
     "end_time": "2025-03-10T13:44:44.345364",
     "exception": false,
     "start_time": "2025-03-10T13:44:44.323682",
     "status": "completed"
    },
    "tags": []
   },
   "source": []
  },
  {
   "cell_type": "raw",
   "id": "7079d6b4",
   "metadata": {
    "papermill": {
     "duration": 0.019681,
     "end_time": "2025-03-10T13:44:44.384440",
     "exception": false,
     "start_time": "2025-03-10T13:44:44.364759",
     "status": "completed"
    },
    "tags": []
   },
   "source": []
  },
  {
   "cell_type": "raw",
   "id": "23abd7b7",
   "metadata": {
    "execution": {
     "iopub.execute_input": "2025-02-01T23:05:21.859947Z",
     "iopub.status.busy": "2025-02-01T23:05:21.85966Z",
     "iopub.status.idle": "2025-02-01T23:05:21.980097Z",
     "shell.execute_reply": "2025-02-01T23:05:21.979031Z",
     "shell.execute_reply.started": "2025-02-01T23:05:21.859914Z"
    },
    "papermill": {
     "duration": 0.018588,
     "end_time": "2025-03-10T13:44:44.421312",
     "exception": false,
     "start_time": "2025-03-10T13:44:44.402724",
     "status": "completed"
    },
    "tags": []
   },
   "source": [
    "!ps fax"
   ]
  },
  {
   "cell_type": "raw",
   "id": "04b2121b",
   "metadata": {
    "execution": {
     "iopub.execute_input": "2025-02-10T21:55:06.118098Z",
     "iopub.status.busy": "2025-02-10T21:55:06.117618Z",
     "iopub.status.idle": "2025-02-10T21:55:06.123966Z",
     "shell.execute_reply": "2025-02-10T21:55:06.122916Z",
     "shell.execute_reply.started": "2025-02-10T21:55:06.118066Z"
    },
    "papermill": {
     "duration": 0.020359,
     "end_time": "2025-03-10T13:44:44.460358",
     "exception": false,
     "start_time": "2025-03-10T13:44:44.439999",
     "status": "completed"
    },
    "tags": []
   },
   "source": [
    "# %load main.py\n",
    "import comfy.options\n",
    "comfy.options.enable_args_parsing()\n",
    "\n",
    "import os\n",
    "import importlib.util\n",
    "import folder_paths\n",
    "import time\n",
    "from comfy.cli_args import args\n",
    "from app.logger import setup_logger\n",
    "import itertools\n",
    "import utils.extra_config\n",
    "import logging\n",
    "\n",
    "if __name__ == \"__main__\":\n",
    "    #NOTE: These do not do anything on core ComfyUI which should already have no communication with the internet, they are for custom nodes.\n",
    "    os.environ['HF_HUB_DISABLE_TELEMETRY'] = '1'\n",
    "    os.environ['DO_NOT_TRACK'] = '1'\n",
    "\n",
    "\n",
    "setup_logger(log_level=args.verbose, use_stdout=args.log_stdout)\n",
    "\n",
    "def apply_custom_paths():\n",
    "    # extra model paths\n",
    "    extra_model_paths_config_path = os.path.join(os.path.dirname(os.path.realpath(__file__)), \"extra_model_paths.yaml\")\n",
    "    if os.path.isfile(extra_model_paths_config_path):\n",
    "        utils.extra_config.load_extra_path_config(extra_model_paths_config_path)\n",
    "\n",
    "    if args.extra_model_paths_config:\n",
    "        for config_path in itertools.chain(*args.extra_model_paths_config):\n",
    "            utils.extra_config.load_extra_path_config(config_path)\n",
    "\n",
    "    # --output-directory, --input-directory, --user-directory\n",
    "    if args.output_directory:\n",
    "        output_dir = os.path.abspath(args.output_directory)\n",
    "        logging.info(f\"Setting output directory to: {output_dir}\")\n",
    "        folder_paths.set_output_directory(output_dir)\n",
    "\n",
    "    # These are the default folders that checkpoints, clip and vae models will be saved to when using CheckpointSave, etc.. nodes\n",
    "    folder_paths.add_model_folder_path(\"checkpoints\", os.path.join(folder_paths.get_output_directory(), \"checkpoints\"))\n",
    "    folder_paths.add_model_folder_path(\"clip\", os.path.join(folder_paths.get_output_directory(), \"clip\"))\n",
    "    folder_paths.add_model_folder_path(\"vae\", os.path.join(folder_paths.get_output_directory(), \"vae\"))\n",
    "    folder_paths.add_model_folder_path(\"diffusion_models\",\n",
    "                                       os.path.join(folder_paths.get_output_directory(), \"diffusion_models\"))\n",
    "    folder_paths.add_model_folder_path(\"loras\", os.path.join(folder_paths.get_output_directory(), \"loras\"))\n",
    "\n",
    "    if args.input_directory:\n",
    "        input_dir = os.path.abspath(args.input_directory)\n",
    "        logging.info(f\"Setting input directory to: {input_dir}\")\n",
    "        folder_paths.set_input_directory(input_dir)\n",
    "\n",
    "    if args.user_directory:\n",
    "        user_dir = os.path.abspath(args.user_directory)\n",
    "        logging.info(f\"Setting user directory to: {user_dir}\")\n",
    "        folder_paths.set_user_directory(user_dir)\n",
    "\n",
    "\n",
    "def execute_prestartup_script():\n",
    "    def execute_script(script_path):\n",
    "        module_name = os.path.splitext(script_path)[0]\n",
    "        try:\n",
    "            spec = importlib.util.spec_from_file_location(module_name, script_path)\n",
    "            module = importlib.util.module_from_spec(spec)\n",
    "            spec.loader.exec_module(module)\n",
    "            return True\n",
    "        except Exception as e:\n",
    "            logging.error(f\"Failed to execute startup-script: {script_path} / {e}\")\n",
    "        return False\n",
    "\n",
    "    if args.disable_all_custom_nodes:\n",
    "        return\n",
    "\n",
    "    node_paths = folder_paths.get_folder_paths(\"custom_nodes\")\n",
    "    for custom_node_path in node_paths:\n",
    "        possible_modules = os.listdir(custom_node_path)\n",
    "        node_prestartup_times = []\n",
    "\n",
    "        for possible_module in possible_modules:\n",
    "            module_path = os.path.join(custom_node_path, possible_module)\n",
    "            if os.path.isfile(module_path) or module_path.endswith(\".disabled\") or module_path == \"__pycache__\":\n",
    "                continue\n",
    "\n",
    "            script_path = os.path.join(module_path, \"prestartup_script.py\")\n",
    "            if os.path.exists(script_path):\n",
    "                time_before = time.perf_counter()\n",
    "                success = execute_script(script_path)\n",
    "                node_prestartup_times.append((time.perf_counter() - time_before, module_path, success))\n",
    "    if len(node_prestartup_times) > 0:\n",
    "        logging.info(\"\\nPrestartup times for custom nodes:\")\n",
    "        for n in sorted(node_prestartup_times):\n",
    "            if n[2]:\n",
    "                import_message = \"\"\n",
    "            else:\n",
    "                import_message = \" (PRESTARTUP FAILED)\"\n",
    "            logging.info(\"{:6.1f} seconds{}: {}\".format(n[0], import_message, n[1]))\n",
    "        logging.info(\"\")\n",
    "\n",
    "apply_custom_paths()\n",
    "execute_prestartup_script()\n",
    "\n",
    "\n",
    "# Main code\n",
    "import asyncio\n",
    "import shutil\n",
    "import threading\n",
    "import gc\n",
    "\n",
    "\n",
    "if os.name == \"nt\":\n",
    "    logging.getLogger(\"xformers\").addFilter(lambda record: 'A matching Triton is not available' not in record.getMessage())\n",
    "\n",
    "if __name__ == \"__main__\":\n",
    "    if args.cuda_device is not None:\n",
    "        os.environ['CUDA_VISIBLE_DEVICES'] = str(args.cuda_device)\n",
    "        os.environ['HIP_VISIBLE_DEVICES'] = str(args.cuda_device)\n",
    "        logging.info(\"Set cuda device to: {}\".format(args.cuda_device))\n",
    "\n",
    "    if args.oneapi_device_selector is not None:\n",
    "        os.environ['ONEAPI_DEVICE_SELECTOR'] = args.oneapi_device_selector\n",
    "        logging.info(\"Set oneapi device selector to: {}\".format(args.oneapi_device_selector))\n",
    "\n",
    "    if args.deterministic:\n",
    "        if 'CUBLAS_WORKSPACE_CONFIG' not in os.environ:\n",
    "            os.environ['CUBLAS_WORKSPACE_CONFIG'] = \":4096:8\"\n",
    "\n",
    "    import cuda_malloc\n",
    "\n",
    "if args.windows_standalone_build:\n",
    "    try:\n",
    "        from fix_torch import fix_pytorch_libomp\n",
    "        fix_pytorch_libomp()\n",
    "    except:\n",
    "        pass\n",
    "\n",
    "import comfy.utils\n",
    "\n",
    "import execution\n",
    "import server\n",
    "from server import BinaryEventTypes\n",
    "import nodes\n",
    "import comfy.model_management\n",
    "import comfyui_version\n",
    "\n",
    "\n",
    "def cuda_malloc_warning():\n",
    "    device = comfy.model_management.get_torch_device()\n",
    "    device_name = comfy.model_management.get_torch_device_name(device)\n",
    "    cuda_malloc_warning = False\n",
    "    if \"cudaMallocAsync\" in device_name:\n",
    "        for b in cuda_malloc.blacklist:\n",
    "            if b in device_name:\n",
    "                cuda_malloc_warning = True\n",
    "        if cuda_malloc_warning:\n",
    "            logging.warning(\"\\nWARNING: this card most likely does not support cuda-malloc, if you get \\\"CUDA error\\\" please run ComfyUI with: --disable-cuda-malloc\\n\")\n",
    "\n",
    "\n",
    "def prompt_worker(q, server_instance):\n",
    "    current_time: float = 0.0\n",
    "    e = execution.PromptExecutor(server_instance, lru_size=args.cache_lru)\n",
    "    last_gc_collect = 0\n",
    "    need_gc = False\n",
    "    gc_collect_interval = 10.0\n",
    "\n",
    "    while True:\n",
    "        timeout = 1000.0\n",
    "        if need_gc:\n",
    "            timeout = max(gc_collect_interval - (current_time - last_gc_collect), 0.0)\n",
    "\n",
    "        queue_item = q.get(timeout=timeout)\n",
    "        if queue_item is not None:\n",
    "            item, item_id = queue_item\n",
    "            execution_start_time = time.perf_counter()\n",
    "            prompt_id = item[1]\n",
    "            server_instance.last_prompt_id = prompt_id\n",
    "\n",
    "            e.execute(item[2], prompt_id, item[3], item[4])\n",
    "            need_gc = True\n",
    "            q.task_done(item_id,\n",
    "                        e.history_result,\n",
    "                        status=execution.PromptQueue.ExecutionStatus(\n",
    "                            status_str='success' if e.success else 'error',\n",
    "                            completed=e.success,\n",
    "                            messages=e.status_messages))\n",
    "            if server_instance.client_id is not None:\n",
    "                server_instance.send_sync(\"executing\", {\"node\": None, \"prompt_id\": prompt_id}, server_instance.client_id)\n",
    "\n",
    "            current_time = time.perf_counter()\n",
    "            execution_time = current_time - execution_start_time\n",
    "            logging.info(\"Prompt executed in {:.2f} seconds\".format(execution_time))\n",
    "\n",
    "        flags = q.get_flags()\n",
    "        free_memory = flags.get(\"free_memory\", False)\n",
    "\n",
    "        if flags.get(\"unload_models\", free_memory):\n",
    "            comfy.model_management.unload_all_models()\n",
    "            need_gc = True\n",
    "            last_gc_collect = 0\n",
    "\n",
    "        if free_memory:\n",
    "            e.reset()\n",
    "            need_gc = True\n",
    "            last_gc_collect = 0\n",
    "\n",
    "        if need_gc:\n",
    "            current_time = time.perf_counter()\n",
    "            if (current_time - last_gc_collect) > gc_collect_interval:\n",
    "                gc.collect()\n",
    "                comfy.model_management.soft_empty_cache()\n",
    "                last_gc_collect = current_time\n",
    "                need_gc = False\n",
    "\n",
    "\n",
    "async def run(server_instance, address='', port=8188, verbose=True, call_on_start=None):\n",
    "    addresses = []\n",
    "    for addr in address.split(\",\"):\n",
    "        addresses.append((addr, port))\n",
    "    await asyncio.gather(\n",
    "        server_instance.start_multi_address(addresses, call_on_start, verbose), server_instance.publish_loop()\n",
    "    )\n",
    "\n",
    "\n",
    "def hijack_progress(server_instance):\n",
    "    def hook(value, total, preview_image):\n",
    "        comfy.model_management.throw_exception_if_processing_interrupted()\n",
    "        progress = {\"value\": value, \"max\": total, \"prompt_id\": server_instance.last_prompt_id, \"node\": server_instance.last_node_id}\n",
    "\n",
    "        server_instance.send_sync(\"progress\", progress, server_instance.client_id)\n",
    "        if preview_image is not None:\n",
    "            server_instance.send_sync(BinaryEventTypes.UNENCODED_PREVIEW_IMAGE, preview_image, server_instance.client_id)\n",
    "\n",
    "    comfy.utils.set_progress_bar_global_hook(hook)\n",
    "\n",
    "\n",
    "def cleanup_temp():\n",
    "    temp_dir = folder_paths.get_temp_directory()\n",
    "    if os.path.exists(temp_dir):\n",
    "        shutil.rmtree(temp_dir, ignore_errors=True)\n",
    "\n",
    "\n",
    "def start_comfyui(asyncio_loop=None):\n",
    "    \"\"\"\n",
    "    Starts the ComfyUI server using the provided asyncio event loop or creates a new one.\n",
    "    Returns the event loop, server instance, and a function to start the server asynchronously.\n",
    "    \"\"\"\n",
    "    if args.temp_directory:\n",
    "        temp_dir = os.path.join(os.path.abspath(args.temp_directory), \"temp\")\n",
    "        logging.info(f\"Setting temp directory to: {temp_dir}\")\n",
    "        folder_paths.set_temp_directory(temp_dir)\n",
    "    cleanup_temp()\n",
    "\n",
    "    if args.windows_standalone_build:\n",
    "        try:\n",
    "            import new_updater\n",
    "            new_updater.update_windows_updater()\n",
    "        except:\n",
    "            pass\n",
    "\n",
    "    if not asyncio_loop:\n",
    "        asyncio_loop = asyncio.new_event_loop()\n",
    "        asyncio.set_event_loop(asyncio_loop)\n",
    "    prompt_server = server.PromptServer(asyncio_loop)\n",
    "    q = execution.PromptQueue(prompt_server)\n",
    "\n",
    "    nodes.init_extra_nodes(init_custom_nodes=not args.disable_all_custom_nodes)\n",
    "\n",
    "    cuda_malloc_warning()\n",
    "\n",
    "    prompt_server.add_routes()\n",
    "    hijack_progress(prompt_server)\n",
    "\n",
    "    threading.Thread(target=prompt_worker, daemon=True, args=(q, prompt_server,)).start()\n",
    "\n",
    "    if args.quick_test_for_ci:\n",
    "        exit(0)\n",
    "\n",
    "    os.makedirs(folder_paths.get_temp_directory(), exist_ok=True)\n",
    "    call_on_start = None\n",
    "    if args.auto_launch:\n",
    "        def startup_server(scheme, address, port):\n",
    "            import webbrowser\n",
    "            if os.name == 'nt' and address == '0.0.0.0':\n",
    "                address = '127.0.0.1'\n",
    "            if ':' in address:\n",
    "                address = \"[{}]\".format(address)\n",
    "            webbrowser.open(f\"{scheme}://{address}:{port}\")\n",
    "        call_on_start = startup_server\n",
    "\n",
    "    async def start_all():\n",
    "        await prompt_server.setup()\n",
    "        await run(prompt_server, address=args.listen, port=args.port, verbose=not args.dont_print_server, call_on_start=call_on_start)\n",
    "\n",
    "    # Returning these so that other code can integrate with the ComfyUI loop and server\n",
    "    return asyncio_loop, prompt_server, start_all\n",
    "\n",
    "\n",
    "if __name__ == \"__main__\":\n",
    "    # Running directly, just start ComfyUI.\n",
    "    logging.info(\"ComfyUI version: {}\".format(comfyui_version.__version__))\n",
    "    event_loop, _, start_all_func = start_comfyui()\n",
    "    try:\n",
    "        event_loop.run_until_complete(start_all_func())\n",
    "    except KeyboardInterrupt:\n",
    "        logging.info(\"\\nStopped server\")\n",
    "\n",
    "    cleanup_temp()\n"
   ]
  },
  {
   "cell_type": "raw",
   "id": "f7a0a21a",
   "metadata": {
    "execution": {
     "iopub.execute_input": "2025-02-01T23:14:35.089269Z",
     "iopub.status.busy": "2025-02-01T23:14:35.088843Z",
     "iopub.status.idle": "2025-02-01T23:15:51.658622Z",
     "shell.execute_reply": "2025-02-01T23:15:51.65597Z",
     "shell.execute_reply.started": "2025-02-01T23:14:35.089241Z"
    },
    "papermill": {
     "duration": 0.01836,
     "end_time": "2025-03-10T13:44:44.498816",
     "exception": false,
     "start_time": "2025-03-10T13:44:44.480456",
     "status": "completed"
    },
    "tags": []
   },
   "source": [
    "import os\n",
    "import subprocess\n",
    "import time\n",
    "import zipfile\n",
    "import shutil\n",
    "from datetime import datetime\n",
    "import threading\n",
    "from IPython.core.getipython import get_ipython\n",
    "\n",
    "def zip_folder(folder_path, zip_path):\n",
    "    \"\"\"Zip the contents of a folder.\"\"\"\n",
    "    print(\"=\"*60, \"Starting to zip folder...\", \"-\"*60, sep=\"\\n\")\n",
    "    with zipfile.ZipFile(zip_path, 'w', zipfile.ZIP_DEFLATED) as zipf:\n",
    "        for root, _, files in os.walk(folder_path):\n",
    "            for file in files:\n",
    "                file_path = os.path.join(root, file)\n",
    "                arcname = os.path.relpath(file_path, folder_path)\n",
    "                zipf.write(file_path, arcname)\n",
    "    print(\"=\"*60, \"Folder zipped successfully.\", \"-\"*60, sep=\"\\n\")\n",
    "\n",
    "def move_files(source_folder, dest_folder):\n",
    "    \"\"\"Move files from source folder to destination folder.\"\"\"\n",
    "    print(\"=\"*60, \"Starting to move files...\", \"-\"*60, sep=\"\\n\")\n",
    "    os.makedirs(dest_folder, exist_ok=True)\n",
    "    if os.path.exists(source_folder):\n",
    "        for item in os.listdir(source_folder):\n",
    "            try:\n",
    "                shutil.move(os.path.join(source_folder, item), dest_folder)\n",
    "            except Exception as e:\n",
    "                print(f\"Error moving file {item}: {e}\")\n",
    "    print(\"=\"*60, \"Files moved successfully.\", \"-\"*60, sep=\"\\n\")\n",
    "\n",
    "def install_package(url):\n",
    "    \"\"\"Install a package from a given URL.\"\"\"\n",
    "    print(\"=\"*60, f\"Starting to install package from {url}...\", \"-\"*60, sep=\"\\n\")\n",
    "    package_name = url.split('/')[-1].replace('.git', '')\n",
    "    package_path = f\"/kaggle/working/ComfyUI/custom_nodes/{package_name}\"\n",
    "\n",
    "    if not os.path.exists(\"/kaggle/working/ComfyUI/custom_nodes/\"):\n",
    "        os.makedirs(\"/kaggle/working/ComfyUI/custom_nodes/\")\n",
    "\n",
    "    os.chdir(\"/kaggle/working/ComfyUI/custom_nodes\")\n",
    "\n",
    "    if not os.path.exists(package_path):\n",
    "        get_ipython().system(f'git clone {url} --recursive')\n",
    "\n",
    "    os.chdir(package_path)\n",
    "    get_ipython().system('git pull --all')\n",
    "\n",
    "    if os.path.exists(\"requirements.txt\"):\n",
    "        get_ipython().system('uv pip install --system -r requirements.txt --quiet')\n",
    "\n",
    "    print(\"=\"*60, f\"Package from {url} installed successfully.\", \"-\"*60, sep=\"\\n\")\n",
    "\n",
    "def setup_comfyui():\n",
    "    \"\"\"Set up ComfyUI and install necessary packages.\"\"\"\n",
    "    print(\"=\"*60, \"Starting to set up ComfyUI...\", \"-\"*60, sep=\"\\n\")\n",
    "    os.chdir(\"/kaggle/working\")\n",
    "    if not os.path.exists(\"/kaggle/working/ComfyUI/\") or not os.path.exists(\"/kaggle/working/ComfyUI/requirements\") :\n",
    "        get_ipython().system('git clone https://github.com/comfyanonymous/ComfyUI.git --recursive')\n",
    "    os.chdir(\"ComfyUI\")\n",
    "    get_ipython().system('git pull --all')\n",
    "    get_ipython().system('uv pip install --system -r requirements.txt --quiet')\n",
    "\n",
    "    model_dirs = [\n",
    "        \"/kaggle/working/ComfyUI/models/LLM\",\n",
    "        \"/kaggle/working/ComfyUI/models/pulid\",\n",
    "        \"/kaggle/working/ComfyUI/models/clip_vision\",\n",
    "        \"/kaggle/working/ComfyUI/models/xlabs/contronets/\"\n",
    "    ]\n",
    "    for dir_path in model_dirs:\n",
    "        os.makedirs(dir_path, exist_ok=True)\n",
    "    print(\"=\"*60, \"ComfyUI set up successfully.\", \"-\"*60, sep=\"\\n\")\n",
    "    \n",
    "def xlinkthis(src, dest):\n",
    "    import os\n",
    "    os.makedirs(os.path.dirname(dest), exist_ok=True)\n",
    "    if not os.path.exists(dest) and not os.path.islink(dest):\n",
    "        os.symlink(src, dest)\n",
    "        \n",
    "def link_models():\n",
    "    \"\"\"Create symbolic links for model files.\"\"\"\n",
    "    print(\"=\"*60, \"Starting to link models...\", \"-\"*60, sep=\"\\n\")\n",
    "    links = [\n",
    "        (\"/kaggle/input/clip-gmp-vit-l-14/tensorflow2/default/1/model.safetensors\",\n",
    "         \"/kaggle/working/ComfyUI/models/clip/CLIP_gmp_VIT_L_14.safetensors\"),\n",
    "        (\"/kaggle/input/t5xxl_fp16.safetensors/tensorflow2/default/1/t5xxl_fp16.safetensors\",\n",
    "         \"/kaggle/working/ComfyUI/models/clip/t5xxl_fp16.safetensors\"),\n",
    "        (\"/kaggle/input/flux-vae-safetensors/pytorch/default/1/ae.safetensors\",\n",
    "         \"/kaggle/working/ComfyUI/models/vae/FLuX_ae.safetensors\"),\n",
    "        (\"/kaggle/input/florence2/transformers/default/1/Florence2_model_3/model.safetensors\",\n",
    "         \"/kaggle/working/ComfyUI/models/LLM/Florence_model_3.safetensors\"),\n",
    "        (\"/kaggle/input/florence2/transformers/default/1/Florence2_model_2/model.safetensors\",\n",
    "         \"/kaggle/working/ComfyUI/models/LLM/Florence_model_2.safetensors\"),\n",
    "        (\"/kaggle/input/controlnet/pytorch/flux-canny-controlnet/1/flux-canny-controlnet-v3.safetensors\",\n",
    "         \"/kaggle/working/ComfyUI/models/xlabs/contronets/flux-canny-controlnet-v3.safetensors\"),\n",
    "        (\"/kaggle/input/controlnet/pytorch/flux-depth-controlnet/1/flux-depth-controlnet-v3.safetensors\",\n",
    "         \"/kaggle/working/ComfyUI/models/xlabs/contronets/flux-depth-controlnet-v3.safetensors\"),\n",
    "        (\"/kaggle/input/realvisxl-v50/pytorch/default/1/realvisxl-v50.safetensors\",\n",
    "         \"/kaggle/working/ComfyUI/models/checkpoints/realvisxl-v50.safetensors\"),\n",
    "        (\"/kaggle/input/realvisxl-v50/pytorch/default/2/SG161222_RealVisXL_V5_0_Lightning.safetensors\",\n",
    "         \"/kaggle/working/ComfyUI/models/checkpoints/SG161222_RealVisXL_V5_0_Lightning.safetensors\"),\n",
    "        (\"/kaggle/input/flux1devnf46stepsnsfw/pytorch/default/1/flux1DevNF46StepsNSFW_fluxdevFP86Steps.safetensors\",\n",
    "         \"/kaggle/working/ComfyUI/models/checkpoints/flux1DevNF46StepsNSFW_fluxdevFP86Steps.safetensors\"),\n",
    "        (\"/kaggle/input/8stepscrearthyperfluxdevbnb_v24hyperdevfp8unet_/pytorch/default/1/8StepsCreartHyperFluxDevBnb_v24HyperDevFp8Unet.safetensors\",\n",
    "         \"/kaggle/working/ComfyUI/models/unet/8StepsCreartHyperFluxDevBnb_v24HyperDevFp8Unet.safetensors\"),\n",
    "        (\"/kaggle/input/creart-hyper-flux-dev-gguf-q4_0/gguf/default/1/CreArt-Hyper-Flux-Dev-gguf-q4_0.gguf\",\n",
    "         \"/kaggle/working/ComfyUI/models/unet/CreArt-Hyper-Flux-Dev-gguf-q4_0.gguf\"),\n",
    "        (\"/kaggle/input/unet/gguf/flux1-dev-q4_k_s/1/flux1-dev-Q4_K_S.gguf\",\n",
    "         \"/kaggle/working/ComfyUI/models/unet/flux1-dev-Q4_K_S.gguf\"),\n",
    "        (\"/kaggle/input/aldebodobasexl_v3mini/tensorflow2/default/1/albedobaseXL_v3Mini.safetensors\",\n",
    "         \"/kaggle/working/ComfyUI/models/checkpoints/albedobaseXL_v3Mini.safetensors\"),\n",
    "        (\"/kaggle/input/alimama-flux-turbo-lora/pytorch/default/1/diffusion_pytorch_model.safetensors\",\n",
    "         \"/kaggle/working/ComfyUI/models/loras/alimama-flux-turbo-lora.safetensors\"),\n",
    "        (\"/kaggle/input/fluxartfusion4steps_v12/pytorch/default/1/fluxArtfusion4Steps_v12.safetensors\",\n",
    "         \"/kaggle/working/ComfyUI/models/checkpoints/fluxArtfusion4Steps_v12.safetensors\"),\n",
    "        (\"/kaggle/input/clip-vit/pytorch/h-14-laion2b-s32b-b79k/1/pytorch_model.bin\",\n",
    "         \"/kaggle/working/ComfyUI/models/clip_vision/clip_vit_h-14-laion2b-s32b-b79k.bin\"),\n",
    "        (\"/kaggle/input/controlnet-package-hsbd10/pytorch/default/4/controlnet_instantid_model.safetensors\",\n",
    "         \"/kaggle/working/ComfyUI/models/controlnet/instantid/LeInstantID_ControlNet_model.safetensors\"),\n",
    "        (\"/kaggle/input/instant_id/pytorch/default/2/instantid-ip-adapter.bin\",\n",
    "         \"/kaggle/working/ComfyUI/models/instantid/InstantID_ip_adapter.bin\"),\n",
    "        (\"/kaggle/input/instant_id/pytorch/default/2/instantid-ip-adapter.bin\",\n",
    "         \"/kaggle/working/ComfyUI/models/instantid/ip_adapter.bin\"),\n",
    "        (\"/kaggle/input/instant_id/pytorch/default/2/instantid-ip-adapter.bin\",\n",
    "         \"/kaggle/working/ComfyUI/models/instantid/SDXL/ip-adapter.bin\"),\n",
    "        (\"/kaggle/input/controlnet-package-hsbd10/pytorch/default/4/controlnet_instantid_model.safetensors\",\n",
    "         \"/kaggle/working/ComfyUI/models/controlnet/instantid/LeInstantID_ControlNet_model.safetensors\"),\n",
    "        (\"/kaggle/input/4xnomosunidat_upscaler/pytorch/default/5/4xnomosunidat_upscaler.safetensors\",\n",
    "         \"/kaggle/working/ComfyUI/models/upscale_models/4xnomosunidat_upscaler.safetensors\")\n",
    "    ]\n",
    "    for src, dest in links:\n",
    "        xlinkthis(src,dest)\n",
    "    print(\"=\"*60, \"Models linked successfully.\", \"-\"*60, sep=\"\\n\")\n",
    "    \n",
    "def link_additional_models():\n",
    "    \"\"\"Link additional models from specified directories.\"\"\"\n",
    "    print(\"=\"*60, \"Starting to link additional models...\", \"=\"*60, sep=\"\\n\")\n",
    "\n",
    "    # Link models from /kaggle/input/4xnomosunidat_upscaler/pytorch/default/5/\n",
    "    for x in os.listdir(\"/kaggle/input/4xnomosunidat_upscaler/pytorch/default/5/\"):\n",
    "        print(x)\n",
    "        xlinkthis(f\"/kaggle/input/4xnomosunidat_upscaler/pytorch/default/5/{x}\", f\"/kaggle/working/ComfyUI/models/upscale_models/{x}\")\n",
    "\n",
    "    # Link models from /kaggle/input/t5_xxl_gguf_models/pytorch/default/1/\n",
    "    for x in os.listdir(\"/kaggle/input/t5_xxl_gguf_models/pytorch/default/1/\"):\n",
    "        print(x)\n",
    "        xlinkthis(f\"/kaggle/input/t5_xxl_gguf_models/pytorch/default/1/{x}\", f\"/kaggle/working/ComfyUI/models/clip/{x}\")\n",
    "\n",
    "    # Link models from /kaggle/input/sdxl_controlnets/pytorch/default/3/\n",
    "    for x in os.listdir(\"/kaggle/input/sdxl_controlnets/pytorch/default/3/\"):\n",
    "        print(x)\n",
    "        os.symlink(f\"/kaggle/input/sdxl_controlnets/pytorch/default/3/{x}\", f\"/kaggle/working/ComfyUI/models/controlnet/{x}\")\n",
    "        if 'ip-adapter' in x:\n",
    "            xlinkthis(f\"/kaggle/input/sdxl_controlnets/pytorch/default/3/{x}\", f\"/kaggle/working/ComfyUI/models/ipadapter/{x}\")\n",
    "\n",
    "    # Link models from /kaggle/input/pulid-model/pytorch/default/3/\n",
    "    for x in os.listdir(\"/kaggle/input/pulid-model/pytorch/default/3/\"):\n",
    "        print(x)\n",
    "        xlinkthis(f\"/kaggle/input/pulid-model/pytorch/default/3/{x}\", f\"/kaggle/working/ComfyUI/models/pulid/{x}\")\n",
    "\n",
    "    print(\"=\"*60, \"Additional models linked successfully.\", \"=\"*60, sep=\"\\n\")\n",
    "\n",
    "def start_comfyui_instances():\n",
    "    \"\"\"Start ComfyUI instances.\"\"\"\n",
    "    print(\"=\"*60, \"Starting ComfyUI instances...\", \"-\"*60, sep=\"\\n\")\n",
    "    os.chdir(\"/kaggle/working/ComfyUI/\")\n",
    "    xP1 = subprocess.Popen([\"python\", \"main.py\", \"--cuda-device\", \"0\", \"--port\", \"8188\", \"--highvram\"])\n",
    "    time.sleep(10)\n",
    "    xP2 = subprocess.Popen([\"python\", \"main.py\", \"--cuda-device\", \"1\", \"--port\", \"8189\", \"--highvram\"])\n",
    "    time.sleep(10)\n",
    "    print(\"=\"*60, \"ComfyUI instances started successfully.\", \"-\"*60, sep=\"\\n\")\n",
    "\n",
    "def start_playit_agent():\n",
    "    \"\"\"Start the Playit agent.\"\"\"\n",
    "    print(\"=\"*60, \"Starting Playit agent...\", \"-\"*60, sep=\"\\n\")\n",
    "    os.chdir(\"/kaggle/working/ComfyUI/\")\n",
    "    if not os.path.exists('/kaggle/working/ComfyUI/playit-linux-amd64'):\n",
    "        get_ipython().system('wget https://github.com/playit-cloud/playit-agent/releases/download/v0.15.26/playit-linux-amd64')\n",
    "    get_ipython().system('chmod +x ./playit-linux-amd64')\n",
    "    os.makedirs(\"/kaggle/working/ComfyUI/logs\", exist_ok=True)\n",
    "    subprocess.Popen(\"nohup /kaggle/working/ComfyUI/playit-linux-amd64 >> /kaggle/working/ComfyUI/logs/playit.log 2>&1 &\", bufsize=0, shell=True)\n",
    "    time.sleep(3)\n",
    "    get_ipython().system('tail -n 20 /kaggle/working/ComfyUI/logs/playit.log')\n",
    "    print(\"=\"*60, \"Playit agent started successfully.\", \"-\"*60, sep=\"\\n\")\n",
    "\n",
    "def execute_first_cell():\n",
    "    \"\"\"Execute the first cell in the notebook.\"\"\"\n",
    "    print(\"=\"*60, \"Executed\", datetime.today(), \"-\"*60, sep=\"\\n\")\n",
    "    get_ipython().run_cell(get_ipython().user_ns['In'][1])\n",
    "    print(\"=\"*60, \"-\"*60, sep=\"\\n\")\n",
    "\n",
    "def scheduler():\n",
    "    \"\"\"Scheduler to execute the first cell every minute.\"\"\"\n",
    "    print(\"=\"*60, \"Starting scheduler...\", \"-\"*60, sep=\"\\n\")\n",
    "    while True:\n",
    "        execute_first_cell()\n",
    "        time.sleep(60)  # 60 seconds\n",
    "\n",
    "def main():\n",
    "    \"\"\"Main function to orchestrate the setup and execution.\"\"\"\n",
    "    print(\"=\"*60, \"Starting main function...\", \"-\"*60, sep=\"\\n\")\n",
    "    # Install uv\n",
    "    print(\"=\"*60, \"Installing uv...\", \"-\"*60, sep=\"\\n\")\n",
    "    get_ipython().system('python -m pip install -U pip uv -q')\n",
    "\n",
    "    # Example usage of zip_folder\n",
    "    folder_to_zip = '/kaggle/working/ComfyUI/output'\n",
    "    if os.path.exists(folder_to_zip):\n",
    "        output_zip = f'/kaggle/working/output_{datetime.now():%d%m%Y_%H%M}.zip'\n",
    "        zip_folder(folder_to_zip, output_zip)\n",
    "    \n",
    "        # Move files\n",
    "        x_old = '/kaggle/working/old_output'\n",
    "        move_files(folder_to_zip, x_old)\n",
    "\n",
    "    # Setup ComfyUI\n",
    "    setup_comfyui()\n",
    "    \n",
    "    # Install packages\n",
    "    packages = [\n",
    "        \"https://github.com/comfyanonymous/ComfyUI_bitsandbytes_NF4\",\n",
    "        \"https://github.com/WASasquatch/was-node-suite-comfyui\",\n",
    "        \"https://github.com/rgthree/rgthree-comfy\",\n",
    "        \"https://codeberg.org/Gourieff/comfyui-reactor-node\",\n",
    "        \"https://github.com/BlenderNeko/ComfyUI_Noise\",\n",
    "        \"https://github.com/ltdrdata/ComfyUI-Impact-Pack\",\n",
    "        \"https://github.com/pythongosssss/ComfyUI-Custom-Scripts\",\n",
    "        \"https://github.com/yolain/ComfyUI-Easy-Use\",\n",
    "        \"https://github.com/kijai/ComfyUI-KJNodes\",\n",
    "        \"https://github.com/kijai/ComfyUI-Florence2\",\n",
    "        \"https://github.com/XLabs-AI/x-flux-comfyui\",\n",
    "        \"https://github.com/crystian/ComfyUI-Crystools\",\n",
    "        \"https://github.com/city96/ComfyUI-GGUF\",\n",
    "        \"https://github.com/cubiq/PuLID_ComfyUI\",\n",
    "        \"https://github.com/cubiq/ComfyUI_InstantID\",\n",
    "        \"https://github.com/cubiq/ComfyUI_IPAdapter_plus\",\n",
    "        \"https://github.com/revirevy/Comfyui_saveimage_imgbb\",\n",
    "        \"https://github.com/ltdrdata/ComfyUI-Manager\",\n",
    "        \"https://github.com/comfyanonymous/ComfyUI_experiments\",\n",
    "        \"https://github.com/chengzeyi/Comfy-WaveSpeed\",\n",
    "        \"https://github.com/Fannovel16/comfyui_controlnet_aux\",\n",
    "        \"https://github.com/ShmuelRonen/ComfyUI-FreeMemory\",\n",
    "        \"https://github.com/jamesWalker55/comfyui-various\",\n",
    "        \"https://github.com/kijai/ComfyUI-SUPIR\",\n",
    "        \"https://github.com/klinter007/klinter_nodes\",\n",
    "        \"https://github.com/holchan/ComfyUI-ModelDownloader\",\n",
    "        \"https://github.com/KoreTeknology/ComfyUI-Universal-Styler\",\n",
    "        \"https://github.com/marduk191/ComfyUI-Fluxpromptenhancer\",\n",
    "        \"https://github.com/fairy-root/Flux-Prompt-Generator\",\n",
    "        \"https://github.com/VykosX/ControlFlowUtils\",\n",
    "        \"https://github.com/godmt/ComfyUI-List-Utils\"\n",
    "    ]\n",
    "    for package in packages:\n",
    "        install_package(package)\n",
    "\n",
    "    # Setup ComfyUI\n",
    "    setup_comfyui()\n",
    "\n",
    "    # Link models\n",
    "    link_models()\n",
    "\n",
    "    # Start ComfyUI instances\n",
    "    start_comfyui_instances()\n",
    "\n",
    "    # Start Playit agent\n",
    "    start_playit_agent()\n",
    "\n",
    "    # Start scheduler\n",
    "    scheduler_thread = threading.Thread(target=scheduler)\n",
    "    scheduler_thread.daemon = True\n",
    "    scheduler_thread.start()\n",
    "\n",
    "    print(\"=\"*60, \"Scheduler started in background. It will execute the first cell every 1 minute.\", \"-\"*60, sep=\"\\n\")\n",
    "\n",
    "if __name__ == \"__main__\":\n",
    "    main()\n"
   ]
  },
  {
   "cell_type": "raw",
   "id": "27c3a31d",
   "metadata": {
    "execution": {
     "iopub.execute_input": "2025-02-01T23:19:27.156635Z",
     "iopub.status.busy": "2025-02-01T23:19:27.156305Z",
     "iopub.status.idle": "2025-02-01T23:19:27.274566Z",
     "shell.execute_reply": "2025-02-01T23:19:27.273829Z",
     "shell.execute_reply.started": "2025-02-01T23:19:27.156608Z"
    },
    "papermill": {
     "duration": 0.01933,
     "end_time": "2025-03-10T13:44:44.536821",
     "exception": false,
     "start_time": "2025-03-10T13:44:44.517491",
     "status": "completed"
    },
    "tags": []
   },
   "source": [
    "!tail -n 20 /kaggle/working/ComfyUI/logs/playit.log"
   ]
  },
  {
   "cell_type": "raw",
   "id": "a3c9bc86",
   "metadata": {
    "papermill": {
     "duration": 0.018957,
     "end_time": "2025-03-10T13:44:44.575382",
     "exception": false,
     "start_time": "2025-03-10T13:44:44.556425",
     "status": "completed"
    },
    "tags": []
   },
   "source": []
  },
  {
   "cell_type": "raw",
   "id": "f26f6b77",
   "metadata": {
    "papermill": {
     "duration": 0.018345,
     "end_time": "2025-03-10T13:44:44.614077",
     "exception": false,
     "start_time": "2025-03-10T13:44:44.595732",
     "status": "completed"
    },
    "tags": []
   },
   "source": []
  },
  {
   "cell_type": "raw",
   "id": "31eb7bb5",
   "metadata": {
    "execution": {
     "iopub.execute_input": "2025-01-29T21:31:24.935515Z",
     "iopub.status.busy": "2025-01-29T21:31:24.935163Z",
     "iopub.status.idle": "2025-01-29T21:31:24.940387Z",
     "shell.execute_reply": "2025-01-29T21:31:24.939415Z",
     "shell.execute_reply.started": "2025-01-29T21:31:24.93548Z"
    },
    "papermill": {
     "duration": 0.018417,
     "end_time": "2025-03-10T13:44:44.651326",
     "exception": false,
     "start_time": "2025-03-10T13:44:44.632909",
     "status": "completed"
    },
    "tags": []
   },
   "source": [
    "import os,subprocess,time"
   ]
  },
  {
   "cell_type": "raw",
   "id": "e45a4c8d",
   "metadata": {
    "execution": {
     "iopub.execute_input": "2025-01-29T21:31:24.942419Z",
     "iopub.status.busy": "2025-01-29T21:31:24.942116Z",
     "iopub.status.idle": "2025-01-29T21:31:31.314833Z",
     "shell.execute_reply": "2025-01-29T21:31:31.313782Z",
     "shell.execute_reply.started": "2025-01-29T21:31:24.942396Z"
    },
    "papermill": {
     "duration": 0.018587,
     "end_time": "2025-03-10T13:44:44.688201",
     "exception": false,
     "start_time": "2025-03-10T13:44:44.669614",
     "status": "completed"
    },
    "tags": []
   },
   "source": [
    "%pip install -U uv -q"
   ]
  },
  {
   "cell_type": "raw",
   "id": "a688d282",
   "metadata": {
    "execution": {
     "iopub.execute_input": "2024-11-19T18:38:05.146898Z",
     "iopub.status.busy": "2024-11-19T18:38:05.14647Z",
     "iopub.status.idle": "2024-11-19T18:38:05.154549Z",
     "shell.execute_reply": "2024-11-19T18:38:05.153749Z",
     "shell.execute_reply.started": "2024-11-19T18:38:05.146853Z"
    },
    "papermill": {
     "duration": 0.018378,
     "end_time": "2025-03-10T13:44:44.725986",
     "exception": false,
     "start_time": "2025-03-10T13:44:44.707608",
     "status": "completed"
    },
    "tags": []
   },
   "source": [
    "import os\n",
    "from IPython.display import FileLink\n",
    "os.chdir(\"/kaggle/working\")\n",
    "\n",
    "FileLink('output_18112024_1959.zip.zip')"
   ]
  },
  {
   "cell_type": "raw",
   "id": "3acb6827",
   "metadata": {
    "execution": {
     "iopub.execute_input": "2025-01-29T21:31:31.31663Z",
     "iopub.status.busy": "2025-01-29T21:31:31.316381Z",
     "iopub.status.idle": "2025-01-29T21:31:31.325441Z",
     "shell.execute_reply": "2025-01-29T21:31:31.324512Z",
     "shell.execute_reply.started": "2025-01-29T21:31:31.316608Z"
    },
    "papermill": {
     "duration": 0.018051,
     "end_time": "2025-03-10T13:44:44.762283",
     "exception": false,
     "start_time": "2025-03-10T13:44:44.744232",
     "status": "completed"
    },
    "tags": []
   },
   "source": [
    "import os\n",
    "import zipfile\n",
    "from datetime import datetime\n",
    "\n",
    "def zip_folder(folder_path, zip_path):\n",
    "    with zipfile.ZipFile(zip_path, 'w', zipfile.ZIP_DEFLATED) as zipf:\n",
    "        for root, _, files in os.walk(folder_path):\n",
    "            for file in files:\n",
    "                file_path = os.path.join(root, file)\n",
    "                arcname = os.path.relpath(file_path, folder_path)\n",
    "                zipf.write(file_path, arcname)\n",
    "\n",
    "# Example usage\n",
    "folder_to_zip = '/kaggle/working/ComfyUI/output'\n",
    "output_zip = f'/kaggle/working/output_{datetime.now():%d%m%Y_%H%M}.zip'\n",
    "# zip_folder(folder_to_zip, output_zip)\n",
    "\n",
    "import shutil\n",
    "shutil.make_archive(output_zip, 'zip', folder_to_zip)\n",
    "\n",
    "\n",
    "# Example usage\n",
    "folder_to_zip = '/kaggle/working/ComfyUI/output'\n",
    "output_zip = f'/kaggle/working/output_{datetime.now():%d%m%Y_%H%M}.zip'\n",
    "# zip_folder(folder_to_zip, output_zip)\n",
    "\n",
    "import shutil\n",
    "x_old = '/kaggle/working/old_output'\n",
    "os.makedirs(x_old,exist_ok=True)\n",
    "if os.path.exists(folder_to_zip):\n",
    "    for x in os.listdir(folder_to_zip):\n",
    "        try:\n",
    "            shutil.move(folder_to_zip +'/' + x, x_old)\n",
    "        except:\n",
    "            print(\"Fichier deja existant??\")"
   ]
  },
  {
   "cell_type": "raw",
   "id": "99ae0f3f",
   "metadata": {
    "papermill": {
     "duration": 0.019348,
     "end_time": "2025-03-10T13:44:44.800044",
     "exception": false,
     "start_time": "2025-03-10T13:44:44.780696",
     "status": "completed"
    },
    "tags": []
   },
   "source": []
  },
  {
   "cell_type": "raw",
   "id": "a6026772",
   "metadata": {
    "papermill": {
     "duration": 0.018885,
     "end_time": "2025-03-10T13:44:44.838259",
     "exception": false,
     "start_time": "2025-03-10T13:44:44.819374",
     "status": "completed"
    },
    "tags": []
   },
   "source": []
  },
  {
   "cell_type": "raw",
   "id": "82d2a464",
   "metadata": {
    "_cell_guid": "b1076dfc-b9ad-4769-8c92-a6c4dae69d19",
    "_uuid": "8f2839f25d086af736a60e9eeb907d3b93b6e0e5",
    "execution": {
     "iopub.execute_input": "2025-01-29T21:31:31.327093Z",
     "iopub.status.busy": "2025-01-29T21:31:31.326698Z",
     "iopub.status.idle": "2025-01-29T21:31:31.340334Z",
     "shell.execute_reply": "2025-01-29T21:31:31.33926Z",
     "shell.execute_reply.started": "2025-01-29T21:31:31.327058Z"
    },
    "papermill": {
     "duration": 0.020669,
     "end_time": "2025-03-10T13:44:44.878113",
     "exception": false,
     "start_time": "2025-03-10T13:44:44.857444",
     "status": "completed"
    },
    "tags": []
   },
   "source": [
    "def install_this(xthe_url):\n",
    "    import os\n",
    "    print(\"install \",xthe_url)\n",
    "    if not os.path.exists(\"/kaggle/working/ComfyUI/custom_nodes/\"):\n",
    "        os.makedirs(\"/kaggle/working/ComfyUI/custom_nodes/\")\n",
    "    \n",
    "    %cd /kaggle/working/ComfyUI/custom_nodes\n",
    "    xfolder =  xthe_url.split('/')[-1].replace('.git','')\n",
    "    if not os.path.exists(\"/kaggle/working/ComfyUI/custom_nodes/\" + xfolder):\n",
    "        get_ipython().system(f'git clone {xthe_url} --recursive')\n",
    "    \n",
    "    print(f\"{xfolder=}\")\n",
    "    %cd /kaggle/working/ComfyUI/custom_nodes/$xfolder\n",
    "    get_ipython().system('git pull --all')\n",
    "    if os.path.exists(\"requirements.txt\"):\n",
    "        !uv pip install --system -r requirements.txt --quiet  #-U --upgrade-strategy only-if-needed\n",
    "#     else :\n",
    "#         %pip install --quiet\n",
    "    print(\"DONE install \",xthe_url)"
   ]
  },
  {
   "cell_type": "raw",
   "id": "34aea104",
   "metadata": {
    "execution": {
     "iopub.execute_input": "2025-01-29T21:31:31.341658Z",
     "iopub.status.busy": "2025-01-29T21:31:31.341362Z",
     "iopub.status.idle": "2025-01-29T21:31:37.249379Z",
     "shell.execute_reply": "2025-01-29T21:31:37.248181Z",
     "shell.execute_reply.started": "2025-01-29T21:31:31.341635Z"
    },
    "jupyter": {
     "source_hidden": true
    },
    "papermill": {
     "duration": 0.020857,
     "end_time": "2025-03-10T13:44:44.919549",
     "exception": false,
     "start_time": "2025-03-10T13:44:44.898692",
     "status": "completed"
    },
    "tags": []
   },
   "source": [
    "update = True\n",
    "\n",
    "from os import path\n",
    "import os\n",
    "# if not path.exists(\"/kaggle/working/ComfyUI/\"):\n",
    "%cd /kaggle/working\n",
    "if not path.exists(\"/kaggle/working/ComfyUI/\"):\n",
    "    get_ipython().system(f'git clone https://github.com/comfyanonymous/ComfyUI.git')\n",
    "%cd ComfyUI\n",
    "if update:\n",
    "    get_ipython().system('git pull --all')\n",
    "!uv pip install --system  -r requirements.txt --quiet"
   ]
  },
  {
   "cell_type": "raw",
   "id": "9ffca371",
   "metadata": {
    "execution": {
     "iopub.execute_input": "2025-01-29T21:31:37.251088Z",
     "iopub.status.busy": "2025-01-29T21:31:37.25069Z",
     "iopub.status.idle": "2025-01-29T21:31:37.25863Z",
     "shell.execute_reply": "2025-01-29T21:31:37.25719Z",
     "shell.execute_reply.started": "2025-01-29T21:31:37.251052Z"
    },
    "papermill": {
     "duration": 0.019393,
     "end_time": "2025-03-10T13:44:44.958813",
     "exception": false,
     "start_time": "2025-03-10T13:44:44.939420",
     "status": "completed"
    },
    "tags": []
   },
   "source": [
    "import os\n",
    "if not os.path.exists(\"/kaggle/working/ComfyUI/models/LLM\"):\n",
    "    os.makedirs(\"/kaggle/working/ComfyUI/models/LLM\")\n",
    "if not os.path.exists(\"/kaggle/working/ComfyUI/models/pulid\"):\n",
    "    os.makedirs(\"/kaggle/working/ComfyUI/models/pulid\")\n",
    "if not os.path.exists(\"/kaggle/working/ComfyUI/models/clip_vision\"):\n",
    "    os.makedirs(\"/kaggle/working/ComfyUI/models/clip_vision\")    \n",
    "if not os.path.exists(\"/kaggle/working/ComfyUI/models/xlabs/contronets\"):\n",
    "    os.makedirs(\"/kaggle/working/ComfyUI/models/xlabs/contronets/\")"
   ]
  },
  {
   "cell_type": "raw",
   "id": "cd403d24",
   "metadata": {
    "execution": {
     "iopub.execute_input": "2025-01-22T13:48:35.705578Z",
     "iopub.status.busy": "2025-01-22T13:48:35.705218Z",
     "iopub.status.idle": "2025-01-22T13:48:35.824416Z",
     "shell.execute_reply": "2025-01-22T13:48:35.823341Z",
     "shell.execute_reply.started": "2025-01-22T13:48:35.705546Z"
    },
    "papermill": {
     "duration": 0.023108,
     "end_time": "2025-03-10T13:44:45.005622",
     "exception": false,
     "start_time": "2025-03-10T13:44:44.982514",
     "status": "completed"
    },
    "tags": []
   },
   "source": [
    "%rm -r /kaggle/working/ComfyUI/custom_nodes/ComfyUI-Easy-Use"
   ]
  },
  {
   "cell_type": "raw",
   "id": "79e4d62e",
   "metadata": {
    "execution": {
     "iopub.execute_input": "2025-01-29T21:31:37.263668Z",
     "iopub.status.busy": "2025-01-29T21:31:37.263387Z",
     "iopub.status.idle": "2025-01-29T21:32:29.595553Z",
     "shell.execute_reply": "2025-01-29T21:32:29.594538Z",
     "shell.execute_reply.started": "2025-01-29T21:31:37.263647Z"
    },
    "papermill": {
     "duration": 0.017865,
     "end_time": "2025-03-10T13:44:45.042078",
     "exception": false,
     "start_time": "2025-03-10T13:44:45.024213",
     "status": "completed"
    },
    "tags": []
   },
   "source": [
    "install_this(\"https://github.com/comfyanonymous/ComfyUI_bitsandbytes_NF4\")\n",
    "# Was node\n",
    "install_this('https://github.com/WASasquatch/was-node-suite-comfyui')\n",
    "# Rgthree\n",
    "install_this(\"https://github.com/rgthree/rgthree-comfy\")\n",
    "# REactor\n",
    "install_this(\"https://codeberg.org/Gourieff/comfyui-reactor-node\")\n",
    "# Comfyui noise\n",
    "install_this(\"https://github.com/BlenderNeko/ComfyUI_Noise\")\n",
    "# Comfyui impact\n",
    "install_this(\"https://github.com/ltdrdata/ComfyUI-Impact-Pack\")\n",
    "# pythongossss\n",
    "install_this(\"https://github.com/pythongosssss/ComfyUI-Custom-Scripts\")\n",
    "# Comfyui easy use\n",
    "install_this(\"https://github.com/yolain/ComfyUI-Easy-Use\")\n",
    "# KJNODES\n",
    "install_this(\"https://github.com/kijai/ComfyUI-KJNodes\") \n",
    "# Flux comfyui\n",
    "install_this(\"https://github.com/kijai/ComfyUI-Florence2\") \n",
    "install_this(\"https://github.com/XLabs-AI/x-flux-comfyui\") \n",
    "install_this(\"https://github.com/crystian/ComfyUI-Crystools\") \n",
    "install_this(\"https://github.com/city96/ComfyUI-GGUF\")\n",
    "\n",
    "install_this(\"https://github.com/cubiq/PuLID_ComfyUI\")\n",
    "install_this(\"https://github.com/cubiq/ComfyUI_InstantID\")\n",
    "install_this(\"https://github.com/cubiq/ComfyUI_IPAdapter_plus\")\n",
    "install_this(\"https://github.com/revirevy/Comfyui_saveimage_imgbb\")\n",
    "\n",
    "# install_this(\"https://github.com/ltdrdata/ComfyUI-Manager\")"
   ]
  },
  {
   "cell_type": "raw",
   "id": "6bfb95d7",
   "metadata": {
    "execution": {
     "iopub.execute_input": "2025-01-29T21:32:29.598044Z",
     "iopub.status.busy": "2025-01-29T21:32:29.597748Z",
     "iopub.status.idle": "2025-01-29T21:32:49.194375Z",
     "shell.execute_reply": "2025-01-29T21:32:49.193249Z",
     "shell.execute_reply.started": "2025-01-29T21:32:29.598019Z"
    },
    "papermill": {
     "duration": 0.018836,
     "end_time": "2025-03-10T13:44:45.079771",
     "exception": false,
     "start_time": "2025-03-10T13:44:45.060935",
     "status": "completed"
    },
    "tags": []
   },
   "source": [
    "for x in \"\"\"https://github.com/comfyanonymous/ComfyUI_experiments\n",
    "https://github.com/chengzeyi/Comfy-WaveSpeed\n",
    "    https://github.com/Fannovel16/comfyui_controlnet_aux\n",
    "    https://github.com/ShmuelRonen/ComfyUI-FreeMemory\n",
    "        https://github.com/jamesWalker55/comfyui-various\n",
    "            https://github.com/kijai/ComfyUI-SUPIR\n",
    "                https://github.com/klinter007/klinter_nodes\n",
    "    https://github.com/holchan/ComfyUI-ModelDownloader\n",
    "        https://github.com/KoreTeknology/ComfyUI-Universal-Styler\n",
    "            https://github.com/marduk191/ComfyUI-Fluxpromptenhancer\n",
    "                https://github.com/fairy-root/Flux-Prompt-Generator\n",
    "                    https://github.com/VykosX/ControlFlowUtils\n",
    "                        https://github.com/godmt/ComfyUI-List-Utils\"\"\".split(\"\\n\"):\n",
    "    install_this(x.strip())\n",
    "print(\"=\"*50,'ALL DONE','='*50,sep='\\n')"
   ]
  },
  {
   "cell_type": "raw",
   "id": "0d7aca2f",
   "metadata": {
    "execution": {
     "iopub.execute_input": "2025-01-29T21:32:49.196217Z",
     "iopub.status.busy": "2025-01-29T21:32:49.195751Z",
     "iopub.status.idle": "2025-01-29T21:32:54.670808Z",
     "shell.execute_reply": "2025-01-29T21:32:54.669741Z",
     "shell.execute_reply.started": "2025-01-29T21:32:49.196176Z"
    },
    "papermill": {
     "duration": 0.018213,
     "end_time": "2025-03-10T13:44:45.116203",
     "exception": false,
     "start_time": "2025-03-10T13:44:45.097990",
     "status": "completed"
    },
    "tags": []
   },
   "source": [
    "\n",
    "install_this(\"https://github.com/ltdrdata/ComfyUI-Manager\")"
   ]
  },
  {
   "cell_type": "raw",
   "id": "6b09b104",
   "metadata": {
    "execution": {
     "iopub.execute_input": "2025-01-29T21:32:54.672202Z",
     "iopub.status.busy": "2025-01-29T21:32:54.671908Z",
     "iopub.status.idle": "2025-01-29T21:32:57.512238Z",
     "shell.execute_reply": "2025-01-29T21:32:57.511124Z",
     "shell.execute_reply.started": "2025-01-29T21:32:54.672179Z"
    },
    "papermill": {
     "duration": 0.019382,
     "end_time": "2025-03-10T13:44:45.154157",
     "exception": false,
     "start_time": "2025-03-10T13:44:45.134775",
     "status": "completed"
    },
    "tags": []
   },
   "source": [
    "!ln -s  /kaggle/input/clip-gmp-vit-l-14/tensorflow2/default/1/model.safetensors    /kaggle/working/ComfyUI/models/clip/CLIP_gmp_VIT_L_14.safetensors\n",
    "\n",
    "# !ls -trahl  /kaggle/working/ComfyUI/models/vae\n",
    "\n",
    "# !ls -trahl  /kaggle/working/ComfyUI/models/clip/\n",
    "# !ls -ltrah /kaggle/input/\n",
    "\n",
    "!ln -s /kaggle/input/t5xxl_fp16.safetensors/tensorflow2/default/1/t5xxl_fp16.safetensors   /kaggle/working/ComfyUI/models/clip/t5xxl_fp16.safetensors\n",
    "!ln -s  /kaggle/input/flux-vae-safetensors/pytorch/default/1/ae.safetensors    /kaggle/working/ComfyUI/models/vae/FLuX_ae.safetensors\n",
    "\n",
    "# !aria2c --console-log-level=error -c -x 16 -s 16 -k 1M https://huggingface.co/camenduru/FLUX.1-dev/resolve/main/flux1-dev-fp8.safetensors -d /kaggle/working/ComfyUI/models/unet -o flux1-dev-fp8.safetensors\n",
    "# !ln -s /kaggle/input/flux/pytorch/flux.1-dev/1/flux1-dev.safetensors /kaggle/working/ComfyUI/models/unet/flux1-dev.safetensors\n",
    "# !aria2c --console-log-level=error -c -x 16 -s 16 -k 1M https://huggingface.co/camenduru/FLUX.1-dev/resolve/main/ae.sft -d /kaggle/working/ComfyUI/models/vae -o ae.sft\n",
    "# !aria2c --console-log-level=error -c -x 16 -s 16 -k 1M https://huggingface.co/camenduru/FLUX.1-dev/resolve/main/clip_l.safetensors -d /kaggle/working/ComfyUI/models/clip -o clip_l.safetensors\n",
    "# !aria2c --console-log-level=error -c -x 16 -s 16 -k 1M https://huggingface.co/camenduru/FLUX.1-dev/resolve/main/t5xxl_fp8_e4m3fn.safetensors -d /kaggle/working/ComfyUI/models/clip -o t5xxl_fp8_e4m3fn.safetensors\n",
    "!ln -s /kaggle/input/clip/pytorch/t5xxl_fp8_e4m3fn/1/t5xxl_fp8_e4m3fn.safetensors /kaggle/working/ComfyUI/models/clip/t5xxl_fp8_e4m3fn.safetensors\n",
    "# !ln -s  /kaggle/input/t5-fine-tuned/transformers/t5-2/1/model.safetensors    /kaggle/working/ComfyUI/models/clip/t5-2-model.safetensors\n",
    "# !ln -s /kaggle/input/t5xxl_fp16/tensorflow2/default/1/t5xxl_fp16.safetensors   /kaggle/working/ComfyUI/models/clip/t5xxl_fp16.safetensors\n",
    "\n",
    "# !ln -s  /kaggle/input/flan-t5/pytorch/large/3/model.safetensors             /kaggle/working/ComfyUI/models/clip/flan-t5-large-model.safetensors\n",
    "# !ln -s  /kaggle/input/clip-gpt2_t5/pytorch/1/1/net-cross-description.pt    /kaggle/working/ComfyUI/models/clip/net-cross-description.pt\n",
    "\n",
    "!ln -s /kaggle/input/florence2/transformers/default/1/Florence2_model_3/model.safetensors /kaggle/working/ComfyUI/models/LLM/Florence_model_3.safetensors\n",
    "!ln -s /kaggle/input/florence2/transformers/default/1/Florence2_model_2/model.safetensors /kaggle/working/ComfyUI/models/LLM/Florence_model_2.safetensors\n",
    "!ln -s /kaggle/input/controlnet/pytorch/flux-canny-controlnet/1/flux-canny-controlnet-v3.safetensors  /kaggle/working/ComfyUI/models/xlabs/contronets/flux-canny-controlnet-v3.safetensors\n",
    "!ln -s /kaggle/input/controlnet/pytorch/flux-depth-controlnet/1/flux-depth-controlnet-v3.safetensors  /kaggle/working/ComfyUI/models/xlabs/contronets/flux-depth-controlnet-v3.safetensors\n",
    "# !ln -s /kaggle/input/stable-diffusion-xl/pytorch/base-1-0/1/sd_xl_base_1.0_0.9vae.safetensors /kaggle/working/ComfyUI/models/checkpoints/sd_xl_base_1.0_0.9vae.safetensors\n",
    "\n",
    "!ln -s /kaggle/input/realvisxl-v50/pytorch/default/1/realvisxl-v50.safetensors  /kaggle/working/ComfyUI/models/checkpoints/realvisxl-v50.safetensors\n",
    "!ln -s /kaggle/input/realvisxl-v50/pytorch/default/2/SG161222_RealVisXL_V5_0_Lightning.safetensors  /kaggle/working/ComfyUI/models/checkpoints/SG161222_RealVisXL_V5_0_Lightning.safetensors\n",
    "# !ln -s /kaggle/input/stable-diffusion-xl/pytorch/base-1-0/1/sd_xl_base_1.0.safetensors /kaggle/working/ComfyUI/models/checkpoints/sd_xl_base_1.0.safetensors\n",
    "# !ln -s /kaggle/input/stoiqo-new-reality-flux-sd_f1d-pre-alpha/transformers/default/1/STOIQONewrealityFLUXSD_F1DPreAlpha.safetensors /kaggle/working/ComfyUI/models/checkpoints/STOIQONewrealityFLUXSD_F1DPreAlpha.safetensors\n",
    "!ln -s /kaggle/input/flux1devnf46stepsnsfw/pytorch/default/1/flux1DevNF46StepsNSFW_fluxdevFP86Steps.safetensors /kaggle/working/ComfyUI/models/checkpoints/flux1DevNF46StepsNSFW_fluxdevFP86Steps.safetensors\n",
    "!ln -s /kaggle/input/8stepscrearthyperfluxdevbnb_v24hyperdevfp8unet_/pytorch/default/1/8StepsCreartHyperFluxDevBnb_v24HyperDevFp8Unet.safetensors  /kaggle/working/ComfyUI/models/unet/8StepsCreartHyperFluxDevBnb_v24HyperDevFp8Unet.safetensors\n",
    "!ln -s /kaggle/input/creart-hyper-flux-dev-gguf-q4_0/gguf/default/1/CreArt-Hyper-Flux-Dev-gguf-q4_0.gguf /kaggle/working/ComfyUI/models/unet/CreArt-Hyper-Flux-Dev-gguf-q4_0.gguf\n",
    "!ln -s /kaggle/input/unet/gguf/flux1-dev-q4_k_s/1/flux1-dev-Q4_K_S.gguf /kaggle/working/ComfyUI/models/unet/flux1-dev-Q4_K_S.gguf\n",
    "!ln -s /kaggle/input/aldebodobasexl_v3mini/tensorflow2/default/1/albedobaseXL_v3Mini.safetensors /kaggle/working/ComfyUI/models/checkpoints/albedobaseXL_v3Mini.safetensors\n",
    "# /kaggle/input/aldebodobasexl_v3mini/tensorflow2/default/1/albedobaseXL_v3Mini.safetensors\n",
    "\n",
    "\n",
    "\n",
    "!ln -s /kaggle/input/alimama-flux-turbo-lora/pytorch/default/1/diffusion_pytorch_model.safetensors /kaggle/working/ComfyUI/models/loras/alimama-flux-turbo-lora.safetensors\n",
    "\n",
    "!ln -s /kaggle/input/fluxartfusion4steps_v12/pytorch/default/1/fluxArtfusion4Steps_v12.safetensors  /kaggle/working/ComfyUI/models/checkpoints/fluxArtfusion4Steps_v12.safetensors\n",
    "# !ln -s /kaggle/input/fluxartfusion4steps_v12/pytorch/default/1/fluxArtfusion4Steps_v12.safetensors\n",
    "\n",
    "\n",
    "for x in os.listdir(\"/kaggle/input/flux_loras/pytorch/default/1\"):\n",
    "    print(x)\n",
    "    !ln -s \"/kaggle/input/flux_loras/pytorch/default/1/$x\" \"/kaggle/working/ComfyUI/models/loras/$x\""
   ]
  },
  {
   "cell_type": "raw",
   "id": "f54d250d",
   "metadata": {
    "execution": {
     "iopub.execute_input": "2025-01-29T21:32:57.513778Z",
     "iopub.status.busy": "2025-01-29T21:32:57.513412Z",
     "iopub.status.idle": "2025-01-29T21:32:57.751268Z",
     "shell.execute_reply": "2025-01-29T21:32:57.750029Z",
     "shell.execute_reply.started": "2025-01-29T21:32:57.513743Z"
    },
    "papermill": {
     "duration": 0.018897,
     "end_time": "2025-03-10T13:44:45.192159",
     "exception": false,
     "start_time": "2025-03-10T13:44:45.173262",
     "status": "completed"
    },
    "tags": []
   },
   "source": [
    "#     /kaggle/input/t5_xxl_gguf_models/pytorch/default/1/t5-v1_1-xxl-encoder-Q8_0.gguf\n",
    "#     /kaggle/input/t5_xxl_gguf_models/pytorch/default/1/t5-v1_1-xxl-encoder-Q8_0.gguf\n",
    "for x in os.listdir(\"/kaggle/input/t5_xxl_gguf_models/pytorch/default/1/\"):\n",
    "    print(x)\n",
    "    !ln -s \"/kaggle/input/t5_xxl_gguf_models/pytorch/default/1/$x\" \"/kaggle/working/ComfyUI/models/clip/$x\""
   ]
  },
  {
   "cell_type": "raw",
   "id": "1363eff3",
   "metadata": {
    "execution": {
     "iopub.execute_input": "2025-01-29T21:32:57.75282Z",
     "iopub.status.busy": "2025-01-29T21:32:57.752541Z",
     "iopub.status.idle": "2025-01-29T21:33:00.51451Z",
     "shell.execute_reply": "2025-01-29T21:33:00.513469Z",
     "shell.execute_reply.started": "2025-01-29T21:32:57.752793Z"
    },
    "papermill": {
     "duration": 0.01945,
     "end_time": "2025-03-10T13:44:45.230469",
     "exception": false,
     "start_time": "2025-03-10T13:44:45.211019",
     "status": "completed"
    },
    "tags": []
   },
   "source": [
    "#     /kaggle/input/t5_xxl_gguf_models/pytorch/default/1/t5-v1_1-xxl-encoder-Q8_0.gguf\n",
    "#     /kaggle/input/t5_xxl_gguf_models/pytorch/default/1/t5-v1_1-xxl-encoder-Q8_0.gguf\n",
    "# /kaggle/input/sdxl_controlnets/pytorch/default/2\n",
    "os.makedirs('/kaggle/working/ComfyUI/models/ipadapter',exist_ok=True)\n",
    "os.makedirs('/kaggle/working/ComfyUI/models/controlnet',exist_ok=True)\n",
    "for x in os.listdir(\"/kaggle/input/sdxl_controlnets/pytorch/default/3/\"):\n",
    "    # !rm /kaggle/working/ComfyUI/models/controlnet/$x\n",
    "    print(x)\n",
    "    !ln -s \"/kaggle/input/sdxl_controlnets/pytorch/default/3/$x\" \"/kaggle/working/ComfyUI/models/controlnet/$x\"\n",
    "    if 'ip-adapter' in x:\n",
    "        !ln -s \"/kaggle/input/sdxl_controlnets/pytorch/default/3/$x\" \"/kaggle/working/ComfyUI/models/ipadapter/$x\""
   ]
  },
  {
   "cell_type": "raw",
   "id": "93d2a37c",
   "metadata": {
    "execution": {
     "iopub.execute_input": "2025-01-29T21:33:00.516174Z",
     "iopub.status.busy": "2025-01-29T21:33:00.515746Z",
     "iopub.status.idle": "2025-01-29T21:33:00.984774Z",
     "shell.execute_reply": "2025-01-29T21:33:00.983185Z",
     "shell.execute_reply.started": "2025-01-29T21:33:00.516139Z"
    },
    "papermill": {
     "duration": 0.018746,
     "end_time": "2025-03-10T13:44:45.267747",
     "exception": false,
     "start_time": "2025-03-10T13:44:45.249001",
     "status": "completed"
    },
    "tags": []
   },
   "source": [
    "for x in os.listdir(\"/kaggle/input/pulid-model/pytorch/default/3/\"):\n",
    "    print(x)\n",
    "    !ln -s \"/kaggle/input/pulid-model/pytorch/default/3/$x\" \"/kaggle/working/ComfyUI/models/pulid/$x\"\n",
    "\n",
    "\n",
    "# /kaggle/input/pulid-model/pytorch/default/3/ip-adapter_pulid_sdxl_fp16.safetensors\n",
    "# !ln -s /kaggle/input/pulid-model/pytorch/default/2/pulid_v1.bin /kaggle/working/ComfyUI/models/pulid/pulid_v1.bin\n",
    "# !ln -s /kaggle/input/pulid-model/pytorch/default/1/pulid_flux_v0.9.0.safetensors /kaggle/working/ComfyUI/models/pulid/pulid_flux_v0.9.0.safetensors\n",
    "!ln -s /kaggle/input/clip-vit/pytorch/h-14-laion2b-s32b-b79k/1/pytorch_model.bin  /kaggle/working/ComfyUI/models/clip_vision/clip_vit_h-14-laion2b-s32b-b79k.bin"
   ]
  },
  {
   "cell_type": "raw",
   "id": "05fdfe74",
   "metadata": {
    "execution": {
     "iopub.execute_input": "2025-01-29T21:33:00.986543Z",
     "iopub.status.busy": "2025-01-29T21:33:00.986197Z",
     "iopub.status.idle": "2025-01-29T21:33:01.107901Z",
     "shell.execute_reply": "2025-01-29T21:33:01.106819Z",
     "shell.execute_reply.started": "2025-01-29T21:33:00.986515Z"
    },
    "papermill": {
     "duration": 0.019216,
     "end_time": "2025-03-10T13:44:45.305985",
     "exception": false,
     "start_time": "2025-03-10T13:44:45.286769",
     "status": "completed"
    },
    "tags": []
   },
   "source": [
    "os.makedirs('/kaggle/working/ComfyUI/models/controlnet/instantid',exist_ok=True)\n",
    "!ln -s /kaggle/input/instant_id/pytorch/default/2/controlnet_instantid_model.safetensors /kaggle/working/ComfyUI/models/controlnet/instantid/LeInstantID_ControlNet_model.safetensors"
   ]
  },
  {
   "cell_type": "raw",
   "id": "5a2cda53",
   "metadata": {
    "execution": {
     "iopub.execute_input": "2025-01-29T21:33:01.109285Z",
     "iopub.status.busy": "2025-01-29T21:33:01.108973Z",
     "iopub.status.idle": "2025-01-29T21:33:01.462672Z",
     "shell.execute_reply": "2025-01-29T21:33:01.461316Z",
     "shell.execute_reply.started": "2025-01-29T21:33:01.10926Z"
    },
    "papermill": {
     "duration": 0.019045,
     "end_time": "2025-03-10T13:44:45.344207",
     "exception": false,
     "start_time": "2025-03-10T13:44:45.325162",
     "status": "completed"
    },
    "tags": []
   },
   "source": [
    "os.makedirs('/kaggle/working/ComfyUI/models/instantid/SDXL',exist_ok=True)\n",
    "!ln -s /kaggle/input/instant_id/pytorch/default/2/instantid-ip-adapter.bin /kaggle/working/ComfyUI/models/instantid/InstantID_ip_adapter.bin\n",
    "!ln -s /kaggle/input/instant_id/pytorch/default/2/instantid-ip-adapter.bin /kaggle/working/ComfyUI/models/instantid/ip_adapter.bin\n",
    "!ln -s /kaggle/input/instant_id/pytorch/default/2/instantid-ip-adapter.bin /kaggle/working/ComfyUI/models/instantid/SDXL/ip-adapter.bin"
   ]
  },
  {
   "cell_type": "raw",
   "id": "5e16dc4b",
   "metadata": {
    "execution": {
     "iopub.execute_input": "2025-01-29T21:33:01.464341Z",
     "iopub.status.busy": "2025-01-29T21:33:01.46406Z",
     "iopub.status.idle": "2025-01-29T21:33:01.935688Z",
     "shell.execute_reply": "2025-01-29T21:33:01.934464Z",
     "shell.execute_reply.started": "2025-01-29T21:33:01.464317Z"
    },
    "papermill": {
     "duration": 0.019707,
     "end_time": "2025-03-10T13:44:45.382957",
     "exception": false,
     "start_time": "2025-03-10T13:44:45.363250",
     "status": "completed"
    },
    "tags": []
   },
   "source": [
    "for x in os.listdir(\"/kaggle/input/pulid-model/pytorch/default/3/\"):\n",
    "    print(x)\n",
    "    !ln -s \"/kaggle/input/pulid-model/pytorch/default/3/$x\" \"/kaggle/working/ComfyUI/models/pulid/$x\"\n",
    "\n",
    "\n",
    "# /kaggle/input/pulid-model/pytorch/default/3/ip-adapter_pulid_sdxl_fp16.safetensors\n",
    "# !ln -s /kaggle/input/pulid-model/pytorch/default/2/pulid_v1.bin /kaggle/working/ComfyUI/models/pulid/pulid_v1.bin\n",
    "# !ln -s /kaggle/input/pulid-model/pytorch/default/1/pulid_flux_v0.9.0.safetensors /kaggle/working/ComfyUI/models/pulid/pulid_flux_v0.9.0.safetensors\n",
    "!ln -s /kaggle/input/clip-vit/pytorch/h-14-laion2b-s32b-b79k/1/pytorch_model.bin  /kaggle/working/ComfyUI/models/clip_vision/clip_vit_h-14-laion2b-s32b-b79k.bin"
   ]
  },
  {
   "cell_type": "raw",
   "id": "24ef10e4",
   "metadata": {
    "execution": {
     "iopub.execute_input": "2025-01-29T21:33:01.937366Z",
     "iopub.status.busy": "2025-01-29T21:33:01.937086Z",
     "iopub.status.idle": "2025-01-29T21:33:03.094521Z",
     "shell.execute_reply": "2025-01-29T21:33:03.093279Z",
     "shell.execute_reply.started": "2025-01-29T21:33:01.937342Z"
    },
    "papermill": {
     "duration": 0.018857,
     "end_time": "2025-03-10T13:44:45.421591",
     "exception": false,
     "start_time": "2025-03-10T13:44:45.402734",
     "status": "completed"
    },
    "tags": []
   },
   "source": [
    "#     /kaggle/input/t5_xxl_gguf_models/pytorch/default/1/t5-v1_1-xxl-encoder-Q8_0.gguf\n",
    "#     /kaggle/input/t5_xxl_gguf_models/pytorch/default/1/t5-v1_1-xxl-encoder-Q8_0.gguf\n",
    "# /kaggle/input/sdxl_controlnets/pytorch/default/2\n",
    "for x in os.listdir(\"/kaggle/input/controlnet-package-hsbd10/pytorch/default/4/\"):\n",
    "    print(x)\n",
    "    !ln -s \"/kaggle/input/controlnet-package-hsbd10/pytorch/default/4/$x\" \"/kaggle/working/ComfyUI/models/controlnet/$x\""
   ]
  },
  {
   "cell_type": "raw",
   "id": "a0545cf2",
   "metadata": {
    "execution": {
     "iopub.execute_input": "2025-01-29T21:33:03.096183Z",
     "iopub.status.busy": "2025-01-29T21:33:03.095857Z",
     "iopub.status.idle": "2025-01-29T21:33:03.333943Z",
     "shell.execute_reply": "2025-01-29T21:33:03.332772Z",
     "shell.execute_reply.started": "2025-01-29T21:33:03.096157Z"
    },
    "papermill": {
     "duration": 0.018157,
     "end_time": "2025-03-10T13:44:45.459042",
     "exception": false,
     "start_time": "2025-03-10T13:44:45.440885",
     "status": "completed"
    },
    "tags": []
   },
   "source": [
    "#     /kaggle/input/t5_xxl_gguf_models/pytorch/default/1/t5-v1_1-xxl-encoder-Q8_0.gguf\n",
    "#     /kaggle/input/t5_xxl_gguf_models/pytorch/default/1/t5-v1_1-xxl-encoder-Q8_0.gguf\n",
    "for x in os.listdir(\"/kaggle/input/t5_xxl_gguf_models/pytorch/default/1/\"):\n",
    "    print(x)\n",
    "    !ln -s \"/kaggle/input/t5_xxl_gguf_models/pytorch/default/1/$x\" \"/kaggle/working/ComfyUI/models/clip/$x\""
   ]
  },
  {
   "cell_type": "raw",
   "id": "80e67e3c",
   "metadata": {
    "execution": {
     "iopub.execute_input": "2025-01-29T21:33:03.3354Z",
     "iopub.status.busy": "2025-01-29T21:33:03.335118Z",
     "iopub.status.idle": "2025-01-29T21:33:05.414802Z",
     "shell.execute_reply": "2025-01-29T21:33:05.413503Z",
     "shell.execute_reply.started": "2025-01-29T21:33:03.335377Z"
    },
    "papermill": {
     "duration": 0.018287,
     "end_time": "2025-03-10T13:44:45.496410",
     "exception": false,
     "start_time": "2025-03-10T13:44:45.478123",
     "status": "completed"
    },
    "tags": []
   },
   "source": [
    "for x in os.listdir(\"/kaggle/input/4xnomosunidat_upscaler/pytorch/default/5/\"):\n",
    "    print(x)\n",
    "    !ln -s \"/kaggle/input/4xnomosunidat_upscaler/pytorch/default/5/$x\" \"/kaggle/working/ComfyUI/models/upscale_models/$x\"\n",
    "    "
   ]
  },
  {
   "cell_type": "raw",
   "id": "f0fc7a3e",
   "metadata": {
    "execution": {
     "iopub.execute_input": "2025-01-29T21:33:05.416419Z",
     "iopub.status.busy": "2025-01-29T21:33:05.416114Z",
     "iopub.status.idle": "2025-01-29T21:33:05.546349Z",
     "shell.execute_reply": "2025-01-29T21:33:05.545246Z",
     "shell.execute_reply.started": "2025-01-29T21:33:05.416393Z"
    },
    "papermill": {
     "duration": 0.021309,
     "end_time": "2025-03-10T13:44:45.545088",
     "exception": false,
     "start_time": "2025-03-10T13:44:45.523779",
     "status": "completed"
    },
    "tags": []
   },
   "source": [
    "%ls -ltrha /kaggle/working/ComfyUI/models/clip/"
   ]
  },
  {
   "cell_type": "raw",
   "id": "ea9c73f1",
   "metadata": {
    "execution": {
     "iopub.execute_input": "2025-01-29T21:33:05.547984Z",
     "iopub.status.busy": "2025-01-29T21:33:05.547661Z",
     "iopub.status.idle": "2025-01-29T21:33:05.677416Z",
     "shell.execute_reply": "2025-01-29T21:33:05.676477Z",
     "shell.execute_reply.started": "2025-01-29T21:33:05.547934Z"
    },
    "papermill": {
     "duration": 0.019442,
     "end_time": "2025-03-10T13:44:45.584074",
     "exception": false,
     "start_time": "2025-03-10T13:44:45.564632",
     "status": "completed"
    },
    "tags": []
   },
   "source": [
    "%%writefile /kaggle/working/ComfyUI/custom_nodes/ComfyUI-Manager/config.ini\n",
    "[default]\n",
    "preview_method = none\n",
    "badge_mode = none\n",
    "git_exe = \n",
    "channel_url = https://raw.githubusercontent.com/ltdrdata/ComfyUI-Manager/main\n",
    "share_option = all\n",
    "bypass_ssl = False\n",
    "file_logging = True\n",
    "default_ui = none\n",
    "component_policy = workflow\n",
    "double_click_policy = copy-all\n",
    "windows_selector_event_loop_policy = False\n",
    "model_download_by_agent = True\n",
    "downgrade_blacklist = \n",
    "security_level = normal-\n",
    "\n"
   ]
  },
  {
   "cell_type": "raw",
   "id": "41e8b35c",
   "metadata": {
    "execution": {
     "iopub.execute_input": "2025-01-29T21:33:05.681807Z",
     "iopub.status.busy": "2025-01-29T21:33:05.68145Z",
     "iopub.status.idle": "2025-01-29T21:33:06.337932Z",
     "shell.execute_reply": "2025-01-29T21:33:06.336687Z",
     "shell.execute_reply.started": "2025-01-29T21:33:05.68177Z"
    },
    "papermill": {
     "duration": 0.018883,
     "end_time": "2025-03-10T13:44:45.622174",
     "exception": false,
     "start_time": "2025-03-10T13:44:45.603291",
     "status": "completed"
    },
    "tags": []
   },
   "source": [
    "# Comfyui impact\n",
    "install_this(\"https://github.com/ltdrdata/ComfyUI-Impact-Pack\")"
   ]
  },
  {
   "cell_type": "raw",
   "id": "3ff57814",
   "metadata": {
    "execution": {
     "iopub.status.busy": "2024-11-20T10:53:34.626992Z",
     "iopub.status.idle": "2024-11-20T10:53:34.627295Z",
     "shell.execute_reply": "2024-11-20T10:53:34.627157Z",
     "shell.execute_reply.started": "2024-11-20T10:53:34.627142Z"
    },
    "papermill": {
     "duration": 0.019311,
     "end_time": "2025-03-10T13:44:45.660948",
     "exception": false,
     "start_time": "2025-03-10T13:44:45.641637",
     "status": "completed"
    },
    "tags": []
   },
   "source": [
    "!uv pip install insightface onnxruntime-gpu diffusers einops accelerate -q torch torchvision torchsde --system"
   ]
  },
  {
   "cell_type": "raw",
   "id": "d9d0f979",
   "metadata": {
    "execution": {
     "iopub.execute_input": "2025-01-29T21:40:23.301729Z",
     "iopub.status.busy": "2025-01-29T21:40:23.301388Z",
     "iopub.status.idle": "2025-01-29T21:40:33.318622Z",
     "shell.execute_reply": "2025-01-29T21:40:33.317184Z",
     "shell.execute_reply.started": "2025-01-29T21:40:23.301701Z"
    },
    "papermill": {
     "duration": 0.018527,
     "end_time": "2025-03-10T13:44:45.698743",
     "exception": false,
     "start_time": "2025-03-10T13:44:45.680216",
     "status": "completed"
    },
    "scrolled": true,
    "tags": []
   },
   "source": [
    "# Change directory to ComfyUI\n",
    "import os, subprocess, time\n",
    "os.chdir(\"/kaggle/working/ComfyUI/\")\n",
    "\n",
    "# Launch ComfyUI instances\n",
    "xP1 = subprocess.Popen([\"python\", \"main.py\", \"--cuda-device\", \"0\", \"--port\", \"8188\",\"--highvram\",])\n",
    "time.sleep(10)"
   ]
  },
  {
   "cell_type": "raw",
   "id": "9eb4ed8f",
   "metadata": {
    "execution": {
     "iopub.execute_input": "2025-01-29T21:40:08.695188Z",
     "iopub.status.busy": "2025-01-29T21:40:08.694462Z",
     "iopub.status.idle": "2025-01-29T21:40:18.712786Z",
     "shell.execute_reply": "2025-01-29T21:40:18.711739Z",
     "shell.execute_reply.started": "2025-01-29T21:40:08.695137Z"
    },
    "papermill": {
     "duration": 0.019086,
     "end_time": "2025-03-10T13:44:45.736492",
     "exception": false,
     "start_time": "2025-03-10T13:44:45.717406",
     "status": "completed"
    },
    "scrolled": true,
    "tags": []
   },
   "source": [
    "os.chdir(\"/kaggle/working/ComfyUI/\")\n",
    "xP2= subprocess.Popen([\"python\", \"main.py\", \"--cuda-device\", \"1\", \"--port\", \"8189\",\"--highvram\"])\n",
    "time.sleep(10)\n",
    "# subprocess.Popen([\"./limit_ram.sh\",\"python\", \"main.py\", \"--cuda-device\", \"0\", \"--port\", \"8188\"])\n",
    "# subprocess.Popen([\"./limit_ram.sh\",\"python\", \"main.py\", \"--cuda-device\", \"1\", \"--port\", \"8189\"])\n",
    "\n",
    "# time.sleep(30)"
   ]
  },
  {
   "cell_type": "raw",
   "id": "ef84956a",
   "metadata": {
    "execution": {
     "iopub.execute_input": "2025-01-29T21:33:26.373911Z",
     "iopub.status.busy": "2025-01-29T21:33:26.373674Z",
     "iopub.status.idle": "2025-01-29T21:33:27.524172Z",
     "shell.execute_reply": "2025-01-29T21:33:27.522947Z",
     "shell.execute_reply.started": "2025-01-29T21:33:26.373891Z"
    },
    "papermill": {
     "duration": 0.019567,
     "end_time": "2025-03-10T13:44:45.775768",
     "exception": false,
     "start_time": "2025-03-10T13:44:45.756201",
     "status": "completed"
    },
    "tags": []
   },
   "source": [
    "os.chdir(\"/kaggle/working/ComfyUI/\")\n",
    "if  not os.path.exists('/kaggle/working/ComfyUI/playit-linux-amd64'):\n",
    "    !wget https://github.com/playit-cloud/playit-agent/releases/download/v0.15.26/playit-linux-amd64\n",
    "!chmod 777 /kaggle/working/ComfyUI/playit-linux-amd64\n",
    "\n",
    "!ls -ltrha play*"
   ]
  },
  {
   "cell_type": "raw",
   "id": "a850090a",
   "metadata": {
    "execution": {
     "iopub.execute_input": "2025-01-29T21:33:27.526108Z",
     "iopub.status.busy": "2025-01-29T21:33:27.525641Z",
     "iopub.status.idle": "2025-01-29T21:33:27.762168Z",
     "shell.execute_reply": "2025-01-29T21:33:27.761091Z",
     "shell.execute_reply.started": "2025-01-29T21:33:27.526066Z"
    },
    "papermill": {
     "duration": 0.018669,
     "end_time": "2025-03-10T13:44:45.814055",
     "exception": false,
     "start_time": "2025-03-10T13:44:45.795386",
     "status": "completed"
    },
    "tags": []
   },
   "source": [
    "# !wget https://github.com/playit-cloud/playit-agent/releases/download/v0.15.26/playit-linux-amd64 -q\n",
    "!chmod +x ./playit-linux-amd64 \n",
    "!./playit-linux-amd64  --help"
   ]
  },
  {
   "cell_type": "raw",
   "id": "7b60e698",
   "metadata": {
    "execution": {
     "iopub.execute_input": "2025-01-29T21:33:27.763666Z",
     "iopub.status.busy": "2025-01-29T21:33:27.7633Z",
     "iopub.status.idle": "2025-01-29T21:33:27.772904Z",
     "shell.execute_reply": "2025-01-29T21:33:27.771941Z",
     "shell.execute_reply.started": "2025-01-29T21:33:27.763616Z"
    },
    "papermill": {
     "duration": 0.018526,
     "end_time": "2025-03-10T13:44:45.852335",
     "exception": false,
     "start_time": "2025-03-10T13:44:45.833809",
     "status": "completed"
    },
    "tags": []
   },
   "source": [
    "os.makedirs(\"/kaggle/working/ComfyUI/logs\",exist_ok=True)\n",
    "subprocess.Popen(\"nohup /kaggle/working/ComfyUI/playit-linux-amd64   >> /kaggle/working/ComfyUI/logs/playit.log 2>&1 & echo 'done' \",bufsize=0,shell=True)"
   ]
  },
  {
   "cell_type": "raw",
   "id": "d0df3760",
   "metadata": {
    "execution": {
     "iopub.execute_input": "2025-01-29T21:33:27.774355Z",
     "iopub.status.busy": "2025-01-29T21:33:27.773996Z",
     "iopub.status.idle": "2025-01-29T21:33:30.902526Z",
     "shell.execute_reply": "2025-01-29T21:33:30.900894Z",
     "shell.execute_reply.started": "2025-01-29T21:33:27.774317Z"
    },
    "papermill": {
     "duration": 0.019042,
     "end_time": "2025-03-10T13:44:45.890103",
     "exception": false,
     "start_time": "2025-03-10T13:44:45.871061",
     "status": "completed"
    },
    "tags": []
   },
   "source": [
    "time.sleep(3)\n",
    "!tail -n 20 /kaggle/working/ComfyUI/logs/playit.log"
   ]
  },
  {
   "cell_type": "raw",
   "id": "b1daba89",
   "metadata": {
    "execution": {
     "iopub.execute_input": "2025-02-12T19:50:06.091234Z",
     "iopub.status.busy": "2025-02-12T19:50:06.090757Z",
     "iopub.status.idle": "2025-02-12T19:50:06.7272Z",
     "shell.execute_reply": "2025-02-12T19:50:06.726216Z",
     "shell.execute_reply.started": "2025-02-12T19:50:06.091199Z"
    },
    "papermill": {
     "duration": 0.018937,
     "end_time": "2025-03-10T13:44:45.929790",
     "exception": false,
     "start_time": "2025-03-10T13:44:45.910853",
     "status": "completed"
    },
    "tags": []
   },
   "source": [
    "%cp /kaggle/working/ComfyUI/models/insightface/models/antelopev2/antelopev2/* /kaggle/working/ComfyUI/models/insightface/models/antelopev2/ -v"
   ]
  },
  {
   "cell_type": "raw",
   "id": "9c7ad412",
   "metadata": {
    "execution": {
     "iopub.execute_input": "2025-02-12T19:51:36.941024Z",
     "iopub.status.busy": "2025-02-12T19:51:36.940631Z",
     "iopub.status.idle": "2025-02-12T19:51:37.063519Z",
     "shell.execute_reply": "2025-02-12T19:51:37.062486Z",
     "shell.execute_reply.started": "2025-02-12T19:51:36.940994Z"
    },
    "papermill": {
     "duration": 0.019275,
     "end_time": "2025-03-10T13:44:45.968516",
     "exception": false,
     "start_time": "2025-03-10T13:44:45.949241",
     "status": "completed"
    },
    "tags": []
   },
   "source": [
    "%ls /kaggle/working/ComfyUI/models/insightface/models -ltrha"
   ]
  },
  {
   "cell_type": "raw",
   "id": "1128fc8e",
   "metadata": {
    "execution": {
     "iopub.execute_input": "2025-01-29T21:40:40.010313Z",
     "iopub.status.busy": "2025-01-29T21:40:40.009849Z",
     "iopub.status.idle": "2025-01-29T21:40:40.140421Z",
     "shell.execute_reply": "2025-01-29T21:40:40.138818Z",
     "shell.execute_reply.started": "2025-01-29T21:40:40.010273Z"
    },
    "papermill": {
     "duration": 0.018458,
     "end_time": "2025-03-10T13:44:46.008888",
     "exception": false,
     "start_time": "2025-03-10T13:44:45.990430",
     "status": "completed"
    },
    "tags": []
   },
   "source": [
    "!ps fx"
   ]
  },
  {
   "cell_type": "code",
   "execution_count": 9,
   "id": "f519f7f7",
   "metadata": {
    "execution": {
     "iopub.execute_input": "2025-03-10T13:44:46.053514Z",
     "iopub.status.busy": "2025-03-10T13:44:46.053004Z",
     "iopub.status.idle": "2025-03-10T13:44:46.077252Z",
     "shell.execute_reply": "2025-03-10T13:44:46.070166Z"
    },
    "papermill": {
     "duration": 0.052068,
     "end_time": "2025-03-10T13:44:46.080057",
     "exception": false,
     "start_time": "2025-03-10T13:44:46.027989",
     "status": "completed"
    },
    "tags": []
   },
   "outputs": [
    {
     "name": "stdout",
     "output_type": "stream",
     "text": [
      "========== Executed  2025-03-10 13:44:46.058820Scheduler started in background. It will execute the first cell every 1 minutes.\n",
      " ==========\n"
     ]
    }
   ],
   "source": [
    "import threading\n",
    "import time,datetime\n",
    "from IPython.core.getipython import get_ipython\n",
    "\n",
    "def execute_first_cell():\n",
    "    print(\"=\"*10,\"Executed \",datetime.datetime.today(),\"=\"*10)\n",
    "    get_ipython().run_cell(get_ipython().user_ns['In'][1])\n",
    "    print(\"=\"*60)\n",
    "def scheduler():\n",
    "    while True:\n",
    "        execute_first_cell()\n",
    "        time.sleep(60)  # 600 seconds = 10 minutes\n",
    "\n",
    "# Start the scheduler in a separate thread\n",
    "scheduler_thread = threading.Thread(target=scheduler)\n",
    "scheduler_thread.daemon = True  # This allows the thread to be terminated when the main program exits\n",
    "scheduler_thread.start()\n",
    "\n",
    "print(\"Scheduler started in background. It will execute the first cell every 1 minutes.\")\n"
   ]
  },
  {
   "cell_type": "raw",
   "id": "832e1242",
   "metadata": {
    "execution": {
     "iopub.execute_input": "2025-01-29T21:36:45.693851Z",
     "iopub.status.busy": "2025-01-29T21:36:45.693306Z",
     "iopub.status.idle": "2025-01-29T21:36:45.937408Z",
     "shell.execute_reply": "2025-01-29T21:36:45.936408Z",
     "shell.execute_reply.started": "2025-01-29T21:36:45.693813Z"
    },
    "papermill": {
     "duration": 0.033702,
     "end_time": "2025-03-10T13:44:46.149806",
     "exception": false,
     "start_time": "2025-03-10T13:44:46.116104",
     "status": "completed"
    },
    "tags": []
   },
   "source": [
    "!python main.py --help"
   ]
  },
  {
   "cell_type": "code",
   "execution_count": 10,
   "id": "9dabb62a",
   "metadata": {
    "execution": {
     "iopub.execute_input": "2025-03-10T13:44:46.220268Z",
     "iopub.status.busy": "2025-03-10T13:44:46.219800Z",
     "iopub.status.idle": "2025-03-10T13:44:46.372346Z",
     "shell.execute_reply": "2025-03-10T13:44:46.370928Z"
    },
    "papermill": {
     "duration": 0.190243,
     "end_time": "2025-03-10T13:44:46.374518",
     "exception": false,
     "start_time": "2025-03-10T13:44:46.184275",
     "status": "completed"
    },
    "tags": []
   },
   "outputs": [
    {
     "name": "stdout",
     "output_type": "stream",
     "text": [
      "============================================================\n",
      "curl: (7) Failed to connect to localhost port 8188 after 0 ms: Connection refused\r\n"
     ]
    }
   ],
   "source": [
    "!curl http://localhost:8188/api"
   ]
  },
  {
   "cell_type": "code",
   "execution_count": null,
   "id": "a3449624",
   "metadata": {
    "papermill": {
     "duration": 0.036504,
     "end_time": "2025-03-10T13:44:46.446711",
     "exception": false,
     "start_time": "2025-03-10T13:44:46.410207",
     "status": "completed"
    },
    "tags": []
   },
   "outputs": [],
   "source": []
  },
  {
   "cell_type": "code",
   "execution_count": null,
   "id": "d04bbbb5",
   "metadata": {
    "papermill": {
     "duration": 0.035763,
     "end_time": "2025-03-10T13:44:46.518322",
     "exception": false,
     "start_time": "2025-03-10T13:44:46.482559",
     "status": "completed"
    },
    "tags": []
   },
   "outputs": [],
   "source": []
  },
  {
   "cell_type": "code",
   "execution_count": null,
   "id": "fc704d83",
   "metadata": {
    "papermill": {
     "duration": 0.031349,
     "end_time": "2025-03-10T13:44:46.586048",
     "exception": false,
     "start_time": "2025-03-10T13:44:46.554699",
     "status": "completed"
    },
    "tags": []
   },
   "outputs": [],
   "source": []
  },
  {
   "cell_type": "code",
   "execution_count": null,
   "id": "a8d74716",
   "metadata": {
    "papermill": {
     "duration": 0.020272,
     "end_time": "2025-03-10T13:44:46.628261",
     "exception": false,
     "start_time": "2025-03-10T13:44:46.607989",
     "status": "completed"
    },
    "tags": []
   },
   "outputs": [],
   "source": []
  },
  {
   "cell_type": "code",
   "execution_count": null,
   "id": "439299dc",
   "metadata": {
    "papermill": {
     "duration": 0.019123,
     "end_time": "2025-03-10T13:44:46.667910",
     "exception": false,
     "start_time": "2025-03-10T13:44:46.648787",
     "status": "completed"
    },
    "tags": []
   },
   "outputs": [],
   "source": []
  },
  {
   "cell_type": "code",
   "execution_count": null,
   "id": "082abf86",
   "metadata": {
    "papermill": {
     "duration": 0.021855,
     "end_time": "2025-03-10T13:44:46.710353",
     "exception": false,
     "start_time": "2025-03-10T13:44:46.688498",
     "status": "completed"
    },
    "tags": []
   },
   "outputs": [],
   "source": []
  },
  {
   "cell_type": "code",
   "execution_count": null,
   "id": "8dfe555e",
   "metadata": {
    "papermill": {
     "duration": 0.020706,
     "end_time": "2025-03-10T13:44:46.752446",
     "exception": false,
     "start_time": "2025-03-10T13:44:46.731740",
     "status": "completed"
    },
    "tags": []
   },
   "outputs": [],
   "source": []
  },
  {
   "cell_type": "code",
   "execution_count": null,
   "id": "d57e816e",
   "metadata": {
    "papermill": {
     "duration": 0.018716,
     "end_time": "2025-03-10T13:44:46.790173",
     "exception": false,
     "start_time": "2025-03-10T13:44:46.771457",
     "status": "completed"
    },
    "tags": []
   },
   "outputs": [],
   "source": []
  },
  {
   "cell_type": "code",
   "execution_count": null,
   "id": "ca99382f",
   "metadata": {
    "papermill": {
     "duration": 0.018903,
     "end_time": "2025-03-10T13:44:46.827337",
     "exception": false,
     "start_time": "2025-03-10T13:44:46.808434",
     "status": "completed"
    },
    "tags": []
   },
   "outputs": [],
   "source": []
  },
  {
   "cell_type": "code",
   "execution_count": null,
   "id": "eada71fa",
   "metadata": {
    "papermill": {
     "duration": 0.019519,
     "end_time": "2025-03-10T13:44:46.866163",
     "exception": false,
     "start_time": "2025-03-10T13:44:46.846644",
     "status": "completed"
    },
    "tags": []
   },
   "outputs": [],
   "source": []
  },
  {
   "attachments": {},
   "cell_type": "raw",
   "id": "4b7fe36c",
   "metadata": {
    "execution": {
     "iopub.status.busy": "2024-11-23T16:16:25.174209Z",
     "iopub.status.idle": "2024-11-23T16:16:25.174475Z",
     "shell.execute_reply": "2024-11-23T16:16:25.174355Z",
     "shell.execute_reply.started": "2024-11-23T16:16:25.174342Z"
    },
    "papermill": {
     "duration": 0.021404,
     "end_time": "2025-03-10T13:44:46.908130",
     "exception": false,
     "start_time": "2025-03-10T13:44:46.886726",
     "status": "completed"
    },
    "tags": []
   },
   "source": [
    "!ln -s /kaggle/input/realvisxl-v50/pytorch/default/1/realvisxl-v50.safetensors  /kaggle/working/ComfyUI/models/checkpoints/realvisxl-v50\n",
    "\n",
    "!du --max-depth 1 /kaggle/working/ComfyUI/models/ -lc | sort -k1 -n\n",
    "\n",
    "!ls -ltrha  /kaggle/working/ComfyUI/models/ipadapter/ #-lc | sort -k1 -n\n",
    "# !rm /kaggle/working/ComfyUI/models/ipadapter/ip-adapter-faceid-plusv2_sdxl.bin #/kaggle/working/ComfyUI/models/instantid/SDXL/ip-adapter.bin\n",
    "\n",
    "!ls -ltrha  /kaggle/working/ComfyUI/models/facerestore_models #-lc | sort -k1 -n\n",
    "\n",
    "# !rm /kaggle/working/ComfyUI/models/facerestore_models/*\n",
    "\n",
    "from IPython.display import display, HTML, FileLink\n",
    "\n",
    "display(HTML(\"<style>.container { width:100% !important; }</style>\"))\n",
    "from IPython.display import display, HTML\n",
    "\n",
    "display(HTML(\"<style>.output_area pre { white-space: pre-wrap; }</style>\"))\n",
    "os.chdir(\"/kaggle/working/\")\n",
    "display(FileLink('output_18112024_1959.zip.zip'))\n",
    "os.chdir(\"/kaggle/working/ComfyUI/\")\n",
    "\n",
    "!ps fax \n",
    "\n",
    " # !mkdir /kaggle/working/ComfyUI/logs\n",
    "\n",
    "# !rm playit-linux-amd64*\n",
    "\n",
    "os.chdir(\"/kaggle/working/ComfyUI/\")\n",
    "if  not os.path.exists('/kaggle/working/ComfyUI/playit-linux-amd64'):\n",
    "    !wget https://github.com/playit-cloud/playit-agent/releases/download/v0.15.26/playit-linux-amd64\n",
    "!chmod 777 /kaggle/working/ComfyUI/playit-linux-amd64\n",
    "\n",
    "!ls -ltrha play*\n",
    "\n",
    "# !wget https://github.com/playit-cloud/playit-agent/releases/download/v0.15.26/playit-linux-amd64 -q\n",
    "!chmod +x ./playit-linux-amd64 \n",
    "!./playit-linux-amd64  --help\n",
    "\n",
    "subprocess.Popen(\"nohup /kaggle/working/ComfyUI/playit-linux-amd64   >> /kaggle/working/ComfyUI/logs/playit.log 2>&1 & echo 'done' \",bufsize=0,shell=True)\n",
    "\n",
    "!tail -n 20 /kaggle/working/ComfyUI/logs/playit.log\n",
    "\n",
    "!ps fax\n",
    "\n",
    "\n",
    "\n",
    "\n",
    "\n",
    "# !rm /kaggle/working/ComfyUI/models/controlnet/*\n",
    "\n",
    "!ls -trha /kaggle/input/sdxl_controlnets/pytorch/default/2\n",
    "\n",
    "\n",
    "!ls -ltrha /kaggle/working/ComfyUI/models/controlnet\n",
    "\n",
    "!ls -ltrha /kaggle/working/ComfyUI/models/controlnet/SDXL\n",
    "\n",
    "!rm /kaggle/working/ComfyUI/models/controlnet/OpenPoseXL2.safetensors\n",
    "!rm /kaggle/working/ComfyUI/models/controlnet/depth-zoe-xl-v1.0-controlnet.safetensors\n",
    "\n",
    "\n",
    "\n",
    "\n",
    "\n",
    "!kill 1471\n",
    "\n",
    "\n",
    "\n",
    "# !wget https://github.com/playit-cloud/playit-agent/releases/download/v0.15.26/playit-linux-amd64 -q\n",
    "!chmod +x ./playit-linux-amd64 \n",
    "!./playit-linux-amd64  --help\n",
    "\n",
    "subprocess.Popen([\"/kaggle/working/ComfyUI/playit-linux-amd64\",\"-l\",\"playit.log\"],shell=True)\n",
    "\n",
    "!ps fax\n",
    "\n",
    "!df -h\n",
    "\n",
    "!df -h /kaggle/working\n",
    "\n",
    "!du --help\n",
    "\n",
    "!du -h -d1  /kaggle/working/ComfyUI/models | sort -k1\n",
    "\n",
    "!du -h   /kaggle/working/ComfyUI/models/controlnet | sort -k1\n",
    "\n",
    "!rm /kaggle/working/ComfyUI/models/controlnet/SDXL/controlnet-tile-sdxl-1.0/ -r\n",
    "\n",
    "\n",
    "!sudo apt install net-tools -q\n",
    "\n",
    "!netstat -nltp\n",
    "\n",
    "!kill 1059 1146 1159 1177 \n",
    "\n",
    "\n",
    "\n",
    "\n",
    "\n",
    "!./playit-linux-amd64 \n",
    "\n",
    "subprocess.run(\"/kaggle/working/ComfyUI/playit-linux-amd64 tunnels list &\",shell=True)\n",
    "\n",
    "port=8188\n",
    "command = f\"cd /kaggle/working/ComfyUI/ ; nohup /kaggle/working/ComfyUI/playit-linux-amd64 start >> nohup{port}.out 2>&1 & echo $!\"\n",
    "p = subprocess.Popen(command, shell=True, stdout=subprocess.PIPE)\n",
    "\n",
    "for line in p.stdout:\n",
    "    print(line.decode(), end='')\n",
    "\n",
    "port=8189\n",
    "command = f\"nohup ./playit-linux-amd64 >> nohup{port}.out 2>&1 & echo $!\"\n",
    "p = subprocess.Popen(command, shell=True, stdout=subprocess.PIPE)\n",
    "\n",
    "for line in p.stdout:\n",
    "    print(line.decode(), end='')\n",
    "\n",
    "!kill 1405 1415  1417 1419 1403 1425\n",
    "\n",
    "!ps fax\n",
    "\n",
    "## os.chdir(\"/kaggle/working/ComfyUI/\")\n",
    "subprocess.run(\"tail -f nohup8188.out &\",shell=True)\n",
    "\n",
    "\n",
    "\n",
    "\n",
    "\n",
    "\n",
    "\n",
    "\n",
    "\n",
    "\n",
    "\n",
    "import subprocess,os\n",
    "import threading\n",
    "import time\n",
    "import socket\n",
    "import urllib.request\n",
    "\n",
    "get_ipython().system(\"npm install -g npm\")\n",
    "get_ipython().system(\"npm install -g localtunnel\")\n",
    "\n",
    "# Change directory to ComfyUI\n",
    "os.chdir(\"/kaggle/working/ComfyUI/\")\n",
    "\n",
    "# Launch ComfyUI instances\n",
    "xP1 = subprocess.Popen([\"python\", \"main.py\", \"--cuda-device\", \"0\", \"--port\", \"8188\",\"--highvram\"])\n",
    "time.sleep(30)\n",
    "\n",
    "xP2= subprocess.Popen([\"python\", \"main.py\", \"--cuda-device\", \"1\", \"--port\", \"8189\",\"--highvram\"])\n",
    "time.sleep(30)\n",
    "# subprocess.Popen([\"./limit_ram.sh\",\"python\", \"main.py\", \"--cuda-device\", \"0\", \"--port\", \"8188\"])\n",
    "# subprocess.Popen([\"./limit_ram.sh\",\"python\", \"main.py\", \"--cuda-device\", \"1\", \"--port\", \"8189\"])\n",
    "\n",
    "# time.sleep(30)\n",
    "\n",
    "!kill 2176 2179  2178 2181\n",
    "\n",
    "!ps fax\n",
    "\n",
    "\n",
    "\n",
    "!wget https://github.com/playit-cloud/playit-agent/releases/download/v0.15.26/playit-linux-amd64\n",
    "\n",
    "!chmod +x ./playit-linux-amd64 \n",
    "\n",
    "!./playit-linux-amd64 tunnels list\n",
    "\n",
    "!./playit-linux-amd64 --help\n",
    "\n",
    "!ssh -R 80:localhost:8188 localhost.run\n",
    "\n",
    "!openssl version\n",
    "\n",
    "!ssh -p 443 -R0:localhost:8000 -L4300:localhost:4300 qr@a.pinggy.io\n",
    "\n",
    "\n",
    "\n",
    "!lt --help\n",
    "\n",
    "def iframe_thread(port):\n",
    "  while True:\n",
    "      time.sleep(0.5)\n",
    "      sock = socket.socket(socket.AF_INET, socket.SOCK_STREAM)\n",
    "      result = sock.connect_ex(('127.0.0.1', port))\n",
    "      if result == 0:\n",
    "        break\n",
    "      sock.close()\n",
    "  print(\"\\nComfyUI finished loading, trying to launch localtunnel (if it gets stuck here localtunnel is having issues)\\n\")\n",
    "\n",
    "  print(\"The password/enpoint ip for localtunnel is:\", urllib.request.urlopen('https://ipv4.icanhazip.com').read().decode('utf8').strip(\"\\n\"))\n",
    "#   p = subprocess.Popen([\"lt\", \"--port\", \"{}\".format(port)], stdout=subprocess.PIPE)\n",
    "  command = f\"nohup lt --port {port} --allow-invalid-cert --print-requests >> nohup{port}.out 2>&1 & echo $!\"\n",
    "  p = subprocess.Popen(command, shell=True, stdout=subprocess.PIPE)\n",
    "  \n",
    "  for line in p.stdout:\n",
    "    print(line.decode(), end='')\n",
    "\n",
    "\n",
    "# threading.Thread(target=iframe_thread, daemon=True, args=(8188,8189,)).start()\n",
    "# %cd /kaggle/working/ComfyUI/\n",
    "# # threading.Thread(target=iframe_thread, daemon=True, args=(8189,)).start()\n",
    "# !python main.py  --cuda-device 0 --port 8188; python main.py --cuda-device 1 --port 8189\n",
    "# # --dont-print-server\n",
    "\n",
    "# Start threads for both ports\n",
    "xT1 =threading.Thread(target=iframe_thread, daemon=True, args=(8188,))\n",
    "xT1.start()\n",
    "xT2 = threading.Thread(target=iframe_thread, daemon=True, args=(8189,)) #.start()\n",
    "xT2.start()\n",
    "\n",
    "subprocess.run(\"tail -f nohup8188.out &\",shell=True)\n",
    "\n",
    "subprocess.run(\"tail -f nohup8189.out &\",shell=True)\n",
    "\n",
    "\n",
    "\n",
    "\n",
    "\n",
    "\n",
    "\n",
    "!curl -O https://install.tunnelmole.com/xD345/install && sudo bash install\n",
    "\n",
    "port=8188\n",
    "command = f\"nohup tmole {port} >> nohup{port}.out 2>&1 & echo $!\"\n",
    "p = subprocess.Popen(command, shell=True, stdout=subprocess.PIPE)\n",
    "\n",
    "\n",
    "!ps fax\n",
    "\n",
    "!tail -f nohup8188.out\n",
    "\n",
    "subprocess.run(\"tail -f nohup8188.out &\",shell=True)\n",
    "\n",
    "port=8189\n",
    "command = f\"nohup tmole {port} >> nohup{port}.out 2>&1 & echo $!\"\n",
    "p2 = subprocess.Popen(command, shell=True, stdout=subprocess.PIPE)\n",
    "\n",
    "\n",
    "subprocess.run(\"tail -f nohup8189.out &\",shell=True)\n",
    "\n",
    "\n",
    "\n",
    "%ls /kaggle/working/old_output \n",
    "\n",
    "\n",
    "\n",
    "def iframe_thread(port):\n",
    "  while True:\n",
    "      time.sleep(0.5)\n",
    "      sock = socket.socket(socket.AF_INET, socket.SOCK_STREAM)\n",
    "      result = sock.connect_ex(('127.0.0.1', port))\n",
    "      if result == 0:\n",
    "        break\n",
    "      sock.close()\n",
    "  print(\"\\nComfyUI finished loading, trying to launch localtunnel (if it gets stuck here localtunnel is having issues)\\n\")\n",
    "\n",
    "  print(\"The password/enpoint ip for localtunnel is:\", urllib.request.urlopen('https://ipv4.icanhazip.com').read().decode('utf8').strip(\"\\n\"))\n",
    "#   p = subprocess.Popen([\"lt\", \"--port\", \"{}\".format(port)], stdout=subprocess.PIPE)\n",
    "  command = f\"nohup lt --port {port} --print-requests >> nohup{port}.out 2>&1 & echo $!\"\n",
    "  p = subprocess.Popen(command, shell=True, stdout=subprocess.PIPE)\n",
    "  \n",
    "  for line in p.stdout:\n",
    "    print(line.decode(), end='')\n",
    "\n",
    "\n",
    "# threading.Thread(target=iframe_thread, daemon=True, args=(8188,8189,)).start()\n",
    "# %cd /kaggle/working/ComfyUI/\n",
    "# # threading.Thread(target=iframe_thread, daemon=True, args=(8189,)).start()\n",
    "# !python main.py  --cuda-device 0 --port 8188; python main.py --cuda-device 1 --port 8189\n",
    "# # --dont-print-server\n",
    "\n",
    "# Start threads for both ports\n",
    "xT1 =threading.Thread(target=iframe_thread, daemon=True, args=(8188,))\n",
    "xT1.start()\n",
    "xT2 = threading.Thread(target=iframe_thread, daemon=True, args=(8189,)) #.start()\n",
    "xT2.start()\n",
    "\n",
    "<span style=\"background-color: #add8e6; color: #8b0000; padding: 5px;\">\n",
    "  <font size=18px>HERE PS.\n",
    "</span>\n",
    "\n",
    "!ps fax\n",
    "\n",
    "!kill 1220 1331 1343 1353 1368 1169 1206 1074 \n",
    "\n",
    "\n",
    "\n",
    "\n",
    "\n",
    "\n",
    "!wget -q https://github.com/cloudflare/cloudflared/releases/latest/download/cloudflared-linux-amd64.deb\n",
    "!dpkg -i cloudflared-linux-amd64.deb\n",
    "\n",
    "import subprocess\n",
    "import threading\n",
    "import time\n",
    "\n",
    "\n",
    "xport=  8188\n",
    "command = f\"nohup cloudflared tunnel --url http://localhost:{xport} >> nohup{xport}.out 2>&1 & echo $!\"\n",
    "p = subprocess.Popen(command, shell=True, stdout=subprocess.PIPE)\n",
    "  \n",
    "for line in p.stdout:\n",
    "    print(line.decode(), end='')\n",
    "\n",
    "import subprocess\n",
    "subprocess.Popen([\"cloudflared\", \"tunnel\", '--url', f'http://localhost:8188',]) #\"run\", \"my-tunnel\"])\n",
    "\n",
    "!ps fax\n",
    "\n",
    "\n",
    "\n",
    "import subprocess\n",
    "subprocess.Popen([\"cloudflared\", \"tunnel\", '--url', f'http://localhost:8189',]) #\"run\", \"my-tunnel\"])\n",
    "\n",
    "!ps fax\n",
    "\n",
    "!uv pip install --system cloudflared \n",
    "\n",
    "from cloudflared import CloudFlare\n",
    "CloudFlare.subprocess()\n",
    "\n",
    "\n",
    "\n",
    "\n",
    "\n",
    "\n",
    "\n",
    "\n",
    "\n",
    "!uv pip install --system -q pyngrok\n",
    "!ngrok authtoken \"2f3dIfgJffUXDkLfUJ4V0PBrdln_74tALZeMqwobwcbyupmuw\" \n",
    "\n",
    "from pyngrok import ngrok\n",
    "public_url = ngrok.connect('localhost:8188')\n",
    "print(f\"Please click on the text below {public_url}\")\n",
    "\n",
    "from pyngrok import ngrok\n",
    "public_url = ngrok.connect('localhost:8189')\n",
    "print(f\"Please click on the text below {public_url}\")\n",
    "\n",
    "!wget -q https://github.com/cloudflare/cloudflared/releases/latest/download/cloudflared-linux-amd64.deb\n",
    "!dpkg -i cloudflared-linux-amd64.deb\n",
    "\n",
    "import subprocess\n",
    "import threading\n",
    "import time\n",
    "\n",
    "\n",
    "def start_tunnel(xport=8188):\n",
    "    tunnel_process = subprocess.Popen(\n",
    "        ['cloudflared', 'tunnel', '--url', f'http://localhost:{xport}'],\n",
    "        stdout=subprocess.PIPE,\n",
    "        stderr=subprocess.STDOUT,\n",
    "        universal_newlines=True\n",
    "    )\n",
    "    \n",
    "    # Look for the tunnel URL in the output\n",
    "    while True:\n",
    "        output = tunnel_process.stdout.readline()\n",
    "        if output:\n",
    "            if 'trycloudflare.com' in output:\n",
    "                # Extract and display the URL\n",
    "                url = output.split('|')[3].strip()\n",
    "                print(f\"ComfyUI is available at: {url}\")\n",
    "                break\n",
    "\n",
    "# Start the tunnel in a separate thread\n",
    "# tunnel_thread = threading.Thread(target=start_tunnel,args=(8188,), daemon=True)\n",
    "# tunnel_thread.start()\n",
    "\n",
    "xP1 = subprocess.Popen([\"python\", \"main.py\", \"--cuda-device\", \"0\", \"--port\", \"8188\",\"--highvram\"])\n",
    "time.sleep(30)\n",
    "# Wait a moment for the tunnel to establish\n",
    "time.sleep(5)\n",
    "\n",
    "!ps fax\n",
    "\n",
    "\n",
    "\n",
    "!wget https://huggingface.co/guozinan/PuLID/resolve/main/pulid_flux_v0.9.0.safetensors\n",
    "\n",
    "\n",
    "\n",
    "\n",
    "\n",
    "%pip install -U pip uv -q\n",
    "# !uv venv\n",
    "# !source .venv/bin/activate\n",
    "!uv pip install --system  --quiet pyngrok #--system\n",
    "!uv pip install --system --no-deps --quiet protobuf==3.20.*   #==4.21.12\n",
    "!uv pip install  --system --no-deps --quiet validators\n",
    "!ngrok authtoken \"2f3dIfgJffUXDkLfUJ4V0PBrdln_74tALZeMqwobwcbyupmuw\" \n",
    "\n",
    "!uv  pip install   --system  -q omegaconf accelerate einops transformers>=4.28.1 safetensors>=0.4.2 aiohttp pyyaml Pillow scipy tqdm psutil tokenizers>=0.13.3\n",
    "!uv pip install  --system -q torch torchvision torchaudio --index-url https://download.pytorch.org/whl/cu121 ultralytics insightface bitsandbytes\n",
    "!uv pip install  --system -q torchsde\n",
    "\n",
    "# Change directory to ComfyUI\n",
    "os.chdir(\"/kaggle/working/ComfyUI/\")\n",
    "\n",
    "# Launch ComfyUI instances\n",
    "xP1 = subprocess.Popen([\"python\", \"main.py\", \"--cuda-device\", \"0\", \"--port\", \"8188\",\"--highvram\"])\n",
    "time.sleep(30)\n",
    "\n",
    "xP2= subprocess.Popen([\"python\", \"main.py\", \"--cuda-device\", \"1\", \"--port\", \"8189\",\"--highvram\"])\n",
    "time.sleep(30)\n",
    "# subprocess.Popen([\"./limit_ram.sh\",\"python\", \"main.py\", \"--cuda-device\", \"0\", \"--port\", \"8188\"])\n",
    "# subprocess.Popen([\"./limit_ram.sh\",\"python\", \"main.py\", \"--cuda-device\", \"1\", \"--port\", \"8189\"])\n",
    "\n",
    "# time.sleep(30)\n",
    "\n",
    "!ps fax\n",
    "\n",
    "from pyngrok import ngrok\n",
    "# import ngrok\n",
    "\n",
    "# listener = ngrok.forward(\"localhost:8080\", authtoken_from_env=True)\n",
    "\n",
    "# print(f\"Ingress established at: {listener.url()}\");\n",
    "\n",
    "\n",
    "public_url = ngrok.connect('localhost:8188')\n",
    "print(f\"Please click on the text below {public_url}\")\n",
    "\n",
    "from pyngrok import ngrok\n",
    "public_url = ngrok.connect('localhost:8189')\n",
    "print(f\"Please click on the text below {public_url}\")\n",
    "\n",
    "!ps fax\n",
    "\n",
    "!ls -ltrah /kaggle/working/ComfyUI/models/clip_vision\n",
    "\n",
    "!rm /kaggle/working/ComfyUI/models/clip_vision/clip-vit-large-patch14.safetensors\n",
    "\n",
    "# !sudo apt install ncdu\n",
    "!kill 659 701\n",
    "\n",
    "!du -h /kaggle/working/ComfyUI/models/\n",
    "\n",
    "!du -h /kaggle/working/ComfyUI/models/clip/t5\n",
    "\n",
    "!ls -ltrah /kaggle/working/ComfyUI/models/clip/t5\n",
    "\n",
    "\n",
    "\n",
    "\n",
    "\n",
    "\n",
    "\n",
    "def iframe_thread(port):\n",
    "  while True:\n",
    "      time.sleep(0.5)\n",
    "      sock = socket.socket(socket.AF_INET, socket.SOCK_STREAM)\n",
    "      result = sock.connect_ex(('127.0.0.1', port))\n",
    "      if result == 0:\n",
    "        break\n",
    "      sock.close()\n",
    "  print(\"\\nComfyUI finished loading, trying to launch localtunnel (if it gets stuck here localtunnel is having issues)\\n\")\n",
    "\n",
    "  print(\"The password/enpoint ip for localtunnel is:\", urllib.request.urlopen('https://ipv4.icanhazip.com').read().decode('utf8').strip(\"\\n\"))\n",
    "  p = subprocess.Popen([\"lt\", \"--port\", \"{}\".format(port)], stdout=subprocess.PIPE)\n",
    "  command = f\"nohup lt --port {port} --print-requests >> nohup{port}.out 2>&1 & echo $!\"\n",
    "  p = subprocess.Popen(command, shell=True, stdout=subprocess.PIPE)\n",
    "  \n",
    "  for line in p.stdout:\n",
    "    print(line.decode(), end='')\n",
    "\n",
    "\n",
    "# threading.Thread(target=iframe_thread, daemon=True, args=(8188,8189,)).start()\n",
    "# %cd /kaggle/working/ComfyUI/\n",
    "# # threading.Thread(target=iframe_thread, daemon=True, args=(8189,)).start()\n",
    "# !python main.py  --cuda-device 0 --port 8188; python main.py --cuda-device 1 --port 8189\n",
    "# # --dont-print-server\n",
    "\n",
    "%pip install uv\n",
    "\n",
    "!uv pip --help\n",
    "\n",
    "\n",
    "\n",
    "# Start threads for both ports\n",
    "xT1 =threading.Thread(target=iframe_thread, daemon=True, args=(8188,))\n",
    "xT1.start()\n",
    "xT2 = threading.Thread(target=iframe_thread, daemon=True, args=(8189,)) #.start()\n",
    "xT2.start()\n",
    "\n",
    "subprocess.run(\"tail -f nohup8188.out &\",shell=True)\n",
    "\n",
    "subprocess.run(\"tail -f nohup8189.out &\",shell=True)\n",
    "\n",
    "\n",
    "\n",
    "!ps fax\n",
    "\n",
    "!kill 679  682 \n",
    "\n",
    "!kill 929 930 931\n",
    "\n",
    "xT1 =threading.Thread(target=iframe_thread, daemon=True, args=(8188,))\n",
    "xT1.start()\n",
    "\n",
    "import subprocess\n",
    "import time\n",
    "\n",
    "def run_cloudflare_tunnel(hostname, local_url):\n",
    "    cmd = f\"cloudflared tunnel --url {local_url} {hostname}\"\n",
    "    process = subprocess.Popen(cmd, shell=True)\n",
    "    return process\n",
    "\n",
    "# Configuration\n",
    "hostname = \"kaggle.com\"\n",
    "local_url = \"http://localhost:8000\"\n",
    "\n",
    "# Start the tunnel\n",
    "tunnel_process = run_cloudflare_tunnel(hostname, local_url)\n",
    "\n",
    "print(f\"Tunnel started. Forwarding {hostname} to {local_url}\")\n",
    "print(\"Press Ctrl+C to stop the tunnel.\")\n",
    "\n",
    "try:\n",
    "    # Keep the script running\n",
    "    while True:\n",
    "        time.sleep(1)\n",
    "except KeyboardInterrupt:\n",
    "    print(\"Stopping the tunnel...\")\n",
    "    tunnel_process.terminate()\n",
    "    print(\"Tunnel stopped.\")\n",
    "\n",
    "!ps fax\n",
    "\n",
    "# Start threads for both ports\n",
    "# xT1 =threading.Thread(target=iframe_thread, daemon=True, args=(8188,))\n",
    "# xT1.start()\n",
    "threading.Thread(target=iframe_thread, daemon=True, args=(8188,)).start()\n",
    "# xT2 = threading.Thread(target=iframe_thread, daemon=True, args=(8189,)) #.start()\n",
    "# xT2.start()\n",
    "\n",
    "xP1.kill()\n",
    "xP2.kill()\n",
    "\n",
    "xT1._delete()\n",
    "\n",
    "xT2=xT2.run()\n",
    "\n",
    "I solved it with code-server and pyngrok\n",
    "\n",
    "    Install Code-server\n",
    "\n",
    "!curl -fsSL https://code-server.dev/install.sh | sh\n",
    "\n",
    "    Install pyngrok & get the tunnel URL (you can't run background process in kaggle)\n",
    "\n",
    "!pip install pyngrok\n",
    "\n",
    "    Input ngrok auth token and get tunnel http 80.\n",
    "\n",
    "from pyngrok import conf, ngrok\n",
    "\n",
    "conf.get_default().auth_token = \"<YOUR TOKEN>\"\n",
    "\n",
    "http_tunnel = ngrok.connect()\n",
    "ssh_tunnel = ngrok.connect(80, \"http\")\n",
    "\n",
    "    Get the tunnel URL\n",
    "\n",
    "from pyngrok import ngrok\n",
    "\n",
    "# [<NgrokTunnel: \"http://<public_sub>.ngrok.io\" -> \"http://localhost:80\">]\n",
    "tunnels = ngrok.get_tunnels()\n",
    "tunnels\n",
    "\n",
    "    Get code-server default password\n",
    "\n",
    "!cat  ~/.config/code-server/config.yaml\n",
    "\n",
    "    run code-server\n",
    "\n",
    "!code-server --port 80\n",
    "\n",
    "Hopefully this workaround will work for a while.\n",
    "\n",
    "!ps fax\n",
    "\n",
    "!curl https://loca.lt/mytunnelpassword\n",
    "\n",
    "!curl https://loca.lt/\n",
    "\n",
    " !wget -q -O - https://loca.lt/mytunnelpassword\n",
    "\n",
    "!kill 4103 4104 4102\n",
    "\n",
    "\n",
    "\n",
    "%%writefile /kaggle/working/ComfyUI/custom_nodes/ComfyUI-Manager/config.ini\n",
    "[default]\n",
    "preview_method = none\n",
    "badge_mode = none\n",
    "git_exe = \n",
    "channel_url = https://raw.githubusercontent.com/ltdrdata/ComfyUI-Manager/main\n",
    "share_option = all\n",
    "bypass_ssl = False\n",
    "file_logging = True\n",
    "default_ui = none\n",
    "component_policy = workflow\n",
    "double_click_policy = copy-all\n",
    "windows_selector_event_loop_policy = False\n",
    "model_download_by_agent = True\n",
    "downgrade_blacklist = \n",
    "security_level = normal-\n",
    "\n",
    "\n",
    "\n",
    "!du -hd1 /kaggle/working/\n",
    "\n",
    "!du -hd1 /kaggle/working/ComfyUI | sort -rh\n",
    "\n",
    "!du -hd1 /kaggle/working/ComfyUI/models | sort -rh\n",
    "\n",
    "!rm /kaggle/working/ComfyUI/.venv -r\n",
    "\n",
    "\n",
    "\n",
    "shutil.make_archive(\"/kaggle/working/old_output.zip\", 'zip', \"/kaggle/working/old_output\")\n",
    "\n",
    "!rm /kaggle/working/output_18* -v\n",
    "\n",
    "!rm /kaggle/working/output_19* -v\n",
    "\n",
    "!rm /kaggle/working/output_* -v\n",
    "\n",
    "!rm /kaggle/working/old_output* -v -r"
   ]
  }
 ],
 "metadata": {
  "kaggle": {
   "accelerator": "nvidiaTeslaT4",
   "dataSources": [
    {
     "modelId": 1030,
     "modelInstanceId": 3345,
     "sourceId": 4553,
     "sourceType": "modelInstanceVersion"
    },
    {
     "modelId": 98414,
     "modelInstanceId": 73571,
     "sourceId": 87608,
     "sourceType": "modelInstanceVersion"
    },
    {
     "modelId": 116511,
     "modelInstanceId": 92312,
     "sourceId": 110195,
     "sourceType": "modelInstanceVersion"
    },
    {
     "modelId": 122985,
     "modelInstanceId": 98812,
     "sourceId": 117514,
     "sourceType": "modelInstanceVersion"
    },
    {
     "modelId": 123097,
     "modelInstanceId": 98930,
     "sourceId": 117667,
     "sourceType": "modelInstanceVersion"
    },
    {
     "modelId": 123105,
     "modelInstanceId": 98936,
     "sourceId": 117674,
     "sourceType": "modelInstanceVersion"
    },
    {
     "modelId": 142429,
     "modelInstanceId": 119179,
     "sourceId": 140714,
     "sourceType": "modelInstanceVersion"
    },
    {
     "modelId": 142437,
     "modelInstanceId": 119187,
     "sourceId": 140722,
     "sourceType": "modelInstanceVersion"
    },
    {
     "modelId": 142979,
     "modelInstanceId": 119741,
     "sourceId": 141354,
     "sourceType": "modelInstanceVersion"
    },
    {
     "modelId": 144580,
     "modelInstanceId": 121435,
     "sourceId": 143326,
     "sourceType": "modelInstanceVersion"
    },
    {
     "modelId": 146191,
     "modelInstanceId": 123137,
     "sourceId": 145253,
     "sourceType": "modelInstanceVersion"
    },
    {
     "modelId": 146192,
     "modelInstanceId": 123138,
     "sourceId": 145254,
     "sourceType": "modelInstanceVersion"
    },
    {
     "modelId": 147185,
     "modelInstanceId": 124125,
     "sourceId": 146344,
     "sourceType": "modelInstanceVersion"
    },
    {
     "modelId": 151663,
     "modelInstanceId": 128791,
     "sourceId": 151675,
     "sourceType": "modelInstanceVersion"
    },
    {
     "modelId": 138403,
     "modelInstanceId": 115138,
     "sourceId": 151859,
     "sourceType": "modelInstanceVersion"
    },
    {
     "modelId": 152252,
     "modelInstanceId": 129392,
     "sourceId": 152403,
     "sourceType": "modelInstanceVersion"
    },
    {
     "modelId": 164549,
     "modelInstanceId": 141973,
     "sourceId": 167798,
     "sourceType": "modelInstanceVersion"
    },
    {
     "modelId": 161762,
     "modelInstanceId": 139130,
     "sourceId": 168148,
     "sourceType": "modelInstanceVersion"
    },
    {
     "modelId": 213114,
     "modelInstanceId": 191163,
     "sourceId": 235463,
     "sourceType": "modelInstanceVersion"
    },
    {
     "modelId": 244268,
     "modelInstanceId": 222507,
     "sourceId": 260267,
     "sourceType": "modelInstanceVersion"
    },
    {
     "modelId": 244269,
     "modelInstanceId": 222508,
     "sourceId": 260268,
     "sourceType": "modelInstanceVersion"
    },
    {
     "isSourceIdPinned": true,
     "modelId": 160678,
     "modelInstanceId": 137991,
     "sourceId": 279473,
     "sourceType": "modelInstanceVersion"
    }
   ],
   "isGpuEnabled": true,
   "isInternetEnabled": true,
   "language": "python",
   "sourceType": "notebook"
  },
  "kernelspec": {
   "display_name": "Python 3",
   "language": "python",
   "name": "python3"
  },
  "language_info": {
   "codemirror_mode": {
    "name": "ipython",
    "version": 3
   },
   "file_extension": ".py",
   "mimetype": "text/x-python",
   "name": "python",
   "nbconvert_exporter": "python",
   "pygments_lexer": "ipython3",
   "version": "3.10.12"
  },
  "papermill": {
   "default_parameters": {},
   "duration": 190.554949,
   "end_time": "2025-03-10T13:44:49.573140",
   "environment_variables": {},
   "exception": null,
   "input_path": "__notebook__.ipynb",
   "output_path": "__notebook__.ipynb",
   "parameters": {},
   "start_time": "2025-03-10T13:41:39.018191",
   "version": "2.6.0"
  }
 },
 "nbformat": 4,
 "nbformat_minor": 5
}
