{
  "nbformat": 4,
  "nbformat_minor": 0,
  "metadata": {
    "colab": {
      "provenance": [],
      "gpuType": "T4",
      "include_colab_link": true
    },
    "kernelspec": {
      "name": "python3",
      "display_name": "Python 3"
    },
    "language_info": {
      "name": "python"
    },
    "accelerator": "GPU"
  },
  "cells": [
    {
      "cell_type": "markdown",
      "metadata": {
        "id": "view-in-github",
        "colab_type": "text"
      },
      "source": [
        "<a href=\"https://colab.research.google.com/github/revirevy/KAGGLE/blob/main/clarity_refiners_ui_for_Colab.ipynb\" target=\"_parent\"><img src=\"https://colab.research.google.com/assets/colab-badge.svg\" alt=\"Open In Colab\"/></a>"
      ]
    },
    {
      "cell_type": "code",
      "source": [
        "#1. 런타임 T4로 연결."
      ],
      "metadata": {
        "id": "PYsAU4b5dCDa"
      },
      "execution_count": null,
      "outputs": []
    },
    {
      "cell_type": "code",
      "execution_count": 1,
      "metadata": {
        "id": "i3poIyuaQrOT",
        "colab": {
          "base_uri": "https://localhost:8080/"
        },
        "outputId": "660dc92b-fb04-460a-c984-e6fb22c2f17c"
      },
      "outputs": [
        {
          "output_type": "stream",
          "name": "stdout",
          "text": [
            "fatal: destination path 'clarity-refiners-ui' already exists and is not an empty directory.\n",
            "/content/clarity-refiners-ui\n",
            "Requirement already satisfied: pydantic<2.11 in /usr/local/lib/python3.11/dist-packages (2.10.6)\n",
            "Requirement already satisfied: annotated-types>=0.6.0 in /usr/local/lib/python3.11/dist-packages (from pydantic<2.11) (0.7.0)\n",
            "Requirement already satisfied: pydantic-core==2.27.2 in /usr/local/lib/python3.11/dist-packages (from pydantic<2.11) (2.27.2)\n",
            "Requirement already satisfied: typing-extensions>=4.12.2 in /usr/local/lib/python3.11/dist-packages (from pydantic<2.11) (4.13.2)\n",
            "Collecting git+https://github.com/finegrain-ai/refiners@a5d3c2971b84f6faa4762b1cf5a07f4f812bb1f5 (from -r /content/clarity-refiners-ui/app/requirements.txt (line 1))\n",
            "  Cloning https://github.com/finegrain-ai/refiners (to revision a5d3c2971b84f6faa4762b1cf5a07f4f812bb1f5) to /tmp/pip-req-build-7s1noarb\n",
            "  Running command git clone --filter=blob:none --quiet https://github.com/finegrain-ai/refiners /tmp/pip-req-build-7s1noarb\n",
            "  Running command git rev-parse -q --verify 'sha^a5d3c2971b84f6faa4762b1cf5a07f4f812bb1f5'\n",
            "  Running command git fetch -q https://github.com/finegrain-ai/refiners a5d3c2971b84f6faa4762b1cf5a07f4f812bb1f5\n",
            "  Running command git checkout -q a5d3c2971b84f6faa4762b1cf5a07f4f812bb1f5\n",
            "  Resolved https://github.com/finegrain-ai/refiners to commit a5d3c2971b84f6faa4762b1cf5a07f4f812bb1f5\n",
            "  Installing build dependencies ... \u001b[?25l\u001b[?25hdone\n",
            "  Getting requirements to build wheel ... \u001b[?25l\u001b[?25hdone\n",
            "  Preparing metadata (pyproject.toml) ... \u001b[?25l\u001b[?25hdone\n",
            "Requirement already satisfied: gradio_imageslider==0.0.20 in /usr/local/lib/python3.11/dist-packages (from -r /content/clarity-refiners-ui/app/requirements.txt (line 2)) (0.0.20)\n",
            "Requirement already satisfied: numpy<2.0.0 in /usr/local/lib/python3.11/dist-packages (from -r /content/clarity-refiners-ui/app/requirements.txt (line 3)) (1.26.4)\n",
            "Requirement already satisfied: pillow>=10.4.0 in /usr/local/lib/python3.11/dist-packages (from -r /content/clarity-refiners-ui/app/requirements.txt (line 4)) (10.4.0)\n",
            "Requirement already satisfied: pillow-heif>=0.18.0 in /usr/local/lib/python3.11/dist-packages (from -r /content/clarity-refiners-ui/app/requirements.txt (line 5)) (0.22.0)\n",
            "Requirement already satisfied: gradio==4.44.0 in /usr/local/lib/python3.11/dist-packages (from -r /content/clarity-refiners-ui/app/requirements.txt (line 6)) (4.44.0)\n",
            "Requirement already satisfied: devicetorch in /usr/local/lib/python3.11/dist-packages (from -r /content/clarity-refiners-ui/app/requirements.txt (line 7)) (0.1.13)\n",
            "Requirement already satisfied: transformers in /usr/local/lib/python3.11/dist-packages (from -r /content/clarity-refiners-ui/app/requirements.txt (line 9)) (4.52.2)\n",
            "Requirement already satisfied: ftfy in /usr/local/lib/python3.11/dist-packages (from -r /content/clarity-refiners-ui/app/requirements.txt (line 10)) (6.3.1)\n",
            "Requirement already satisfied: regex in /usr/local/lib/python3.11/dist-packages (from -r /content/clarity-refiners-ui/app/requirements.txt (line 11)) (2024.11.6)\n",
            "Requirement already satisfied: tqdm in /usr/local/lib/python3.11/dist-packages (from -r /content/clarity-refiners-ui/app/requirements.txt (line 12)) (4.67.1)\n",
            "Requirement already satisfied: accelerate in /usr/local/lib/python3.11/dist-packages (from -r /content/clarity-refiners-ui/app/requirements.txt (line 13)) (1.7.0)\n",
            "Requirement already satisfied: einops in /usr/local/lib/python3.11/dist-packages (from -r /content/clarity-refiners-ui/app/requirements.txt (line 14)) (0.8.1)\n",
            "Requirement already satisfied: timm in /usr/local/lib/python3.11/dist-packages (from -r /content/clarity-refiners-ui/app/requirements.txt (line 15)) (1.0.15)\n",
            "Requirement already satisfied: aiofiles<24.0,>=22.0 in /usr/local/lib/python3.11/dist-packages (from gradio==4.44.0->-r /content/clarity-refiners-ui/app/requirements.txt (line 6)) (23.2.1)\n",
            "Requirement already satisfied: anyio<5.0,>=3.0 in /usr/local/lib/python3.11/dist-packages (from gradio==4.44.0->-r /content/clarity-refiners-ui/app/requirements.txt (line 6)) (4.9.0)\n",
            "Requirement already satisfied: fastapi<1.0 in /usr/local/lib/python3.11/dist-packages (from gradio==4.44.0->-r /content/clarity-refiners-ui/app/requirements.txt (line 6)) (0.115.12)\n",
            "Requirement already satisfied: ffmpy in /usr/local/lib/python3.11/dist-packages (from gradio==4.44.0->-r /content/clarity-refiners-ui/app/requirements.txt (line 6)) (0.5.0)\n",
            "Requirement already satisfied: gradio-client==1.3.0 in /usr/local/lib/python3.11/dist-packages (from gradio==4.44.0->-r /content/clarity-refiners-ui/app/requirements.txt (line 6)) (1.3.0)\n",
            "Requirement already satisfied: httpx>=0.24.1 in /usr/local/lib/python3.11/dist-packages (from gradio==4.44.0->-r /content/clarity-refiners-ui/app/requirements.txt (line 6)) (0.28.1)\n",
            "Requirement already satisfied: huggingface-hub>=0.19.3 in /usr/local/lib/python3.11/dist-packages (from gradio==4.44.0->-r /content/clarity-refiners-ui/app/requirements.txt (line 6)) (0.31.4)\n",
            "Requirement already satisfied: importlib-resources<7.0,>=1.3 in /usr/local/lib/python3.11/dist-packages (from gradio==4.44.0->-r /content/clarity-refiners-ui/app/requirements.txt (line 6)) (6.5.2)\n",
            "Requirement already satisfied: jinja2<4.0 in /usr/local/lib/python3.11/dist-packages (from gradio==4.44.0->-r /content/clarity-refiners-ui/app/requirements.txt (line 6)) (3.1.6)\n",
            "Requirement already satisfied: markupsafe~=2.0 in /usr/local/lib/python3.11/dist-packages (from gradio==4.44.0->-r /content/clarity-refiners-ui/app/requirements.txt (line 6)) (2.1.5)\n",
            "Requirement already satisfied: matplotlib~=3.0 in /usr/local/lib/python3.11/dist-packages (from gradio==4.44.0->-r /content/clarity-refiners-ui/app/requirements.txt (line 6)) (3.10.0)\n",
            "Requirement already satisfied: orjson~=3.0 in /usr/local/lib/python3.11/dist-packages (from gradio==4.44.0->-r /content/clarity-refiners-ui/app/requirements.txt (line 6)) (3.10.18)\n",
            "Requirement already satisfied: packaging in /usr/local/lib/python3.11/dist-packages (from gradio==4.44.0->-r /content/clarity-refiners-ui/app/requirements.txt (line 6)) (24.2)\n",
            "Requirement already satisfied: pandas<3.0,>=1.0 in /usr/local/lib/python3.11/dist-packages (from gradio==4.44.0->-r /content/clarity-refiners-ui/app/requirements.txt (line 6)) (2.2.2)\n",
            "Requirement already satisfied: pydantic>=2.0 in /usr/local/lib/python3.11/dist-packages (from gradio==4.44.0->-r /content/clarity-refiners-ui/app/requirements.txt (line 6)) (2.10.6)\n",
            "Requirement already satisfied: pydub in /usr/local/lib/python3.11/dist-packages (from gradio==4.44.0->-r /content/clarity-refiners-ui/app/requirements.txt (line 6)) (0.25.1)\n",
            "Requirement already satisfied: python-multipart>=0.0.9 in /usr/local/lib/python3.11/dist-packages (from gradio==4.44.0->-r /content/clarity-refiners-ui/app/requirements.txt (line 6)) (0.0.20)\n",
            "Requirement already satisfied: pyyaml<7.0,>=5.0 in /usr/local/lib/python3.11/dist-packages (from gradio==4.44.0->-r /content/clarity-refiners-ui/app/requirements.txt (line 6)) (6.0.2)\n",
            "Requirement already satisfied: ruff>=0.2.2 in /usr/local/lib/python3.11/dist-packages (from gradio==4.44.0->-r /content/clarity-refiners-ui/app/requirements.txt (line 6)) (0.11.12)\n",
            "Requirement already satisfied: semantic-version~=2.0 in /usr/local/lib/python3.11/dist-packages (from gradio==4.44.0->-r /content/clarity-refiners-ui/app/requirements.txt (line 6)) (2.10.0)\n",
            "Requirement already satisfied: tomlkit==0.12.0 in /usr/local/lib/python3.11/dist-packages (from gradio==4.44.0->-r /content/clarity-refiners-ui/app/requirements.txt (line 6)) (0.12.0)\n",
            "Requirement already satisfied: typer<1.0,>=0.12 in /usr/local/lib/python3.11/dist-packages (from gradio==4.44.0->-r /content/clarity-refiners-ui/app/requirements.txt (line 6)) (0.15.3)\n",
            "Requirement already satisfied: typing-extensions~=4.0 in /usr/local/lib/python3.11/dist-packages (from gradio==4.44.0->-r /content/clarity-refiners-ui/app/requirements.txt (line 6)) (4.13.2)\n",
            "Requirement already satisfied: urllib3~=2.0 in /usr/local/lib/python3.11/dist-packages (from gradio==4.44.0->-r /content/clarity-refiners-ui/app/requirements.txt (line 6)) (2.4.0)\n",
            "Requirement already satisfied: uvicorn>=0.14.0 in /usr/local/lib/python3.11/dist-packages (from gradio==4.44.0->-r /content/clarity-refiners-ui/app/requirements.txt (line 6)) (0.34.3)\n",
            "Requirement already satisfied: fsspec in /usr/local/lib/python3.11/dist-packages (from gradio-client==1.3.0->gradio==4.44.0->-r /content/clarity-refiners-ui/app/requirements.txt (line 6)) (2025.3.2)\n",
            "Requirement already satisfied: websockets<13.0,>=10.0 in /usr/local/lib/python3.11/dist-packages (from gradio-client==1.3.0->gradio==4.44.0->-r /content/clarity-refiners-ui/app/requirements.txt (line 6)) (12.0)\n",
            "Requirement already satisfied: jaxtyping>=0.2.23 in /usr/local/lib/python3.11/dist-packages (from refiners==0.4.0->-r /content/clarity-refiners-ui/app/requirements.txt (line 1)) (0.3.2)\n",
            "Requirement already satisfied: safetensors>=0.4.0 in /usr/local/lib/python3.11/dist-packages (from refiners==0.4.0->-r /content/clarity-refiners-ui/app/requirements.txt (line 1)) (0.5.3)\n",
            "Requirement already satisfied: torch>=2.1.1 in /usr/local/lib/python3.11/dist-packages (from refiners==0.4.0->-r /content/clarity-refiners-ui/app/requirements.txt (line 1)) (2.6.0+cu124)\n",
            "Requirement already satisfied: filelock in /usr/local/lib/python3.11/dist-packages (from transformers->-r /content/clarity-refiners-ui/app/requirements.txt (line 9)) (3.18.0)\n",
            "Requirement already satisfied: requests in /usr/local/lib/python3.11/dist-packages (from transformers->-r /content/clarity-refiners-ui/app/requirements.txt (line 9)) (2.32.3)\n",
            "Requirement already satisfied: tokenizers<0.22,>=0.21 in /usr/local/lib/python3.11/dist-packages (from transformers->-r /content/clarity-refiners-ui/app/requirements.txt (line 9)) (0.21.1)\n",
            "Requirement already satisfied: wcwidth in /usr/local/lib/python3.11/dist-packages (from ftfy->-r /content/clarity-refiners-ui/app/requirements.txt (line 10)) (0.2.13)\n",
            "Requirement already satisfied: psutil in /usr/local/lib/python3.11/dist-packages (from accelerate->-r /content/clarity-refiners-ui/app/requirements.txt (line 13)) (5.9.5)\n",
            "Requirement already satisfied: torchvision in /usr/local/lib/python3.11/dist-packages (from timm->-r /content/clarity-refiners-ui/app/requirements.txt (line 15)) (0.21.0+cu124)\n",
            "Requirement already satisfied: idna>=2.8 in /usr/local/lib/python3.11/dist-packages (from anyio<5.0,>=3.0->gradio==4.44.0->-r /content/clarity-refiners-ui/app/requirements.txt (line 6)) (3.10)\n",
            "Requirement already satisfied: sniffio>=1.1 in /usr/local/lib/python3.11/dist-packages (from anyio<5.0,>=3.0->gradio==4.44.0->-r /content/clarity-refiners-ui/app/requirements.txt (line 6)) (1.3.1)\n",
            "Requirement already satisfied: starlette<0.47.0,>=0.40.0 in /usr/local/lib/python3.11/dist-packages (from fastapi<1.0->gradio==4.44.0->-r /content/clarity-refiners-ui/app/requirements.txt (line 6)) (0.46.2)\n",
            "Requirement already satisfied: certifi in /usr/local/lib/python3.11/dist-packages (from httpx>=0.24.1->gradio==4.44.0->-r /content/clarity-refiners-ui/app/requirements.txt (line 6)) (2025.4.26)\n",
            "Requirement already satisfied: httpcore==1.* in /usr/local/lib/python3.11/dist-packages (from httpx>=0.24.1->gradio==4.44.0->-r /content/clarity-refiners-ui/app/requirements.txt (line 6)) (1.0.9)\n",
            "Requirement already satisfied: h11>=0.16 in /usr/local/lib/python3.11/dist-packages (from httpcore==1.*->httpx>=0.24.1->gradio==4.44.0->-r /content/clarity-refiners-ui/app/requirements.txt (line 6)) (0.16.0)\n",
            "Requirement already satisfied: wadler-lindig>=0.1.3 in /usr/local/lib/python3.11/dist-packages (from jaxtyping>=0.2.23->refiners==0.4.0->-r /content/clarity-refiners-ui/app/requirements.txt (line 1)) (0.1.6)\n",
            "Requirement already satisfied: contourpy>=1.0.1 in /usr/local/lib/python3.11/dist-packages (from matplotlib~=3.0->gradio==4.44.0->-r /content/clarity-refiners-ui/app/requirements.txt (line 6)) (1.3.2)\n",
            "Requirement already satisfied: cycler>=0.10 in /usr/local/lib/python3.11/dist-packages (from matplotlib~=3.0->gradio==4.44.0->-r /content/clarity-refiners-ui/app/requirements.txt (line 6)) (0.12.1)\n",
            "Requirement already satisfied: fonttools>=4.22.0 in /usr/local/lib/python3.11/dist-packages (from matplotlib~=3.0->gradio==4.44.0->-r /content/clarity-refiners-ui/app/requirements.txt (line 6)) (4.58.0)\n",
            "Requirement already satisfied: kiwisolver>=1.3.1 in /usr/local/lib/python3.11/dist-packages (from matplotlib~=3.0->gradio==4.44.0->-r /content/clarity-refiners-ui/app/requirements.txt (line 6)) (1.4.8)\n",
            "Requirement already satisfied: pyparsing>=2.3.1 in /usr/local/lib/python3.11/dist-packages (from matplotlib~=3.0->gradio==4.44.0->-r /content/clarity-refiners-ui/app/requirements.txt (line 6)) (3.2.3)\n",
            "Requirement already satisfied: python-dateutil>=2.7 in /usr/local/lib/python3.11/dist-packages (from matplotlib~=3.0->gradio==4.44.0->-r /content/clarity-refiners-ui/app/requirements.txt (line 6)) (2.9.0.post0)\n",
            "Requirement already satisfied: pytz>=2020.1 in /usr/local/lib/python3.11/dist-packages (from pandas<3.0,>=1.0->gradio==4.44.0->-r /content/clarity-refiners-ui/app/requirements.txt (line 6)) (2025.2)\n",
            "Requirement already satisfied: tzdata>=2022.7 in /usr/local/lib/python3.11/dist-packages (from pandas<3.0,>=1.0->gradio==4.44.0->-r /content/clarity-refiners-ui/app/requirements.txt (line 6)) (2025.2)\n",
            "Requirement already satisfied: annotated-types>=0.6.0 in /usr/local/lib/python3.11/dist-packages (from pydantic>=2.0->gradio==4.44.0->-r /content/clarity-refiners-ui/app/requirements.txt (line 6)) (0.7.0)\n",
            "Requirement already satisfied: pydantic-core==2.27.2 in /usr/local/lib/python3.11/dist-packages (from pydantic>=2.0->gradio==4.44.0->-r /content/clarity-refiners-ui/app/requirements.txt (line 6)) (2.27.2)\n",
            "Requirement already satisfied: networkx in /usr/local/lib/python3.11/dist-packages (from torch>=2.1.1->refiners==0.4.0->-r /content/clarity-refiners-ui/app/requirements.txt (line 1)) (3.4.2)\n",
            "Requirement already satisfied: nvidia-cuda-nvrtc-cu12==12.4.127 in /usr/local/lib/python3.11/dist-packages (from torch>=2.1.1->refiners==0.4.0->-r /content/clarity-refiners-ui/app/requirements.txt (line 1)) (12.4.127)\n",
            "Requirement already satisfied: nvidia-cuda-runtime-cu12==12.4.127 in /usr/local/lib/python3.11/dist-packages (from torch>=2.1.1->refiners==0.4.0->-r /content/clarity-refiners-ui/app/requirements.txt (line 1)) (12.4.127)\n",
            "Requirement already satisfied: nvidia-cuda-cupti-cu12==12.4.127 in /usr/local/lib/python3.11/dist-packages (from torch>=2.1.1->refiners==0.4.0->-r /content/clarity-refiners-ui/app/requirements.txt (line 1)) (12.4.127)\n",
            "Requirement already satisfied: nvidia-cudnn-cu12==9.1.0.70 in /usr/local/lib/python3.11/dist-packages (from torch>=2.1.1->refiners==0.4.0->-r /content/clarity-refiners-ui/app/requirements.txt (line 1)) (9.1.0.70)\n",
            "Requirement already satisfied: nvidia-cublas-cu12==12.4.5.8 in /usr/local/lib/python3.11/dist-packages (from torch>=2.1.1->refiners==0.4.0->-r /content/clarity-refiners-ui/app/requirements.txt (line 1)) (12.4.5.8)\n",
            "Requirement already satisfied: nvidia-cufft-cu12==11.2.1.3 in /usr/local/lib/python3.11/dist-packages (from torch>=2.1.1->refiners==0.4.0->-r /content/clarity-refiners-ui/app/requirements.txt (line 1)) (11.2.1.3)\n",
            "Requirement already satisfied: nvidia-curand-cu12==10.3.5.147 in /usr/local/lib/python3.11/dist-packages (from torch>=2.1.1->refiners==0.4.0->-r /content/clarity-refiners-ui/app/requirements.txt (line 1)) (10.3.5.147)\n",
            "Requirement already satisfied: nvidia-cusolver-cu12==11.6.1.9 in /usr/local/lib/python3.11/dist-packages (from torch>=2.1.1->refiners==0.4.0->-r /content/clarity-refiners-ui/app/requirements.txt (line 1)) (11.6.1.9)\n",
            "Requirement already satisfied: nvidia-cusparse-cu12==12.3.1.170 in /usr/local/lib/python3.11/dist-packages (from torch>=2.1.1->refiners==0.4.0->-r /content/clarity-refiners-ui/app/requirements.txt (line 1)) (12.3.1.170)\n",
            "Requirement already satisfied: nvidia-cusparselt-cu12==0.6.2 in /usr/local/lib/python3.11/dist-packages (from torch>=2.1.1->refiners==0.4.0->-r /content/clarity-refiners-ui/app/requirements.txt (line 1)) (0.6.2)\n",
            "Requirement already satisfied: nvidia-nccl-cu12==2.21.5 in /usr/local/lib/python3.11/dist-packages (from torch>=2.1.1->refiners==0.4.0->-r /content/clarity-refiners-ui/app/requirements.txt (line 1)) (2.21.5)\n",
            "Requirement already satisfied: nvidia-nvtx-cu12==12.4.127 in /usr/local/lib/python3.11/dist-packages (from torch>=2.1.1->refiners==0.4.0->-r /content/clarity-refiners-ui/app/requirements.txt (line 1)) (12.4.127)\n",
            "Requirement already satisfied: nvidia-nvjitlink-cu12==12.4.127 in /usr/local/lib/python3.11/dist-packages (from torch>=2.1.1->refiners==0.4.0->-r /content/clarity-refiners-ui/app/requirements.txt (line 1)) (12.4.127)\n",
            "Requirement already satisfied: triton==3.2.0 in /usr/local/lib/python3.11/dist-packages (from torch>=2.1.1->refiners==0.4.0->-r /content/clarity-refiners-ui/app/requirements.txt (line 1)) (3.2.0)\n",
            "Requirement already satisfied: sympy==1.13.1 in /usr/local/lib/python3.11/dist-packages (from torch>=2.1.1->refiners==0.4.0->-r /content/clarity-refiners-ui/app/requirements.txt (line 1)) (1.13.1)\n",
            "Requirement already satisfied: mpmath<1.4,>=1.1.0 in /usr/local/lib/python3.11/dist-packages (from sympy==1.13.1->torch>=2.1.1->refiners==0.4.0->-r /content/clarity-refiners-ui/app/requirements.txt (line 1)) (1.3.0)\n",
            "Requirement already satisfied: click>=8.0.0 in /usr/local/lib/python3.11/dist-packages (from typer<1.0,>=0.12->gradio==4.44.0->-r /content/clarity-refiners-ui/app/requirements.txt (line 6)) (8.2.1)\n",
            "Requirement already satisfied: shellingham>=1.3.0 in /usr/local/lib/python3.11/dist-packages (from typer<1.0,>=0.12->gradio==4.44.0->-r /content/clarity-refiners-ui/app/requirements.txt (line 6)) (1.5.4)\n",
            "Requirement already satisfied: rich>=10.11.0 in /usr/local/lib/python3.11/dist-packages (from typer<1.0,>=0.12->gradio==4.44.0->-r /content/clarity-refiners-ui/app/requirements.txt (line 6)) (13.9.4)\n",
            "Requirement already satisfied: charset-normalizer<4,>=2 in /usr/local/lib/python3.11/dist-packages (from requests->transformers->-r /content/clarity-refiners-ui/app/requirements.txt (line 9)) (3.4.2)\n",
            "Requirement already satisfied: six>=1.5 in /usr/local/lib/python3.11/dist-packages (from python-dateutil>=2.7->matplotlib~=3.0->gradio==4.44.0->-r /content/clarity-refiners-ui/app/requirements.txt (line 6)) (1.17.0)\n",
            "Requirement already satisfied: markdown-it-py>=2.2.0 in /usr/local/lib/python3.11/dist-packages (from rich>=10.11.0->typer<1.0,>=0.12->gradio==4.44.0->-r /content/clarity-refiners-ui/app/requirements.txt (line 6)) (3.0.0)\n",
            "Requirement already satisfied: pygments<3.0.0,>=2.13.0 in /usr/local/lib/python3.11/dist-packages (from rich>=10.11.0->typer<1.0,>=0.12->gradio==4.44.0->-r /content/clarity-refiners-ui/app/requirements.txt (line 6)) (2.19.1)\n",
            "Requirement already satisfied: mdurl~=0.1 in /usr/local/lib/python3.11/dist-packages (from markdown-it-py>=2.2.0->rich>=10.11.0->typer<1.0,>=0.12->gradio==4.44.0->-r /content/clarity-refiners-ui/app/requirements.txt (line 6)) (0.1.2)\n",
            "Reading package lists... Done\n",
            "Building dependency tree... Done\n",
            "Reading state information... Done\n",
            "npm is already the newest version (8.5.1~ds-1).\n",
            "nodejs is already the newest version (12.22.9~dfsg-1ubuntu3.6).\n",
            "0 upgraded, 0 newly installed, 0 to remove and 35 not upgraded.\n"
          ]
        }
      ],
      "source": [
        "#2 git을 사용하여 저장소를 클론하고 추가 패키지 설치\n",
        "\n",
        "!git clone https://github.com/pinokiofactory/clarity-refiners-ui.git\n",
        "\n",
        "%cd clarity-refiners-ui\n",
        "\n",
        "!pip install \"pydantic<2.11\"\n",
        "\n",
        "!pip install -r /content/clarity-refiners-ui/app/requirements.txt\n",
        "\n",
        "!apt-get install -y nodejs npm\n",
        "\n",
        "!node install.js\n",
        "\n",
        "!node start.js"
      ]
    },
    {
      "cell_type": "code",
      "source": [
        "#3. app.py 파일 열어서,\n",
        "# 111, 126줄의 bfloat16 -> float16로 변경.\n",
        "# 맨 아래 demo.launch(share=False) -> demo.launch(share=True)로 변경\n",
        "!sed -i 's/demo\\.launch(share=False)/demo\\.launch(share=True)/g' /content/clarity-refiners-ui/app/app.py"
      ],
      "metadata": {
        "id": "84ure4OzdWUg"
      },
      "execution_count": 3,
      "outputs": []
    },
    {
      "cell_type": "code",
      "source": [
        "!sed -i.bak 's/dtype = devicetorch\\.dtype(torch, \"bfloat16\")/dtype = devicetorch\\.dtype(torch, \"float16\")/g' /content/clarity-refiners-ui/app/app.py"
      ],
      "metadata": {
        "id": "-zBqd4vt903E"
      },
      "execution_count": 4,
      "outputs": []
    },
    {
      "cell_type": "code",
      "source": [
        "#4. WebUI 실행\n",
        "!python /content/clarity-refiners-ui/app/app.py"
      ],
      "metadata": {
        "id": "i3phEA9cR2mF",
        "colab": {
          "base_uri": "https://localhost:8080/"
        },
        "outputId": "3ea178d9-b40f-47b7-cc8f-7267e258ee6e"
      },
      "execution_count": null,
      "outputs": [
        {
          "output_type": "stream",
          "name": "stdout",
          "text": [
            "2025-06-01 19:29:38.376731: E external/local_xla/xla/stream_executor/cuda/cuda_fft.cc:477] Unable to register cuFFT factory: Attempting to register factory for plugin cuFFT when one has already been registered\n",
            "WARNING: All log messages before absl::InitializeLog() is called are written to STDERR\n",
            "E0000 00:00:1748806178.626100    5485 cuda_dnn.cc:8310] Unable to register cuDNN factory: Attempting to register factory for plugin cuDNN when one has already been registered\n",
            "E0000 00:00:1748806178.690506    5485 cuda_blas.cc:1418] Unable to register cuBLAS factory: Attempting to register factory for plugin cuBLAS when one has already been registered\n",
            "2025-06-01 19:29:39.193475: I tensorflow/core/platform/cpu_feature_guard.cc:210] This TensorFlow binary is optimized to use available CPU instructions in performance-critical operations.\n",
            "To enable the following instructions: AVX2 AVX512F FMA, in other operations, rebuild TensorFlow with the appropriate compiler flags.\n",
            "/content/clarity-refiners-ui/app/app.py:36: DeprecationWarning: The AVIF support in this library is marked as deprecated and will be removed in the next version. If you still need AVIF support until it natively appears in Pillow, use the https://github.com/fdintino/pillow-avif-plugin project instead.\n",
            "  pillow_heif.register_avif_opener()\n",
            "model.safetensors: 100% 1.72G/1.72G [00:09<00:00, 188MB/s]\n",
            "model.safetensors: 100% 246M/246M [00:04<00:00, 54.3MB/s]\n",
            "model.safetensors: 100% 167M/167M [00:01<00:00, 147MB/s]\n",
            "model.safetensors: 100% 723M/723M [00:08<00:00, 89.4MB/s]\n",
            "4x-UltraSharp.pth: 100% 67.0M/67.0M [00:00<00:00, 99.2MB/s]\n",
            "JuggernautNegative-neg.pt: 100% 13.3k/13.3k [00:00<00:00, 54.5MB/s]\n",
            "more_details.safetensors: 100% 9.55M/9.55M [00:00<00:00, 44.0MB/s]\n",
            "SDXLrender_v2.0.safetensors: 100% 181M/181M [00:01<00:00, 110MB/s]\n",
            "Running on local URL:  http://127.0.0.1:7860\n",
            "/usr/local/lib/python3.11/dist-packages/gradio/analytics.py:106: UserWarning: IMPORTANT: You are using gradio version 4.44.0, however version 4.44.1 is available, please upgrade. \n",
            "--------\n",
            "  warnings.warn(\n",
            "Running on public URL: https://33725b51c85bb067b7.gradio.live\n",
            "\n",
            "This share link expires in 72 hours. For free permanent hosting and GPU upgrades, run `gradio deploy` from Terminal to deploy to Spaces (https://huggingface.co/spaces)\n"
          ]
        }
      ]
    },
    {
      "cell_type": "code",
      "source": [],
      "metadata": {
        "id": "dJqxyEt8-FPD"
      },
      "execution_count": null,
      "outputs": []
    }
  ]
}