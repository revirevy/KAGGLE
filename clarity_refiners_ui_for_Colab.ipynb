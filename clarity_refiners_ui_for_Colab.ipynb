{
  "nbformat": 4,
  "nbformat_minor": 0,
  "metadata": {
    "colab": {
      "provenance": [],
      "gpuType": "T4",
      "include_colab_link": true
    },
    "kernelspec": {
      "name": "python3",
      "display_name": "Python 3"
    },
    "language_info": {
      "name": "python"
    },
    "accelerator": "GPU"
  },
  "cells": [
    {
      "cell_type": "markdown",
      "metadata": {
        "id": "view-in-github",
        "colab_type": "text"
      },
      "source": [
        "<a href=\"https://colab.research.google.com/github/revirevy/KAGGLE/blob/main/clarity_refiners_ui_for_Colab.ipynb\" target=\"_parent\"><img src=\"https://colab.research.google.com/assets/colab-badge.svg\" alt=\"Open In Colab\"/></a>"
      ]
    },
    {
      "cell_type": "code",
      "source": [
        "#1. 런타임 T4로 연결."
      ],
      "metadata": {
        "id": "PYsAU4b5dCDa"
      },
      "execution_count": null,
      "outputs": []
    },
    {
      "cell_type": "code",
      "execution_count": null,
      "metadata": {
        "id": "i3poIyuaQrOT"
      },
      "outputs": [],
      "source": [
        "#2 git을 사용하여 저장소를 클론하고 추가 패키지 설치\n",
        "\n",
        "!git clone https://github.com/pinokiofactory/clarity-refiners-ui.git\n",
        "\n",
        "%cd clarity-refiners-ui\n",
        "\n",
        "!pip install \"pydantic<2.11\"\n",
        "\n",
        "!pip install -r /content/clarity-refiners-ui/app/requirements.txt\n",
        "\n",
        "!apt-get install -y nodejs npm\n",
        "\n",
        "!node install.js\n",
        "\n",
        "!node start.js"
      ]
    },
    {
      "cell_type": "code",
      "source": [
        "#3. app.py 파일 열어서,\n",
        "# 111, 126줄의 bfloat16 -> float16로 변경.\n",
        "# 맨 아래 demo.launch(share=False) -> demo.launch(share=True)로 변경"
      ],
      "metadata": {
        "id": "84ure4OzdWUg"
      },
      "execution_count": null,
      "outputs": []
    },
    {
      "cell_type": "code",
      "source": [
        "#4. WebUI 실행\n",
        "!python /content/clarity-refiners-ui/app/app.py"
      ],
      "metadata": {
        "id": "i3phEA9cR2mF"
      },
      "execution_count": null,
      "outputs": []
    }
  ]
}