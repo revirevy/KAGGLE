{
  "metadata": {
    "kernelspec": {
      "display_name": "Python 3",
      "name": "python3"
    },
    "language_info": {
      "name": "python",
      "version": "3.11.11",
      "mimetype": "text/x-python",
      "codemirror_mode": {
        "name": "ipython",
        "version": 3
      },
      "pygments_lexer": "ipython3",
      "nbconvert_exporter": "python",
      "file_extension": ".py"
    },
    "kaggle": {
      "accelerator": "nvidiaTeslaT4",
      "dataSources": [
        {
          "sourceId": 11356144,
          "sourceType": "datasetVersion",
          "datasetId": 7106924
        },
        {
          "sourceId": 11357326,
          "sourceType": "datasetVersion",
          "datasetId": 7107807
        },
        {
          "sourceId": 11488198,
          "sourceType": "datasetVersion",
          "datasetId": 7200920
        },
        {
          "sourceId": 11488222,
          "sourceType": "datasetVersion",
          "datasetId": 7200938
        },
        {
          "sourceId": 4553,
          "sourceType": "modelInstanceVersion",
          "modelInstanceId": 3345,
          "modelId": 1030
        },
        {
          "sourceId": 87608,
          "sourceType": "modelInstanceVersion",
          "modelInstanceId": 73571,
          "modelId": 98414
        },
        {
          "sourceId": 110195,
          "sourceType": "modelInstanceVersion",
          "modelInstanceId": 92312,
          "modelId": 116511
        },
        {
          "sourceId": 117514,
          "sourceType": "modelInstanceVersion",
          "modelInstanceId": 98812,
          "modelId": 122985
        },
        {
          "sourceId": 117667,
          "sourceType": "modelInstanceVersion",
          "modelInstanceId": 98930,
          "modelId": 123097
        },
        {
          "sourceId": 117674,
          "sourceType": "modelInstanceVersion",
          "modelInstanceId": 98936,
          "modelId": 123105
        },
        {
          "sourceId": 140714,
          "sourceType": "modelInstanceVersion",
          "modelInstanceId": 119179,
          "modelId": 142429
        },
        {
          "sourceId": 140722,
          "sourceType": "modelInstanceVersion",
          "modelInstanceId": 119187,
          "modelId": 142437
        },
        {
          "sourceId": 141354,
          "sourceType": "modelInstanceVersion",
          "modelInstanceId": 119741,
          "modelId": 142979
        },
        {
          "sourceId": 143326,
          "sourceType": "modelInstanceVersion",
          "modelInstanceId": 121435,
          "modelId": 144580
        },
        {
          "sourceId": 145253,
          "sourceType": "modelInstanceVersion",
          "modelInstanceId": 123137,
          "modelId": 146191
        },
        {
          "sourceId": 145254,
          "sourceType": "modelInstanceVersion",
          "modelInstanceId": 123138,
          "modelId": 146192
        },
        {
          "sourceId": 146344,
          "sourceType": "modelInstanceVersion",
          "modelInstanceId": 124125,
          "modelId": 147185
        },
        {
          "sourceId": 151675,
          "sourceType": "modelInstanceVersion",
          "modelInstanceId": 128791,
          "modelId": 151663
        },
        {
          "sourceId": 151859,
          "sourceType": "modelInstanceVersion",
          "modelInstanceId": 115138,
          "modelId": 138403
        },
        {
          "sourceId": 152403,
          "sourceType": "modelInstanceVersion",
          "modelInstanceId": 129392,
          "modelId": 152252
        },
        {
          "sourceId": 167798,
          "sourceType": "modelInstanceVersion",
          "modelInstanceId": 141973,
          "modelId": 164549
        },
        {
          "sourceId": 168148,
          "sourceType": "modelInstanceVersion",
          "modelInstanceId": 139130,
          "modelId": 161762
        },
        {
          "sourceId": 235463,
          "sourceType": "modelInstanceVersion",
          "modelInstanceId": 191163,
          "modelId": 213114
        },
        {
          "sourceId": 260267,
          "sourceType": "modelInstanceVersion",
          "modelInstanceId": 222507,
          "modelId": 244268
        },
        {
          "sourceId": 260268,
          "sourceType": "modelInstanceVersion",
          "modelInstanceId": 222508,
          "modelId": 244269
        },
        {
          "sourceId": 279473,
          "sourceType": "modelInstanceVersion",
          "isSourceIdPinned": true,
          "modelInstanceId": 137991,
          "modelId": 160678
        },
        {
          "sourceId": 292603,
          "sourceType": "modelInstanceVersion",
          "isSourceIdPinned": true,
          "modelInstanceId": 250627,
          "modelId": 272116
        },
        {
          "sourceId": 305538,
          "sourceType": "modelInstanceVersion",
          "isSourceIdPinned": true,
          "modelInstanceId": 260682,
          "modelId": 281840
        },
        {
          "sourceId": 327929,
          "sourceType": "modelInstanceVersion",
          "isSourceIdPinned": true,
          "modelInstanceId": 275200,
          "modelId": 296092
        }
      ],
      "isInternetEnabled": true,
      "language": "python",
      "sourceType": "notebook",
      "isGpuEnabled": true
    },
    "colab": {
      "name": "Nix new COMFY Flux REVIREVY from github",
      "provenance": [],
      "gpuType": "T4",
      "include_colab_link": true
    },
    "accelerator": "GPU",
    "widgets": {
      "application/vnd.jupyter.widget-state+json": {
        "8577b45ab1d2494b983d2e6d4039ffd4": {
          "model_module": "@jupyter-widgets/controls",
          "model_name": "VBoxModel",
          "model_module_version": "1.5.0",
          "state": {
            "_dom_classes": [],
            "_model_module": "@jupyter-widgets/controls",
            "_model_module_version": "1.5.0",
            "_model_name": "VBoxModel",
            "_view_count": null,
            "_view_module": "@jupyter-widgets/controls",
            "_view_module_version": "1.5.0",
            "_view_name": "VBoxView",
            "box_style": "",
            "children": [
              "IPY_MODEL_07e64a0fc5cc42f2a304896808b1c33e"
            ],
            "layout": "IPY_MODEL_4e84c76a5caa49dc9b57525e14e141d6"
          }
        },
        "19a56d25244f43d69652716f141e24eb": {
          "model_module": "@jupyter-widgets/controls",
          "model_name": "HTMLModel",
          "model_module_version": "1.5.0",
          "state": {
            "_dom_classes": [],
            "_model_module": "@jupyter-widgets/controls",
            "_model_module_version": "1.5.0",
            "_model_name": "HTMLModel",
            "_view_count": null,
            "_view_module": "@jupyter-widgets/controls",
            "_view_module_version": "1.5.0",
            "_view_name": "HTMLView",
            "description": "",
            "description_tooltip": null,
            "layout": "IPY_MODEL_d82c89f7ae7445fa85da9cb158d3d5a1",
            "placeholder": "​",
            "style": "IPY_MODEL_ba6b23187a7e4f1bafd1f9ff588a9560",
            "value": "<center> <img\nsrc=https://www.kaggle.com/static/images/site-logo.png\nalt='Kaggle'> <br> Create an API token from <a\nhref=\"https://www.kaggle.com/settings/account\" target=\"_blank\">your Kaggle\nsettings page</a> and paste it below along with your Kaggle username. <br> </center>"
          }
        },
        "de3e22e02f0d4c6a9b79d29d3cd2b935": {
          "model_module": "@jupyter-widgets/controls",
          "model_name": "TextModel",
          "model_module_version": "1.5.0",
          "state": {
            "_dom_classes": [],
            "_model_module": "@jupyter-widgets/controls",
            "_model_module_version": "1.5.0",
            "_model_name": "TextModel",
            "_view_count": null,
            "_view_module": "@jupyter-widgets/controls",
            "_view_module_version": "1.5.0",
            "_view_name": "TextView",
            "continuous_update": true,
            "description": "Username:",
            "description_tooltip": null,
            "disabled": false,
            "layout": "IPY_MODEL_456e3279ef2a448493ac7873bddb877a",
            "placeholder": "​",
            "style": "IPY_MODEL_39bc5c7962a346df956510e2311c0729",
            "value": "revirevy"
          }
        },
        "3bf943f810d34435b81e21af59c2649c": {
          "model_module": "@jupyter-widgets/controls",
          "model_name": "PasswordModel",
          "model_module_version": "1.5.0",
          "state": {
            "_dom_classes": [],
            "_model_module": "@jupyter-widgets/controls",
            "_model_module_version": "1.5.0",
            "_model_name": "PasswordModel",
            "_view_count": null,
            "_view_module": "@jupyter-widgets/controls",
            "_view_module_version": "1.5.0",
            "_view_name": "PasswordView",
            "continuous_update": true,
            "description": "Token:",
            "description_tooltip": null,
            "disabled": false,
            "layout": "IPY_MODEL_f72246ad67434b26bfe1c0f99f31b625",
            "placeholder": "​",
            "style": "IPY_MODEL_25bab152630648ca8d95bb1efebb66cf",
            "value": ""
          }
        },
        "99a499db40ff40459b5b6f3fdb932de0": {
          "model_module": "@jupyter-widgets/controls",
          "model_name": "ButtonModel",
          "model_module_version": "1.5.0",
          "state": {
            "_dom_classes": [],
            "_model_module": "@jupyter-widgets/controls",
            "_model_module_version": "1.5.0",
            "_model_name": "ButtonModel",
            "_view_count": null,
            "_view_module": "@jupyter-widgets/controls",
            "_view_module_version": "1.5.0",
            "_view_name": "ButtonView",
            "button_style": "",
            "description": "Login",
            "disabled": false,
            "icon": "",
            "layout": "IPY_MODEL_6cd56922714e4dcdb929df7fe00c8c68",
            "style": "IPY_MODEL_a3906da435744494a59fd00ac26b8709",
            "tooltip": ""
          }
        },
        "531cfb009ad34cbd8741d1644f1a2d38": {
          "model_module": "@jupyter-widgets/controls",
          "model_name": "HTMLModel",
          "model_module_version": "1.5.0",
          "state": {
            "_dom_classes": [],
            "_model_module": "@jupyter-widgets/controls",
            "_model_module_version": "1.5.0",
            "_model_name": "HTMLModel",
            "_view_count": null,
            "_view_module": "@jupyter-widgets/controls",
            "_view_module_version": "1.5.0",
            "_view_name": "HTMLView",
            "description": "",
            "description_tooltip": null,
            "layout": "IPY_MODEL_e54ca18ed2844344a67073e140b98be4",
            "placeholder": "​",
            "style": "IPY_MODEL_5d9a6c9c98c3456b9ea8451938582952",
            "value": "\n<b>Thank You</b></center>"
          }
        },
        "4e84c76a5caa49dc9b57525e14e141d6": {
          "model_module": "@jupyter-widgets/base",
          "model_name": "LayoutModel",
          "model_module_version": "1.2.0",
          "state": {
            "_model_module": "@jupyter-widgets/base",
            "_model_module_version": "1.2.0",
            "_model_name": "LayoutModel",
            "_view_count": null,
            "_view_module": "@jupyter-widgets/base",
            "_view_module_version": "1.2.0",
            "_view_name": "LayoutView",
            "align_content": null,
            "align_items": "center",
            "align_self": null,
            "border": null,
            "bottom": null,
            "display": "flex",
            "flex": null,
            "flex_flow": "column",
            "grid_area": null,
            "grid_auto_columns": null,
            "grid_auto_flow": null,
            "grid_auto_rows": null,
            "grid_column": null,
            "grid_gap": null,
            "grid_row": null,
            "grid_template_areas": null,
            "grid_template_columns": null,
            "grid_template_rows": null,
            "height": null,
            "justify_content": null,
            "justify_items": null,
            "left": null,
            "margin": null,
            "max_height": null,
            "max_width": null,
            "min_height": null,
            "min_width": null,
            "object_fit": null,
            "object_position": null,
            "order": null,
            "overflow": null,
            "overflow_x": null,
            "overflow_y": null,
            "padding": null,
            "right": null,
            "top": null,
            "visibility": null,
            "width": "50%"
          }
        },
        "d82c89f7ae7445fa85da9cb158d3d5a1": {
          "model_module": "@jupyter-widgets/base",
          "model_name": "LayoutModel",
          "model_module_version": "1.2.0",
          "state": {
            "_model_module": "@jupyter-widgets/base",
            "_model_module_version": "1.2.0",
            "_model_name": "LayoutModel",
            "_view_count": null,
            "_view_module": "@jupyter-widgets/base",
            "_view_module_version": "1.2.0",
            "_view_name": "LayoutView",
            "align_content": null,
            "align_items": null,
            "align_self": null,
            "border": null,
            "bottom": null,
            "display": null,
            "flex": null,
            "flex_flow": null,
            "grid_area": null,
            "grid_auto_columns": null,
            "grid_auto_flow": null,
            "grid_auto_rows": null,
            "grid_column": null,
            "grid_gap": null,
            "grid_row": null,
            "grid_template_areas": null,
            "grid_template_columns": null,
            "grid_template_rows": null,
            "height": null,
            "justify_content": null,
            "justify_items": null,
            "left": null,
            "margin": null,
            "max_height": null,
            "max_width": null,
            "min_height": null,
            "min_width": null,
            "object_fit": null,
            "object_position": null,
            "order": null,
            "overflow": null,
            "overflow_x": null,
            "overflow_y": null,
            "padding": null,
            "right": null,
            "top": null,
            "visibility": null,
            "width": null
          }
        },
        "ba6b23187a7e4f1bafd1f9ff588a9560": {
          "model_module": "@jupyter-widgets/controls",
          "model_name": "DescriptionStyleModel",
          "model_module_version": "1.5.0",
          "state": {
            "_model_module": "@jupyter-widgets/controls",
            "_model_module_version": "1.5.0",
            "_model_name": "DescriptionStyleModel",
            "_view_count": null,
            "_view_module": "@jupyter-widgets/base",
            "_view_module_version": "1.2.0",
            "_view_name": "StyleView",
            "description_width": ""
          }
        },
        "456e3279ef2a448493ac7873bddb877a": {
          "model_module": "@jupyter-widgets/base",
          "model_name": "LayoutModel",
          "model_module_version": "1.2.0",
          "state": {
            "_model_module": "@jupyter-widgets/base",
            "_model_module_version": "1.2.0",
            "_model_name": "LayoutModel",
            "_view_count": null,
            "_view_module": "@jupyter-widgets/base",
            "_view_module_version": "1.2.0",
            "_view_name": "LayoutView",
            "align_content": null,
            "align_items": null,
            "align_self": null,
            "border": null,
            "bottom": null,
            "display": null,
            "flex": null,
            "flex_flow": null,
            "grid_area": null,
            "grid_auto_columns": null,
            "grid_auto_flow": null,
            "grid_auto_rows": null,
            "grid_column": null,
            "grid_gap": null,
            "grid_row": null,
            "grid_template_areas": null,
            "grid_template_columns": null,
            "grid_template_rows": null,
            "height": null,
            "justify_content": null,
            "justify_items": null,
            "left": null,
            "margin": null,
            "max_height": null,
            "max_width": null,
            "min_height": null,
            "min_width": null,
            "object_fit": null,
            "object_position": null,
            "order": null,
            "overflow": null,
            "overflow_x": null,
            "overflow_y": null,
            "padding": null,
            "right": null,
            "top": null,
            "visibility": null,
            "width": null
          }
        },
        "39bc5c7962a346df956510e2311c0729": {
          "model_module": "@jupyter-widgets/controls",
          "model_name": "DescriptionStyleModel",
          "model_module_version": "1.5.0",
          "state": {
            "_model_module": "@jupyter-widgets/controls",
            "_model_module_version": "1.5.0",
            "_model_name": "DescriptionStyleModel",
            "_view_count": null,
            "_view_module": "@jupyter-widgets/base",
            "_view_module_version": "1.2.0",
            "_view_name": "StyleView",
            "description_width": ""
          }
        },
        "f72246ad67434b26bfe1c0f99f31b625": {
          "model_module": "@jupyter-widgets/base",
          "model_name": "LayoutModel",
          "model_module_version": "1.2.0",
          "state": {
            "_model_module": "@jupyter-widgets/base",
            "_model_module_version": "1.2.0",
            "_model_name": "LayoutModel",
            "_view_count": null,
            "_view_module": "@jupyter-widgets/base",
            "_view_module_version": "1.2.0",
            "_view_name": "LayoutView",
            "align_content": null,
            "align_items": null,
            "align_self": null,
            "border": null,
            "bottom": null,
            "display": null,
            "flex": null,
            "flex_flow": null,
            "grid_area": null,
            "grid_auto_columns": null,
            "grid_auto_flow": null,
            "grid_auto_rows": null,
            "grid_column": null,
            "grid_gap": null,
            "grid_row": null,
            "grid_template_areas": null,
            "grid_template_columns": null,
            "grid_template_rows": null,
            "height": null,
            "justify_content": null,
            "justify_items": null,
            "left": null,
            "margin": null,
            "max_height": null,
            "max_width": null,
            "min_height": null,
            "min_width": null,
            "object_fit": null,
            "object_position": null,
            "order": null,
            "overflow": null,
            "overflow_x": null,
            "overflow_y": null,
            "padding": null,
            "right": null,
            "top": null,
            "visibility": null,
            "width": null
          }
        },
        "25bab152630648ca8d95bb1efebb66cf": {
          "model_module": "@jupyter-widgets/controls",
          "model_name": "DescriptionStyleModel",
          "model_module_version": "1.5.0",
          "state": {
            "_model_module": "@jupyter-widgets/controls",
            "_model_module_version": "1.5.0",
            "_model_name": "DescriptionStyleModel",
            "_view_count": null,
            "_view_module": "@jupyter-widgets/base",
            "_view_module_version": "1.2.0",
            "_view_name": "StyleView",
            "description_width": ""
          }
        },
        "6cd56922714e4dcdb929df7fe00c8c68": {
          "model_module": "@jupyter-widgets/base",
          "model_name": "LayoutModel",
          "model_module_version": "1.2.0",
          "state": {
            "_model_module": "@jupyter-widgets/base",
            "_model_module_version": "1.2.0",
            "_model_name": "LayoutModel",
            "_view_count": null,
            "_view_module": "@jupyter-widgets/base",
            "_view_module_version": "1.2.0",
            "_view_name": "LayoutView",
            "align_content": null,
            "align_items": null,
            "align_self": null,
            "border": null,
            "bottom": null,
            "display": null,
            "flex": null,
            "flex_flow": null,
            "grid_area": null,
            "grid_auto_columns": null,
            "grid_auto_flow": null,
            "grid_auto_rows": null,
            "grid_column": null,
            "grid_gap": null,
            "grid_row": null,
            "grid_template_areas": null,
            "grid_template_columns": null,
            "grid_template_rows": null,
            "height": null,
            "justify_content": null,
            "justify_items": null,
            "left": null,
            "margin": null,
            "max_height": null,
            "max_width": null,
            "min_height": null,
            "min_width": null,
            "object_fit": null,
            "object_position": null,
            "order": null,
            "overflow": null,
            "overflow_x": null,
            "overflow_y": null,
            "padding": null,
            "right": null,
            "top": null,
            "visibility": null,
            "width": null
          }
        },
        "a3906da435744494a59fd00ac26b8709": {
          "model_module": "@jupyter-widgets/controls",
          "model_name": "ButtonStyleModel",
          "model_module_version": "1.5.0",
          "state": {
            "_model_module": "@jupyter-widgets/controls",
            "_model_module_version": "1.5.0",
            "_model_name": "ButtonStyleModel",
            "_view_count": null,
            "_view_module": "@jupyter-widgets/base",
            "_view_module_version": "1.2.0",
            "_view_name": "StyleView",
            "button_color": null,
            "font_weight": ""
          }
        },
        "e54ca18ed2844344a67073e140b98be4": {
          "model_module": "@jupyter-widgets/base",
          "model_name": "LayoutModel",
          "model_module_version": "1.2.0",
          "state": {
            "_model_module": "@jupyter-widgets/base",
            "_model_module_version": "1.2.0",
            "_model_name": "LayoutModel",
            "_view_count": null,
            "_view_module": "@jupyter-widgets/base",
            "_view_module_version": "1.2.0",
            "_view_name": "LayoutView",
            "align_content": null,
            "align_items": null,
            "align_self": null,
            "border": null,
            "bottom": null,
            "display": null,
            "flex": null,
            "flex_flow": null,
            "grid_area": null,
            "grid_auto_columns": null,
            "grid_auto_flow": null,
            "grid_auto_rows": null,
            "grid_column": null,
            "grid_gap": null,
            "grid_row": null,
            "grid_template_areas": null,
            "grid_template_columns": null,
            "grid_template_rows": null,
            "height": null,
            "justify_content": null,
            "justify_items": null,
            "left": null,
            "margin": null,
            "max_height": null,
            "max_width": null,
            "min_height": null,
            "min_width": null,
            "object_fit": null,
            "object_position": null,
            "order": null,
            "overflow": null,
            "overflow_x": null,
            "overflow_y": null,
            "padding": null,
            "right": null,
            "top": null,
            "visibility": null,
            "width": null
          }
        },
        "5d9a6c9c98c3456b9ea8451938582952": {
          "model_module": "@jupyter-widgets/controls",
          "model_name": "DescriptionStyleModel",
          "model_module_version": "1.5.0",
          "state": {
            "_model_module": "@jupyter-widgets/controls",
            "_model_module_version": "1.5.0",
            "_model_name": "DescriptionStyleModel",
            "_view_count": null,
            "_view_module": "@jupyter-widgets/base",
            "_view_module_version": "1.2.0",
            "_view_name": "StyleView",
            "description_width": ""
          }
        },
        "83ebfc4c97eb48578846c5ccdfd3167f": {
          "model_module": "@jupyter-widgets/controls",
          "model_name": "LabelModel",
          "model_module_version": "1.5.0",
          "state": {
            "_dom_classes": [],
            "_model_module": "@jupyter-widgets/controls",
            "_model_module_version": "1.5.0",
            "_model_name": "LabelModel",
            "_view_count": null,
            "_view_module": "@jupyter-widgets/controls",
            "_view_module_version": "1.5.0",
            "_view_name": "LabelView",
            "description": "",
            "description_tooltip": null,
            "layout": "IPY_MODEL_061994b65c8d4f619fbd319d78e333e8",
            "placeholder": "​",
            "style": "IPY_MODEL_47ce0d691051496b96e59fb867dac632",
            "value": "Connecting..."
          }
        },
        "061994b65c8d4f619fbd319d78e333e8": {
          "model_module": "@jupyter-widgets/base",
          "model_name": "LayoutModel",
          "model_module_version": "1.2.0",
          "state": {
            "_model_module": "@jupyter-widgets/base",
            "_model_module_version": "1.2.0",
            "_model_name": "LayoutModel",
            "_view_count": null,
            "_view_module": "@jupyter-widgets/base",
            "_view_module_version": "1.2.0",
            "_view_name": "LayoutView",
            "align_content": null,
            "align_items": null,
            "align_self": null,
            "border": null,
            "bottom": null,
            "display": null,
            "flex": null,
            "flex_flow": null,
            "grid_area": null,
            "grid_auto_columns": null,
            "grid_auto_flow": null,
            "grid_auto_rows": null,
            "grid_column": null,
            "grid_gap": null,
            "grid_row": null,
            "grid_template_areas": null,
            "grid_template_columns": null,
            "grid_template_rows": null,
            "height": null,
            "justify_content": null,
            "justify_items": null,
            "left": null,
            "margin": null,
            "max_height": null,
            "max_width": null,
            "min_height": null,
            "min_width": null,
            "object_fit": null,
            "object_position": null,
            "order": null,
            "overflow": null,
            "overflow_x": null,
            "overflow_y": null,
            "padding": null,
            "right": null,
            "top": null,
            "visibility": null,
            "width": null
          }
        },
        "47ce0d691051496b96e59fb867dac632": {
          "model_module": "@jupyter-widgets/controls",
          "model_name": "DescriptionStyleModel",
          "model_module_version": "1.5.0",
          "state": {
            "_model_module": "@jupyter-widgets/controls",
            "_model_module_version": "1.5.0",
            "_model_name": "DescriptionStyleModel",
            "_view_count": null,
            "_view_module": "@jupyter-widgets/base",
            "_view_module_version": "1.2.0",
            "_view_name": "StyleView",
            "description_width": ""
          }
        },
        "07e64a0fc5cc42f2a304896808b1c33e": {
          "model_module": "@jupyter-widgets/controls",
          "model_name": "LabelModel",
          "model_module_version": "1.5.0",
          "state": {
            "_dom_classes": [],
            "_model_module": "@jupyter-widgets/controls",
            "_model_module_version": "1.5.0",
            "_model_name": "LabelModel",
            "_view_count": null,
            "_view_module": "@jupyter-widgets/controls",
            "_view_module_version": "1.5.0",
            "_view_name": "LabelView",
            "description": "",
            "description_tooltip": null,
            "layout": "IPY_MODEL_2930cfd8a89d4b338341ad8dc2a53b8e",
            "placeholder": "​",
            "style": "IPY_MODEL_03bbac17a9f648249f9873a6055ecd3a",
            "value": "Kaggle credentials successfully validated."
          }
        },
        "2930cfd8a89d4b338341ad8dc2a53b8e": {
          "model_module": "@jupyter-widgets/base",
          "model_name": "LayoutModel",
          "model_module_version": "1.2.0",
          "state": {
            "_model_module": "@jupyter-widgets/base",
            "_model_module_version": "1.2.0",
            "_model_name": "LayoutModel",
            "_view_count": null,
            "_view_module": "@jupyter-widgets/base",
            "_view_module_version": "1.2.0",
            "_view_name": "LayoutView",
            "align_content": null,
            "align_items": null,
            "align_self": null,
            "border": null,
            "bottom": null,
            "display": null,
            "flex": null,
            "flex_flow": null,
            "grid_area": null,
            "grid_auto_columns": null,
            "grid_auto_flow": null,
            "grid_auto_rows": null,
            "grid_column": null,
            "grid_gap": null,
            "grid_row": null,
            "grid_template_areas": null,
            "grid_template_columns": null,
            "grid_template_rows": null,
            "height": null,
            "justify_content": null,
            "justify_items": null,
            "left": null,
            "margin": null,
            "max_height": null,
            "max_width": null,
            "min_height": null,
            "min_width": null,
            "object_fit": null,
            "object_position": null,
            "order": null,
            "overflow": null,
            "overflow_x": null,
            "overflow_y": null,
            "padding": null,
            "right": null,
            "top": null,
            "visibility": null,
            "width": null
          }
        },
        "03bbac17a9f648249f9873a6055ecd3a": {
          "model_module": "@jupyter-widgets/controls",
          "model_name": "DescriptionStyleModel",
          "model_module_version": "1.5.0",
          "state": {
            "_model_module": "@jupyter-widgets/controls",
            "_model_module_version": "1.5.0",
            "_model_name": "DescriptionStyleModel",
            "_view_count": null,
            "_view_module": "@jupyter-widgets/base",
            "_view_module_version": "1.2.0",
            "_view_name": "StyleView",
            "description_width": ""
          }
        }
      }
    }
  },
  "nbformat_minor": 0,
  "nbformat": 4,
  "cells": [
    {
      "cell_type": "markdown",
      "metadata": {
        "id": "view-in-github",
        "colab_type": "text"
      },
      "source": [
        "<a href=\"https://colab.research.google.com/github/revirevy/KAGGLE/blob/main/Nix_new_COMFY_Flux_REVIREVY_from_github%20in%20colab.ipynb\" target=\"_parent\"><img src=\"https://colab.research.google.com/assets/colab-badge.svg\" alt=\"Open In Colab\"/></a>"
      ]
    },
    {
      "source": [
        "# IMPORTANT: SOME KAGGLE DATA SOURCES ARE PRIVATE\n",
        "# RUN THIS CELL IN ORDER TO IMPORT YOUR KAGGLE DATA SOURCES.\n",
        "import kagglehub\n",
        "kagglehub.login()\n"
      ],
      "metadata": {
        "colab": {
          "base_uri": "https://localhost:8080/",
          "height": 85,
          "referenced_widgets": [
            "8577b45ab1d2494b983d2e6d4039ffd4",
            "19a56d25244f43d69652716f141e24eb",
            "de3e22e02f0d4c6a9b79d29d3cd2b935",
            "3bf943f810d34435b81e21af59c2649c",
            "99a499db40ff40459b5b6f3fdb932de0",
            "531cfb009ad34cbd8741d1644f1a2d38",
            "4e84c76a5caa49dc9b57525e14e141d6",
            "d82c89f7ae7445fa85da9cb158d3d5a1",
            "ba6b23187a7e4f1bafd1f9ff588a9560",
            "456e3279ef2a448493ac7873bddb877a",
            "39bc5c7962a346df956510e2311c0729",
            "f72246ad67434b26bfe1c0f99f31b625",
            "25bab152630648ca8d95bb1efebb66cf",
            "6cd56922714e4dcdb929df7fe00c8c68",
            "a3906da435744494a59fd00ac26b8709",
            "e54ca18ed2844344a67073e140b98be4",
            "5d9a6c9c98c3456b9ea8451938582952",
            "83ebfc4c97eb48578846c5ccdfd3167f",
            "061994b65c8d4f619fbd319d78e333e8",
            "47ce0d691051496b96e59fb867dac632",
            "07e64a0fc5cc42f2a304896808b1c33e",
            "2930cfd8a89d4b338341ad8dc2a53b8e",
            "03bbac17a9f648249f9873a6055ecd3a"
          ]
        },
        "id": "upfNTuy7n3AZ",
        "outputId": "4cdaf12c-f551-460d-9e84-5e1bab55fa5e"
      },
      "cell_type": "code",
      "outputs": [
        {
          "output_type": "display_data",
          "data": {
            "text/plain": [
              "VBox(children=(HTML(value='<center> <img\\nsrc=https://www.kaggle.com/static/images/site-logo.png\\nalt=\\'Kaggle…"
            ],
            "application/vnd.jupyter.widget-view+json": {
              "version_major": 2,
              "version_minor": 0,
              "model_id": "8577b45ab1d2494b983d2e6d4039ffd4"
            }
          },
          "metadata": {}
        },
        {
          "output_type": "stream",
          "name": "stdout",
          "text": [
            "Kaggle credentials set.\n",
            "Kaggle credentials successfully validated.\n"
          ]
        }
      ],
      "execution_count": 1
    },
    {
      "source": [
        "# IMPORTANT: RUN THIS CELL IN ORDER TO IMPORT YOUR KAGGLE DATA SOURCES,\n",
        "# THEN FEEL FREE TO DELETE THIS CELL.\n",
        "# NOTE: THIS NOTEBOOK ENVIRONMENT DIFFERS FROM KAGGLE'S PYTHON\n",
        "# ENVIRONMENT SO THERE MAY BE MISSING LIBRARIES USED BY YOUR\n",
        "# NOTEBOOK.\n",
        "\n",
        "# revirevyrevy_nixphotos_path = kagglehub.dataset_download('revirevyrevy/nixphotos')\n",
        "# revirevyrevy_jenny_photos_path = kagglehub.dataset_download('revirevyrevy/jenny-photos')\n",
        "revirevy_nix_photos_source_path = kagglehub.dataset_download('revirevy/nix-photos-source')\n",
        "revirevy_jen_photos_source_path = kagglehub.dataset_download('revirevy/jen-photos-source')\n",
        "# laionai_clip_vit_pytorch_h_14_laion2b_s32b_b79k_1_path = kagglehub.model_download('laionai/clip-vit/PyTorch/h-14-laion2b-s32b-b79k/1')\n",
        "# himanshukakkar379_fine_tuned_florence_transformers_default_3_path = kagglehub.model_download('himanshukakkar379/fine-tuned-florence/Transformers/default/3')\n",
        "# asdasdsadasdsasdasd_florence2_transformers_default_1_path = kagglehub.model_download('asdasdsadasdsasdasd/florence2/Transformers/default/1')\n",
        "# revirevy_flux1devnf46stepsnsfw_pytorch_default_1_path = kagglehub.model_download('revirevy/flux1devnf46stepsnsfw/PyTorch/default/1')\n",
        "# revirevy_8stepscrearthyperfluxdevbnb_v24hyperdevfp8unet__pytorch_default_1_path = kagglehub.model_download('revirevy/8stepscrearthyperfluxdevbnb_v24hyperdevfp8unet_/PyTorch/default/1')\n",
        "# revirevy_creart_hyper_flux_dev_gguf_q4_0_gguf_default_1_path = kagglehub.model_download('revirevy/creart-hyper-flux-dev-gguf-q4_0/Gguf/default/1')\n",
        "# revirevy_flux_vae_safetensors_pytorch_default_1_path = kagglehub.model_download('revirevy/flux-vae-safetensors/PyTorch/default/1')\n",
        "# revirevy_fluxartfusion4steps_v12_pytorch_default_1_path = kagglehub.model_download('revirevy/fluxartfusion4steps_v12/PyTorch/default/1')\n",
        "# revirevy_alimama_flux_turbo_lora_pytorch_default_1_path = kagglehub.model_download('revirevy/alimama-flux-turbo-lora/PyTorch/default/1')\n",
        "# revirevy_flux_loras_pytorch_default_1_path = kagglehub.model_download('revirevy/flux_loras/PyTorch/default/1')\n",
        "# jualvideobondage_controlnet_package_hsbd10_pytorch_default_4_path = kagglehub.model_download('jualvideobondage/controlnet-package-hsbd10/PyTorch/default/4')\n",
        "# revirevy_pulid_model_pytorch_default_3_path = kagglehub.model_download('revirevy/pulid-model/PyTorch/default/3')\n",
        "# revirevy_sdxl_controlnets_pytorch_default_3_path = kagglehub.model_download('revirevy/sdxl_controlnets/PyTorch/default/4')\n",
        "# revirevy_4xnomosunidat_upscaler_pytorch_default_5_path = kagglehub.model_download('revirevy/4xnomosunidat_upscaler/PyTqorch/default/5')\n",
        "# revirevy_dmd2_pytorch_default_1_path = kagglehub.model_download('revirevy/dmd2/PyTorch/default/1')\n",
        "# revirevy_juggernaut_pytorch_default_1_path = kagglehub.model_download('revirevy/juggernaut/PyTorch/default/1')\n",
        "# revirevy_realvisxl_v50_pytorch_default_3_path = kagglehub.model_download('revirevy/realvisxl-v50/PyTorch/default/3')\n",
        "# revirevy_instantir_pytorch_default_2_path = kagglehub.model_download('revirevy/instantir/PyTorch/default/2')\n",
        "# revirevy_nix_flux_fusion_models_pytorch_default_1_path = kagglehub.model_download('revirevy/nix-flux-fusion-models/PyTorch/default/1')\n",
        "# revirevyrevy_flashface_pytorch_default_1_path = kagglehub.model_download('revirevyrevy/flashface/PyTorch/default/1')\n",
        "\n",
        "print('Data source import complete.')\n"
      ],
      "metadata": {
        "colab": {
          "base_uri": "https://localhost:8080/"
        },
        "id": "A0jCtj07n3Aa",
        "outputId": "69ef717f-e94c-4051-f9db-1fc42ae9eb72"
      },
      "cell_type": "code",
      "outputs": [
        {
          "output_type": "stream",
          "name": "stdout",
          "text": [
            "Downloading from https://www.kaggle.com/api/v1/datasets/download/revirevy/nix-photos-source?dataset_version_number=1...\n"
          ]
        },
        {
          "output_type": "stream",
          "name": "stderr",
          "text": [
            "100%|██████████| 2.10M/2.10M [00:00<00:00, 3.47MB/s]"
          ]
        },
        {
          "output_type": "stream",
          "name": "stdout",
          "text": [
            "Extracting files...\n"
          ]
        },
        {
          "output_type": "stream",
          "name": "stderr",
          "text": [
            "\n"
          ]
        },
        {
          "output_type": "stream",
          "name": "stdout",
          "text": [
            "Downloading from https://www.kaggle.com/api/v1/datasets/download/revirevy/jen-photos-source?dataset_version_number=1...\n"
          ]
        },
        {
          "output_type": "stream",
          "name": "stderr",
          "text": [
            "100%|██████████| 3.63M/3.63M [00:00<00:00, 5.40MB/s]"
          ]
        },
        {
          "output_type": "stream",
          "name": "stdout",
          "text": [
            "Extracting files...\n"
          ]
        },
        {
          "output_type": "stream",
          "name": "stderr",
          "text": [
            "\n"
          ]
        },
        {
          "output_type": "stream",
          "name": "stdout",
          "text": [
            "Data source import complete.\n"
          ]
        }
      ],
      "execution_count": 2
    },
    {
      "cell_type": "code",
      "source": [
        "!ps fax| grep -i -E 'comfy|main'"
      ],
      "metadata": {
        "trusted": true,
        "execution": {
          "iopub.status.busy": "2025-04-22T16:17:16.017428Z",
          "iopub.execute_input": "2025-04-22T16:17:16.017981Z",
          "iopub.status.idle": "2025-04-22T16:17:16.149403Z",
          "shell.execute_reply.started": "2025-04-22T16:17:16.017938Z",
          "shell.execute_reply": "2025-04-22T16:17:16.148743Z"
        },
        "colab": {
          "base_uri": "https://localhost:8080/"
        },
        "id": "rPmssCwXn3Ac",
        "outputId": "272d3601-b953-4a99-a120-f396dcfb92ea"
      },
      "outputs": [
        {
          "output_type": "stream",
          "name": "stdout",
          "text": [
            "    489 ?        S      0:00  |       \\_ /bin/bash -c ps fax| grep -i -E 'comfy|main'\n",
            "    491 ?        S      0:00  |           \\_ grep -i -E comfy|main\n",
            "    114 ?        Sl     0:00  \\_ /usr/local/bin/dap_multiplexer --domain_socket_path=/tmp/debugger_2f89onsl85\n"
          ]
        }
      ],
      "execution_count": 3
    },
    {
      "cell_type": "code",
      "source": [
        "%pwd"
      ],
      "metadata": {
        "trusted": true,
        "execution": {
          "iopub.status.busy": "2025-04-22T16:17:16.150628Z",
          "iopub.execute_input": "2025-04-22T16:17:16.150883Z",
          "iopub.status.idle": "2025-04-22T16:17:16.157171Z",
          "shell.execute_reply.started": "2025-04-22T16:17:16.150861Z",
          "shell.execute_reply": "2025-04-22T16:17:16.156471Z"
        },
        "colab": {
          "base_uri": "https://localhost:8080/",
          "height": 35
        },
        "id": "SVU_CUEUn3Ae",
        "outputId": "6ecd6ea6-7dd5-4f33-de00-a2ae2f91f33f"
      },
      "outputs": [
        {
          "output_type": "execute_result",
          "data": {
            "text/plain": [
              "'/content'"
            ],
            "application/vnd.google.colaboratory.intrinsic+json": {
              "type": "string"
            }
          },
          "metadata": {},
          "execution_count": 4
        }
      ],
      "execution_count": 4
    },
    {
      "cell_type": "code",
      "source": [
        "import os\n",
        "import subprocess\n",
        "import sys\n",
        "\n",
        "REPO_URL = \"https://github.com/revirevy/nix_comfy_kaggle.git\"\n",
        "REPO_DIR = \"/kaggle/working/nix_comfy_kaggle\"\n",
        "\n",
        "# Export GIT_DISCOVERY_ACROSS_FILESYSTEM\n",
        "os.environ[\"GIT_DISCOVERY_ACROSS_FILESYSTEM\"] = \"1\"\n",
        "\n",
        "def run_command(cmd, cwd=None):\n",
        "    \"\"\"Run command with real-time output streaming\"\"\"\n",
        "    process = subprocess.Popen(\n",
        "        cmd,\n",
        "        stdout=subprocess.PIPE,\n",
        "        stderr=subprocess.PIPE,\n",
        "        text=True,\n",
        "        cwd=cwd\n",
        "    )\n",
        "\n",
        "    # Stream output while process runs\n",
        "    for stream in [process.stdout, process.stderr]:\n",
        "        if stream:\n",
        "            for line in iter(stream.readline, ''):\n",
        "                sys.stdout.write(line)\n",
        "                sys.stdout.flush()\n",
        "\n",
        "    return process.wait()\n",
        "\n",
        "# Check if directory exists\n",
        "if os.path.isdir(REPO_DIR):\n",
        "    print(f\"Directory '{REPO_DIR}' exists\")\n",
        "\n",
        "    if os.path.isdir(os.path.join(REPO_DIR, \".git\")):\n",
        "        print(\"Pulling latest changes...\")\n",
        "        retcode = run_command([\"git\",'-C',REPO_DIR, \"pull\", \"--all\"], cwd=REPO_DIR)\n",
        "        if retcode != 0:\n",
        "            print(f\"Git pull failed with code {retcode}\", file=sys.stderr)\n",
        "    else:\n",
        "        print(\"Not a Git repository - recloning...\")\n",
        "        subprocess.run([\"rm\", \"-rf\", REPO_DIR], check=True)\n",
        "        print(\"Cloning repository...\")\n",
        "        retcode = run_command([\"git\", \"clone\", REPO_URL, REPO_DIR])\n",
        "else:\n",
        "    print(\"Cloning repository...\")\n",
        "    retcode = run_command([\"git\", \"clone\", REPO_URL, REPO_DIR])\n",
        "\n",
        "# List contents\n",
        "print(f\"\\nContents of '{REPO_DIR}':\")\n",
        "run_command([\"ls\", \"-ltrha\", REPO_DIR])\n"
      ],
      "metadata": {
        "trusted": true,
        "execution": {
          "iopub.status.busy": "2025-04-22T16:17:16.157852Z",
          "iopub.execute_input": "2025-04-22T16:17:16.15806Z",
          "iopub.status.idle": "2025-04-22T16:17:16.664664Z",
          "shell.execute_reply.started": "2025-04-22T16:17:16.158045Z",
          "shell.execute_reply": "2025-04-22T16:17:16.664147Z"
        },
        "colab": {
          "base_uri": "https://localhost:8080/"
        },
        "id": "hFuwuNsRn3Ae",
        "outputId": "b7556d9d-09ba-482b-e917-e0ab0dd2cbdc"
      },
      "outputs": [
        {
          "output_type": "stream",
          "name": "stdout",
          "text": [
            "Cloning repository...\n",
            "Cloning into '/kaggle/working/nix_comfy_kaggle'...\n",
            "\n",
            "Contents of '/kaggle/working/nix_comfy_kaggle':\n",
            "total 64K\n",
            "drwxr-xr-x 3 root root 4.0K Apr 23 14:01 ..\n",
            "-rw-r--r-- 1 root root 3.4K Apr 23 14:01 .gitignore\n",
            "-rw-r--r-- 1 root root   57 Apr 23 14:01 README.md\n",
            "-rw-r--r-- 1 root root  29K Apr 23 14:01 main.py\n",
            "-rw-r--r-- 1 root root  12K Apr 23 14:01 LICENSE\n",
            "drwxr-xr-x 8 root root 4.0K Apr 23 14:01 .git\n",
            "drwxr-xr-x 3 root root 4.0K Apr 23 14:01 .\n"
          ]
        },
        {
          "output_type": "execute_result",
          "data": {
            "text/plain": [
              "0"
            ]
          },
          "metadata": {},
          "execution_count": 5
        }
      ],
      "execution_count": 5
    },
    {
      "cell_type": "code",
      "source": [
        "import os, sys\n",
        "os.chdir(\"/kaggle/working/nix_comfy_kaggle\")\n",
        "from main import *\n",
        "main()"
      ],
      "metadata": {
        "execution": {
          "iopub.status.busy": "2025-04-22T16:17:16.666114Z",
          "iopub.execute_input": "2025-04-22T16:17:16.666501Z",
          "iopub.status.idle": "2025-04-22T16:22:23.862925Z",
          "shell.execute_reply.started": "2025-04-22T16:17:16.666483Z",
          "shell.execute_reply": "2025-04-22T16:22:23.857319Z"
        },
        "trusted": true,
        "scrolled": true,
        "colab": {
          "base_uri": "https://localhost:8080/",
          "height": 1000
        },
        "id": "FLaLlpvbn3Ae",
        "outputId": "ffd5e31e-76c4-41df-ab47-e2e43a87a424"
      },
      "outputs": [
        {
          "output_type": "stream",
          "name": "stdout",
          "text": [
            "============================================================\n",
            "Starting main function...\n",
            "------------------------------------------------------------\n",
            "============================================================\n",
            "Installing uv...\n",
            "------------------------------------------------------------\n",
            "============================================================\n",
            "Starting to link models...\n",
            "------------------------------------------------------------\n",
            ">> [xlinkthis]: Create symlink from \n",
            " '/kaggle/input/clip-gmp-vit-l-14/tensorflow2/default/1/model.safetensors' to '/kaggle/working/ComfyUI/models/clip/CLIP_gmp_VIT_L_14.safetensors'\n",
            ">> [xlinkthis]: Create symlink from \n",
            " '/kaggle/input/t5xxl_fp16.safetensors/tensorflow2/default/1/t5xxl_fp16.safetensors' to '/kaggle/working/ComfyUI/models/clip/t5xxl_fp16.safetensors'\n",
            ">> [xlinkthis]: Create symlink from \n",
            " '/kaggle/input/flux-vae-safetensors/pytorch/default/1/ae.safetensors' to '/kaggle/working/ComfyUI/models/vae/FLuX_ae.safetensors'\n",
            ">> [xlinkthis]: Create symlink from \n",
            " '/kaggle/input/florence2/transformers/default/1/Florence2_model_3/model.safetensors' to '/kaggle/working/ComfyUI/models/LLM/Florence_model_3.safetensors'\n",
            ">> [xlinkthis]: Create symlink from \n",
            " '/kaggle/input/florence2/transformers/default/1/Florence2_model_2/model.safetensors' to '/kaggle/working/ComfyUI/models/LLM/Florence_model_2.safetensors'\n",
            ">> [xlinkthis]: Create symlink from \n",
            " '/kaggle/input/controlnet/pytorch/flux-canny-controlnet/1/flux-canny-controlnet-v3.safetensors' to '/kaggle/working/ComfyUI/models/xlabs/contronets/flux-canny-controlnet-v3.safetensors'\n",
            ">> [xlinkthis]: Create symlink from \n",
            " '/kaggle/input/controlnet/pytorch/flux-depth-controlnet/1/flux-depth-controlnet-v3.safetensors' to '/kaggle/working/ComfyUI/models/xlabs/contronets/flux-depth-controlnet-v3.safetensors'\n",
            ">> [xlinkthis]: Create symlink from \n",
            " '/kaggle/input/flux1devnf46stepsnsfw/pytorch/default/1/flux1DevNF46StepsNSFW_fluxdevFP86Steps.safetensors' to '/kaggle/working/ComfyUI/models/checkpoints/flux1DevNF46StepsNSFW_fluxdevFP86Steps.safetensors'\n",
            ">> [xlinkthis]: Create symlink from \n",
            " '/kaggle/input/8stepscrearthyperfluxdevbnb_v24hyperdevfp8unet_/pytorch/default/1/8StepsCreartHyperFluxDevBnb_v24HyperDevFp8Unet.safetensors' to '/kaggle/working/ComfyUI/models/unet/8StepsCreartHyperFluxDevBnb_v24HyperDevFp8Unet.safetensors'\n",
            ">> [xlinkthis]: Create symlink from \n",
            " '/kaggle/input/creart-hyper-flux-dev-gguf-q4_0/gguf/default/1/CreArt-Hyper-Flux-Dev-gguf-q4_0.gguf' to '/kaggle/working/ComfyUI/models/unet/CreArt-Hyper-Flux-Dev-gguf-q4_0.gguf'\n",
            ">> [xlinkthis]: Create symlink from \n",
            " '/kaggle/input/unet/gguf/flux1-dev-q4_k_s/1/flux1-dev-Q4_K_S.gguf' to '/kaggle/working/ComfyUI/models/unet/flux1-dev-Q4_K_S.gguf'\n",
            ">> [xlinkthis]: Create symlink from \n",
            " '/kaggle/input/aldebodobasexl_v3mini/tensorflow2/default/1/albedobaseXL_v3Mini.safetensors' to '/kaggle/working/ComfyUI/models/checkpoints/albedobaseXL_v3Mini.safetensors'\n",
            ">> [xlinkthis]: Create symlink from \n",
            " '/kaggle/input/alimama-flux-turbo-lora/pytorch/default/1/diffusion_pytorch_model.safetensors' to '/kaggle/working/ComfyUI/models/loras/alimama-flux-turbo-lora.safetensors'\n",
            ">> [xlinkthis]: Create symlink from \n",
            " '/kaggle/input/fluxartfusion4steps_v12/pytorch/default/1/fluxArtfusion4Steps_v12.safetensors' to '/kaggle/working/ComfyUI/models/checkpoints/fluxArtfusion4Steps_v12.safetensors'\n",
            ">> [xlinkthis]: Create symlink from \n",
            " '/kaggle/input/clip-vit/pytorch/h-14-laion2b-s32b-b79k/1/pytorch_model.bin' to '/kaggle/working/ComfyUI/models/clip_vision/clip_vit_h-14-laion2b-s32b-b79k.bin'\n",
            ">> [xlinkthis]: Create symlink from \n",
            " '/kaggle/input/controlnet-package-hsbd10/pytorch/default/4/controlnet_instantid_model.safetensors' to '/kaggle/working/ComfyUI/models/controlnet/instantid/LeInstantID_ControlNet_model.safetensors'\n",
            ">> [xlinkthis]: Create symlink from \n",
            " '/kaggle/input/4xnomosunidat_upscaler/pytorch/default/5/4xnomosunidat_upscaler.safetensors' to '/kaggle/working/ComfyUI/models/upscale_models/4xnomosunidat_upscaler.safetensors'\n",
            ">> [xlinkthis]: Create symlink from \n",
            " '/kaggle/input/flashface/pytorch/default/1/flashface.ckpt' to '/kaggle/working/ComfyUI/models/flashface/flashface.ckpt'\n",
            "============================================================\n",
            "Models linked successfully.\n",
            "------------------------------------------------------------\n",
            "============================================================\n",
            "Starting to link additional models...\n",
            "============================================================\n",
            "[link_additional_models] Source directory does not exist: /kaggle/input/4xnomosunidat_upscaler/pytorch/default/5/\n",
            "[link_additional_models] Source directory does not exist: /kaggle/input/t5_xxl_gguf_models/pytorch/default/1/\n",
            "[link_additional_models] Source directory does not exist: /kaggle/input/sdxl_controlnets/pytorch/default/4/\n",
            "[link_additional_models] Source directory does not exist: /kaggle/input/pulid-model/pytorch/default/3/\n",
            "[link_additional_models] Source directory does not exist: /kaggle/input/nix_instantid_ipadapter/pytorch/default/1\n",
            "[link_additional_models] Source directory does not exist: /kaggle/input/nix_instantid_ipadapter/pytorch/default/1\n",
            "[link_additional_models] Source directory does not exist: /kaggle/input/controlnet-package-hsbd10/pytorch/default/4/\n",
            "[link_additional_models] Source directory does not exist: /kaggle/input/dmd2/pytorch/default/1\n",
            "[link_additional_models] Source directory does not exist: /kaggle/input/juggernaut/pytorch/default/1/\n",
            "[link_additional_models] Source directory does not exist: /kaggle/input/realvisxl-v50/pytorch/default/3/\n",
            "[link_additional_models] Source directory does not exist: /kaggle/input/instantir/pytorch/default/2/\n",
            "[link_additional_models] Source directory does not exist: /kaggle/input/nix-flux-fusion-models/pytorch/default/1/\n",
            "[link_additional_models] Source directory does not exist: /kaggle/input/flux_loras/pytorch/default/1/\n",
            "[link_additional_models] Source directory does not exist: /kaggle/input/loras_diff_comfy/pytorch/default/1/\n",
            "============================================================\n",
            "Additional models linked successfully.\n",
            "============================================================\n",
            "============================================================\n",
            "Starting to set up ComfyUI...\n",
            "------------------------------------------------------------\n",
            "Directory '/kaggle/working/ComfyUI/' exists\n",
            "Not a Git repository - recloning...\n",
            "Cloning repository...\n",
            "Cloning into '/kaggle/working/ComfyUI'...\n",
            "============================================================\n",
            "ComfyUI set up successfully.\n",
            "------------------------------------------------------------\n",
            "Start Install packages list ... \n",
            "============================================================\n",
            "Starting to install package from https://github.com/comfyanonymous/ComfyUI_bitsandbytes_NF4...\n",
            "------------------------------------------------------------\n",
            "Package https://github.com/comfyanonymous/ComfyUI_bitsandbytes_NF4 path newly git cloned\n",
            "============================================================\n",
            "Package from https://github.com/comfyanonymous/ComfyUI_bitsandbytes_NF4 installed successfully.\n",
            "------------------------------------------------------------\n",
            "============================================================\n",
            "Starting to install package from https://github.com/WASasquatch/was-node-suite-comfyui...\n",
            "------------------------------------------------------------\n",
            "Package https://github.com/WASasquatch/was-node-suite-comfyui path newly git cloned\n",
            "============================================================\n",
            "Package from https://github.com/WASasquatch/was-node-suite-comfyui installed successfully.\n",
            "------------------------------------------------------------\n",
            "============================================================\n",
            "Starting to install package from https://github.com/rgthree/rgthree-comfy...\n",
            "------------------------------------------------------------\n",
            "Package https://github.com/rgthree/rgthree-comfy path newly git cloned\n",
            "============================================================\n",
            "Package from https://github.com/rgthree/rgthree-comfy installed successfully.\n",
            "------------------------------------------------------------\n",
            "============================================================\n",
            "Starting to install package from https://codeberg.org/Gourieff/comfyui-reactor-node...\n",
            "------------------------------------------------------------\n",
            "Package https://codeberg.org/Gourieff/comfyui-reactor-node path newly git cloned\n",
            "============================================================\n",
            "Package from https://codeberg.org/Gourieff/comfyui-reactor-node installed successfully.\n",
            "------------------------------------------------------------\n",
            "============================================================\n",
            "Starting to install package from https://github.com/BlenderNeko/ComfyUI_Noise...\n",
            "------------------------------------------------------------\n",
            "Package https://github.com/BlenderNeko/ComfyUI_Noise path newly git cloned\n",
            "============================================================\n",
            "Package from https://github.com/BlenderNeko/ComfyUI_Noise installed successfully.\n",
            "------------------------------------------------------------\n",
            "============================================================\n",
            "Starting to install package from https://github.com/ltdrdata/ComfyUI-Impact-Pack...\n",
            "------------------------------------------------------------\n",
            "Package https://github.com/ltdrdata/ComfyUI-Impact-Pack path newly git cloned\n",
            "============================================================\n",
            "Package from https://github.com/ltdrdata/ComfyUI-Impact-Pack installed successfully.\n",
            "------------------------------------------------------------\n",
            "============================================================\n",
            "Starting to install package from https://github.com/ltdrdata/ComfyUI-Impact-Subpack...\n",
            "------------------------------------------------------------\n",
            "Package https://github.com/ltdrdata/ComfyUI-Impact-Subpack path newly git cloned\n",
            "============================================================\n",
            "Package from https://github.com/ltdrdata/ComfyUI-Impact-Subpack installed successfully.\n",
            "------------------------------------------------------------\n",
            "============================================================\n",
            "Starting to install package from https://github.com/yolain/ComfyUI-Easy-Use...\n",
            "------------------------------------------------------------\n",
            "Package https://github.com/yolain/ComfyUI-Easy-Use path newly git cloned\n",
            "============================================================\n",
            "Package from https://github.com/yolain/ComfyUI-Easy-Use installed successfully.\n",
            "------------------------------------------------------------\n",
            "============================================================\n",
            "Starting to install package from https://github.com/kijai/ComfyUI-KJNodes...\n",
            "------------------------------------------------------------\n",
            "Package https://github.com/kijai/ComfyUI-KJNodes path newly git cloned\n",
            "============================================================\n",
            "Package from https://github.com/kijai/ComfyUI-KJNodes installed successfully.\n",
            "------------------------------------------------------------\n",
            "============================================================\n",
            "Starting to install package from https://github.com/kijai/ComfyUI-Florence2...\n",
            "------------------------------------------------------------\n",
            "Package https://github.com/kijai/ComfyUI-Florence2 path newly git cloned\n",
            "============================================================\n",
            "Package from https://github.com/kijai/ComfyUI-Florence2 installed successfully.\n",
            "------------------------------------------------------------\n",
            "============================================================\n",
            "Starting to install package from https://github.com/XLabs-AI/x-flux-comfyui...\n",
            "------------------------------------------------------------\n",
            "Package https://github.com/XLabs-AI/x-flux-comfyui path newly git cloned\n",
            "============================================================\n",
            "Package from https://github.com/XLabs-AI/x-flux-comfyui installed successfully.\n",
            "------------------------------------------------------------\n",
            "============================================================\n",
            "Starting to install package from https://github.com/crystian/ComfyUI-Crystools...\n",
            "------------------------------------------------------------\n",
            "Package https://github.com/crystian/ComfyUI-Crystools path newly git cloned\n",
            "============================================================\n",
            "Package from https://github.com/crystian/ComfyUI-Crystools installed successfully.\n",
            "------------------------------------------------------------\n",
            "============================================================\n",
            "Starting to install package from https://github.com/Suzie1/ComfyUI_Comfyroll_CustomNodes...\n",
            "------------------------------------------------------------\n",
            "Package https://github.com/Suzie1/ComfyUI_Comfyroll_CustomNodes path newly git cloned\n",
            "============================================================\n",
            "Package from https://github.com/Suzie1/ComfyUI_Comfyroll_CustomNodes installed successfully.\n",
            "------------------------------------------------------------\n",
            "============================================================\n",
            "Starting to install package from https://github.com/city96/ComfyUI-GGUF...\n",
            "------------------------------------------------------------\n",
            "Package https://github.com/city96/ComfyUI-GGUF path newly git cloned\n",
            "============================================================\n",
            "Package from https://github.com/city96/ComfyUI-GGUF installed successfully.\n",
            "------------------------------------------------------------\n",
            "============================================================\n",
            "Starting to install package from https://github.com/cubiq/PuLID_ComfyUI...\n",
            "------------------------------------------------------------\n",
            "Package https://github.com/cubiq/PuLID_ComfyUI path newly git cloned\n",
            "============================================================\n",
            "Package from https://github.com/cubiq/PuLID_ComfyUI installed successfully.\n",
            "------------------------------------------------------------\n",
            "============================================================\n",
            "Starting to install package from https://github.com/cubiq/ComfyUI_InstantID...\n",
            "------------------------------------------------------------\n",
            "Package https://github.com/cubiq/ComfyUI_InstantID path newly git cloned\n",
            "============================================================\n",
            "Package from https://github.com/cubiq/ComfyUI_InstantID installed successfully.\n",
            "------------------------------------------------------------\n",
            "============================================================\n",
            "Starting to install package from https://github.com/cubiq/ComfyUI_IPAdapter_plus...\n",
            "------------------------------------------------------------\n",
            "Package https://github.com/cubiq/ComfyUI_IPAdapter_plus path newly git cloned\n",
            "============================================================\n",
            "Package from https://github.com/cubiq/ComfyUI_IPAdapter_plus installed successfully.\n",
            "------------------------------------------------------------\n",
            "============================================================\n",
            "Starting to install package from https://github.com/comfyanonymous/ComfyUI_experiments...\n",
            "------------------------------------------------------------\n",
            "Package https://github.com/comfyanonymous/ComfyUI_experiments path newly git cloned\n",
            "============================================================\n",
            "Package from https://github.com/comfyanonymous/ComfyUI_experiments installed successfully.\n",
            "------------------------------------------------------------\n",
            "============================================================\n",
            "Starting to install package from https://github.com/chengzeyi/Comfy-WaveSpeed...\n",
            "------------------------------------------------------------\n",
            "Package https://github.com/chengzeyi/Comfy-WaveSpeed path newly git cloned\n",
            "============================================================\n",
            "Package from https://github.com/chengzeyi/Comfy-WaveSpeed installed successfully.\n",
            "------------------------------------------------------------\n",
            "============================================================\n",
            "Starting to install package from https://github.com/Fannovel16/comfyui_controlnet_aux...\n",
            "------------------------------------------------------------\n",
            "Package https://github.com/Fannovel16/comfyui_controlnet_aux path newly git cloned\n",
            "============================================================\n",
            "Package from https://github.com/Fannovel16/comfyui_controlnet_aux installed successfully.\n",
            "------------------------------------------------------------\n",
            "============================================================\n",
            "Starting to install package from https://github.com/ShmuelRonen/ComfyUI-FreeMemory...\n",
            "------------------------------------------------------------\n",
            "Package https://github.com/ShmuelRonen/ComfyUI-FreeMemory path newly git cloned\n",
            "============================================================\n",
            "Package from https://github.com/ShmuelRonen/ComfyUI-FreeMemory installed successfully.\n",
            "------------------------------------------------------------\n",
            "============================================================\n",
            "Starting to install package from https://github.com/jamesWalker55/comfyui-various...\n",
            "------------------------------------------------------------\n",
            "Package https://github.com/jamesWalker55/comfyui-various path newly git cloned\n",
            "============================================================\n",
            "Package from https://github.com/jamesWalker55/comfyui-various installed successfully.\n",
            "------------------------------------------------------------\n",
            "============================================================\n",
            "Starting to install package from https://github.com/kijai/ComfyUI-SUPIR...\n",
            "------------------------------------------------------------\n",
            "Package https://github.com/kijai/ComfyUI-SUPIR path newly git cloned\n",
            "============================================================\n",
            "Package from https://github.com/kijai/ComfyUI-SUPIR installed successfully.\n",
            "------------------------------------------------------------\n",
            "============================================================\n",
            "Starting to install package from https://github.com/klinter007/klinter_nodes...\n",
            "------------------------------------------------------------\n",
            "Package https://github.com/klinter007/klinter_nodes path newly git cloned\n",
            "============================================================\n",
            "Package from https://github.com/klinter007/klinter_nodes installed successfully.\n",
            "------------------------------------------------------------\n",
            "============================================================\n",
            "Starting to install package from https://github.com/holchan/ComfyUI-ModelDownloader...\n",
            "------------------------------------------------------------\n",
            "Package https://github.com/holchan/ComfyUI-ModelDownloader path newly git cloned\n",
            "============================================================\n",
            "Package from https://github.com/holchan/ComfyUI-ModelDownloader installed successfully.\n",
            "------------------------------------------------------------\n",
            "============================================================\n",
            "Starting to install package from https://github.com/KoreTeknology/ComfyUI-Universal-Styler...\n",
            "------------------------------------------------------------\n",
            "Package https://github.com/KoreTeknology/ComfyUI-Universal-Styler path newly git cloned\n",
            "============================================================\n",
            "Package from https://github.com/KoreTeknology/ComfyUI-Universal-Styler installed successfully.\n",
            "------------------------------------------------------------\n",
            "============================================================\n",
            "Starting to install package from https://github.com/marduk191/ComfyUI-Fluxpromptenhancer...\n",
            "------------------------------------------------------------\n",
            "Package https://github.com/marduk191/ComfyUI-Fluxpromptenhancer path newly git cloned\n",
            "============================================================\n",
            "Package from https://github.com/marduk191/ComfyUI-Fluxpromptenhancer installed successfully.\n",
            "------------------------------------------------------------\n",
            "============================================================\n",
            "Starting to install package from https://github.com/fairy-root/Flux-Prompt-Generator...\n",
            "------------------------------------------------------------\n",
            "Package https://github.com/fairy-root/Flux-Prompt-Generator path newly git cloned\n",
            "============================================================\n",
            "Package from https://github.com/fairy-root/Flux-Prompt-Generator installed successfully.\n",
            "------------------------------------------------------------\n",
            "============================================================\n",
            "Starting to install package from https://github.com/VykosX/ControlFlowUtils...\n",
            "------------------------------------------------------------\n",
            "Package https://github.com/VykosX/ControlFlowUtils path newly git cloned\n",
            "============================================================\n",
            "Package from https://github.com/VykosX/ControlFlowUtils installed successfully.\n",
            "------------------------------------------------------------\n",
            "============================================================\n",
            "Starting to install package from https://github.com/godmt/ComfyUI-List-Utils...\n",
            "------------------------------------------------------------\n",
            "Package https://github.com/godmt/ComfyUI-List-Utils path newly git cloned\n",
            "============================================================\n",
            "Package from https://github.com/godmt/ComfyUI-List-Utils installed successfully.\n",
            "------------------------------------------------------------\n",
            "============================================================\n",
            "Starting to install package from https://github.com/pythongosssss/ComfyUI-WD14-Tagger...\n",
            "------------------------------------------------------------\n",
            "Package https://github.com/pythongosssss/ComfyUI-WD14-Tagger path newly git cloned\n",
            "============================================================\n",
            "Package from https://github.com/pythongosssss/ComfyUI-WD14-Tagger installed successfully.\n",
            "------------------------------------------------------------\n",
            "============================================================\n",
            "Starting to install package from https://github.com/miaoshouai/ComfyUI-Miaoshouai-Tagger...\n",
            "------------------------------------------------------------\n",
            "Package https://github.com/miaoshouai/ComfyUI-Miaoshouai-Tagger path newly git cloned\n",
            "============================================================\n",
            "Package from https://github.com/miaoshouai/ComfyUI-Miaoshouai-Tagger installed successfully.\n",
            "------------------------------------------------------------\n",
            "============================================================\n",
            "Starting to install package from https://github.com/GraftingRayman/ComfyUI_GraftingRayman...\n",
            "------------------------------------------------------------\n",
            "Package https://github.com/GraftingRayman/ComfyUI_GraftingRayman path newly git cloned\n",
            "============================================================\n",
            "Package from https://github.com/GraftingRayman/ComfyUI_GraftingRayman installed successfully.\n",
            "------------------------------------------------------------\n",
            "============================================================\n",
            "Starting to install package from https://github.com/pollockjj/ComfyUI-MultiGPU...\n",
            "------------------------------------------------------------\n",
            "Package https://github.com/pollockjj/ComfyUI-MultiGPU path newly git cloned\n",
            "============================================================\n",
            "Package from https://github.com/pollockjj/ComfyUI-MultiGPU installed successfully.\n",
            "------------------------------------------------------------\n",
            "============================================================\n",
            "Starting to install package from https://github.com/dchatel/comfyui_facetools...\n",
            "------------------------------------------------------------\n",
            "Package https://github.com/dchatel/comfyui_facetools path newly git cloned\n",
            "============================================================\n",
            "Package from https://github.com/dchatel/comfyui_facetools installed successfully.\n",
            "------------------------------------------------------------\n",
            "============================================================\n",
            "Starting to install package from https://github.com/fssorc/ComfyUI_FaceShaper...\n",
            "------------------------------------------------------------\n",
            "Package https://github.com/fssorc/ComfyUI_FaceShaper path newly git cloned\n",
            "============================================================\n",
            "Package from https://github.com/fssorc/ComfyUI_FaceShaper installed successfully.\n",
            "------------------------------------------------------------\n",
            "============================================================\n",
            "Starting to install package from https://github.com/vuongminh1907/ComfyUI_ZenID...\n",
            "------------------------------------------------------------\n",
            "Package https://github.com/vuongminh1907/ComfyUI_ZenID path newly git cloned\n",
            "============================================================\n",
            "Package from https://github.com/vuongminh1907/ComfyUI_ZenID installed successfully.\n",
            "------------------------------------------------------------\n",
            "============================================================\n",
            "Starting to install package from https://github.com/nosiu/comfyui-instantId-faceswap...\n",
            "------------------------------------------------------------\n",
            "Package https://github.com/nosiu/comfyui-instantId-faceswap path newly git cloned\n",
            "============================================================\n",
            "Package from https://github.com/nosiu/comfyui-instantId-faceswap installed successfully.\n",
            "------------------------------------------------------------\n",
            "============================================================\n",
            "Starting to install package from https://github.com/EnragedAntelope/ComfyUI-EACloudNodes...\n",
            "------------------------------------------------------------\n",
            "Package https://github.com/EnragedAntelope/ComfyUI-EACloudNodes path newly git cloned\n",
            "============================================================\n",
            "Package from https://github.com/EnragedAntelope/ComfyUI-EACloudNodes installed successfully.\n",
            "------------------------------------------------------------\n",
            "============================================================\n",
            "Starting to install package from https://github.com/nicofdga/DZ-FaceDetailer...\n",
            "------------------------------------------------------------\n",
            "Package https://github.com/nicofdga/DZ-FaceDetailer path newly git cloned\n",
            "============================================================\n",
            "Package from https://github.com/nicofdga/DZ-FaceDetailer installed successfully.\n",
            "------------------------------------------------------------\n",
            "============================================================\n",
            "Starting to install package from https://github.com/mav-rik/facerestore_cf...\n",
            "------------------------------------------------------------\n",
            "Package https://github.com/mav-rik/facerestore_cf path newly git cloned\n",
            "============================================================\n",
            "Package from https://github.com/mav-rik/facerestore_cf installed successfully.\n",
            "------------------------------------------------------------\n",
            "============================================================\n",
            "Starting to install package from https://github.com/smthemex/ComfyUI_InstantIR_Wrapper...\n",
            "------------------------------------------------------------\n",
            "Package https://github.com/smthemex/ComfyUI_InstantIR_Wrapper path newly git cloned\n",
            "============================================================\n",
            "Package from https://github.com/smthemex/ComfyUI_InstantIR_Wrapper installed successfully.\n",
            "------------------------------------------------------------\n",
            "============================================================\n",
            "Starting to install package from https://github.com/cubiq/ComfyUI_essentials...\n",
            "------------------------------------------------------------\n",
            "Package https://github.com/cubiq/ComfyUI_essentials path newly git cloned\n",
            "============================================================\n",
            "Package from https://github.com/cubiq/ComfyUI_essentials installed successfully.\n",
            "------------------------------------------------------------\n",
            "============================================================\n",
            "Starting to install package from https://github.com/LykosAI/ComfyUI-Inference-Core-Nodes...\n",
            "------------------------------------------------------------\n",
            "Package https://github.com/LykosAI/ComfyUI-Inference-Core-Nodes path newly git cloned\n",
            "============================================================\n",
            "Package from https://github.com/LykosAI/ComfyUI-Inference-Core-Nodes installed successfully.\n",
            "------------------------------------------------------------\n",
            "============================================================\n",
            "Starting to install package from https://github.com/Kosinkadink/ComfyUI-Advanced-ControlNet...\n",
            "------------------------------------------------------------\n",
            "Package https://github.com/Kosinkadink/ComfyUI-Advanced-ControlNet path newly git cloned\n",
            "============================================================\n",
            "Package from https://github.com/Kosinkadink/ComfyUI-Advanced-ControlNet installed successfully.\n",
            "------------------------------------------------------------\n",
            "============================================================\n",
            "Starting to install package from https://github.com/EvilBT/ComfyUI_SLK_joy_caption_two...\n",
            "------------------------------------------------------------\n",
            "Package https://github.com/EvilBT/ComfyUI_SLK_joy_caption_two path newly git cloned\n",
            "============================================================\n",
            "Package from https://github.com/EvilBT/ComfyUI_SLK_joy_caption_two installed successfully.\n",
            "------------------------------------------------------------\n",
            "============================================================\n",
            "Starting to install package from https://github.com/kijai/ComfyUI-LivePortraitKJ...\n",
            "------------------------------------------------------------\n",
            "Package https://github.com/kijai/ComfyUI-LivePortraitKJ path newly git cloned\n",
            "============================================================\n",
            "Package from https://github.com/kijai/ComfyUI-LivePortraitKJ installed successfully.\n",
            "------------------------------------------------------------\n",
            "============================================================\n",
            "Starting to install package from https://github.com/PowerHouseMan/ComfyUI-AdvancedLivePortrait...\n",
            "------------------------------------------------------------\n",
            "Package https://github.com/PowerHouseMan/ComfyUI-AdvancedLivePortrait path newly git cloned\n",
            "============================================================\n",
            "Package from https://github.com/PowerHouseMan/ComfyUI-AdvancedLivePortrait installed successfully.\n",
            "------------------------------------------------------------\n",
            "============================================================\n",
            "Starting to install package from https://github.com/ssitu/ComfyUI_UltimateSDUpscale...\n",
            "------------------------------------------------------------\n",
            "Package https://github.com/ssitu/ComfyUI_UltimateSDUpscale path newly git cloned\n",
            "============================================================\n",
            "Package from https://github.com/ssitu/ComfyUI_UltimateSDUpscale installed successfully.\n",
            "------------------------------------------------------------\n",
            "============================================================\n",
            "Starting to install package from https://github.com/kijai/ComfyUI-CCSR...\n",
            "------------------------------------------------------------\n",
            "Package https://github.com/kijai/ComfyUI-CCSR path newly git cloned\n",
            "============================================================\n",
            "Package from https://github.com/kijai/ComfyUI-CCSR installed successfully.\n",
            "------------------------------------------------------------\n",
            "============================================================\n",
            "Starting to install package from https://github.com/TheBill2001/comfyui-upscale-by-model...\n",
            "------------------------------------------------------------\n",
            "Package https://github.com/TheBill2001/comfyui-upscale-by-model path newly git cloned\n",
            "============================================================\n",
            "Package from https://github.com/TheBill2001/comfyui-upscale-by-model installed successfully.\n",
            "------------------------------------------------------------\n",
            "============================================================\n",
            "Starting to install package from https://github.com/traugdor/ComfyUI-UltimateSDUpscale-GGUF...\n",
            "------------------------------------------------------------\n",
            "Package https://github.com/traugdor/ComfyUI-UltimateSDUpscale-GGUF path newly git cloned\n",
            "============================================================\n",
            "Package from https://github.com/traugdor/ComfyUI-UltimateSDUpscale-GGUF installed successfully.\n",
            "------------------------------------------------------------\n",
            "============================================================\n",
            "Starting to install package from https://github.com/jags111/efficiency-nodes-comfyui...\n",
            "------------------------------------------------------------\n",
            "Package https://github.com/jags111/efficiency-nodes-comfyui path newly git cloned\n",
            "============================================================\n",
            "Package from https://github.com/jags111/efficiency-nodes-comfyui installed successfully.\n",
            "------------------------------------------------------------\n",
            "============================================================\n",
            "Starting to install package from https://github.com/kijai/ComfyUI-segment-anything-2...\n",
            "------------------------------------------------------------\n",
            "Package https://github.com/kijai/ComfyUI-segment-anything-2 path newly git cloned\n",
            "============================================================\n",
            "Package from https://github.com/kijai/ComfyUI-segment-anything-2 installed successfully.\n",
            "------------------------------------------------------------\n",
            "============================================================\n",
            "Starting to install package from https://github.com/Extraltodeus/ComfyUI-AutomaticCFG...\n",
            "------------------------------------------------------------\n",
            "Package https://github.com/Extraltodeus/ComfyUI-AutomaticCFG path newly git cloned\n",
            "============================================================\n",
            "Package from https://github.com/Extraltodeus/ComfyUI-AutomaticCFG installed successfully.\n",
            "------------------------------------------------------------\n",
            "============================================================\n",
            "Starting to install package from https://github.com/ltdrdata/ComfyUI-Inspire-Pack...\n",
            "------------------------------------------------------------\n",
            "Package https://github.com/ltdrdata/ComfyUI-Inspire-Pack path newly git cloned\n",
            "============================================================\n",
            "Package from https://github.com/ltdrdata/ComfyUI-Inspire-Pack installed successfully.\n",
            "------------------------------------------------------------\n",
            "============================================================\n",
            "Starting to install package from https://github.com/evanspearman/ComfyMath...\n",
            "------------------------------------------------------------\n",
            "Package https://github.com/evanspearman/ComfyMath path newly git cloned\n",
            "============================================================\n",
            "Package from https://github.com/evanspearman/ComfyMath installed successfully.\n",
            "------------------------------------------------------------\n",
            "============================================================\n",
            "Starting to install package from https://github.com/Derfuu/Derfuu_ComfyUI_ModdedNodes...\n",
            "------------------------------------------------------------\n",
            "Package https://github.com/Derfuu/Derfuu_ComfyUI_ModdedNodes path newly git cloned\n",
            "============================================================\n",
            "Package from https://github.com/Derfuu/Derfuu_ComfyUI_ModdedNodes installed successfully.\n",
            "------------------------------------------------------------\n",
            "============================================================\n",
            "Starting to install package from https://github.com/storyicon/comfyui_segment_anything...\n",
            "------------------------------------------------------------\n",
            "Package https://github.com/storyicon/comfyui_segment_anything path newly git cloned\n",
            "============================================================\n",
            "Package from https://github.com/storyicon/comfyui_segment_anything installed successfully.\n",
            "------------------------------------------------------------\n",
            "============================================================\n",
            "Starting to install package from https://github.com/PrunaAI/ComfyUI_pruna...\n",
            "------------------------------------------------------------\n",
            "Package https://github.com/PrunaAI/ComfyUI_pruna path newly git cloned\n",
            "============================================================\n",
            "Package from https://github.com/PrunaAI/ComfyUI_pruna installed successfully.\n",
            "------------------------------------------------------------\n",
            "============================================================\n",
            "Starting to install package from https://github.com/zhangp365/ComfyUI-utils-nodes...\n",
            "------------------------------------------------------------\n",
            "Package https://github.com/zhangp365/ComfyUI-utils-nodes path newly git cloned\n",
            "============================================================\n",
            "Package from https://github.com/zhangp365/ComfyUI-utils-nodes installed successfully.\n",
            "------------------------------------------------------------\n",
            "============================================================\n",
            "Starting to install package from https://github.com/pythongosssss/ComfyUI-Custom-Scripts...\n",
            "------------------------------------------------------------\n",
            "Package https://github.com/pythongosssss/ComfyUI-Custom-Scripts path newly git cloned\n",
            "============================================================\n",
            "Package from https://github.com/pythongosssss/ComfyUI-Custom-Scripts installed successfully.\n",
            "------------------------------------------------------------\n",
            "============================================================\n",
            "Starting to install package from https://github.com/revirevy/Comfyui_saveimage_imgbb...\n",
            "------------------------------------------------------------\n",
            "Package https://github.com/revirevy/Comfyui_saveimage_imgbb path newly git cloned\n",
            "============================================================\n",
            "Package from https://github.com/revirevy/Comfyui_saveimage_imgbb installed successfully.\n",
            "------------------------------------------------------------\n",
            "============================================================\n",
            "Starting to install package from https://github.com/ltdrdata/ComfyUI-Manager...\n",
            "------------------------------------------------------------\n",
            "Package https://github.com/ltdrdata/ComfyUI-Manager path newly git cloned\n",
            "============================================================\n",
            "Package from https://github.com/ltdrdata/ComfyUI-Manager installed successfully.\n",
            "------------------------------------------------------------\n",
            "All Packages list installed \n",
            " ==========  DONE  ==========\n",
            "============================================================\n",
            "Starting to set up ComfyUI...\n",
            "------------------------------------------------------------\n",
            "Directory '/kaggle/working/ComfyUI/' exists\n",
            "Pulling latest changes...\n",
            "Fetching origin\n",
            "Already up to date.\n",
            "============================================================\n",
            "ComfyUI set up successfully.\n",
            "------------------------------------------------------------\n",
            "============================================================\n",
            "Starting ComfyUI instances...\n",
            "------------------------------------------------------------\n",
            "============================================================\n",
            "ComfyUI instances started successfully.\n",
            "------------------------------------------------------------\n",
            "============================================================\n",
            "Starting Playit agent...\n",
            "------------------------------------------------------------\n",
            "\u001b8\u001b[0mno command provided, doing auto run\u001b[2J\u001b8\u001b[0mVisit link to setup https://playit.gg/claim/e49c7a4899\n",
            "..........\n",
            "\n",
            "============================================================\n",
            "Playit agent started successfully.\n",
            "------------------------------------------------------------\n",
            "Downloading Antelopev2 model...\n"
          ]
        },
        {
          "output_type": "stream",
          "name": "stderr",
          "text": [
            "Downloading: 100%|██████████| 344M/344M [00:06<00:00, 59.1MB/s]\n"
          ]
        },
        {
          "output_type": "stream",
          "name": "stdout",
          "text": [
            "Download completed. Extracting files...\n",
            "Extraction completed. Antelopev2 model is ready.\n",
            "Installing aria2...\n",
            "aria2 installed successfully.\n",
            "Downloading file 1/4: fan2_68_landmark.onnx...\n",
            "Download completed for fan2_68_landmark.onnx.\n",
            "Downloading file 2/4: 79999_iter.pth...\n",
            "Download completed for 79999_iter.pth.\n",
            "Downloading file 3/4: face_yolov8m.pt...\n",
            "Download completed for face_yolov8m.pt.\n",
            "Downloading file 4/4: control_v11p_sd15_inpaint_fp16.safetensors...\n",
            "Download completed for control_v11p_sd15_inpaint_fp16.safetensors.\n",
            "0 - https://huggingface.co/datasets/Gourieff/ReActor/resolve/main/models/reswapper_256.onnx?download=true\n",
            "reswapper_256.onnx\n",
            "Downloading file 1/4: control_v11p_sd15_inpaint_fp16.safetensors...\n",
            "Download completed for reswapper_256.onnx.\n",
            "1 -     https://huggingface.co/datasets/Gourieff/ReActor/resolve/main/models/reswapper_128.onnx?download=true\n",
            "reswapper_128.onnx\n",
            "Downloading file 2/4: control_v11p_sd15_inpaint_fp16.safetensors...\n",
            "Failed to download reswapper_128.onnx: Command 'aria2c --console-log-level=error -c -x 16 -s 16 -k 1M '    https://huggingface.co/datasets/Gourieff/ReActor/resolve/main/models/reswapper_128.onnx?download=true' -d '/kaggle/working/ComfyUI/models/reswapper/' -o 'reswapper_128.onnx'' returned non-zero exit status 1.\n",
            "2 -     https://huggingface.co/datasets/Gourieff/ReActor/resolve/main/models/inswapper_128.onnx?download=true\n",
            "inswapper_128.onnx\n",
            "Downloading file 3/4: control_v11p_sd15_inpaint_fp16.safetensors...\n",
            "Failed to download inswapper_128.onnx: Command 'aria2c --console-log-level=error -c -x 16 -s 16 -k 1M '    https://huggingface.co/datasets/Gourieff/ReActor/resolve/main/models/inswapper_128.onnx?download=true' -d '/kaggle/working/ComfyUI/models/reswapper/' -o 'inswapper_128.onnx'' returned non-zero exit status 1.\n",
            "All downloads completed.\n",
            "============================================================\n",
            "Starting scheduler...\n",
            "------------------------------------------------------------\n",
            "============================================================\n",
            "Executed\n",
            "2025-04-23 14:04:11.218696\n",
            "------------------------------------------------------------\n",
            "============================================================\n",
            "Scheduler started in background. It will execute the first cell every 1 minute.\n",
            "------------------------------------------------------------\n"
          ]
        }
      ],
      "execution_count": 6
    },
    {
      "cell_type": "code",
      "source": [
        "!tail  /kaggle/working/ComfyUI/logs/playit.log | grep claim"
      ],
      "metadata": {
        "trusted": true,
        "execution": {
          "iopub.status.busy": "2025-04-22T16:22:23.865244Z",
          "iopub.execute_input": "2025-04-22T16:22:23.865513Z",
          "iopub.status.idle": "2025-04-22T16:22:23.999943Z",
          "shell.execute_reply.started": "2025-04-22T16:22:23.865489Z",
          "shell.execute_reply": "2025-04-22T16:22:23.999036Z"
        },
        "id": "cAk6N0F9n3Af"
      },
      "outputs": [],
      "execution_count": 14
    },
    {
      "cell_type": "code",
      "source": [
        "!ps fax\n"
      ],
      "metadata": {
        "execution": {
          "iopub.status.busy": "2025-04-22T16:22:24.000873Z",
          "iopub.execute_input": "2025-04-22T16:22:24.00118Z",
          "iopub.status.idle": "2025-04-22T16:22:24.128584Z",
          "shell.execute_reply.started": "2025-04-22T16:22:24.001148Z",
          "shell.execute_reply": "2025-04-22T16:22:24.127437Z"
        },
        "trusted": true,
        "colab": {
          "base_uri": "https://localhost:8080/"
        },
        "id": "k3Hs5s6vn3Af",
        "outputId": "7ce5e8f6-9761-4e0f-ee5b-6fce91c5f85f"
      },
      "outputs": [
        {
          "output_type": "stream",
          "name": "stdout",
          "text": [
            "    PID TTY      STAT   TIME COMMAND\n",
            "     48 ?        Ss     0:00 tail -n +0 -F /root/.config/Google/DriveFS/Logs/dri\n",
            "     41 ?        Ss     0:00 tail -n +0 -F /root/.config/Google/DriveFS/Logs/dpb\n",
            "      1 ?        Ss     0:00 /sbin/docker-init -- /datalab/run.sh\n",
            "      7 ?        Sl     0:14 /tools/node/bin/node /datalab/web/app.js\n",
            "      9 ?        S      0:03  \\_ /bin/bash -e /usr/local/colab/bin/oom_monitor.s\n",
            "  32590 ?        S      0:00  |   \\_ sleep 1\n",
            "     67 ?        Z      0:15  \\_ [python3] <defunct>\n",
            "     68 ?        S      0:00  \\_ python3 /usr/local/bin/colab-fileshim.py\n",
            "    113 ?        Sl     0:07  \\_ /usr/bin/python3 /usr/local/bin/jupyter-noteboo\n",
            "    257 ?        Ssl    0:29  |   \\_ /usr/bin/python3 -m colab_kernel_launcher -\n",
            "   3636 ?        SLl   31:16  |       \\_ /usr/bin/python3 main.py --cuda-device \n",
            "  32591 ?        R      0:00  |       \\_ ps fax\n",
            "    114 ?        Sl     0:04  \\_ /usr/local/bin/dap_multiplexer --domain_socket_\n",
            "  19448 ?        Sl     0:00  \\_ /usr/colab/bin/language_service --lsp_search_di\n",
            "  19454 ?        Sl     0:06  |   \\_ node /datalab/web/pyright/pyright-langserve\n",
            "  32550 ?        Sl     0:00  \\_ /usr/colab/bin/language_service --lsp_search_di\n",
            "  32556 ?        Sl     0:04      \\_ node /datalab/web/pyright/pyright-langserve\n",
            "     11 ?        S      0:00 /bin/bash -e /datalab/run.sh\n",
            "     12 ?        Sl     0:01  \\_ /usr/colab/bin/kernel_manager_proxy --listen_po\n",
            "    311 ?        Sl     0:10 /usr/bin/python3 /usr/local/lib/python3.11/dist-pac\n",
            "   3755 ?        Sl     0:18 /kaggle/working/ComfyUI/playit-linux-amd64\n"
          ]
        }
      ],
      "execution_count": 23
    },
    {
      "cell_type": "code",
      "source": [
        "%ls -ltrha /kaggle/input"
      ],
      "metadata": {
        "trusted": true,
        "jupyter": {
          "source_hidden": true
        },
        "colab": {
          "base_uri": "https://localhost:8080/"
        },
        "id": "ckD4kk-Pn3Ag",
        "outputId": "6bd23329-8a92-47b7-b32d-0fb541fbd879"
      },
      "outputs": [
        {
          "output_type": "stream",
          "name": "stdout",
          "text": [
            "total 8.0K\n",
            "drwxr-xr-x 2 root root 4.0K Apr 23 13:59 \u001b[0m\u001b[01;34m.\u001b[0m/\n",
            "drwxr-xr-x 4 root root 4.0K Apr 23 14:01 \u001b[01;34m..\u001b[0m/\n"
          ]
        }
      ],
      "execution_count": 17
    },
    {
      "cell_type": "code",
      "source": [
        "%ls -ltrah $revirevy_nix_photos_source_path"
      ],
      "metadata": {
        "trusted": true,
        "colab": {
          "base_uri": "https://localhost:8080/"
        },
        "id": "8YeTb1Oxn3Ag",
        "outputId": "c2a8fc97-7b2b-431a-bcdc-a2bb29efc5fa"
      },
      "outputs": [
        {
          "output_type": "stream",
          "name": "stdout",
          "text": [
            "total 2.2M\n",
            "drwxr-xr-x 3 root root 4.0K Apr 23 14:01  \u001b[0m\u001b[01;34m..\u001b[0m/\n",
            "-rw-r--r-- 1 root root 270K Apr 23 14:01 'WhatsApp Image 2025-04-10 at 3.41.09 PM (1).jpeg'\n",
            "-rw-r--r-- 1 root root  93K Apr 23 14:01 'WhatsApp Image 2025-04-10 at 3.41.09 PM (2).jpeg'\n",
            "-rw-r--r-- 1 root root 420K Apr 23 14:01 'WhatsApp Image 2025-04-10 at 3.41.09 PM (3).jpeg'\n",
            "-rw-r--r-- 1 root root 670K Apr 23 14:01 'WhatsApp Image 2025-04-10 at 3.41.09 PM (4).jpeg'\n",
            "-rw-r--r-- 1 root root 368K Apr 23 14:01 'WhatsApp Image 2025-04-10 at 3.41.09 PM (5).jpeg'\n",
            "-rw-r--r-- 1 root root 262K Apr 23 14:01 'WhatsApp Image 2025-04-10 at 3.41.09 PM (6).jpeg'\n",
            "-rw-r--r-- 1 root root  70K Apr 23 14:01 'WhatsApp Image 2025-04-10 at 3.41.10 PM.jpeg'\n",
            "-rw-r--r-- 1 root root  66K Apr 23 14:01 'WhatsApp Image 2025-04-10 at 3.41.09 PM.jpeg'\n",
            "drwxr-xr-x 2 root root 4.0K Apr 23 14:01  \u001b[01;34m.\u001b[0m/\n"
          ]
        }
      ],
      "execution_count": 19
    },
    {
      "cell_type": "code",
      "source": [
        "revirevy_nix_photos_source_path"
      ],
      "metadata": {
        "trusted": true,
        "colab": {
          "base_uri": "https://localhost:8080/",
          "height": 35
        },
        "id": "4v-o3Rqtn3Ah",
        "outputId": "4a78ffb2-ddfc-48fb-8809-9feb24701298"
      },
      "outputs": [
        {
          "output_type": "execute_result",
          "data": {
            "text/plain": [
              "'/root/.cache/kagglehub/datasets/revirevy/nix-photos-source/versions/1'"
            ],
            "application/vnd.google.colaboratory.intrinsic+json": {
              "type": "string"
            }
          },
          "metadata": {},
          "execution_count": 20
        }
      ],
      "execution_count": 20
    },
    {
      "cell_type": "raw",
      "source": [
        "for x in os.listdir(\"/kaggle/input/nix-flux-fusion-models/pytorch/default/1/\"):\n",
        "    print(x)\n",
        "    !ln -s \"/kaggle/input/nix-flux-fusion-models/pytorch/default/1/$x\" \"/kaggle/working/ComfyUI/models/unet/$x\"\n",
        "\n",
        "\n"
      ],
      "metadata": {
        "execution": {
          "iopub.status.busy": "2025-04-20T21:06:37.575627Z",
          "iopub.status.idle": "2025-04-20T21:06:37.575843Z",
          "shell.execute_reply.started": "2025-04-20T21:06:37.575742Z",
          "shell.execute_reply": "2025-04-20T21:06:37.575751Z"
        },
        "id": "HvnAdNVgn3Ah"
      }
    },
    {
      "cell_type": "code",
      "source": [
        "revirevy_jen_photos_source_path"
      ],
      "metadata": {
        "colab": {
          "base_uri": "https://localhost:8080/",
          "height": 35
        },
        "id": "n5WtlqOHObrz",
        "outputId": "27fe891e-abe9-4103-d743-ab1049c7bc96"
      },
      "execution_count": 21,
      "outputs": [
        {
          "output_type": "execute_result",
          "data": {
            "text/plain": [
              "'/root/.cache/kagglehub/datasets/revirevy/jen-photos-source/versions/1'"
            ],
            "application/vnd.google.colaboratory.intrinsic+json": {
              "type": "string"
            }
          },
          "metadata": {},
          "execution_count": 21
        }
      ]
    },
    {
      "cell_type": "code",
      "source": [],
      "metadata": {
        "id": "CfnRatY2Ocet"
      },
      "execution_count": null,
      "outputs": []
    },
    {
      "cell_type": "code",
      "source": [],
      "metadata": {
        "id": "RFpQNhIdOcx_"
      },
      "execution_count": null,
      "outputs": []
    },
    {
      "cell_type": "code",
      "source": [],
      "metadata": {
        "trusted": true,
        "jupyter": {
          "source_hidden": true
        },
        "id": "5Bg197Oxn3Ai"
      },
      "outputs": [],
      "execution_count": null
    },
    {
      "cell_type": "code",
      "source": [
        "import threading\n",
        "import time,datetime\n",
        "from IPython.core.getipython import get_ipython\n",
        "\n",
        "def execute_first_cell():\n",
        "    print(\"=\"*10,\"Executed \",datetime.datetime.today(),\"=\"*10)\n",
        "    get_ipython().run_cell(get_ipython().user_ns['_i1'])\n",
        "    print(\"=\"*60)\n",
        "def scheduler():\n",
        "    while True:\n",
        "        execute_first_cell()\n",
        "        time.sleep(60)  # 600 seconds = 10 minutes\n",
        "\n",
        "# Start the scheduler in a separate thread\n",
        "scheduler_thread = threading.Thread(target=scheduler)\n",
        "scheduler_thread.daemon = True  # This allows the thread to be terminated when the main program exits\n",
        "scheduler_thread.start()\n",
        "\n",
        "print(\"Scheduler started in background. It will execute the first cell every 1 minutes.\")\n"
      ],
      "metadata": {
        "trusted": true,
        "execution": {
          "execution_failed": "2025-04-22T12:14:25.273Z"
        },
        "id": "yZatDIQPn3Ai"
      },
      "outputs": [],
      "execution_count": null
    },
    {
      "cell_type": "code",
      "source": [],
      "metadata": {
        "trusted": true,
        "id": "YQrvzpNLn3Ai"
      },
      "outputs": [],
      "execution_count": null
    },
    {
      "cell_type": "code",
      "source": [
        "%ls  -lh /kaggle/working/ComfyUI"
      ],
      "metadata": {
        "trusted": true,
        "execution": {
          "iopub.status.busy": "2025-04-09T07:51:04.879233Z",
          "iopub.execute_input": "2025-04-09T07:51:04.879565Z",
          "iopub.status.idle": "2025-04-09T07:51:04.999763Z",
          "shell.execute_reply.started": "2025-04-09T07:51:04.879533Z",
          "shell.execute_reply": "2025-04-09T07:51:04.998742Z"
        },
        "id": "7untt31xn3Ai"
      },
      "outputs": [],
      "execution_count": null
    },
    {
      "cell_type": "code",
      "source": [
        "os.makedirs(\"/kaggle/working/ComfyUI/output\")"
      ],
      "metadata": {
        "trusted": true,
        "execution": {
          "iopub.status.busy": "2025-04-09T07:51:45.209998Z",
          "iopub.execute_input": "2025-04-09T07:51:45.210439Z",
          "iopub.status.idle": "2025-04-09T07:51:45.216072Z",
          "shell.execute_reply.started": "2025-04-09T07:51:45.210404Z",
          "shell.execute_reply": "2025-04-09T07:51:45.214819Z"
        },
        "id": "FDwrb1ain3Aj"
      },
      "outputs": [],
      "execution_count": null
    },
    {
      "cell_type": "code",
      "source": [],
      "metadata": {
        "trusted": true,
        "id": "5KCbVp3kn3Aj"
      },
      "outputs": [],
      "execution_count": null
    },
    {
      "cell_type": "raw",
      "source": [
        "install_packages_list()"
      ],
      "metadata": {
        "execution": {
          "iopub.status.busy": "2025-04-08T15:34:43.134112Z",
          "iopub.execute_input": "2025-04-08T15:34:43.134414Z",
          "iopub.status.idle": "2025-04-08T15:35:10.025001Z",
          "shell.execute_reply.started": "2025-04-08T15:34:43.134393Z",
          "shell.execute_reply": "2025-04-08T15:35:10.02382Z"
        },
        "id": "5Izb04CXn3Ak"
      }
    },
    {
      "cell_type": "code",
      "source": [],
      "metadata": {
        "trusted": true,
        "id": "syEn67NMn3Ak"
      },
      "outputs": [],
      "execution_count": null
    },
    {
      "cell_type": "raw",
      "source": [
        "!kill 5333 4205"
      ],
      "metadata": {
        "execution": {
          "iopub.status.busy": "2025-04-07T23:33:12.177762Z",
          "iopub.status.idle": "2025-04-07T23:33:12.177997Z",
          "shell.execute_reply": "2025-04-07T23:33:12.177895Z"
        },
        "id": "rHIMzaVLn3Ak"
      }
    },
    {
      "cell_type": "code",
      "source": [
        "??main"
      ],
      "metadata": {
        "trusted": true,
        "execution": {
          "iopub.status.busy": "2025-04-08T10:24:32.820363Z",
          "iopub.execute_input": "2025-04-08T10:24:32.820651Z",
          "iopub.status.idle": "2025-04-08T10:24:32.878864Z",
          "shell.execute_reply.started": "2025-04-08T10:24:32.820628Z",
          "shell.execute_reply": "2025-04-08T10:24:32.878183Z"
        },
        "id": "27CQ-DH0n3Ak"
      },
      "outputs": [],
      "execution_count": null
    },
    {
      "cell_type": "code",
      "source": [
        "start_comfyui_instances()"
      ],
      "metadata": {
        "trusted": true,
        "id": "_ZfvLjrcn3Ak"
      },
      "outputs": [],
      "execution_count": null
    },
    {
      "cell_type": "code",
      "source": [
        "subprocess.Popen([sys.executable, \"main.py\", \"--cuda-device\", \"0\", \"--port\", \"8188\",\"--highvram\", \"--fp8_e4m3fn-text-enc\",\"--fp8_e4m3fn-unet\"])"
      ],
      "metadata": {
        "trusted": true,
        "id": "-_qGdOHin3Al"
      },
      "outputs": [],
      "execution_count": null
    },
    {
      "cell_type": "code",
      "source": [
        "!uv pip install -U --system pip"
      ],
      "metadata": {
        "trusted": true,
        "execution": {
          "iopub.status.busy": "2025-04-08T10:25:46.21271Z",
          "iopub.execute_input": "2025-04-08T10:25:46.213022Z",
          "iopub.status.idle": "2025-04-08T10:25:46.588284Z",
          "shell.execute_reply.started": "2025-04-08T10:25:46.212994Z",
          "shell.execute_reply": "2025-04-08T10:25:46.58739Z"
        },
        "id": "sTihiHgSn3Al"
      },
      "outputs": [],
      "execution_count": null
    },
    {
      "cell_type": "code",
      "source": [
        "    packages = [\n",
        "        \"https://github.com/comfyanonymous/ComfyUI_bitsandbytes_NF4\",\n",
        "        \"https://github.com/WASasquatch/was-node-suite-comfyui\",\n",
        "        \"https://github.com/rgthree/rgthree-comfy\",\n",
        "        \"https://codeberg.org/Gourieff/comfyui-reactor-node\",\n",
        "        \"https://github.com/BlenderNeko/ComfyUI_Noise\",\n",
        "        \"https://github.com/ltdrdata/ComfyUI-Impact-Pack\",\n",
        "        \"https://github.com/ltdrdata/ComfyUI-Impact-Subpack\",\n",
        "\n",
        "        \"https://github.com/yolain/ComfyUI-Easy-Use\",\n",
        "        \"https://github.com/kijai/ComfyUI-KJNodes\",\n",
        "        \"https://github.com/kijai/ComfyUI-Florence2\",\n",
        "        \"https://github.com/XLabs-AI/x-flux-comfyui\",\n",
        "        \"https://github.com/crystian/ComfyUI-Crystools\",\n",
        "        \"https://github.com/Suzie1/ComfyUI_Comfyroll_CustomNodes\",\n",
        "        \"https://github.com/city96/ComfyUI-GGUF\",\n",
        "        \"https://github.com/cubiq/PuLID_ComfyUI\",\n",
        "        \"https://github.com/cubiq/ComfyUI_InstantID\",\n",
        "        \"https://github.com/cubiq/ComfyUI_IPAdapter_plus\",\n",
        "        \"https://github.com/comfyanonymous/ComfyUI_experiments\",\n",
        "        \"https://github.com/chengzeyi/Comfy-WaveSpeed\",\n",
        "        \"https://github.com/Fannovel16/comfyui_controlnet_aux\",\n",
        "        \"https://github.com/ShmuelRonen/ComfyUI-FreeMemory\",\n",
        "        \"https://github.com/jamesWalker55/comfyui-various\",\n",
        "        \"https://github.com/kijai/ComfyUI-SUPIR\",\n",
        "        \"https://github.com/klinter007/klinter_nodes\",\n",
        "        \"https://github.com/holchan/ComfyUI-ModelDownloader\",\n",
        "        \"https://github.com/KoreTeknology/ComfyUI-Universal-Styler\",\n",
        "        \"https://github.com/marduk191/ComfyUI-Fluxpromptenhancer\",\n",
        "        \"https://github.com/fairy-root/Flux-Prompt-Generator\",\n",
        "        \"https://github.com/VykosX/ControlFlowUtils\",\n",
        "        \"https://github.com/godmt/ComfyUI-List-Utils\",\n",
        "        \"https://github.com/pythongosssss/ComfyUI-WD14-Tagger\",\n",
        "        \"https://github.com/miaoshouai/ComfyUI-Miaoshouai-Tagger\",\n",
        "        \"https://github.com/GraftingRayman/ComfyUI_GraftingRayman\",\n",
        "        \"https://github.com/pollockjj/ComfyUI-MultiGPU\",\n",
        "        \"https://github.com/dchatel/comfyui_facetools\",\n",
        "        \"https://github.com/fssorc/ComfyUI_FaceShaper\",\n",
        "\n",
        "        \"https://github.com/vuongminh1907/ComfyUI_ZenID\",\n",
        "        \"https://github.com/nuanarchy/ComfyUI-NuA-FlashFace\",\n",
        "        \"https://github.com/nosiu/comfyui-instantId-faceswap\",\n",
        "        \"https://github.com/EnragedAntelope/ComfyUI-EACloudNodes\",\n",
        "        \"https://github.com/nicofdga/DZ-FaceDetailer\",\n",
        "        \"https://github.com/mav-rik/facerestore_cf\",\n",
        "        \"https://github.com/smthemex/ComfyUI_InstantIR_Wrapper\",\n",
        "        \"https://github.com/cubiq/ComfyUI_essentials\",\n",
        "\n",
        "\n",
        "        \"https://github.com/Kosinkadink/ComfyUI-Advanced-ControlNet\",\n",
        "        \"https://github.com/EvilBT/ComfyUI_SLK_joy_caption_two\",\n",
        "        \"https://github.com/PowerHouseMan/ComfyUI-AdvancedLivePortrait\",\n",
        "        \"https://github.com/ssitu/ComfyUI_UltimateSDUpscale\",\n",
        "        \"https://github.com/kijai/ComfyUI-CCSR\",\n",
        "        \"https://github.com/TheBill2001/comfyui-upscale-by-model\",\n",
        "        \"https://github.com/zentrocdot/ComfyUI-RealESRGAN_Upscaler\",\n",
        "        \"https://github.com/traugdor/ComfyUI-UltimateSDUpscale-GGUF\",\n",
        "        \"https://github.com/jags111/efficiency-nodes-comfyui\",\n",
        "        \"https://github.com/kijai/ComfyUI-segment-anything-2\",\n",
        "        \"https://github.com/Extraltodeus/ComfyUI-AutomaticCFG\",\n",
        "        \"https://github.com/ltdrdata/ComfyUI-Inspire-Pack\",\n",
        "        \"https://github.com/evanspearman/ComfyMath\",\n",
        "        \"https://github.com/Derfuu/Derfuu_ComfyUI_ModdedNodes\",\n",
        "        \"https://github.com/storyicon/comfyui_segment_anything\",\n",
        "\n",
        "\n",
        "        \"https://github.com/zhangp365/ComfyUI-utils-nodes\",\n",
        "        \"https://github.com/pythongosssss/ComfyUI-Custom-Scripts\",\n",
        "        \"https://github.com/revirevy/Comfyui_saveimage_imgbb\",\n",
        "        \"https://github.com/ltdrdata/ComfyUI-Manager\",\n",
        "\n",
        "        ]\n",
        "    for package in packages:\n",
        "        install_package(package)"
      ],
      "metadata": {
        "trusted": true,
        "execution": {
          "iopub.status.busy": "2025-04-08T10:25:49.192407Z",
          "iopub.execute_input": "2025-04-08T10:25:49.192725Z",
          "iopub.status.idle": "2025-04-08T10:27:28.223581Z",
          "shell.execute_reply.started": "2025-04-08T10:25:49.192698Z",
          "shell.execute_reply": "2025-04-08T10:27:28.222633Z"
        },
        "id": "7Fyzw7GEn3Al"
      },
      "outputs": [],
      "execution_count": null
    },
    {
      "cell_type": "code",
      "source": [
        "!ps fax"
      ],
      "metadata": {
        "trusted": true,
        "execution": {
          "iopub.status.busy": "2025-04-08T10:39:17.729456Z",
          "iopub.execute_input": "2025-04-08T10:39:17.729966Z",
          "iopub.status.idle": "2025-04-08T10:39:17.857595Z",
          "shell.execute_reply.started": "2025-04-08T10:39:17.729917Z",
          "shell.execute_reply": "2025-04-08T10:39:17.856229Z"
        },
        "id": "6tjBOWmFn3Al"
      },
      "outputs": [],
      "execution_count": null
    },
    {
      "cell_type": "code",
      "source": [
        "# start_comfyui_instances()\n",
        "start_playit_agent()"
      ],
      "metadata": {
        "trusted": true,
        "execution": {
          "iopub.status.busy": "2025-04-22T11:33:27.544538Z",
          "iopub.execute_input": "2025-04-22T11:33:27.544825Z",
          "iopub.status.idle": "2025-04-22T11:33:37.559984Z",
          "shell.execute_reply.started": "2025-04-22T11:33:27.544799Z",
          "shell.execute_reply": "2025-04-22T11:33:37.559225Z"
        },
        "id": "o6h47BYWn3Am"
      },
      "outputs": [],
      "execution_count": null
    },
    {
      "cell_type": "code",
      "source": [],
      "metadata": {
        "trusted": true,
        "id": "9NcMwx2Cn3Am"
      },
      "outputs": [],
      "execution_count": null
    },
    {
      "cell_type": "code",
      "source": [
        "!kill 1592"
      ],
      "metadata": {
        "trusted": true,
        "id": "RD7Yyrkvn3Am"
      },
      "outputs": [],
      "execution_count": null
    },
    {
      "cell_type": "raw",
      "source": [
        "start_comfyui_instances()"
      ],
      "metadata": {
        "execution": {
          "iopub.status.busy": "2025-03-10T17:59:25.705707Z",
          "iopub.execute_input": "2025-03-10T17:59:25.706163Z",
          "iopub.status.idle": "2025-03-10T17:59:45.73252Z",
          "shell.execute_reply.started": "2025-03-10T17:59:25.706127Z",
          "shell.execute_reply": "2025-03-10T17:59:45.731378Z"
        },
        "id": "0ny7QCx7n3Am"
      }
    },
    {
      "cell_type": "code",
      "source": [],
      "metadata": {
        "trusted": true,
        "id": "3nmC0Yfkn3Am"
      },
      "outputs": [],
      "execution_count": null
    },
    {
      "cell_type": "raw",
      "source": [
        "%rm -r /kaggle/working/ComfyUI"
      ],
      "metadata": {
        "execution": {
          "iopub.status.busy": "2025-03-17T15:06:15.241361Z",
          "iopub.execute_input": "2025-03-17T15:06:15.241808Z",
          "iopub.status.idle": "2025-03-17T15:06:17.586758Z",
          "shell.execute_reply.started": "2025-03-17T15:06:15.241779Z",
          "shell.execute_reply": "2025-03-17T15:06:17.585842Z"
        },
        "id": "97Q5k4TXn3An"
      }
    },
    {
      "cell_type": "code",
      "source": [
        "%rm -r /kaggle/working/ComfyUI/output* /kaggle/working/old_output* /kaggle/working/ComfyUI/output*"
      ],
      "metadata": {
        "execution": {
          "iopub.status.busy": "2025-04-02T20:58:57.464704Z",
          "iopub.execute_input": "2025-04-02T20:58:57.465236Z",
          "iopub.status.idle": "2025-04-02T20:58:57.671723Z",
          "shell.execute_reply.started": "2025-04-02T20:58:57.465197Z",
          "shell.execute_reply": "2025-04-02T20:58:57.670858Z"
        },
        "trusted": true,
        "id": "ZqYtvpMHn3An"
      },
      "outputs": [],
      "execution_count": null
    },
    {
      "cell_type": "raw",
      "source": [
        "!kill 1493 1510 1541"
      ],
      "metadata": {
        "execution": {
          "iopub.status.busy": "2025-03-09T17:26:28.584737Z",
          "iopub.execute_input": "2025-03-09T17:26:28.585111Z",
          "iopub.status.idle": "2025-03-09T17:26:28.704336Z",
          "shell.execute_reply.started": "2025-03-09T17:26:28.585083Z",
          "shell.execute_reply": "2025-03-09T17:26:28.702825Z"
        },
        "id": "JVQzam0rn3An"
      }
    },
    {
      "cell_type": "code",
      "source": [
        "!du -h /kaggle/working/ComfyUI/models/flashface/* --max-depth=1"
      ],
      "metadata": {
        "trusted": true,
        "execution": {
          "iopub.status.busy": "2025-04-08T10:40:44.268658Z",
          "iopub.execute_input": "2025-04-08T10:40:44.268971Z",
          "iopub.status.idle": "2025-04-08T10:40:44.387986Z",
          "shell.execute_reply.started": "2025-04-08T10:40:44.268944Z",
          "shell.execute_reply": "2025-04-08T10:40:44.387087Z"
        },
        "id": "VcVeb43an3An"
      },
      "outputs": [],
      "execution_count": null
    },
    {
      "cell_type": "code",
      "source": [
        "!rm /kaggle/working/ComfyUI/models/clip_vision/clip_vision_g.safetensors"
      ],
      "metadata": {
        "trusted": true,
        "execution": {
          "iopub.status.busy": "2025-04-02T21:02:28.736428Z",
          "iopub.execute_input": "2025-04-02T21:02:28.736858Z",
          "iopub.status.idle": "2025-04-02T21:02:28.871418Z",
          "shell.execute_reply.started": "2025-04-02T21:02:28.736828Z",
          "shell.execute_reply": "2025-04-02T21:02:28.870491Z"
        },
        "id": "9-8XzZUHn3An"
      },
      "outputs": [],
      "execution_count": null
    },
    {
      "cell_type": "code",
      "source": [
        "%ls -ltrha /kaggle/working/ComfyUI/models/clip_vision"
      ],
      "metadata": {
        "trusted": true,
        "execution": {
          "iopub.status.busy": "2025-04-02T21:01:50.670382Z",
          "iopub.execute_input": "2025-04-02T21:01:50.67083Z",
          "iopub.status.idle": "2025-04-02T21:01:51.142994Z",
          "shell.execute_reply.started": "2025-04-02T21:01:50.670795Z",
          "shell.execute_reply": "2025-04-02T21:01:51.142167Z"
        },
        "id": "dzF2tPT8n3Ao"
      },
      "outputs": [],
      "execution_count": null
    },
    {
      "cell_type": "raw",
      "source": [
        "xlist = \"\"\"https://huggingface.co/datasets/Gourieff/ReActor/resolve/main/models/reswapper_256.onnx?download=true\n",
        "https://huggingface.co/datasets/Gourieff/ReActor/resolve/main/models/reswapper_128.onnx?download=true\n",
        "https://huggingface.co/datasets/Gourieff/ReActor/resolve/main/models/inswapper_128.onnx?download=true\"\"\".split('\\n')\n",
        "\n",
        "os.makedirs(\"/kaggle/working/ComfyUI/models/reswapper/\")\n",
        "\n",
        "for x in xlist:\n",
        "    print(x)\n",
        "    filnm = x.split('/')[-1].replace('?download=true','')\n",
        "    print(filnm)\n",
        "    !aria2c --console-log-level=error -c -x 16 -s 16 -k 1M $x -d /kaggle/working/ComfyUI/models/reswapper/ -o $filnm"
      ],
      "metadata": {
        "id": "-mzHNuYNn3Ao"
      }
    },
    {
      "cell_type": "code",
      "source": [
        "dir()"
      ],
      "metadata": {
        "trusted": true,
        "id": "8xo1NDJSn3Ao"
      },
      "outputs": [],
      "execution_count": null
    },
    {
      "cell_type": "code",
      "source": [],
      "metadata": {
        "trusted": true,
        "id": "7m8tT-r0n3Ao"
      },
      "outputs": [],
      "execution_count": null
    },
    {
      "cell_type": "code",
      "source": [],
      "metadata": {
        "trusted": true,
        "id": "FIcyLRXQn3Ap"
      },
      "outputs": [],
      "execution_count": null
    },
    {
      "cell_type": "code",
      "source": [],
      "metadata": {
        "trusted": true,
        "id": "oCZf0lpJn3Ap"
      },
      "outputs": [],
      "execution_count": null
    },
    {
      "cell_type": "code",
      "source": [
        "!ps fax"
      ],
      "metadata": {
        "trusted": true,
        "execution": {
          "iopub.status.busy": "2025-04-12T14:35:54.725699Z",
          "iopub.execute_input": "2025-04-12T14:35:54.726365Z",
          "iopub.status.idle": "2025-04-12T14:35:54.848261Z",
          "shell.execute_reply.started": "2025-04-12T14:35:54.726332Z",
          "shell.execute_reply": "2025-04-12T14:35:54.847507Z"
        },
        "id": "S4qRUyn_n3Ap"
      },
      "outputs": [],
      "execution_count": null
    },
    {
      "cell_type": "code",
      "source": [
        "!kill 2968"
      ],
      "metadata": {
        "trusted": true,
        "execution": {
          "iopub.status.busy": "2025-04-12T14:35:49.07757Z",
          "iopub.execute_input": "2025-04-12T14:35:49.078031Z",
          "iopub.status.idle": "2025-04-12T14:35:49.19545Z",
          "shell.execute_reply.started": "2025-04-12T14:35:49.077978Z",
          "shell.execute_reply": "2025-04-12T14:35:49.194472Z"
        },
        "id": "xAer1PT3n3Ap"
      },
      "outputs": [],
      "execution_count": null
    },
    {
      "cell_type": "code",
      "source": [
        "!/kaggle/working/ComfyUI/playit-linux-amd64 reset"
      ],
      "metadata": {
        "trusted": true,
        "execution": {
          "iopub.status.busy": "2025-04-12T14:34:36.064347Z",
          "iopub.execute_input": "2025-04-12T14:34:36.065062Z",
          "iopub.status.idle": "2025-04-12T14:34:36.18344Z",
          "shell.execute_reply.started": "2025-04-12T14:34:36.065034Z",
          "shell.execute_reply": "2025-04-12T14:34:36.182791Z"
        },
        "id": "YxIB3hJRn3Aq"
      },
      "outputs": [],
      "execution_count": null
    },
    {
      "cell_type": "code",
      "source": [
        "start_playit_agent()"
      ],
      "metadata": {
        "trusted": true,
        "execution": {
          "iopub.status.busy": "2025-04-12T14:34:41.004118Z",
          "iopub.execute_input": "2025-04-12T14:34:41.004682Z",
          "iopub.status.idle": "2025-04-12T14:34:51.013817Z",
          "shell.execute_reply.started": "2025-04-12T14:34:41.004655Z",
          "shell.execute_reply": "2025-04-12T14:34:51.013006Z"
        },
        "id": "59nltK8Rn3Aq"
      },
      "outputs": [],
      "execution_count": null
    },
    {
      "cell_type": "code",
      "source": [
        "!tail -n 30 /kaggle/working/ComfyUI/logs/playit.log"
      ],
      "metadata": {
        "trusted": true,
        "execution": {
          "iopub.status.busy": "2025-04-12T14:36:09.076772Z",
          "iopub.execute_input": "2025-04-12T14:36:09.077501Z",
          "iopub.status.idle": "2025-04-12T14:36:09.195879Z",
          "shell.execute_reply.started": "2025-04-12T14:36:09.077473Z",
          "shell.execute_reply": "2025-04-12T14:36:09.195198Z"
        },
        "id": "Rw2L7LK4n3Aq"
      },
      "outputs": [],
      "execution_count": null
    },
    {
      "cell_type": "code",
      "source": [
        "!grep \"claim\" /kaggle/working/ComfyUI/logs/playit.log"
      ],
      "metadata": {
        "trusted": true,
        "execution": {
          "iopub.status.busy": "2025-04-12T14:36:20.97212Z",
          "iopub.execute_input": "2025-04-12T14:36:20.972972Z",
          "iopub.status.idle": "2025-04-12T14:36:21.097427Z",
          "shell.execute_reply.started": "2025-04-12T14:36:20.972915Z",
          "shell.execute_reply": "2025-04-12T14:36:21.096567Z"
        },
        "id": "rmgmBO91n3Aq"
      },
      "outputs": [],
      "execution_count": null
    },
    {
      "cell_type": "raw",
      "source": [],
      "metadata": {
        "id": "RbeNUcTan3Ar"
      }
    },
    {
      "cell_type": "code",
      "source": [
        "    scheduler_thread = threading.Thread(target=scheduler)\n",
        "    scheduler_thread.daemon = True\n",
        "    scheduler_thread.start()"
      ],
      "metadata": {
        "trusted": true,
        "id": "z6LYDCwYn3Ar"
      },
      "outputs": [],
      "execution_count": null
    },
    {
      "cell_type": "raw",
      "source": [],
      "metadata": {
        "id": "8mB9GmF7n3Ar"
      }
    },
    {
      "cell_type": "raw",
      "source": [],
      "metadata": {
        "id": "Oi5vKPwKn3As"
      }
    },
    {
      "cell_type": "raw",
      "source": [],
      "metadata": {
        "id": "re3pOyeIn3As"
      }
    },
    {
      "cell_type": "raw",
      "source": [
        "!ps fax"
      ],
      "metadata": {
        "execution": {
          "iopub.status.busy": "2025-02-01T23:05:21.85966Z",
          "iopub.execute_input": "2025-02-01T23:05:21.859947Z",
          "iopub.status.idle": "2025-02-01T23:05:21.980097Z",
          "shell.execute_reply.started": "2025-02-01T23:05:21.859914Z",
          "shell.execute_reply": "2025-02-01T23:05:21.979031Z"
        },
        "id": "aZpuFeBMn3As"
      }
    },
    {
      "cell_type": "raw",
      "source": [
        "# %load main.py\n",
        "import comfy.options\n",
        "comfy.options.enable_args_parsing()\n",
        "\n",
        "import os\n",
        "import importlib.util\n",
        "import folder_paths\n",
        "import time\n",
        "from comfy.cli_args import args\n",
        "from app.logger import setup_logger\n",
        "import itertools\n",
        "import utils.extra_config\n",
        "import logging\n",
        "\n",
        "if __name__ == \"__main__\":\n",
        "    #NOTE: These do not do anything on core ComfyUI which should already have no communication with the internet, they are for custom nodes.\n",
        "    os.environ['HF_HUB_DISABLE_TELEMETRY'] = '1'\n",
        "    os.environ['DO_NOT_TRACK'] = '1'\n",
        "\n",
        "\n",
        "setup_logger(log_level=args.verbose, use_stdout=args.log_stdout)\n",
        "\n",
        "def apply_custom_paths():\n",
        "    # extra model paths\n",
        "    extra_model_paths_config_path = os.path.join(os.path.dirname(os.path.realpath(__file__)), \"extra_model_paths.yaml\")\n",
        "    if os.path.isfile(extra_model_paths_config_path):\n",
        "        utils.extra_config.load_extra_path_config(extra_model_paths_config_path)\n",
        "\n",
        "    if args.extra_model_paths_config:\n",
        "        for config_path in itertools.chain(*args.extra_model_paths_config):\n",
        "            utils.extra_config.load_extra_path_config(config_path)\n",
        "\n",
        "    # --output-directory, --input-directory, --user-directory\n",
        "    if args.output_directory:\n",
        "        output_dir = os.path.abspath(args.output_directory)\n",
        "        logging.info(f\"Setting output directory to: {output_dir}\")\n",
        "        folder_paths.set_output_directory(output_dir)\n",
        "\n",
        "    # These are the default folders that checkpoints, clip and vae models will be saved to when using CheckpointSave, etc.. nodes\n",
        "    folder_paths.add_model_folder_path(\"checkpoints\", os.path.join(folder_paths.get_output_directory(), \"checkpoints\"))\n",
        "    folder_paths.add_model_folder_path(\"clip\", os.path.join(folder_paths.get_output_directory(), \"clip\"))\n",
        "    folder_paths.add_model_folder_path(\"vae\", os.path.join(folder_paths.get_output_directory(), \"vae\"))\n",
        "    folder_paths.add_model_folder_path(\"diffusion_models\",\n",
        "                                       os.path.join(folder_paths.get_output_directory(), \"diffusion_models\"))\n",
        "    folder_paths.add_model_folder_path(\"loras\", os.path.join(folder_paths.get_output_directory(), \"loras\"))\n",
        "\n",
        "    if args.input_directory:\n",
        "        input_dir = os.path.abspath(args.input_directory)\n",
        "        logging.info(f\"Setting input directory to: {input_dir}\")\n",
        "        folder_paths.set_input_directory(input_dir)\n",
        "\n",
        "    if args.user_directory:\n",
        "        user_dir = os.path.abspath(args.user_directory)\n",
        "        logging.info(f\"Setting user directory to: {user_dir}\")\n",
        "        folder_paths.set_user_directory(user_dir)\n",
        "\n",
        "\n",
        "def execute_prestartup_script():\n",
        "    def execute_script(script_path):\n",
        "        module_name = os.path.splitext(script_path)[0]\n",
        "        try:\n",
        "            spec = importlib.util.spec_from_file_location(module_name, script_path)\n",
        "            module = importlib.util.module_from_spec(spec)\n",
        "            spec.loader.exec_module(module)\n",
        "            return True\n",
        "        except Exception as e:\n",
        "            logging.error(f\"Failed to execute startup-script: {script_path} / {e}\")\n",
        "        return False\n",
        "\n",
        "    if args.disable_all_custom_nodes:\n",
        "        return\n",
        "\n",
        "    node_paths = folder_paths.get_folder_paths(\"custom_nodes\")\n",
        "    for custom_node_path in node_paths:\n",
        "        possible_modules = os.listdir(custom_node_path)\n",
        "        node_prestartup_times = []\n",
        "\n",
        "        for possible_module in possible_modules:\n",
        "            module_path = os.path.join(custom_node_path, possible_module)\n",
        "            if os.path.isfile(module_path) or module_path.endswith(\".disabled\") or module_path == \"__pycache__\":\n",
        "                continue\n",
        "\n",
        "            script_path = os.path.join(module_path, \"prestartup_script.py\")\n",
        "            if os.path.exists(script_path):\n",
        "                time_before = time.perf_counter()\n",
        "                success = execute_script(script_path)\n",
        "                node_prestartup_times.append((time.perf_counter() - time_before, module_path, success))\n",
        "    if len(node_prestartup_times) > 0:\n",
        "        logging.info(\"\\nPrestartup times for custom nodes:\")\n",
        "        for n in sorted(node_prestartup_times):\n",
        "            if n[2]:\n",
        "                import_message = \"\"\n",
        "            else:\n",
        "                import_message = \" (PRESTARTUP FAILED)\"\n",
        "            logging.info(\"{:6.1f} seconds{}: {}\".format(n[0], import_message, n[1]))\n",
        "        logging.info(\"\")\n",
        "\n",
        "apply_custom_paths()\n",
        "execute_prestartup_script()\n",
        "\n",
        "\n",
        "# Main code\n",
        "import asyncio\n",
        "import shutil\n",
        "import threading\n",
        "import gc\n",
        "\n",
        "\n",
        "if os.name == \"nt\":\n",
        "    logging.getLogger(\"xformers\").addFilter(lambda record: 'A matching Triton is not available' not in record.getMessage())\n",
        "\n",
        "if __name__ == \"__main__\":\n",
        "    if args.cuda_device is not None:\n",
        "        os.environ['CUDA_VISIBLE_DEVICES'] = str(args.cuda_device)\n",
        "        os.environ['HIP_VISIBLE_DEVICES'] = str(args.cuda_device)\n",
        "        logging.info(\"Set cuda device to: {}\".format(args.cuda_device))\n",
        "\n",
        "    if args.oneapi_device_selector is not None:\n",
        "        os.environ['ONEAPI_DEVICE_SELECTOR'] = args.oneapi_device_selector\n",
        "        logging.info(\"Set oneapi device selector to: {}\".format(args.oneapi_device_selector))\n",
        "\n",
        "    if args.deterministic:\n",
        "        if 'CUBLAS_WORKSPACE_CONFIG' not in os.environ:\n",
        "            os.environ['CUBLAS_WORKSPACE_CONFIG'] = \":4096:8\"\n",
        "\n",
        "    import cuda_malloc\n",
        "\n",
        "if args.windows_standalone_build:\n",
        "    try:\n",
        "        from fix_torch import fix_pytorch_libomp\n",
        "        fix_pytorch_libomp()\n",
        "    except:\n",
        "        pass\n",
        "\n",
        "import comfy.utils\n",
        "\n",
        "import execution\n",
        "import server\n",
        "from server import BinaryEventTypes\n",
        "import nodes\n",
        "import comfy.model_management\n",
        "import comfyui_version\n",
        "\n",
        "\n",
        "def cuda_malloc_warning():\n",
        "    device = comfy.model_management.get_torch_device()\n",
        "    device_name = comfy.model_management.get_torch_device_name(device)\n",
        "    cuda_malloc_warning = False\n",
        "    if \"cudaMallocAsync\" in device_name:\n",
        "        for b in cuda_malloc.blacklist:\n",
        "            if b in device_name:\n",
        "                cuda_malloc_warning = True\n",
        "        if cuda_malloc_warning:\n",
        "            logging.warning(\"\\nWARNING: this card most likely does not support cuda-malloc, if you get \\\"CUDA error\\\" please run ComfyUI with: --disable-cuda-malloc\\n\")\n",
        "\n",
        "\n",
        "def prompt_worker(q, server_instance):\n",
        "    current_time: float = 0.0\n",
        "    e = execution.PromptExecutor(server_instance, lru_size=args.cache_lru)\n",
        "    last_gc_collect = 0\n",
        "    need_gc = False\n",
        "    gc_collect_interval = 10.0\n",
        "\n",
        "    while True:\n",
        "        timeout = 1000.0\n",
        "        if need_gc:\n",
        "            timeout = max(gc_collect_interval - (current_time - last_gc_collect), 0.0)\n",
        "\n",
        "        queue_item = q.get(timeout=timeout)\n",
        "        if queue_item is not None:\n",
        "            item, item_id = queue_item\n",
        "            execution_start_time = time.perf_counter()\n",
        "            prompt_id = item[1]\n",
        "            server_instance.last_prompt_id = prompt_id\n",
        "\n",
        "            e.execute(item[2], prompt_id, item[3], item[4])\n",
        "            need_gc = True\n",
        "            q.task_done(item_id,\n",
        "                        e.history_result,\n",
        "                        status=execution.PromptQueue.ExecutionStatus(\n",
        "                            status_str='success' if e.success else 'error',\n",
        "                            completed=e.success,\n",
        "                            messages=e.status_messages))\n",
        "            if server_instance.client_id is not None:\n",
        "                server_instance.send_sync(\"executing\", {\"node\": None, \"prompt_id\": prompt_id}, server_instance.client_id)\n",
        "\n",
        "            current_time = time.perf_counter()\n",
        "            execution_time = current_time - execution_start_time\n",
        "            logging.info(\"Prompt executed in {:.2f} seconds\".format(execution_time))\n",
        "\n",
        "        flags = q.get_flags()\n",
        "        free_memory = flags.get(\"free_memory\", False)\n",
        "\n",
        "        if flags.get(\"unload_models\", free_memory):\n",
        "            comfy.model_management.unload_all_models()\n",
        "            need_gc = True\n",
        "            last_gc_collect = 0\n",
        "\n",
        "        if free_memory:\n",
        "            e.reset()\n",
        "            need_gc = True\n",
        "            last_gc_collect = 0\n",
        "\n",
        "        if need_gc:\n",
        "            current_time = time.perf_counter()\n",
        "            if (current_time - last_gc_collect) > gc_collect_interval:\n",
        "                gc.collect()\n",
        "                comfy.model_management.soft_empty_cache()\n",
        "                last_gc_collect = current_time\n",
        "                need_gc = False\n",
        "\n",
        "\n",
        "async def run(server_instance, address='', port=8188, verbose=True, call_on_start=None):\n",
        "    addresses = []\n",
        "    for addr in address.split(\",\"):\n",
        "        addresses.append((addr, port))\n",
        "    await asyncio.gather(\n",
        "        server_instance.start_multi_address(addresses, call_on_start, verbose), server_instance.publish_loop()\n",
        "    )\n",
        "\n",
        "\n",
        "def hijack_progress(server_instance):\n",
        "    def hook(value, total, preview_image):\n",
        "        comfy.model_management.throw_exception_if_processing_interrupted()\n",
        "        progress = {\"value\": value, \"max\": total, \"prompt_id\": server_instance.last_prompt_id, \"node\": server_instance.last_node_id}\n",
        "\n",
        "        server_instance.send_sync(\"progress\", progress, server_instance.client_id)\n",
        "        if preview_image is not None:\n",
        "            server_instance.send_sync(BinaryEventTypes.UNENCODED_PREVIEW_IMAGE, preview_image, server_instance.client_id)\n",
        "\n",
        "    comfy.utils.set_progress_bar_global_hook(hook)\n",
        "\n",
        "\n",
        "def cleanup_temp():\n",
        "    temp_dir = folder_paths.get_temp_directory()\n",
        "    if os.path.exists(temp_dir):\n",
        "        shutil.rmtree(temp_dir, ignore_errors=True)\n",
        "\n",
        "\n",
        "def start_comfyui(asyncio_loop=None):\n",
        "    \"\"\"\n",
        "    Starts the ComfyUI server using the provided asyncio event loop or creates a new one.\n",
        "    Returns the event loop, server instance, and a function to start the server asynchronously.\n",
        "    \"\"\"\n",
        "    if args.temp_directory:\n",
        "        temp_dir = os.path.join(os.path.abspath(args.temp_directory), \"temp\")\n",
        "        logging.info(f\"Setting temp directory to: {temp_dir}\")\n",
        "        folder_paths.set_temp_directory(temp_dir)\n",
        "    cleanup_temp()\n",
        "\n",
        "    if args.windows_standalone_build:\n",
        "        try:\n",
        "            import new_updater\n",
        "            new_updater.update_windows_updater()\n",
        "        except:\n",
        "            pass\n",
        "\n",
        "    if not asyncio_loop:\n",
        "        asyncio_loop = asyncio.new_event_loop()\n",
        "        asyncio.set_event_loop(asyncio_loop)\n",
        "    prompt_server = server.PromptServer(asyncio_loop)\n",
        "    q = execution.PromptQueue(prompt_server)\n",
        "\n",
        "    nodes.init_extra_nodes(init_custom_nodes=not args.disable_all_custom_nodes)\n",
        "\n",
        "    cuda_malloc_warning()\n",
        "\n",
        "    prompt_server.add_routes()\n",
        "    hijack_progress(prompt_server)\n",
        "\n",
        "    threading.Thread(target=prompt_worker, daemon=True, args=(q, prompt_server,)).start()\n",
        "\n",
        "    if args.quick_test_for_ci:\n",
        "        exit(0)\n",
        "\n",
        "    os.makedirs(folder_paths.get_temp_directory(), exist_ok=True)\n",
        "    call_on_start = None\n",
        "    if args.auto_launch:\n",
        "        def startup_server(scheme, address, port):\n",
        "            import webbrowser\n",
        "            if os.name == 'nt' and address == '0.0.0.0':\n",
        "                address = '127.0.0.1'\n",
        "            if ':' in address:\n",
        "                address = \"[{}]\".format(address)\n",
        "            webbrowser.open(f\"{scheme}://{address}:{port}\")\n",
        "        call_on_start = startup_server\n",
        "\n",
        "    async def start_all():\n",
        "        await prompt_server.setup()\n",
        "        await run(prompt_server, address=args.listen, port=args.port, verbose=not args.dont_print_server, call_on_start=call_on_start)\n",
        "\n",
        "    # Returning these so that other code can integrate with the ComfyUI loop and server\n",
        "    return asyncio_loop, prompt_server, start_all\n",
        "\n",
        "\n",
        "if __name__ == \"__main__\":\n",
        "    # Running directly, just start ComfyUI.\n",
        "    logging.info(\"ComfyUI version: {}\".format(comfyui_version.__version__))\n",
        "    event_loop, _, start_all_func = start_comfyui()\n",
        "    try:\n",
        "        event_loop.run_until_complete(start_all_func())\n",
        "    except KeyboardInterrupt:\n",
        "        logging.info(\"\\nStopped server\")\n",
        "\n",
        "    cleanup_temp()\n"
      ],
      "metadata": {
        "execution": {
          "iopub.status.busy": "2025-02-10T21:55:06.117618Z",
          "iopub.execute_input": "2025-02-10T21:55:06.118098Z",
          "iopub.status.idle": "2025-02-10T21:55:06.123966Z",
          "shell.execute_reply.started": "2025-02-10T21:55:06.118066Z",
          "shell.execute_reply": "2025-02-10T21:55:06.122916Z"
        },
        "id": "SuifGHiSn3As"
      }
    },
    {
      "cell_type": "raw",
      "source": [
        "import os\n",
        "import subprocess\n",
        "import time\n",
        "import zipfile\n",
        "import shutil\n",
        "from datetime import datetime\n",
        "import threading\n",
        "from IPython.core.getipython import get_ipython\n",
        "\n",
        "def zip_folder(folder_path, zip_path):\n",
        "    \"\"\"Zip the contents of a folder.\"\"\"\n",
        "    print(\"=\"*60, \"Starting to zip folder...\", \"-\"*60, sep=\"\\n\")\n",
        "    with zipfile.ZipFile(zip_path, 'w', zipfile.ZIP_DEFLATED) as zipf:\n",
        "        for root, _, files in os.walk(folder_path):\n",
        "            for file in files:\n",
        "                file_path = os.path.join(root, file)\n",
        "                arcname = os.path.relpath(file_path, folder_path)\n",
        "                zipf.write(file_path, arcname)\n",
        "    print(\"=\"*60, \"Folder zipped successfully.\", \"-\"*60, sep=\"\\n\")\n",
        "\n",
        "def move_files(source_folder, dest_folder):\n",
        "    \"\"\"Move files from source folder to destination folder.\"\"\"\n",
        "    print(\"=\"*60, \"Starting to move files...\", \"-\"*60, sep=\"\\n\")\n",
        "    os.makedirs(dest_folder, exist_ok=True)\n",
        "    if os.path.exists(source_folder):\n",
        "        for item in os.listdir(source_folder):\n",
        "            try:\n",
        "                shutil.move(os.path.join(source_folder, item), dest_folder)\n",
        "            except Exception as e:\n",
        "                print(f\"Error moving file {item}: {e}\")\n",
        "    print(\"=\"*60, \"Files moved successfully.\", \"-\"*60, sep=\"\\n\")\n",
        "\n",
        "def install_package(url):\n",
        "    \"\"\"Install a package from a given URL.\"\"\"\n",
        "    print(\"=\"*60, f\"Starting to install package from {url}...\", \"-\"*60, sep=\"\\n\")\n",
        "    package_name = url.split('/')[-1].replace('.git', '')\n",
        "    package_path = f\"/kaggle/working/ComfyUI/custom_nodes/{package_name}\"\n",
        "\n",
        "    if not os.path.exists(\"/kaggle/working/ComfyUI/custom_nodes/\"):\n",
        "        os.makedirs(\"/kaggle/working/ComfyUI/custom_nodes/\")\n",
        "\n",
        "    os.chdir(\"/kaggle/working/ComfyUI/custom_nodes\")\n",
        "\n",
        "    if not os.path.exists(package_path):\n",
        "        get_ipython().system(f'git clone {url} --recursive')\n",
        "\n",
        "    os.chdir(package_path)\n",
        "    get_ipython().system('git pull --all')\n",
        "\n",
        "    if os.path.exists(\"requirements.txt\"):\n",
        "        get_ipython().system('uv pip install --system -r requirements.txt --quiet')\n",
        "\n",
        "    print(\"=\"*60, f\"Package from {url} installed successfully.\", \"-\"*60, sep=\"\\n\")\n",
        "\n",
        "def setup_comfyui():\n",
        "    \"\"\"Set up ComfyUI and install necessary packages.\"\"\"\n",
        "    print(\"=\"*60, \"Starting to set up ComfyUI...\", \"-\"*60, sep=\"\\n\")\n",
        "    os.chdir(\"/kaggle/working\")\n",
        "    if not os.path.exists(\"/kaggle/working/ComfyUI/\") or not os.path.exists(\"/kaggle/working/ComfyUI/requirements\") :\n",
        "        get_ipython().system('git clone https://github.com/comfyanonymous/ComfyUI.git --recursive')\n",
        "    os.chdir(\"ComfyUI\")\n",
        "    get_ipython().system('git pull --all')\n",
        "    get_ipython().system('uv pip install --system -r requirements.txt --quiet')\n",
        "\n",
        "    model_dirs = [\n",
        "        \"/kaggle/working/ComfyUI/models/LLM\",\n",
        "        \"/kaggle/working/ComfyUI/models/pulid\",\n",
        "        \"/kaggle/working/ComfyUI/models/clip_vision\",\n",
        "        \"/kaggle/working/ComfyUI/models/xlabs/contronets/\"\n",
        "    ]\n",
        "    for dir_path in model_dirs:\n",
        "        os.makedirs(dir_path, exist_ok=True)\n",
        "    print(\"=\"*60, \"ComfyUI set up successfully.\", \"-\"*60, sep=\"\\n\")\n",
        "\n",
        "def xlinkthis(src, dest):\n",
        "    import os\n",
        "    os.makedirs(os.path.dirname(dest), exist_ok=True)\n",
        "    if not os.path.exists(dest) and not os.path.islink(dest):\n",
        "        os.symlink(src, dest)\n",
        "\n",
        "def link_models():\n",
        "    \"\"\"Create symbolic links for model files.\"\"\"\n",
        "    print(\"=\"*60, \"Starting to link models...\", \"-\"*60, sep=\"\\n\")\n",
        "    links = [\n",
        "        (\"/kaggle/input/clip-gmp-vit-l-14/tensorflow2/default/1/model.safetensors\",\n",
        "         \"/kaggle/working/ComfyUI/models/clip/CLIP_gmp_VIT_L_14.safetensors\"),\n",
        "        (\"/kaggle/input/t5xxl_fp16.safetensors/tensorflow2/default/1/t5xxl_fp16.safetensors\",\n",
        "         \"/kaggle/working/ComfyUI/models/clip/t5xxl_fp16.safetensors\"),\n",
        "        (\"/kaggle/input/flux-vae-safetensors/pytorch/default/1/ae.safetensors\",\n",
        "         \"/kaggle/working/ComfyUI/models/vae/FLuX_ae.safetensors\"),\n",
        "        (\"/kaggle/input/florence2/transformers/default/1/Florence2_model_3/model.safetensors\",\n",
        "         \"/kaggle/working/ComfyUI/models/LLM/Florence_model_3.safetensors\"),\n",
        "        (\"/kaggle/input/florence2/transformers/default/1/Florence2_model_2/model.safetensors\",\n",
        "         \"/kaggle/working/ComfyUI/models/LLM/Florence_model_2.safetensors\"),\n",
        "        (\"/kaggle/input/controlnet/pytorch/flux-canny-controlnet/1/flux-canny-controlnet-v3.safetensors\",\n",
        "         \"/kaggle/working/ComfyUI/models/xlabs/contronets/flux-canny-controlnet-v3.safetensors\"),\n",
        "        (\"/kaggle/input/controlnet/pytorch/flux-depth-controlnet/1/flux-depth-controlnet-v3.safetensors\",\n",
        "         \"/kaggle/working/ComfyUI/models/xlabs/contronets/flux-depth-controlnet-v3.safetensors\"),\n",
        "        (\"/kaggle/input/realvisxl-v50/pytorch/default/1/realvisxl-v50.safetensors\",\n",
        "         \"/kaggle/working/ComfyUI/models/checkpoints/realvisxl-v50.safetensors\"),\n",
        "        (\"/kaggle/input/realvisxl-v50/pytorch/default/2/SG161222_RealVisXL_V5_0_Lightning.safetensors\",\n",
        "         \"/kaggle/working/ComfyUI/models/checkpoints/SG161222_RealVisXL_V5_0_Lightning.safetensors\"),\n",
        "        (\"/kaggle/input/flux1devnf46stepsnsfw/pytorch/default/1/flux1DevNF46StepsNSFW_fluxdevFP86Steps.safetensors\",\n",
        "         \"/kaggle/working/ComfyUI/models/checkpoints/flux1DevNF46StepsNSFW_fluxdevFP86Steps.safetensors\"),\n",
        "        (\"/kaggle/input/8stepscrearthyperfluxdevbnb_v24hyperdevfp8unet_/pytorch/default/1/8StepsCreartHyperFluxDevBnb_v24HyperDevFp8Unet.safetensors\",\n",
        "         \"/kaggle/working/ComfyUI/models/unet/8StepsCreartHyperFluxDevBnb_v24HyperDevFp8Unet.safetensors\"),\n",
        "        (\"/kaggle/input/creart-hyper-flux-dev-gguf-q4_0/gguf/default/1/CreArt-Hyper-Flux-Dev-gguf-q4_0.gguf\",\n",
        "         \"/kaggle/working/ComfyUI/models/unet/CreArt-Hyper-Flux-Dev-gguf-q4_0.gguf\"),\n",
        "        (\"/kaggle/input/unet/gguf/flux1-dev-q4_k_s/1/flux1-dev-Q4_K_S.gguf\",\n",
        "         \"/kaggle/working/ComfyUI/models/unet/flux1-dev-Q4_K_S.gguf\"),\n",
        "        (\"/kaggle/input/aldebodobasexl_v3mini/tensorflow2/default/1/albedobaseXL_v3Mini.safetensors\",\n",
        "         \"/kaggle/working/ComfyUI/models/checkpoints/albedobaseXL_v3Mini.safetensors\"),\n",
        "        (\"/kaggle/input/alimama-flux-turbo-lora/pytorch/default/1/diffusion_pytorch_model.safetensors\",\n",
        "         \"/kaggle/working/ComfyUI/models/loras/alimama-flux-turbo-lora.safetensors\"),\n",
        "        (\"/kaggle/input/fluxartfusion4steps_v12/pytorch/default/1/fluxArtfusion4Steps_v12.safetensors\",\n",
        "         \"/kaggle/working/ComfyUI/models/checkpoints/fluxArtfusion4Steps_v12.safetensors\"),\n",
        "        (\"/kaggle/input/clip-vit/pytorch/h-14-laion2b-s32b-b79k/1/pytorch_model.bin\",\n",
        "         \"/kaggle/working/ComfyUI/models/clip_vision/clip_vit_h-14-laion2b-s32b-b79k.bin\"),\n",
        "        (\"/kaggle/input/controlnet-package-hsbd10/pytorch/default/4/controlnet_instantid_model.safetensors\",\n",
        "         \"/kaggle/working/ComfyUI/models/controlnet/instantid/LeInstantID_ControlNet_model.safetensors\"),\n",
        "        (\"/kaggle/input/instant_id/pytorch/default/2/instantid-ip-adapter.bin\",\n",
        "         \"/kaggle/working/ComfyUI/models/instantid/InstantID_ip_adapter.bin\"),\n",
        "        (\"/kaggle/input/instant_id/pytorch/default/2/instantid-ip-adapter.bin\",\n",
        "         \"/kaggle/working/ComfyUI/models/instantid/ip_adapter.bin\"),\n",
        "        (\"/kaggle/input/instant_id/pytorch/default/2/instantid-ip-adapter.bin\",\n",
        "         \"/kaggle/working/ComfyUI/models/instantid/SDXL/ip-adapter.bin\"),\n",
        "        (\"/kaggle/input/controlnet-package-hsbd10/pytorch/default/4/controlnet_instantid_model.safetensors\",\n",
        "         \"/kaggle/working/ComfyUI/models/controlnet/instantid/LeInstantID_ControlNet_model.safetensors\"),\n",
        "        (\"/kaggle/input/4xnomosunidat_upscaler/pytorch/default/5/4xnomosunidat_upscaler.safetensors\",\n",
        "         \"/kaggle/working/ComfyUI/models/upscale_models/4xnomosunidat_upscaler.safetensors\")\n",
        "    ]\n",
        "    for src, dest in links:\n",
        "        xlinkthis(src,dest)\n",
        "    print(\"=\"*60, \"Models linked successfully.\", \"-\"*60, sep=\"\\n\")\n",
        "\n",
        "def link_additional_models():\n",
        "    \"\"\"Link additional models from specified directories.\"\"\"\n",
        "    print(\"=\"*60, \"Starting to link additional models...\", \"=\"*60, sep=\"\\n\")\n",
        "\n",
        "    # Link models from /kaggle/input/4xnomosunidat_upscaler/pytorch/default/5/\n",
        "    for x in os.listdir(\"/kaggle/input/4xnomosunidat_upscaler/pytorch/default/5/\"):\n",
        "        print(x)\n",
        "        xlinkthis(f\"/kaggle/input/4xnomosunidat_upscaler/pytorch/default/5/{x}\", f\"/kaggle/working/ComfyUI/models/upscale_models/{x}\")\n",
        "\n",
        "    # Link models from /kaggle/input/t5_xxl_gguf_models/pytorch/default/1/\n",
        "    for x in os.listdir(\"/kaggle/input/t5_xxl_gguf_models/pytorch/default/1/\"):\n",
        "        print(x)\n",
        "        xlinkthis(f\"/kaggle/input/t5_xxl_gguf_models/pytorch/default/1/{x}\", f\"/kaggle/working/ComfyUI/models/clip/{x}\")\n",
        "\n",
        "    # Link models from /kaggle/input/sdxl_controlnets/pytorch/default/3/\n",
        "    for x in os.listdir(\"/kaggle/input/sdxl_controlnets/pytorch/default/3/\"):\n",
        "        print(x)\n",
        "        os.symlink(f\"/kaggle/input/sdxl_controlnets/pytorch/default/3/{x}\", f\"/kaggle/working/ComfyUI/models/controlnet/{x}\")\n",
        "        if 'ip-adapter' in x:\n",
        "            xlinkthis(f\"/kaggle/input/sdxl_controlnets/pytorch/default/3/{x}\", f\"/kaggle/working/ComfyUI/models/ipadapter/{x}\")\n",
        "\n",
        "    # Link models from /kaggle/input/pulid-model/pytorch/default/3/\n",
        "    for x in os.listdir(\"/kaggle/input/pulid-model/pytorch/default/3/\"):\n",
        "        print(x)\n",
        "        xlinkthis(f\"/kaggle/input/pulid-model/pytorch/default/3/{x}\", f\"/kaggle/working/ComfyUI/models/pulid/{x}\")\n",
        "\n",
        "    print(\"=\"*60, \"Additional models linked successfully.\", \"=\"*60, sep=\"\\n\")\n",
        "\n",
        "def start_comfyui_instances():\n",
        "    \"\"\"Start ComfyUI instances.\"\"\"\n",
        "    print(\"=\"*60, \"Starting ComfyUI instances...\", \"-\"*60, sep=\"\\n\")\n",
        "    os.chdir(\"/kaggle/working/ComfyUI/\")\n",
        "    xP1 = subprocess.Popen([\"python\", \"main.py\", \"--cuda-device\", \"0\", \"--port\", \"8188\", \"--highvram\"])\n",
        "    time.sleep(10)\n",
        "    xP2 = subprocess.Popen([\"python\", \"main.py\", \"--cuda-device\", \"1\", \"--port\", \"8189\", \"--highvram\"])\n",
        "    time.sleep(10)\n",
        "    print(\"=\"*60, \"ComfyUI instances started successfully.\", \"-\"*60, sep=\"\\n\")\n",
        "\n",
        "def start_playit_agent():\n",
        "    \"\"\"Start the Playit agent.\"\"\"\n",
        "    print(\"=\"*60, \"Starting Playit agent...\", \"-\"*60, sep=\"\\n\")\n",
        "    os.chdir(\"/kaggle/working/ComfyUI/\")\n",
        "    if not os.path.exists('/kaggle/working/ComfyUI/playit-linux-amd64'):\n",
        "        get_ipython().system('wget https://github.com/playit-cloud/playit-agent/releases/download/v0.15.26/playit-linux-amd64')\n",
        "    get_ipython().system('chmod +x ./playit-linux-amd64')\n",
        "    os.makedirs(\"/kaggle/working/ComfyUI/logs\", exist_ok=True)\n",
        "    subprocess.Popen(\"nohup /kaggle/working/ComfyUI/playit-linux-amd64 >> /kaggle/working/ComfyUI/logs/playit.log 2>&1 &\", bufsize=0, shell=True)\n",
        "    time.sleep(3)\n",
        "    get_ipython().system('tail -n 20 /kaggle/working/ComfyUI/logs/playit.log')\n",
        "    print(\"=\"*60, \"Playit agent started successfully.\", \"-\"*60, sep=\"\\n\")\n",
        "\n",
        "def execute_first_cell():\n",
        "    \"\"\"Execute the first cell in the notebook.\"\"\"\n",
        "    print(\"=\"*60, \"Executed\", datetime.today(), \"-\"*60, sep=\"\\n\")\n",
        "    get_ipython().run_cell(get_ipython().user_ns['In'][1])\n",
        "    print(\"=\"*60, \"-\"*60, sep=\"\\n\")\n",
        "\n",
        "def scheduler():\n",
        "    \"\"\"Scheduler to execute the first cell every minute.\"\"\"\n",
        "    print(\"=\"*60, \"Starting scheduler...\", \"-\"*60, sep=\"\\n\")\n",
        "    while True:\n",
        "        execute_first_cell()\n",
        "        time.sleep(60)  # 60 seconds\n",
        "\n",
        "def main():\n",
        "    \"\"\"Main function to orchestrate the setup and execution.\"\"\"\n",
        "    print(\"=\"*60, \"Starting main function...\", \"-\"*60, sep=\"\\n\")\n",
        "    # Install uv\n",
        "    print(\"=\"*60, \"Installing uv...\", \"-\"*60, sep=\"\\n\")\n",
        "    get_ipython().system('python -m pip install -U pip uv -q')\n",
        "\n",
        "    # Example usage of zip_folder\n",
        "    folder_to_zip = '/kaggle/working/ComfyUI/output'\n",
        "    if os.path.exists(folder_to_zip):\n",
        "        output_zip = f'/kaggle/working/output_{datetime.now():%d%m%Y_%H%M}.zip'\n",
        "        zip_folder(folder_to_zip, output_zip)\n",
        "\n",
        "        # Move files\n",
        "        x_old = '/kaggle/working/old_output'\n",
        "        move_files(folder_to_zip, x_old)\n",
        "\n",
        "    # Setup ComfyUI\n",
        "    setup_comfyui()\n",
        "\n",
        "    # Install packages\n",
        "    packages = [\n",
        "        \"https://github.com/comfyanonymous/ComfyUI_bitsandbytes_NF4\",\n",
        "        \"https://github.com/WASasquatch/was-node-suite-comfyui\",\n",
        "        \"https://github.com/rgthree/rgthree-comfy\",\n",
        "        \"https://codeberg.org/Gourieff/comfyui-reactor-node\",\n",
        "        \"https://github.com/BlenderNeko/ComfyUI_Noise\",\n",
        "        \"https://github.com/ltdrdata/ComfyUI-Impact-Pack\",\n",
        "        \"https://github.com/pythongosssss/ComfyUI-Custom-Scripts\",\n",
        "        \"https://github.com/yolain/ComfyUI-Easy-Use\",\n",
        "        \"https://github.com/kijai/ComfyUI-KJNodes\",\n",
        "        \"https://github.com/kijai/ComfyUI-Florence2\",\n",
        "        \"https://github.com/XLabs-AI/x-flux-comfyui\",\n",
        "        \"https://github.com/crystian/ComfyUI-Crystools\",\n",
        "        \"https://github.com/city96/ComfyUI-GGUF\",\n",
        "        \"https://github.com/cubiq/PuLID_ComfyUI\",\n",
        "        \"https://github.com/cubiq/ComfyUI_InstantID\",\n",
        "        \"https://github.com/cubiq/ComfyUI_IPAdapter_plus\",\n",
        "        \"https://github.com/revirevy/Comfyui_saveimage_imgbb\",\n",
        "        \"https://github.com/ltdrdata/ComfyUI-Manager\",\n",
        "        \"https://github.com/comfyanonymous/ComfyUI_experiments\",\n",
        "        \"https://github.com/chengzeyi/Comfy-WaveSpeed\",\n",
        "        \"https://github.com/Fannovel16/comfyui_controlnet_aux\",\n",
        "        \"https://github.com/ShmuelRonen/ComfyUI-FreeMemory\",\n",
        "        \"https://github.com/jamesWalker55/comfyui-various\",\n",
        "        \"https://github.com/kijai/ComfyUI-SUPIR\",\n",
        "        \"https://github.com/klinter007/klinter_nodes\",\n",
        "        \"https://github.com/holchan/ComfyUI-ModelDownloader\",\n",
        "        \"https://github.com/KoreTeknology/ComfyUI-Universal-Styler\",\n",
        "        \"https://github.com/marduk191/ComfyUI-Fluxpromptenhancer\",\n",
        "        \"https://github.com/fairy-root/Flux-Prompt-Generator\",\n",
        "        \"https://github.com/VykosX/ControlFlowUtils\",\n",
        "        \"https://github.com/godmt/ComfyUI-List-Utils\"\n",
        "    ]\n",
        "    for package in packages:\n",
        "        install_package(package)\n",
        "\n",
        "    # Setup ComfyUI\n",
        "    setup_comfyui()\n",
        "\n",
        "    # Link models\n",
        "    link_models()\n",
        "\n",
        "    # Start ComfyUI instances\n",
        "    start_comfyui_instances()\n",
        "\n",
        "    # Start Playit agent\n",
        "    start_playit_agent()\n",
        "\n",
        "    # Start scheduler\n",
        "    scheduler_thread = threading.Thread(target=scheduler)\n",
        "    scheduler_thread.daemon = True\n",
        "    scheduler_thread.start()\n",
        "\n",
        "    print(\"=\"*60, \"Scheduler started in background. It will execute the first cell every 1 minute.\", \"-\"*60, sep=\"\\n\")\n",
        "\n",
        "if __name__ == \"__main__\":\n",
        "    main()\n"
      ],
      "metadata": {
        "execution": {
          "iopub.status.busy": "2025-02-01T23:14:35.088843Z",
          "iopub.execute_input": "2025-02-01T23:14:35.089269Z",
          "iopub.status.idle": "2025-02-01T23:15:51.658622Z",
          "shell.execute_reply.started": "2025-02-01T23:14:35.089241Z",
          "shell.execute_reply": "2025-02-01T23:15:51.65597Z"
        },
        "id": "dfPawXghn3At"
      }
    },
    {
      "cell_type": "raw",
      "source": [
        "!tail -n 20 /kaggle/working/ComfyUI/logs/playit.log"
      ],
      "metadata": {
        "execution": {
          "iopub.status.busy": "2025-02-01T23:19:27.156305Z",
          "iopub.execute_input": "2025-02-01T23:19:27.156635Z",
          "iopub.status.idle": "2025-02-01T23:19:27.274566Z",
          "shell.execute_reply.started": "2025-02-01T23:19:27.156608Z",
          "shell.execute_reply": "2025-02-01T23:19:27.273829Z"
        },
        "id": "EjqfK0IMn3At"
      }
    },
    {
      "cell_type": "raw",
      "source": [],
      "metadata": {
        "id": "mp610-vnn3Au"
      }
    },
    {
      "cell_type": "raw",
      "source": [],
      "metadata": {
        "id": "H91tU5VVn3Au"
      }
    },
    {
      "cell_type": "raw",
      "source": [
        "import os,subprocess,time"
      ],
      "metadata": {
        "execution": {
          "iopub.status.busy": "2025-01-29T21:31:24.935163Z",
          "iopub.execute_input": "2025-01-29T21:31:24.935515Z",
          "iopub.status.idle": "2025-01-29T21:31:24.940387Z",
          "shell.execute_reply.started": "2025-01-29T21:31:24.93548Z",
          "shell.execute_reply": "2025-01-29T21:31:24.939415Z"
        },
        "id": "gxsJqALDn3Au"
      }
    },
    {
      "cell_type": "raw",
      "source": [
        "%pip install -U uv -q"
      ],
      "metadata": {
        "execution": {
          "iopub.status.busy": "2025-01-29T21:31:24.942116Z",
          "iopub.execute_input": "2025-01-29T21:31:24.942419Z",
          "iopub.status.idle": "2025-01-29T21:31:31.314833Z",
          "shell.execute_reply.started": "2025-01-29T21:31:24.942396Z",
          "shell.execute_reply": "2025-01-29T21:31:31.313782Z"
        },
        "id": "bZ8diqtXn3Au"
      }
    },
    {
      "cell_type": "raw",
      "source": [
        "import os\n",
        "from IPython.display import FileLink\n",
        "os.chdir(\"/kaggle/working\")\n",
        "\n",
        "FileLink('output_18112024_1959.zip.zip')"
      ],
      "metadata": {
        "execution": {
          "iopub.status.busy": "2024-11-19T18:38:05.14647Z",
          "iopub.execute_input": "2024-11-19T18:38:05.146898Z",
          "iopub.status.idle": "2024-11-19T18:38:05.154549Z",
          "shell.execute_reply.started": "2024-11-19T18:38:05.146853Z",
          "shell.execute_reply": "2024-11-19T18:38:05.153749Z"
        },
        "id": "DGOiqD3Bn3Au"
      }
    },
    {
      "cell_type": "raw",
      "source": [
        "import os\n",
        "import zipfile\n",
        "from datetime import datetime\n",
        "\n",
        "def zip_folder(folder_path, zip_path):\n",
        "    with zipfile.ZipFile(zip_path, 'w', zipfile.ZIP_DEFLATED) as zipf:\n",
        "        for root, _, files in os.walk(folder_path):\n",
        "            for file in files:\n",
        "                file_path = os.path.join(root, file)\n",
        "                arcname = os.path.relpath(file_path, folder_path)\n",
        "                zipf.write(file_path, arcname)\n",
        "\n",
        "# Example usage\n",
        "folder_to_zip = '/kaggle/working/ComfyUI/output'\n",
        "output_zip = f'/kaggle/working/output_{datetime.now():%d%m%Y_%H%M}.zip'\n",
        "# zip_folder(folder_to_zip, output_zip)\n",
        "\n",
        "import shutil\n",
        "shutil.make_archive(output_zip, 'zip', folder_to_zip)\n",
        "\n",
        "\n",
        "# Example usage\n",
        "folder_to_zip = '/kaggle/working/ComfyUI/output'\n",
        "output_zip = f'/kaggle/working/output_{datetime.now():%d%m%Y_%H%M}.zip'\n",
        "# zip_folder(folder_to_zip, output_zip)\n",
        "\n",
        "import shutil\n",
        "x_old = '/kaggle/working/old_output'\n",
        "os.makedirs(x_old,exist_ok=True)\n",
        "if os.path.exists(folder_to_zip):\n",
        "    for x in os.listdir(folder_to_zip):\n",
        "        try:\n",
        "            shutil.move(folder_to_zip +'/' + x, x_old)\n",
        "        except:\n",
        "            print(\"Fichier deja existant??\")"
      ],
      "metadata": {
        "execution": {
          "iopub.status.busy": "2025-01-29T21:31:31.316381Z",
          "iopub.execute_input": "2025-01-29T21:31:31.31663Z",
          "iopub.status.idle": "2025-01-29T21:31:31.325441Z",
          "shell.execute_reply.started": "2025-01-29T21:31:31.316608Z",
          "shell.execute_reply": "2025-01-29T21:31:31.324512Z"
        },
        "id": "jknBw_t6n3Au"
      }
    },
    {
      "cell_type": "raw",
      "source": [],
      "metadata": {
        "id": "5SCPCkLQn3Au"
      }
    },
    {
      "cell_type": "raw",
      "source": [],
      "metadata": {
        "id": "9TaJTTOmn3Av"
      }
    },
    {
      "cell_type": "raw",
      "source": [
        "def install_this(xthe_url):\n",
        "    import os\n",
        "    print(\"install \",xthe_url)\n",
        "    if not os.path.exists(\"/kaggle/working/ComfyUI/custom_nodes/\"):\n",
        "        os.makedirs(\"/kaggle/working/ComfyUI/custom_nodes/\")\n",
        "\n",
        "    %cd /kaggle/working/ComfyUI/custom_nodes\n",
        "    xfolder =  xthe_url.split('/')[-1].replace('.git','')\n",
        "    if not os.path.exists(\"/kaggle/working/ComfyUI/custom_nodes/\" + xfolder):\n",
        "        get_ipython().system(f'git clone {xthe_url} --recursive')\n",
        "\n",
        "    print(f\"{xfolder=}\")\n",
        "    %cd /kaggle/working/ComfyUI/custom_nodes/$xfolder\n",
        "    get_ipython().system('git pull --all')\n",
        "    if os.path.exists(\"requirements.txt\"):\n",
        "        !uv pip install --system -r requirements.txt --quiet  #-U --upgrade-strategy only-if-needed\n",
        "#     else :\n",
        "#         %pip install --quiet\n",
        "    print(\"DONE install \",xthe_url)"
      ],
      "metadata": {
        "_uuid": "8f2839f25d086af736a60e9eeb907d3b93b6e0e5",
        "_cell_guid": "b1076dfc-b9ad-4769-8c92-a6c4dae69d19",
        "execution": {
          "iopub.status.busy": "2025-01-29T21:31:31.326698Z",
          "iopub.execute_input": "2025-01-29T21:31:31.327093Z",
          "iopub.status.idle": "2025-01-29T21:31:31.340334Z",
          "shell.execute_reply.started": "2025-01-29T21:31:31.327058Z",
          "shell.execute_reply": "2025-01-29T21:31:31.33926Z"
        },
        "id": "0A6SsKfIn3Av"
      }
    },
    {
      "cell_type": "raw",
      "source": [
        "update = True\n",
        "\n",
        "from os import path\n",
        "import os\n",
        "# if not path.exists(\"/kaggle/working/ComfyUI/\"):\n",
        "%cd /kaggle/working\n",
        "if not path.exists(\"/kaggle/working/ComfyUI/\"):\n",
        "    get_ipython().system(f'git clone https://github.com/comfyanonymous/ComfyUI.git')\n",
        "%cd ComfyUI\n",
        "if update:\n",
        "    get_ipython().system('git pull --all')\n",
        "!uv pip install --system  -r requirements.txt --quiet"
      ],
      "metadata": {
        "execution": {
          "iopub.status.busy": "2025-01-29T21:31:31.341362Z",
          "iopub.execute_input": "2025-01-29T21:31:31.341658Z",
          "iopub.status.idle": "2025-01-29T21:31:37.249379Z",
          "shell.execute_reply.started": "2025-01-29T21:31:31.341635Z",
          "shell.execute_reply": "2025-01-29T21:31:37.248181Z"
        },
        "jupyter": {
          "source_hidden": true
        },
        "id": "3QfMAFwXn3Av"
      }
    },
    {
      "cell_type": "raw",
      "source": [
        "import os\n",
        "if not os.path.exists(\"/kaggle/working/ComfyUI/models/LLM\"):\n",
        "    os.makedirs(\"/kaggle/working/ComfyUI/models/LLM\")\n",
        "if not os.path.exists(\"/kaggle/working/ComfyUI/models/pulid\"):\n",
        "    os.makedirs(\"/kaggle/working/ComfyUI/models/pulid\")\n",
        "if not os.path.exists(\"/kaggle/working/ComfyUI/models/clip_vision\"):\n",
        "    os.makedirs(\"/kaggle/working/ComfyUI/models/clip_vision\")\n",
        "if not os.path.exists(\"/kaggle/working/ComfyUI/models/xlabs/contronets\"):\n",
        "    os.makedirs(\"/kaggle/working/ComfyUI/models/xlabs/contronets/\")"
      ],
      "metadata": {
        "execution": {
          "iopub.status.busy": "2025-01-29T21:31:37.25069Z",
          "iopub.execute_input": "2025-01-29T21:31:37.251088Z",
          "iopub.status.idle": "2025-01-29T21:31:37.25863Z",
          "shell.execute_reply.started": "2025-01-29T21:31:37.251052Z",
          "shell.execute_reply": "2025-01-29T21:31:37.25719Z"
        },
        "id": "qLxawjNun3Av"
      }
    },
    {
      "cell_type": "raw",
      "source": [
        "%rm -r /kaggle/working/ComfyUI/custom_nodes/ComfyUI-Easy-Use"
      ],
      "metadata": {
        "execution": {
          "iopub.status.busy": "2025-01-22T13:48:35.705218Z",
          "iopub.execute_input": "2025-01-22T13:48:35.705578Z",
          "iopub.status.idle": "2025-01-22T13:48:35.824416Z",
          "shell.execute_reply.started": "2025-01-22T13:48:35.705546Z",
          "shell.execute_reply": "2025-01-22T13:48:35.823341Z"
        },
        "id": "3ND6Uagcn3Av"
      }
    },
    {
      "cell_type": "raw",
      "source": [
        "install_this(\"https://github.com/comfyanonymous/ComfyUI_bitsandbytes_NF4\")\n",
        "# Was node\n",
        "install_this('https://github.com/WASasquatch/was-node-suite-comfyui')\n",
        "# Rgthree\n",
        "install_this(\"https://github.com/rgthree/rgthree-comfy\")\n",
        "# REactor\n",
        "install_this(\"https://codeberg.org/Gourieff/comfyui-reactor-node\")\n",
        "# Comfyui noise\n",
        "install_this(\"https://github.com/BlenderNeko/ComfyUI_Noise\")\n",
        "# Comfyui impact\n",
        "install_this(\"https://github.com/ltdrdata/ComfyUI-Impact-Pack\")\n",
        "# pythongossss\n",
        "install_this(\"https://github.com/pythongosssss/ComfyUI-Custom-Scripts\")\n",
        "# Comfyui easy use\n",
        "install_this(\"https://github.com/yolain/ComfyUI-Easy-Use\")\n",
        "# KJNODES\n",
        "install_this(\"https://github.com/kijai/ComfyUI-KJNodes\")\n",
        "# Flux comfyui\n",
        "install_this(\"https://github.com/kijai/ComfyUI-Florence2\")\n",
        "install_this(\"https://github.com/XLabs-AI/x-flux-comfyui\")\n",
        "install_this(\"https://github.com/crystian/ComfyUI-Crystools\")\n",
        "install_this(\"https://github.com/city96/ComfyUI-GGUF\")\n",
        "\n",
        "install_this(\"https://github.com/cubiq/PuLID_ComfyUI\")\n",
        "install_this(\"https://github.com/cubiq/ComfyUI_InstantID\")\n",
        "install_this(\"https://github.com/cubiq/ComfyUI_IPAdapter_plus\")\n",
        "install_this(\"https://github.com/revirevy/Comfyui_saveimage_imgbb\")\n",
        "\n",
        "# install_this(\"https://github.com/ltdrdata/ComfyUI-Manager\")"
      ],
      "metadata": {
        "execution": {
          "iopub.status.busy": "2025-01-29T21:31:37.263387Z",
          "iopub.execute_input": "2025-01-29T21:31:37.263668Z",
          "iopub.status.idle": "2025-01-29T21:32:29.595553Z",
          "shell.execute_reply.started": "2025-01-29T21:31:37.263647Z",
          "shell.execute_reply": "2025-01-29T21:32:29.594538Z"
        },
        "id": "8LEozw03n3Aw"
      }
    },
    {
      "cell_type": "raw",
      "source": [
        "for x in \"\"\"https://github.com/comfyanonymous/ComfyUI_experiments\n",
        "https://github.com/chengzeyi/Comfy-WaveSpeed\n",
        "    https://github.com/Fannovel16/comfyui_controlnet_aux\n",
        "    https://github.com/ShmuelRonen/ComfyUI-FreeMemory\n",
        "        https://github.com/jamesWalker55/comfyui-various\n",
        "            https://github.com/kijai/ComfyUI-SUPIR\n",
        "                https://github.com/klinter007/klinter_nodes\n",
        "    https://github.com/holchan/ComfyUI-ModelDownloader\n",
        "        https://github.com/KoreTeknology/ComfyUI-Universal-Styler\n",
        "            https://github.com/marduk191/ComfyUI-Fluxpromptenhancer\n",
        "                https://github.com/fairy-root/Flux-Prompt-Generator\n",
        "                    https://github.com/VykosX/ControlFlowUtils\n",
        "                        https://github.com/godmt/ComfyUI-List-Utils\"\"\".split(\"\\n\"):\n",
        "    install_this(x.strip())\n",
        "print(\"=\"*50,'ALL DONE','='*50,sep='\\n')"
      ],
      "metadata": {
        "execution": {
          "iopub.status.busy": "2025-01-29T21:32:29.597748Z",
          "iopub.execute_input": "2025-01-29T21:32:29.598044Z",
          "iopub.status.idle": "2025-01-29T21:32:49.194375Z",
          "shell.execute_reply.started": "2025-01-29T21:32:29.598019Z",
          "shell.execute_reply": "2025-01-29T21:32:49.193249Z"
        },
        "id": "WbK9CKihn3Aw"
      }
    },
    {
      "cell_type": "raw",
      "source": [
        "\n",
        "install_this(\"https://github.com/ltdrdata/ComfyUI-Manager\")"
      ],
      "metadata": {
        "execution": {
          "iopub.status.busy": "2025-01-29T21:32:49.195751Z",
          "iopub.execute_input": "2025-01-29T21:32:49.196217Z",
          "iopub.status.idle": "2025-01-29T21:32:54.670808Z",
          "shell.execute_reply.started": "2025-01-29T21:32:49.196176Z",
          "shell.execute_reply": "2025-01-29T21:32:54.669741Z"
        },
        "id": "UVqSNssbn3Aw"
      }
    },
    {
      "cell_type": "raw",
      "source": [
        "!ln -s  /kaggle/input/clip-gmp-vit-l-14/tensorflow2/default/1/model.safetensors    /kaggle/working/ComfyUI/models/clip/CLIP_gmp_VIT_L_14.safetensors\n",
        "\n",
        "# !ls -trahl  /kaggle/working/ComfyUI/models/vae\n",
        "\n",
        "# !ls -trahl  /kaggle/working/ComfyUI/models/clip/\n",
        "# !ls -ltrah /kaggle/input/\n",
        "\n",
        "!ln -s /kaggle/input/t5xxl_fp16.safetensors/tensorflow2/default/1/t5xxl_fp16.safetensors   /kaggle/working/ComfyUI/models/clip/t5xxl_fp16.safetensors\n",
        "!ln -s  /kaggle/input/flux-vae-safetensors/pytorch/default/1/ae.safetensors    /kaggle/working/ComfyUI/models/vae/FLuX_ae.safetensors\n",
        "\n",
        "# !aria2c --console-log-level=error -c -x 16 -s 16 -k 1M https://huggingface.co/camenduru/FLUX.1-dev/resolve/main/flux1-dev-fp8.safetensors -d /kaggle/working/ComfyUI/models/unet -o flux1-dev-fp8.safetensors\n",
        "# !ln -s /kaggle/input/flux/pytorch/flux.1-dev/1/flux1-dev.safetensors /kaggle/working/ComfyUI/models/unet/flux1-dev.safetensors\n",
        "# !aria2c --console-log-level=error -c -x 16 -s 16 -k 1M https://huggingface.co/camenduru/FLUX.1-dev/resolve/main/ae.sft -d /kaggle/working/ComfyUI/models/vae -o ae.sft\n",
        "# !aria2c --console-log-level=error -c -x 16 -s 16 -k 1M https://huggingface.co/camenduru/FLUX.1-dev/resolve/main/clip_l.safetensors -d /kaggle/working/ComfyUI/models/clip -o clip_l.safetensors\n",
        "# !aria2c --console-log-level=error -c -x 16 -s 16 -k 1M https://huggingface.co/camenduru/FLUX.1-dev/resolve/main/t5xxl_fp8_e4m3fn.safetensors -d /kaggle/working/ComfyUI/models/clip -o t5xxl_fp8_e4m3fn.safetensors\n",
        "!ln -s /kaggle/input/clip/pytorch/t5xxl_fp8_e4m3fn/1/t5xxl_fp8_e4m3fn.safetensors /kaggle/working/ComfyUI/models/clip/t5xxl_fp8_e4m3fn.safetensors\n",
        "# !ln -s  /kaggle/input/t5-fine-tuned/transformers/t5-2/1/model.safetensors    /kaggle/working/ComfyUI/models/clip/t5-2-model.safetensors\n",
        "# !ln -s /kaggle/input/t5xxl_fp16/tensorflow2/default/1/t5xxl_fp16.safetensors   /kaggle/working/ComfyUI/models/clip/t5xxl_fp16.safetensors\n",
        "\n",
        "# !ln -s  /kaggle/input/flan-t5/pytorch/large/3/model.safetensors             /kaggle/working/ComfyUI/models/clip/flan-t5-large-model.safetensors\n",
        "# !ln -s  /kaggle/input/clip-gpt2_t5/pytorch/1/1/net-cross-description.pt    /kaggle/working/ComfyUI/models/clip/net-cross-description.pt\n",
        "\n",
        "!ln -s /kaggle/input/florence2/transformers/default/1/Florence2_model_3/model.safetensors /kaggle/working/ComfyUI/models/LLM/Florence_model_3.safetensors\n",
        "!ln -s /kaggle/input/florence2/transformers/default/1/Florence2_model_2/model.safetensors /kaggle/working/ComfyUI/models/LLM/Florence_model_2.safetensors\n",
        "!ln -s /kaggle/input/controlnet/pytorch/flux-canny-controlnet/1/flux-canny-controlnet-v3.safetensors  /kaggle/working/ComfyUI/models/xlabs/contronets/flux-canny-controlnet-v3.safetensors\n",
        "!ln -s /kaggle/input/controlnet/pytorch/flux-depth-controlnet/1/flux-depth-controlnet-v3.safetensors  /kaggle/working/ComfyUI/models/xlabs/contronets/flux-depth-controlnet-v3.safetensors\n",
        "# !ln -s /kaggle/input/stable-diffusion-xl/pytorch/base-1-0/1/sd_xl_base_1.0_0.9vae.safetensors /kaggle/working/ComfyUI/models/checkpoints/sd_xl_base_1.0_0.9vae.safetensors\n",
        "\n",
        "!ln -s /kaggle/input/realvisxl-v50/pytorch/default/1/realvisxl-v50.safetensors  /kaggle/working/ComfyUI/models/checkpoints/realvisxl-v50.safetensors\n",
        "!ln -s /kaggle/input/realvisxl-v50/pytorch/default/2/SG161222_RealVisXL_V5_0_Lightning.safetensors  /kaggle/working/ComfyUI/models/checkpoints/SG161222_RealVisXL_V5_0_Lightning.safetensors\n",
        "# !ln -s /kaggle/input/stable-diffusion-xl/pytorch/base-1-0/1/sd_xl_base_1.0.safetensors /kaggle/working/ComfyUI/models/checkpoints/sd_xl_base_1.0.safetensors\n",
        "# !ln -s /kaggle/input/stoiqo-new-reality-flux-sd_f1d-pre-alpha/transformers/default/1/STOIQONewrealityFLUXSD_F1DPreAlpha.safetensors /kaggle/working/ComfyUI/models/checkpoints/STOIQONewrealityFLUXSD_F1DPreAlpha.safetensors\n",
        "!ln -s /kaggle/input/flux1devnf46stepsnsfw/pytorch/default/1/flux1DevNF46StepsNSFW_fluxdevFP86Steps.safetensors /kaggle/working/ComfyUI/models/checkpoints/flux1DevNF46StepsNSFW_fluxdevFP86Steps.safetensors\n",
        "!ln -s /kaggle/input/8stepscrearthyperfluxdevbnb_v24hyperdevfp8unet_/pytorch/default/1/8StepsCreartHyperFluxDevBnb_v24HyperDevFp8Unet.safetensors  /kaggle/working/ComfyUI/models/unet/8StepsCreartHyperFluxDevBnb_v24HyperDevFp8Unet.safetensors\n",
        "!ln -s /kaggle/input/creart-hyper-flux-dev-gguf-q4_0/gguf/default/1/CreArt-Hyper-Flux-Dev-gguf-q4_0.gguf /kaggle/working/ComfyUI/models/unet/CreArt-Hyper-Flux-Dev-gguf-q4_0.gguf\n",
        "!ln -s /kaggle/input/unet/gguf/flux1-dev-q4_k_s/1/flux1-dev-Q4_K_S.gguf /kaggle/working/ComfyUI/models/unet/flux1-dev-Q4_K_S.gguf\n",
        "!ln -s /kaggle/input/aldebodobasexl_v3mini/tensorflow2/default/1/albedobaseXL_v3Mini.safetensors /kaggle/working/ComfyUI/models/checkpoints/albedobaseXL_v3Mini.safetensors\n",
        "# /kaggle/input/aldebodobasexl_v3mini/tensorflow2/default/1/albedobaseXL_v3Mini.safetensors\n",
        "\n",
        "\n",
        "\n",
        "!ln -s /kaggle/input/alimama-flux-turbo-lora/pytorch/default/1/diffusion_pytorch_model.safetensors /kaggle/working/ComfyUI/models/loras/alimama-flux-turbo-lora.safetensors\n",
        "\n",
        "!ln -s /kaggle/input/fluxartfusion4steps_v12/pytorch/default/1/fluxArtfusion4Steps_v12.safetensors  /kaggle/working/ComfyUI/models/checkpoints/fluxArtfusion4Steps_v12.safetensors\n",
        "# !ln -s /kaggle/input/fluxartfusion4steps_v12/pytorch/default/1/fluxArtfusion4Steps_v12.safetensors\n",
        "\n",
        "\n",
        "for x in os.listdir(\"/kaggle/input/flux_loras/pytorch/default/1\"):\n",
        "    print(x)\n",
        "    !ln -s \"/kaggle/input/flux_loras/pytorch/default/1/$x\" \"/kaggle/working/ComfyUI/models/loras/$x\""
      ],
      "metadata": {
        "execution": {
          "iopub.status.busy": "2025-01-29T21:32:54.671908Z",
          "iopub.execute_input": "2025-01-29T21:32:54.672202Z",
          "iopub.status.idle": "2025-01-29T21:32:57.512238Z",
          "shell.execute_reply.started": "2025-01-29T21:32:54.672179Z",
          "shell.execute_reply": "2025-01-29T21:32:57.511124Z"
        },
        "id": "G3_QrVrvn3Aw"
      }
    },
    {
      "cell_type": "code",
      "source": [
        "\n",
        "# os.makedirs(\"/kaggle/working/ComfyUI/models/InstantIR/models\",)\n",
        "for x in os.listdir(\"/kaggle/input/instantir/pytorch/default/2/\"):\n",
        "    print(x)\n",
        "    !ln -s \"/kaggle/input/instantir/pytorch/default/2/$x\" \"/kaggle/working/ComfyUI/models/InstantIR/models/$x\""
      ],
      "metadata": {
        "trusted": true,
        "id": "kZ5iQ15_n3Aw"
      },
      "outputs": [],
      "execution_count": null
    },
    {
      "cell_type": "raw",
      "source": [
        "#     /kaggle/input/t5_xxl_gguf_models/pytorch/default/1/t5-v1_1-xxl-encoder-Q8_0.gguf\n",
        "#     /kaggle/input/t5_xxl_gguf_models/pytorch/default/1/t5-v1_1-xxl-encoder-Q8_0.gguf\n",
        "for x in os.listdir(\"/kaggle/input/t5_xxl_gguf_models/pytorch/default/1/\"):\n",
        "    print(x)\n",
        "    !ln -s \"/kaggle/input/t5_xxl_gguf_models/pytorch/default/1/$x\" \"/kaggle/working/ComfyUI/models/clip/$x\""
      ],
      "metadata": {
        "execution": {
          "iopub.status.busy": "2025-01-29T21:32:57.513412Z",
          "iopub.execute_input": "2025-01-29T21:32:57.513778Z",
          "iopub.status.idle": "2025-01-29T21:32:57.751268Z",
          "shell.execute_reply.started": "2025-01-29T21:32:57.513743Z",
          "shell.execute_reply": "2025-01-29T21:32:57.750029Z"
        },
        "id": "jSywBdg3n3Ax"
      }
    },
    {
      "cell_type": "raw",
      "source": [
        "#     /kaggle/input/t5_xxl_gguf_models/pytorch/default/1/t5-v1_1-xxl-encoder-Q8_0.gguf\n",
        "#     /kaggle/input/t5_xxl_gguf_models/pytorch/default/1/t5-v1_1-xxl-encoder-Q8_0.gguf\n",
        "# /kaggle/input/sdxl_controlnets/pytorch/default/2\n",
        "os.makedirs('/kaggle/working/ComfyUI/models/ipadapter',exist_ok=True)\n",
        "os.makedirs('/kaggle/working/ComfyUI/models/controlnet',exist_ok=True)\n",
        "for x in os.listdir(\"/kaggle/input/sdxl_controlnets/pytorch/default/3/\"):\n",
        "    # !rm /kaggle/working/ComfyUI/models/controlnet/$x\n",
        "    print(x)\n",
        "    !ln -s \"/kaggle/input/sdxl_controlnets/pytorch/default/3/$x\" \"/kaggle/working/ComfyUI/models/controlnet/$x\"\n",
        "    if 'ip-adapter' in x:\n",
        "        !ln -s \"/kaggle/input/sdxl_controlnets/pytorch/default/3/$x\" \"/kaggle/working/ComfyUI/models/ipadapter/$x\""
      ],
      "metadata": {
        "execution": {
          "iopub.status.busy": "2025-01-29T21:32:57.752541Z",
          "iopub.execute_input": "2025-01-29T21:32:57.75282Z",
          "iopub.status.idle": "2025-01-29T21:33:00.51451Z",
          "shell.execute_reply.started": "2025-01-29T21:32:57.752793Z",
          "shell.execute_reply": "2025-01-29T21:33:00.513469Z"
        },
        "id": "fv-DqfsCn3Ax"
      }
    },
    {
      "cell_type": "raw",
      "source": [
        "for x in os.listdir(\"/kaggle/input/pulid-model/pytorch/default/3/\"):\n",
        "    print(x)\n",
        "    !ln -s \"/kaggle/input/pulid-model/pytorch/default/3/$x\" \"/kaggle/working/ComfyUI/models/pulid/$x\"\n",
        "\n",
        "\n",
        "# /kaggle/input/pulid-model/pytorch/default/3/ip-adapter_pulid_sdxl_fp16.safetensors\n",
        "# !ln -s /kaggle/input/pulid-model/pytorch/default/2/pulid_v1.bin /kaggle/working/ComfyUI/models/pulid/pulid_v1.bin\n",
        "# !ln -s /kaggle/input/pulid-model/pytorch/default/1/pulid_flux_v0.9.0.safetensors /kaggle/working/ComfyUI/models/pulid/pulid_flux_v0.9.0.safetensors\n",
        "!ln -s /kaggle/input/clip-vit/pytorch/h-14-laion2b-s32b-b79k/1/pytorch_model.bin  /kaggle/working/ComfyUI/models/clip_vision/clip_vit_h-14-laion2b-s32b-b79k.bin"
      ],
      "metadata": {
        "execution": {
          "iopub.status.busy": "2025-01-29T21:33:00.515746Z",
          "iopub.execute_input": "2025-01-29T21:33:00.516174Z",
          "iopub.status.idle": "2025-01-29T21:33:00.984774Z",
          "shell.execute_reply.started": "2025-01-29T21:33:00.516139Z",
          "shell.execute_reply": "2025-01-29T21:33:00.983185Z"
        },
        "id": "m9Yd4e_hn3Ax"
      }
    },
    {
      "cell_type": "raw",
      "source": [
        "os.makedirs('/kaggle/working/ComfyUI/models/controlnet/instantid',exist_ok=True)\n",
        "!ln -s /kaggle/input/instant_id/pytorch/default/2/controlnet_instantid_model.safetensors /kaggle/working/ComfyUI/models/controlnet/instantid/LeInstantID_ControlNet_model.safetensors"
      ],
      "metadata": {
        "execution": {
          "iopub.status.busy": "2025-01-29T21:33:00.986197Z",
          "iopub.execute_input": "2025-01-29T21:33:00.986543Z",
          "iopub.status.idle": "2025-01-29T21:33:01.107901Z",
          "shell.execute_reply.started": "2025-01-29T21:33:00.986515Z",
          "shell.execute_reply": "2025-01-29T21:33:01.106819Z"
        },
        "id": "VhHSmqKhn3Ax"
      }
    },
    {
      "cell_type": "raw",
      "source": [
        "os.makedirs('/kaggle/working/ComfyUI/models/instantid/SDXL',exist_ok=True)\n",
        "!ln -s /kaggle/input/instant_id/pytorch/default/2/instantid-ip-adapter.bin /kaggle/working/ComfyUI/models/instantid/InstantID_ip_adapter.bin\n",
        "!ln -s /kaggle/input/instant_id/pytorch/default/2/instantid-ip-adapter.bin /kaggle/working/ComfyUI/models/instantid/ip_adapter.bin\n",
        "!ln -s /kaggle/input/instant_id/pytorch/default/2/instantid-ip-adapter.bin /kaggle/working/ComfyUI/models/instantid/SDXL/ip-adapter.bin"
      ],
      "metadata": {
        "execution": {
          "iopub.status.busy": "2025-01-29T21:33:01.108973Z",
          "iopub.execute_input": "2025-01-29T21:33:01.109285Z",
          "iopub.status.idle": "2025-01-29T21:33:01.462672Z",
          "shell.execute_reply.started": "2025-01-29T21:33:01.10926Z",
          "shell.execute_reply": "2025-01-29T21:33:01.461316Z"
        },
        "id": "0OvCNQiqn3Ax"
      }
    },
    {
      "cell_type": "raw",
      "source": [
        "for x in os.listdir(\"/kaggle/input/pulid-model/pytorch/default/3/\"):\n",
        "    print(x)\n",
        "    !ln -s \"/kaggle/input/pulid-model/pytorch/default/3/$x\" \"/kaggle/working/ComfyUI/models/pulid/$x\"\n",
        "\n",
        "\n",
        "# /kaggle/input/pulid-model/pytorch/default/3/ip-adapter_pulid_sdxl_fp16.safetensors\n",
        "# !ln -s /kaggle/input/pulid-model/pytorch/default/2/pulid_v1.bin /kaggle/working/ComfyUI/models/pulid/pulid_v1.bin\n",
        "# !ln -s /kaggle/input/pulid-model/pytorch/default/1/pulid_flux_v0.9.0.safetensors /kaggle/working/ComfyUI/models/pulid/pulid_flux_v0.9.0.safetensors\n",
        "!ln -s /kaggle/input/clip-vit/pytorch/h-14-laion2b-s32b-b79k/1/pytorch_model.bin  /kaggle/working/ComfyUI/models/clip_vision/clip_vit_h-14-laion2b-s32b-b79k.bin"
      ],
      "metadata": {
        "execution": {
          "iopub.status.busy": "2025-01-29T21:33:01.46406Z",
          "iopub.execute_input": "2025-01-29T21:33:01.464341Z",
          "iopub.status.idle": "2025-01-29T21:33:01.935688Z",
          "shell.execute_reply.started": "2025-01-29T21:33:01.464317Z",
          "shell.execute_reply": "2025-01-29T21:33:01.934464Z"
        },
        "id": "n46w-0_kn3Ay"
      }
    },
    {
      "cell_type": "raw",
      "source": [
        "#     /kaggle/input/t5_xxl_gguf_models/pytorch/default/1/t5-v1_1-xxl-encoder-Q8_0.gguf\n",
        "#     /kaggle/input/t5_xxl_gguf_models/pytorch/default/1/t5-v1_1-xxl-encoder-Q8_0.gguf\n",
        "# /kaggle/input/sdxl_controlnets/pytorch/default/2\n",
        "for x in os.listdir(\"/kaggle/input/controlnet-package-hsbd10/pytorch/default/4/\"):\n",
        "    print(x)\n",
        "    !ln -s \"/kaggle/input/controlnet-package-hsbd10/pytorch/default/4/$x\" \"/kaggle/working/ComfyUI/models/controlnet/$x\""
      ],
      "metadata": {
        "execution": {
          "iopub.status.busy": "2025-01-29T21:33:01.937086Z",
          "iopub.execute_input": "2025-01-29T21:33:01.937366Z",
          "iopub.status.idle": "2025-01-29T21:33:03.094521Z",
          "shell.execute_reply.started": "2025-01-29T21:33:01.937342Z",
          "shell.execute_reply": "2025-01-29T21:33:03.093279Z"
        },
        "id": "4t8HOtFen3Ay"
      }
    },
    {
      "cell_type": "raw",
      "source": [
        "#     /kaggle/input/t5_xxl_gguf_models/pytorch/default/1/t5-v1_1-xxl-encoder-Q8_0.gguf\n",
        "#     /kaggle/input/t5_xxl_gguf_models/pytorch/default/1/t5-v1_1-xxl-encoder-Q8_0.gguf\n",
        "for x in os.listdir(\"/kaggle/input/t5_xxl_gguf_models/pytorch/default/1/\"):\n",
        "    print(x)\n",
        "    !ln -s \"/kaggle/input/t5_xxl_gguf_models/pytorch/default/1/$x\" \"/kaggle/working/ComfyUI/models/clip/$x\""
      ],
      "metadata": {
        "execution": {
          "iopub.status.busy": "2025-01-29T21:33:03.095857Z",
          "iopub.execute_input": "2025-01-29T21:33:03.096183Z",
          "iopub.status.idle": "2025-01-29T21:33:03.333943Z",
          "shell.execute_reply.started": "2025-01-29T21:33:03.096157Z",
          "shell.execute_reply": "2025-01-29T21:33:03.332772Z"
        },
        "id": "keZMkiZ0n3Ay"
      }
    },
    {
      "cell_type": "raw",
      "source": [
        "for x in os.listdir(\"/kaggle/input/4xnomosunidat_upscaler/pytorch/default/5/\"):\n",
        "    print(x)\n",
        "    !ln -s \"/kaggle/input/4xnomosunidat_upscaler/pytorch/default/5/$x\" \"/kaggle/working/ComfyUI/models/upscale_models/$x\"\n",
        ""
      ],
      "metadata": {
        "execution": {
          "iopub.status.busy": "2025-01-29T21:33:03.335118Z",
          "iopub.execute_input": "2025-01-29T21:33:03.3354Z",
          "iopub.status.idle": "2025-01-29T21:33:05.414802Z",
          "shell.execute_reply.started": "2025-01-29T21:33:03.335377Z",
          "shell.execute_reply": "2025-01-29T21:33:05.413503Z"
        },
        "id": "62B_Tp2un3Ay"
      }
    },
    {
      "cell_type": "raw",
      "source": [
        "%ls -ltrha /kaggle/working/ComfyUI/models/clip/"
      ],
      "metadata": {
        "execution": {
          "iopub.status.busy": "2025-01-29T21:33:05.416114Z",
          "iopub.execute_input": "2025-01-29T21:33:05.416419Z",
          "iopub.status.idle": "2025-01-29T21:33:05.546349Z",
          "shell.execute_reply.started": "2025-01-29T21:33:05.416393Z",
          "shell.execute_reply": "2025-01-29T21:33:05.545246Z"
        },
        "id": "38qHEWl9n3Ay"
      }
    },
    {
      "cell_type": "raw",
      "source": [
        "%%writefile /kaggle/working/ComfyUI/custom_nodes/ComfyUI-Manager/config.ini\n",
        "[default]\n",
        "preview_method = none\n",
        "badge_mode = none\n",
        "git_exe =\n",
        "channel_url = https://raw.githubusercontent.com/ltdrdata/ComfyUI-Manager/main\n",
        "share_option = all\n",
        "bypass_ssl = False\n",
        "file_logging = True\n",
        "default_ui = none\n",
        "component_policy = workflow\n",
        "double_click_policy = copy-all\n",
        "windows_selector_event_loop_policy = False\n",
        "model_download_by_agent = True\n",
        "downgrade_blacklist =\n",
        "security_level = normal-\n",
        "\n"
      ],
      "metadata": {
        "execution": {
          "iopub.status.busy": "2025-01-29T21:33:05.547661Z",
          "iopub.execute_input": "2025-01-29T21:33:05.547984Z",
          "iopub.status.idle": "2025-01-29T21:33:05.677416Z",
          "shell.execute_reply.started": "2025-01-29T21:33:05.547934Z",
          "shell.execute_reply": "2025-01-29T21:33:05.676477Z"
        },
        "id": "-1J0FngWn3Az"
      }
    },
    {
      "cell_type": "raw",
      "source": [
        "# Comfyui impact\n",
        "install_this(\"https://github.com/ltdrdata/ComfyUI-Impact-Pack\")"
      ],
      "metadata": {
        "execution": {
          "iopub.status.busy": "2025-01-29T21:33:05.68145Z",
          "iopub.execute_input": "2025-01-29T21:33:05.681807Z",
          "iopub.status.idle": "2025-01-29T21:33:06.337932Z",
          "shell.execute_reply.started": "2025-01-29T21:33:05.68177Z",
          "shell.execute_reply": "2025-01-29T21:33:06.336687Z"
        },
        "id": "paC-ieEBn3Az"
      }
    },
    {
      "cell_type": "raw",
      "source": [
        "!uv pip install insightface onnxruntime-gpu diffusers einops accelerate -q torch torchvision torchsde --system"
      ],
      "metadata": {
        "execution": {
          "iopub.status.busy": "2024-11-20T10:53:34.626992Z",
          "iopub.status.idle": "2024-11-20T10:53:34.627295Z",
          "shell.execute_reply.started": "2024-11-20T10:53:34.627142Z",
          "shell.execute_reply": "2024-11-20T10:53:34.627157Z"
        },
        "id": "dfN1ymX_n3Az"
      }
    },
    {
      "cell_type": "raw",
      "source": [
        "# Change directory to ComfyUI\n",
        "import os, subprocess, time\n",
        "os.chdir(\"/kaggle/working/ComfyUI/\")\n",
        "\n",
        "# Launch ComfyUI instances\n",
        "xP1 = subprocess.Popen([\"python\", \"main.py\", \"--cuda-device\", \"0\", \"--port\", \"8188\",\"--highvram\",])\n",
        "time.sleep(10)"
      ],
      "metadata": {
        "scrolled": true,
        "execution": {
          "iopub.status.busy": "2025-01-29T21:40:23.301388Z",
          "iopub.execute_input": "2025-01-29T21:40:23.301729Z",
          "iopub.status.idle": "2025-01-29T21:40:33.318622Z",
          "shell.execute_reply.started": "2025-01-29T21:40:23.301701Z",
          "shell.execute_reply": "2025-01-29T21:40:33.317184Z"
        },
        "id": "psWFt773n3Az"
      }
    },
    {
      "cell_type": "raw",
      "source": [
        "os.chdir(\"/kaggle/working/ComfyUI/\")\n",
        "xP2= subprocess.Popen([\"python\", \"main.py\", \"--cuda-device\", \"1\", \"--port\", \"8189\",\"--highvram\"])\n",
        "time.sleep(10)\n",
        "# subprocess.Popen([\"./limit_ram.sh\",\"python\", \"main.py\", \"--cuda-device\", \"0\", \"--port\", \"8188\"])\n",
        "# subprocess.Popen([\"./limit_ram.sh\",\"python\", \"main.py\", \"--cuda-device\", \"1\", \"--port\", \"8189\"])\n",
        "\n",
        "# time.sleep(30)"
      ],
      "metadata": {
        "scrolled": true,
        "execution": {
          "iopub.status.busy": "2025-01-29T21:40:08.694462Z",
          "iopub.execute_input": "2025-01-29T21:40:08.695188Z",
          "iopub.status.idle": "2025-01-29T21:40:18.712786Z",
          "shell.execute_reply.started": "2025-01-29T21:40:08.695137Z",
          "shell.execute_reply": "2025-01-29T21:40:18.711739Z"
        },
        "id": "NL6GIgPpn3Az"
      }
    },
    {
      "cell_type": "raw",
      "source": [
        "os.chdir(\"/kaggle/working/ComfyUI/\")\n",
        "if  not os.path.exists('/kaggle/working/ComfyUI/playit-linux-amd64'):\n",
        "    !wget https://github.com/playit-cloud/playit-agent/releases/download/v0.15.26/playit-linux-amd64\n",
        "!chmod 777 /kaggle/working/ComfyUI/playit-linux-amd64\n",
        "\n",
        "!ls -ltrha play*"
      ],
      "metadata": {
        "execution": {
          "iopub.status.busy": "2025-01-29T21:33:26.373674Z",
          "iopub.execute_input": "2025-01-29T21:33:26.373911Z",
          "iopub.status.idle": "2025-01-29T21:33:27.524172Z",
          "shell.execute_reply.started": "2025-01-29T21:33:26.373891Z",
          "shell.execute_reply": "2025-01-29T21:33:27.522947Z"
        },
        "id": "BXMxb-sbn3A0"
      }
    },
    {
      "cell_type": "raw",
      "source": [
        "# !wget https://github.com/playit-cloud/playit-agent/releases/download/v0.15.26/playit-linux-amd64 -q\n",
        "!chmod +x ./playit-linux-amd64\n",
        "!./playit-linux-amd64  --help"
      ],
      "metadata": {
        "execution": {
          "iopub.status.busy": "2025-01-29T21:33:27.525641Z",
          "iopub.execute_input": "2025-01-29T21:33:27.526108Z",
          "iopub.status.idle": "2025-01-29T21:33:27.762168Z",
          "shell.execute_reply.started": "2025-01-29T21:33:27.526066Z",
          "shell.execute_reply": "2025-01-29T21:33:27.761091Z"
        },
        "id": "dYBqLjcOn3A0"
      }
    },
    {
      "cell_type": "raw",
      "source": [
        "os.makedirs(\"/kaggle/working/ComfyUI/logs\",exist_ok=True)\n",
        "subprocess.Popen(\"nohup /kaggle/working/ComfyUI/playit-linux-amd64   >> /kaggle/working/ComfyUI/logs/playit.log 2>&1 & echo 'done' \",bufsize=0,shell=True)"
      ],
      "metadata": {
        "execution": {
          "iopub.status.busy": "2025-01-29T21:33:27.7633Z",
          "iopub.execute_input": "2025-01-29T21:33:27.763666Z",
          "iopub.status.idle": "2025-01-29T21:33:27.772904Z",
          "shell.execute_reply.started": "2025-01-29T21:33:27.763616Z",
          "shell.execute_reply": "2025-01-29T21:33:27.771941Z"
        },
        "id": "C6VGIJr5n3A0"
      }
    },
    {
      "cell_type": "raw",
      "source": [
        "time.sleep(3)\n",
        "!tail -n 20 /kaggle/working/ComfyUI/logs/playit.log"
      ],
      "metadata": {
        "execution": {
          "iopub.status.busy": "2025-01-29T21:33:27.773996Z",
          "iopub.execute_input": "2025-01-29T21:33:27.774355Z",
          "iopub.status.idle": "2025-01-29T21:33:30.902526Z",
          "shell.execute_reply.started": "2025-01-29T21:33:27.774317Z",
          "shell.execute_reply": "2025-01-29T21:33:30.900894Z"
        },
        "id": "lX8mQs1nn3A0"
      }
    },
    {
      "cell_type": "raw",
      "source": [
        "%cp /kaggle/working/ComfyUI/models/insightface/models/antelopev2/antelopev2/* /kaggle/working/ComfyUI/models/insightface/models/antelopev2/ -v"
      ],
      "metadata": {
        "execution": {
          "iopub.status.busy": "2025-02-12T19:50:06.090757Z",
          "iopub.execute_input": "2025-02-12T19:50:06.091234Z",
          "iopub.status.idle": "2025-02-12T19:50:06.7272Z",
          "shell.execute_reply.started": "2025-02-12T19:50:06.091199Z",
          "shell.execute_reply": "2025-02-12T19:50:06.726216Z"
        },
        "id": "3Un940kMn3A0"
      }
    },
    {
      "cell_type": "raw",
      "source": [
        "%ls /kaggle/working/ComfyUI/models/insightface/models -ltrha"
      ],
      "metadata": {
        "execution": {
          "iopub.status.busy": "2025-02-12T19:51:36.940631Z",
          "iopub.execute_input": "2025-02-12T19:51:36.941024Z",
          "iopub.status.idle": "2025-02-12T19:51:37.063519Z",
          "shell.execute_reply.started": "2025-02-12T19:51:36.940994Z",
          "shell.execute_reply": "2025-02-12T19:51:37.062486Z"
        },
        "id": "9rBoUlStn3A1"
      }
    },
    {
      "cell_type": "raw",
      "source": [
        "!ps fx"
      ],
      "metadata": {
        "execution": {
          "iopub.status.busy": "2025-01-29T21:40:40.009849Z",
          "iopub.execute_input": "2025-01-29T21:40:40.010313Z",
          "iopub.status.idle": "2025-01-29T21:40:40.140421Z",
          "shell.execute_reply.started": "2025-01-29T21:40:40.010273Z",
          "shell.execute_reply": "2025-01-29T21:40:40.138818Z"
        },
        "id": "KtMZT5hLn3A1"
      }
    },
    {
      "cell_type": "code",
      "source": [
        "import threading\n",
        "import time,datetime\n",
        "from IPython.core.getipython import get_ipython\n",
        "\n",
        "def execute_first_cell():\n",
        "    print(\"=\"*10,\"Executed \",datetime.datetime.today(),\"=\"*10)\n",
        "    get_ipython().run_cell(get_ipython().user_ns['_i1'])\n",
        "    print(\"=\"*60)\n",
        "def scheduler():\n",
        "    while True:\n",
        "        execute_first_cell()\n",
        "        time.sleep(60)  # 600 seconds = 10 minutes\n",
        "\n",
        "# Start the scheduler in a separate thread\n",
        "scheduler_thread = threading.Thread(target=scheduler)\n",
        "scheduler_thread.daemon = True  # This allows the thread to be terminated when the main program exits\n",
        "scheduler_thread.start()\n",
        "\n",
        "print(\"Scheduler started in background. It will execute the first cell every 1 minutes.\")\n"
      ],
      "metadata": {
        "trusted": true,
        "execution": {
          "iopub.status.busy": "2025-04-13T21:56:43.654985Z",
          "iopub.execute_input": "2025-04-13T21:56:43.655779Z",
          "iopub.status.idle": "2025-04-13T21:56:43.670211Z",
          "shell.execute_reply.started": "2025-04-13T21:56:43.65575Z",
          "shell.execute_reply": "2025-04-13T21:56:43.668172Z"
        },
        "id": "hpIhxmUwn3A1"
      },
      "outputs": [],
      "execution_count": null
    },
    {
      "cell_type": "raw",
      "source": [
        "!python main.py --help"
      ],
      "metadata": {
        "execution": {
          "iopub.status.busy": "2025-01-29T21:36:45.693306Z",
          "iopub.execute_input": "2025-01-29T21:36:45.693851Z",
          "iopub.status.idle": "2025-01-29T21:36:45.937408Z",
          "shell.execute_reply.started": "2025-01-29T21:36:45.693813Z",
          "shell.execute_reply": "2025-01-29T21:36:45.936408Z"
        },
        "id": "RG2-DHfVn3A2"
      }
    },
    {
      "cell_type": "code",
      "source": [
        "!curl http://localhost:8188/api"
      ],
      "metadata": {
        "trusted": true,
        "id": "ItqbEjSEn3A3"
      },
      "outputs": [],
      "execution_count": null
    },
    {
      "cell_type": "code",
      "source": [
        "get_ipython().user_ns"
      ],
      "metadata": {
        "trusted": true,
        "execution": {
          "iopub.status.busy": "2025-04-08T20:51:05.472545Z",
          "iopub.execute_input": "2025-04-08T20:51:05.472914Z",
          "iopub.status.idle": "2025-04-08T20:51:05.480253Z",
          "shell.execute_reply.started": "2025-04-08T20:51:05.472865Z",
          "shell.execute_reply": "2025-04-08T20:51:05.479431Z"
        },
        "id": "118bEsgRn3A3"
      },
      "outputs": [],
      "execution_count": null
    },
    {
      "cell_type": "code",
      "source": [],
      "metadata": {
        "trusted": true,
        "id": "z8qqrLH5n3A3"
      },
      "outputs": [],
      "execution_count": null
    },
    {
      "cell_type": "code",
      "source": [],
      "metadata": {
        "trusted": true,
        "id": "eoWjLAfSn3A3"
      },
      "outputs": [],
      "execution_count": null
    },
    {
      "cell_type": "code",
      "source": [],
      "metadata": {
        "trusted": true,
        "id": "EeDVK0n9n3A4"
      },
      "outputs": [],
      "execution_count": null
    },
    {
      "cell_type": "code",
      "source": [],
      "metadata": {
        "trusted": true,
        "id": "k6Lmhkbtn3A4"
      },
      "outputs": [],
      "execution_count": null
    },
    {
      "cell_type": "code",
      "source": [],
      "metadata": {
        "trusted": true,
        "id": "ijZQfAhhn3A4"
      },
      "outputs": [],
      "execution_count": null
    },
    {
      "cell_type": "code",
      "source": [],
      "metadata": {
        "trusted": true,
        "id": "qvuEN4b_n3A4"
      },
      "outputs": [],
      "execution_count": null
    },
    {
      "cell_type": "code",
      "source": [],
      "metadata": {
        "trusted": true,
        "id": "wNGNrSYzn3A4"
      },
      "outputs": [],
      "execution_count": null
    },
    {
      "cell_type": "code",
      "source": [],
      "metadata": {
        "trusted": true,
        "id": "phjRegpfn3A4"
      },
      "outputs": [],
      "execution_count": null
    },
    {
      "cell_type": "code",
      "source": [],
      "metadata": {
        "trusted": true,
        "id": "X36tP4sCn3A4"
      },
      "outputs": [],
      "execution_count": null
    },
    {
      "cell_type": "raw",
      "source": [
        "!ln -s /kaggle/input/realvisxl-v50/pytorch/default/1/realvisxl-v50.safetensors  /kaggle/working/ComfyUI/models/checkpoints/realvisxl-v50\n",
        "\n",
        "!du --max-depth 1 /kaggle/working/ComfyUI/models/ -lc | sort -k1 -n\n",
        "\n",
        "!ls -ltrha  /kaggle/working/ComfyUI/models/ipadapter/ #-lc | sort -k1 -n\n",
        "# !rm /kaggle/working/ComfyUI/models/ipadapter/ip-adapter-faceid-plusv2_sdxl.bin #/kaggle/working/ComfyUI/models/instantid/SDXL/ip-adapter.bin\n",
        "\n",
        "!ls -ltrha  /kaggle/working/ComfyUI/models/facerestore_models #-lc | sort -k1 -n\n",
        "\n",
        "# !rm /kaggle/working/ComfyUI/models/facerestore_models/*\n",
        "\n",
        "from IPython.display import display, HTML, FileLink\n",
        "\n",
        "display(HTML(\"<style>.container { width:100% !important; }</style>\"))\n",
        "from IPython.display import display, HTML\n",
        "\n",
        "display(HTML(\"<style>.output_area pre { white-space: pre-wrap; }</style>\"))\n",
        "os.chdir(\"/kaggle/working/\")\n",
        "display(FileLink('output_18112024_1959.zip.zip'))\n",
        "os.chdir(\"/kaggle/working/ComfyUI/\")\n",
        "\n",
        "!ps fax\n",
        "\n",
        " # !mkdir /kaggle/working/ComfyUI/logs\n",
        "\n",
        "# !rm playit-linux-amd64*\n",
        "\n",
        "os.chdir(\"/kaggle/working/ComfyUI/\")\n",
        "if  not os.path.exists('/kaggle/working/ComfyUI/playit-linux-amd64'):\n",
        "    !wget https://github.com/playit-cloud/playit-agent/releases/download/v0.15.26/playit-linux-amd64\n",
        "!chmod 777 /kaggle/working/ComfyUI/playit-linux-amd64\n",
        "\n",
        "!ls -ltrha play*\n",
        "\n",
        "# !wget https://github.com/playit-cloud/playit-agent/releases/download/v0.15.26/playit-linux-amd64 -q\n",
        "!chmod +x ./playit-linux-amd64\n",
        "!./playit-linux-amd64  --help\n",
        "\n",
        "subprocess.Popen(\"nohup /kaggle/working/ComfyUI/playit-linux-amd64   >> /kaggle/working/ComfyUI/logs/playit.log 2>&1 & echo 'done' \",bufsize=0,shell=True)\n",
        "\n",
        "!tail -n 20 /kaggle/working/ComfyUI/logs/playit.log\n",
        "\n",
        "!ps fax\n",
        "\n",
        "\n",
        "\n",
        "\n",
        "\n",
        "# !rm /kaggle/working/ComfyUI/models/controlnet/*\n",
        "\n",
        "!ls -trha /kaggle/input/sdxl_controlnets/pytorch/default/2\n",
        "\n",
        "\n",
        "!ls -ltrha /kaggle/working/ComfyUI/models/controlnet\n",
        "\n",
        "!ls -ltrha /kaggle/working/ComfyUI/models/controlnet/SDXL\n",
        "\n",
        "!rm /kaggle/working/ComfyUI/models/controlnet/OpenPoseXL2.safetensors\n",
        "!rm /kaggle/working/ComfyUI/models/controlnet/depth-zoe-xl-v1.0-controlnet.safetensors\n",
        "\n",
        "\n",
        "\n",
        "\n",
        "\n",
        "!kill 1471\n",
        "\n",
        "\n",
        "\n",
        "# !wget https://github.com/playit-cloud/playit-agent/releases/download/v0.15.26/playit-linux-amd64 -q\n",
        "!chmod +x ./playit-linux-amd64\n",
        "!./playit-linux-amd64  --help\n",
        "\n",
        "subprocess.Popen([\"/kaggle/working/ComfyUI/playit-linux-amd64\",\"-l\",\"playit.log\"],shell=True)\n",
        "\n",
        "!ps fax\n",
        "\n",
        "!df -h\n",
        "\n",
        "!df -h /kaggle/working\n",
        "\n",
        "!du --help\n",
        "\n",
        "!du -h -d1  /kaggle/working/ComfyUI/models | sort -k1\n",
        "\n",
        "!du -h   /kaggle/working/ComfyUI/models/controlnet | sort -k1\n",
        "\n",
        "!rm /kaggle/working/ComfyUI/models/controlnet/SDXL/controlnet-tile-sdxl-1.0/ -r\n",
        "\n",
        "\n",
        "!sudo apt install net-tools -q\n",
        "\n",
        "!netstat -nltp\n",
        "\n",
        "!kill 1059 1146 1159 1177\n",
        "\n",
        "\n",
        "\n",
        "\n",
        "\n",
        "!./playit-linux-amd64\n",
        "\n",
        "subprocess.run(\"/kaggle/working/ComfyUI/playit-linux-amd64 tunnels list &\",shell=True)\n",
        "\n",
        "port=8188\n",
        "command = f\"cd /kaggle/working/ComfyUI/ ; nohup /kaggle/working/ComfyUI/playit-linux-amd64 start >> nohup{port}.out 2>&1 & echo $!\"\n",
        "p = subprocess.Popen(command, shell=True, stdout=subprocess.PIPE)\n",
        "\n",
        "for line in p.stdout:\n",
        "    print(line.decode(), end='')\n",
        "\n",
        "port=8189\n",
        "command = f\"nohup ./playit-linux-amd64 >> nohup{port}.out 2>&1 & echo $!\"\n",
        "p = subprocess.Popen(command, shell=True, stdout=subprocess.PIPE)\n",
        "\n",
        "for line in p.stdout:\n",
        "    print(line.decode(), end='')\n",
        "\n",
        "!kill 1405 1415  1417 1419 1403 1425\n",
        "\n",
        "!ps fax\n",
        "\n",
        "## os.chdir(\"/kaggle/working/ComfyUI/\")\n",
        "subprocess.run(\"tail -f nohup8188.out &\",shell=True)\n",
        "\n",
        "\n",
        "\n",
        "\n",
        "\n",
        "\n",
        "\n",
        "\n",
        "\n",
        "\n",
        "\n",
        "import subprocess,os\n",
        "import threading\n",
        "import time\n",
        "import socket\n",
        "import urllib.request\n",
        "\n",
        "get_ipython().system(\"npm install -g npm\")\n",
        "get_ipython().system(\"npm install -g localtunnel\")\n",
        "\n",
        "# Change directory to ComfyUI\n",
        "os.chdir(\"/kaggle/working/ComfyUI/\")\n",
        "\n",
        "# Launch ComfyUI instances\n",
        "xP1 = subprocess.Popen([\"python\", \"main.py\", \"--cuda-device\", \"0\", \"--port\", \"8188\",\"--highvram\"])\n",
        "time.sleep(30)\n",
        "\n",
        "xP2= subprocess.Popen([\"python\", \"main.py\", \"--cuda-device\", \"1\", \"--port\", \"8189\",\"--highvram\"])\n",
        "time.sleep(30)\n",
        "# subprocess.Popen([\"./limit_ram.sh\",\"python\", \"main.py\", \"--cuda-device\", \"0\", \"--port\", \"8188\"])\n",
        "# subprocess.Popen([\"./limit_ram.sh\",\"python\", \"main.py\", \"--cuda-device\", \"1\", \"--port\", \"8189\"])\n",
        "\n",
        "# time.sleep(30)\n",
        "\n",
        "!kill 2176 2179  2178 2181\n",
        "\n",
        "!ps fax\n",
        "\n",
        "\n",
        "\n",
        "!wget https://github.com/playit-cloud/playit-agent/releases/download/v0.15.26/playit-linux-amd64\n",
        "\n",
        "!chmod +x ./playit-linux-amd64\n",
        "\n",
        "!./playit-linux-amd64 tunnels list\n",
        "\n",
        "!./playit-linux-amd64 --help\n",
        "\n",
        "!ssh -R 80:localhost:8188 localhost.run\n",
        "\n",
        "!openssl version\n",
        "\n",
        "!ssh -p 443 -R0:localhost:8000 -L4300:localhost:4300 qr@a.pinggy.io\n",
        "\n",
        "\n",
        "\n",
        "!lt --help\n",
        "\n",
        "def iframe_thread(port):\n",
        "  while True:\n",
        "      time.sleep(0.5)\n",
        "      sock = socket.socket(socket.AF_INET, socket.SOCK_STREAM)\n",
        "      result = sock.connect_ex(('127.0.0.1', port))\n",
        "      if result == 0:\n",
        "        break\n",
        "      sock.close()\n",
        "  print(\"\\nComfyUI finished loading, trying to launch localtunnel (if it gets stuck here localtunnel is having issues)\\n\")\n",
        "\n",
        "  print(\"The password/enpoint ip for localtunnel is:\", urllib.request.urlopen('https://ipv4.icanhazip.com').read().decode('utf8').strip(\"\\n\"))\n",
        "#   p = subprocess.Popen([\"lt\", \"--port\", \"{}\".format(port)], stdout=subprocess.PIPE)\n",
        "  command = f\"nohup lt --port {port} --allow-invalid-cert --print-requests >> nohup{port}.out 2>&1 & echo $!\"\n",
        "  p = subprocess.Popen(command, shell=True, stdout=subprocess.PIPE)\n",
        "\n",
        "  for line in p.stdout:\n",
        "    print(line.decode(), end='')\n",
        "\n",
        "\n",
        "# threading.Thread(target=iframe_thread, daemon=True, args=(8188,8189,)).start()\n",
        "# %cd /kaggle/working/ComfyUI/\n",
        "# # threading.Thread(target=iframe_thread, daemon=True, args=(8189,)).start()\n",
        "# !python main.py  --cuda-device 0 --port 8188; python main.py --cuda-device 1 --port 8189\n",
        "# # --dont-print-server\n",
        "\n",
        "# Start threads for both ports\n",
        "xT1 =threading.Thread(target=iframe_thread, daemon=True, args=(8188,))\n",
        "xT1.start()\n",
        "xT2 = threading.Thread(target=iframe_thread, daemon=True, args=(8189,)) #.start()\n",
        "xT2.start()\n",
        "\n",
        "subprocess.run(\"tail -f nohup8188.out &\",shell=True)\n",
        "\n",
        "subprocess.run(\"tail -f nohup8189.out &\",shell=True)\n",
        "\n",
        "\n",
        "\n",
        "\n",
        "\n",
        "\n",
        "\n",
        "!curl -O https://install.tunnelmole.com/xD345/install && sudo bash install\n",
        "\n",
        "port=8188\n",
        "command = f\"nohup tmole {port} >> nohup{port}.out 2>&1 & echo $!\"\n",
        "p = subprocess.Popen(command, shell=True, stdout=subprocess.PIPE)\n",
        "\n",
        "\n",
        "!ps fax\n",
        "\n",
        "!tail -f nohup8188.out\n",
        "\n",
        "subprocess.run(\"tail -f nohup8188.out &\",shell=True)\n",
        "\n",
        "port=8189\n",
        "command = f\"nohup tmole {port} >> nohup{port}.out 2>&1 & echo $!\"\n",
        "p2 = subprocess.Popen(command, shell=True, stdout=subprocess.PIPE)\n",
        "\n",
        "\n",
        "subprocess.run(\"tail -f nohup8189.out &\",shell=True)\n",
        "\n",
        "\n",
        "\n",
        "%ls /kaggle/working/old_output\n",
        "\n",
        "\n",
        "\n",
        "def iframe_thread(port):\n",
        "  while True:\n",
        "      time.sleep(0.5)\n",
        "      sock = socket.socket(socket.AF_INET, socket.SOCK_STREAM)\n",
        "      result = sock.connect_ex(('127.0.0.1', port))\n",
        "      if result == 0:\n",
        "        break\n",
        "      sock.close()\n",
        "  print(\"\\nComfyUI finished loading, trying to launch localtunnel (if it gets stuck here localtunnel is having issues)\\n\")\n",
        "\n",
        "  print(\"The password/enpoint ip for localtunnel is:\", urllib.request.urlopen('https://ipv4.icanhazip.com').read().decode('utf8').strip(\"\\n\"))\n",
        "#   p = subprocess.Popen([\"lt\", \"--port\", \"{}\".format(port)], stdout=subprocess.PIPE)\n",
        "  command = f\"nohup lt --port {port} --print-requests >> nohup{port}.out 2>&1 & echo $!\"\n",
        "  p = subprocess.Popen(command, shell=True, stdout=subprocess.PIPE)\n",
        "\n",
        "  for line in p.stdout:\n",
        "    print(line.decode(), end='')\n",
        "\n",
        "\n",
        "# threading.Thread(target=iframe_thread, daemon=True, args=(8188,8189,)).start()\n",
        "# %cd /kaggle/working/ComfyUI/\n",
        "# # threading.Thread(target=iframe_thread, daemon=True, args=(8189,)).start()\n",
        "# !python main.py  --cuda-device 0 --port 8188; python main.py --cuda-device 1 --port 8189\n",
        "# # --dont-print-server\n",
        "\n",
        "# Start threads for both ports\n",
        "xT1 =threading.Thread(target=iframe_thread, daemon=True, args=(8188,))\n",
        "xT1.start()\n",
        "xT2 = threading.Thread(target=iframe_thread, daemon=True, args=(8189,)) #.start()\n",
        "xT2.start()\n",
        "\n",
        "<span style=\"background-color: #add8e6; color: #8b0000; padding: 5px;\">\n",
        "  <font size=18px>HERE PS.\n",
        "</span>\n",
        "\n",
        "!ps fax\n",
        "\n",
        "!kill 1220 1331 1343 1353 1368 1169 1206 1074\n",
        "\n",
        "\n",
        "\n",
        "\n",
        "\n",
        "\n",
        "!wget -q https://github.com/cloudflare/cloudflared/releases/latest/download/cloudflared-linux-amd64.deb\n",
        "!dpkg -i cloudflared-linux-amd64.deb\n",
        "\n",
        "import subprocess\n",
        "import threading\n",
        "import time\n",
        "\n",
        "\n",
        "xport=  8188\n",
        "command = f\"nohup cloudflared tunnel --url http://localhost:{xport} >> nohup{xport}.out 2>&1 & echo $!\"\n",
        "p = subprocess.Popen(command, shell=True, stdout=subprocess.PIPE)\n",
        "\n",
        "for line in p.stdout:\n",
        "    print(line.decode(), end='')\n",
        "\n",
        "import subprocess\n",
        "subprocess.Popen([\"cloudflared\", \"tunnel\", '--url', f'http://localhost:8188',]) #\"run\", \"my-tunnel\"])\n",
        "\n",
        "!ps fax\n",
        "\n",
        "\n",
        "\n",
        "import subprocess\n",
        "subprocess.Popen([\"cloudflared\", \"tunnel\", '--url', f'http://localhost:8189',]) #\"run\", \"my-tunnel\"])\n",
        "\n",
        "!ps fax\n",
        "\n",
        "!uv pip install --system cloudflared\n",
        "\n",
        "from cloudflared import CloudFlare\n",
        "CloudFlare.subprocess()\n",
        "\n",
        "\n",
        "\n",
        "\n",
        "\n",
        "\n",
        "\n",
        "\n",
        "\n",
        "!uv pip install --system -q pyngrok\n",
        "!ngrok authtoken \"2f3dIfgJffUXDkLfUJ4V0PBrdln_74tALZeMqwobwcbyupmuw\"\n",
        "\n",
        "from pyngrok import ngrok\n",
        "public_url = ngrok.connect('localhost:8188')\n",
        "print(f\"Please click on the text below {public_url}\")\n",
        "\n",
        "from pyngrok import ngrok\n",
        "public_url = ngrok.connect('localhost:8189')\n",
        "print(f\"Please click on the text below {public_url}\")\n",
        "\n",
        "!wget -q https://github.com/cloudflare/cloudflared/releases/latest/download/cloudflared-linux-amd64.deb\n",
        "!dpkg -i cloudflared-linux-amd64.deb\n",
        "\n",
        "import subprocess\n",
        "import threading\n",
        "import time\n",
        "\n",
        "\n",
        "def start_tunnel(xport=8188):\n",
        "    tunnel_process = subprocess.Popen(\n",
        "        ['cloudflared', 'tunnel', '--url', f'http://localhost:{xport}'],\n",
        "        stdout=subprocess.PIPE,\n",
        "        stderr=subprocess.STDOUT,\n",
        "        universal_newlines=True\n",
        "    )\n",
        "\n",
        "    # Look for the tunnel URL in the output\n",
        "    while True:\n",
        "        output = tunnel_process.stdout.readline()\n",
        "        if output:\n",
        "            if 'trycloudflare.com' in output:\n",
        "                # Extract and display the URL\n",
        "                url = output.split('|')[3].strip()\n",
        "                print(f\"ComfyUI is available at: {url}\")\n",
        "                break\n",
        "\n",
        "# Start the tunnel in a separate thread\n",
        "# tunnel_thread = threading.Thread(target=start_tunnel,args=(8188,), daemon=True)\n",
        "# tunnel_thread.start()\n",
        "\n",
        "xP1 = subprocess.Popen([\"python\", \"main.py\", \"--cuda-device\", \"0\", \"--port\", \"8188\",\"--highvram\"])\n",
        "time.sleep(30)\n",
        "# Wait a moment for the tunnel to establish\n",
        "time.sleep(5)\n",
        "\n",
        "!ps fax\n",
        "\n",
        "\n",
        "\n",
        "!wget https://huggingface.co/guozinan/PuLID/resolve/main/pulid_flux_v0.9.0.safetensors\n",
        "\n",
        "\n",
        "\n",
        "\n",
        "\n",
        "%pip install -U pip uv -q\n",
        "# !uv venv\n",
        "# !source .venv/bin/activate\n",
        "!uv pip install --system  --quiet pyngrok #--system\n",
        "!uv pip install --system --no-deps --quiet protobuf==3.20.*   #==4.21.12\n",
        "!uv pip install  --system --no-deps --quiet validators\n",
        "!ngrok authtoken \"2f3dIfgJffUXDkLfUJ4V0PBrdln_74tALZeMqwobwcbyupmuw\"\n",
        "\n",
        "!uv  pip install   --system  -q omegaconf accelerate einops transformers>=4.28.1 safetensors>=0.4.2 aiohttp pyyaml Pillow scipy tqdm psutil tokenizers>=0.13.3\n",
        "!uv pip install  --system -q torch torchvision torchaudio --index-url https://download.pytorch.org/whl/cu121 ultralytics insightface bitsandbytes\n",
        "!uv pip install  --system -q torchsde\n",
        "\n",
        "# Change directory to ComfyUI\n",
        "os.chdir(\"/kaggle/working/ComfyUI/\")\n",
        "\n",
        "# Launch ComfyUI instances\n",
        "xP1 = subprocess.Popen([\"python\", \"main.py\", \"--cuda-device\", \"0\", \"--port\", \"8188\",\"--highvram\"])\n",
        "time.sleep(30)\n",
        "\n",
        "xP2= subprocess.Popen([\"python\", \"main.py\", \"--cuda-device\", \"1\", \"--port\", \"8189\",\"--highvram\"])\n",
        "time.sleep(30)\n",
        "# subprocess.Popen([\"./limit_ram.sh\",\"python\", \"main.py\", \"--cuda-device\", \"0\", \"--port\", \"8188\"])\n",
        "# subprocess.Popen([\"./limit_ram.sh\",\"python\", \"main.py\", \"--cuda-device\", \"1\", \"--port\", \"8189\"])\n",
        "\n",
        "# time.sleep(30)\n",
        "\n",
        "!ps fax\n",
        "\n",
        "from pyngrok import ngrok\n",
        "# import ngrok\n",
        "\n",
        "# listener = ngrok.forward(\"localhost:8080\", authtoken_from_env=True)\n",
        "\n",
        "# print(f\"Ingress established at: {listener.url()}\");\n",
        "\n",
        "\n",
        "public_url = ngrok.connect('localhost:8188')\n",
        "print(f\"Please click on the text below {public_url}\")\n",
        "\n",
        "from pyngrok import ngrok\n",
        "public_url = ngrok.connect('localhost:8189')\n",
        "print(f\"Please click on the text below {public_url}\")\n",
        "\n",
        "!ps fax\n",
        "\n",
        "!ls -ltrah /kaggle/working/ComfyUI/models/clip_vision\n",
        "\n",
        "!rm /kaggle/working/ComfyUI/models/clip_vision/clip-vit-large-patch14.safetensors\n",
        "\n",
        "# !sudo apt install ncdu\n",
        "!kill 659 701\n",
        "\n",
        "!du -h /kaggle/working/ComfyUI/models/\n",
        "\n",
        "!du -h /kaggle/working/ComfyUI/models/clip/t5\n",
        "\n",
        "!ls -ltrah /kaggle/working/ComfyUI/models/clip/t5\n",
        "\n",
        "\n",
        "\n",
        "\n",
        "\n",
        "\n",
        "\n",
        "def iframe_thread(port):\n",
        "  while True:\n",
        "      time.sleep(0.5)\n",
        "      sock = socket.socket(socket.AF_INET, socket.SOCK_STREAM)\n",
        "      result = sock.connect_ex(('127.0.0.1', port))\n",
        "      if result == 0:\n",
        "        break\n",
        "      sock.close()\n",
        "  print(\"\\nComfyUI finished loading, trying to launch localtunnel (if it gets stuck here localtunnel is having issues)\\n\")\n",
        "\n",
        "  print(\"The password/enpoint ip for localtunnel is:\", urllib.request.urlopen('https://ipv4.icanhazip.com').read().decode('utf8').strip(\"\\n\"))\n",
        "  p = subprocess.Popen([\"lt\", \"--port\", \"{}\".format(port)], stdout=subprocess.PIPE)\n",
        "  command = f\"nohup lt --port {port} --print-requests >> nohup{port}.out 2>&1 & echo $!\"\n",
        "  p = subprocess.Popen(command, shell=True, stdout=subprocess.PIPE)\n",
        "\n",
        "  for line in p.stdout:\n",
        "    print(line.decode(), end='')\n",
        "\n",
        "\n",
        "# threading.Thread(target=iframe_thread, daemon=True, args=(8188,8189,)).start()\n",
        "# %cd /kaggle/working/ComfyUI/\n",
        "# # threading.Thread(target=iframe_thread, daemon=True, args=(8189,)).start()\n",
        "# !python main.py  --cuda-device 0 --port 8188; python main.py --cuda-device 1 --port 8189\n",
        "# # --dont-print-server\n",
        "\n",
        "%pip install uv\n",
        "\n",
        "!uv pip --help\n",
        "\n",
        "\n",
        "\n",
        "# Start threads for both ports\n",
        "xT1 =threading.Thread(target=iframe_thread, daemon=True, args=(8188,))\n",
        "xT1.start()\n",
        "xT2 = threading.Thread(target=iframe_thread, daemon=True, args=(8189,)) #.start()\n",
        "xT2.start()\n",
        "\n",
        "subprocess.run(\"tail -f nohup8188.out &\",shell=True)\n",
        "\n",
        "subprocess.run(\"tail -f nohup8189.out &\",shell=True)\n",
        "\n",
        "\n",
        "\n",
        "!ps fax\n",
        "\n",
        "!kill 679  682\n",
        "\n",
        "!kill 929 930 931\n",
        "\n",
        "xT1 =threading.Thread(target=iframe_thread, daemon=True, args=(8188,))\n",
        "xT1.start()\n",
        "\n",
        "import subprocess\n",
        "import time\n",
        "\n",
        "def run_cloudflare_tunnel(hostname, local_url):\n",
        "    cmd = f\"cloudflared tunnel --url {local_url} {hostname}\"\n",
        "    process = subprocess.Popen(cmd, shell=True)\n",
        "    return process\n",
        "\n",
        "# Configuration\n",
        "hostname = \"kaggle.com\"\n",
        "local_url = \"http://localhost:8000\"\n",
        "\n",
        "# Start the tunnel\n",
        "tunnel_process = run_cloudflare_tunnel(hostname, local_url)\n",
        "\n",
        "print(f\"Tunnel started. Forwarding {hostname} to {local_url}\")\n",
        "print(\"Press Ctrl+C to stop the tunnel.\")\n",
        "\n",
        "try:\n",
        "    # Keep the script running\n",
        "    while True:\n",
        "        time.sleep(1)\n",
        "except KeyboardInterrupt:\n",
        "    print(\"Stopping the tunnel...\")\n",
        "    tunnel_process.terminate()\n",
        "    print(\"Tunnel stopped.\")\n",
        "\n",
        "!ps fax\n",
        "\n",
        "# Start threads for both ports\n",
        "# xT1 =threading.Thread(target=iframe_thread, daemon=True, args=(8188,))\n",
        "# xT1.start()\n",
        "threading.Thread(target=iframe_thread, daemon=True, args=(8188,)).start()\n",
        "# xT2 = threading.Thread(target=iframe_thread, daemon=True, args=(8189,)) #.start()\n",
        "# xT2.start()\n",
        "\n",
        "xP1.kill()\n",
        "xP2.kill()\n",
        "\n",
        "xT1._delete()\n",
        "\n",
        "xT2=xT2.run()\n",
        "\n",
        "I solved it with code-server and pyngrok\n",
        "\n",
        "    Install Code-server\n",
        "\n",
        "!curl -fsSL https://code-server.dev/install.sh | sh\n",
        "\n",
        "    Install pyngrok & get the tunnel URL (you can't run background process in kaggle)\n",
        "\n",
        "!pip install pyngrok\n",
        "\n",
        "    Input ngrok auth token and get tunnel http 80.\n",
        "\n",
        "from pyngrok import conf, ngrok\n",
        "\n",
        "conf.get_default().auth_token = \"<YOUR TOKEN>\"\n",
        "\n",
        "http_tunnel = ngrok.connect()\n",
        "ssh_tunnel = ngrok.connect(80, \"http\")\n",
        "\n",
        "    Get the tunnel URL\n",
        "\n",
        "from pyngrok import ngrok\n",
        "\n",
        "# [<NgrokTunnel: \"http://<public_sub>.ngrok.io\" -> \"http://localhost:80\">]\n",
        "tunnels = ngrok.get_tunnels()\n",
        "tunnels\n",
        "\n",
        "    Get code-server default password\n",
        "\n",
        "!cat  ~/.config/code-server/config.yaml\n",
        "\n",
        "    run code-server\n",
        "\n",
        "!code-server --port 80\n",
        "\n",
        "Hopefully this workaround will work for a while.\n",
        "\n",
        "!ps fax\n",
        "\n",
        "!curl https://loca.lt/mytunnelpassword\n",
        "\n",
        "!curl https://loca.lt/\n",
        "\n",
        " !wget -q -O - https://loca.lt/mytunnelpassword\n",
        "\n",
        "!kill 4103 4104 4102\n",
        "\n",
        "\n",
        "\n",
        "%%writefile /kaggle/working/ComfyUI/custom_nodes/ComfyUI-Manager/config.ini\n",
        "[default]\n",
        "preview_method = none\n",
        "badge_mode = none\n",
        "git_exe =\n",
        "channel_url = https://raw.githubusercontent.com/ltdrdata/ComfyUI-Manager/main\n",
        "share_option = all\n",
        "bypass_ssl = False\n",
        "file_logging = True\n",
        "default_ui = none\n",
        "component_policy = workflow\n",
        "double_click_policy = copy-all\n",
        "windows_selector_event_loop_policy = False\n",
        "model_download_by_agent = True\n",
        "downgrade_blacklist =\n",
        "security_level = normal-\n",
        "\n",
        "\n",
        "\n",
        "!du -hd1 /kaggle/working/\n",
        "\n",
        "!du -hd1 /kaggle/working/ComfyUI | sort -rh\n",
        "\n",
        "!du -hd1 /kaggle/working/ComfyUI/models | sort -rh\n",
        "\n",
        "!rm /kaggle/working/ComfyUI/.venv -r\n",
        "\n",
        "\n",
        "\n",
        "shutil.make_archive(\"/kaggle/working/old_output.zip\", 'zip', \"/kaggle/working/old_output\")\n",
        "\n",
        "!rm /kaggle/working/output_18* -v\n",
        "\n",
        "!rm /kaggle/working/output_19* -v\n",
        "\n",
        "!rm /kaggle/working/output_* -v\n",
        "\n",
        "!rm /kaggle/working/old_output* -v -r"
      ],
      "metadata": {
        "execution": {
          "iopub.status.busy": "2024-11-23T16:16:25.174209Z",
          "iopub.status.idle": "2024-11-23T16:16:25.174475Z",
          "shell.execute_reply.started": "2024-11-23T16:16:25.174342Z",
          "shell.execute_reply": "2024-11-23T16:16:25.174355Z"
        },
        "id": "1DdgwEFrn3A4"
      }
    },
    {
      "cell_type": "raw",
      "source": [
        "!rm /kaggle/working/ComfyUI -r"
      ],
      "metadata": {
        "execution": {
          "iopub.status.busy": "2025-04-08T10:13:48.008963Z",
          "iopub.execute_input": "2025-04-08T10:13:48.009284Z",
          "iopub.status.idle": "2025-04-08T10:13:48.127141Z",
          "shell.execute_reply.started": "2025-04-08T10:13:48.009256Z",
          "shell.execute_reply": "2025-04-08T10:13:48.126397Z"
        },
        "id": "bYeUMZKon3A5"
      }
    },
    {
      "cell_type": "code",
      "source": [
        "!du -hd1 /kaggle/working/ComfyUI/models | sort -rh"
      ],
      "metadata": {
        "trusted": true,
        "execution": {
          "iopub.status.busy": "2025-04-08T14:40:04.422267Z",
          "iopub.execute_input": "2025-04-08T14:40:04.422572Z",
          "iopub.status.idle": "2025-04-08T14:40:04.542575Z",
          "shell.execute_reply.started": "2025-04-08T14:40:04.422546Z",
          "shell.execute_reply": "2025-04-08T14:40:04.541807Z"
        },
        "id": "HntgizvRn3A5"
      },
      "outputs": [],
      "execution_count": null
    },
    {
      "cell_type": "code",
      "source": [
        "!rm /kaggle/working/ComfyUI/models/flashface -r"
      ],
      "metadata": {
        "trusted": true,
        "execution": {
          "iopub.status.busy": "2025-04-08T15:42:18.767856Z",
          "iopub.execute_input": "2025-04-08T15:42:18.768227Z",
          "iopub.status.idle": "2025-04-08T15:42:19.044572Z",
          "shell.execute_reply.started": "2025-04-08T15:42:18.76819Z",
          "shell.execute_reply": "2025-04-08T15:42:19.043448Z"
        },
        "id": "R4FCweaYn3A5"
      },
      "outputs": [],
      "execution_count": null
    },
    {
      "cell_type": "code",
      "source": [],
      "metadata": {
        "trusted": true,
        "id": "DXJNWMh6n3A5"
      },
      "outputs": [],
      "execution_count": null
    }
  ]
}